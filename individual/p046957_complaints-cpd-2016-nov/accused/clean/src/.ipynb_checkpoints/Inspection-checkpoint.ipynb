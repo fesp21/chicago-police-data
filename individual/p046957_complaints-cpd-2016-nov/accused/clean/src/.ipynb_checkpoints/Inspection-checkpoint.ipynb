{
 "cells": [
  {
   "cell_type": "code",
   "execution_count": 12,
   "metadata": {
    "collapsed": true
   },
   "outputs": [],
   "source": [
    "import os\n",
    "import sys\n",
    "import numpy as np\n",
    "import pandas as pd\n",
    "import re"
   ]
  },
  {
   "cell_type": "raw",
   "metadata": {},
   "source": [
    "input_path = \"../input/\"\n",
    "out_path = \"../output/\"\n",
    "\n",
    "df = pd.read_csv(input_path + \"accused.csv\")"
   ]
  },
  {
   "cell_type": "code",
   "execution_count": 24,
   "metadata": {},
   "outputs": [
    {
     "ename": "SyntaxError",
     "evalue": "invalid syntax (<ipython-input-24-a2f583ccd83c>, line 13)",
     "output_type": "error",
     "traceback": [
      "\u001b[0;36m  File \u001b[0;32m\"<ipython-input-24-a2f583ccd83c>\"\u001b[0;36m, line \u001b[0;32m13\u001b[0m\n\u001b[0;31m    elif np.isfinite(x) and :\u001b[0m\n\u001b[0m                            ^\u001b[0m\n\u001b[0;31mSyntaxError\u001b[0m\u001b[0;31m:\u001b[0m invalid syntax\n"
     ]
    }
   ],
   "source": [
    "import pandas as pd\n",
    "import re\n",
    "import numpy as np\n",
    "\n",
    "def CleanInt(x, na_value = -999):\n",
    "    print(x)\n",
    "    if isinstance(x, str):\n",
    "        if re.match(\"[a-zA-Z]\",x):\n",
    "            return na_value\n",
    "        else:\n",
    "            return int(float(x))\n",
    "        \n",
    "    elif np.isfinite(x) and :\n",
    "        return int(float(x))\n",
    "    else:\n",
    "        return na_value\n",
    "def CleanGender(g, gd = {'M':'MALE', 'F':'FEMALE', 'X':'UNKNOWN'}):\n",
    "    if g in gd.values():\n",
    "        return g\n",
    "    else:\n",
    "        return gd[g]\n",
    "\n",
    "def CleanRace(r, rd = {'WHI':'WHITE', 'BLK':'BLACK', 'S':'WHITE', 'API':'API', 'I':'OTHER', 'U':'UNKNOWN', 'WWH':'HISPANIC', 'ASIAN/PACIFIC ISLANDER' : 'API', 'BLACK HISPANIC': 'BLACK', 'WHITE HISPANIC' : 'HISPANIC', 'AMER IND/ALASKAN NATIVE' : 'OTHER'}):\n",
    "    if r in rd.values():\n",
    "        return r\n",
    "    else:\n",
    "        return rd[r]\n",
    "\n",
    "def CleanDates(df):\n",
    "    df_cols = df.columns.values\n",
    "    dt_df = pd.DataFrame()\n",
    "    for col in df_cols:\n",
    "        col_suffix = col.split('.')[:-1]\n",
    "        dt_df['.'.join(col_suffix + [\"Date\"])] = pd.to_datetime(df[col]).dt.date\n",
    "        if 'time' in col:\n",
    "            dt_df['.'.join(col_suffix + [\"Time\"])] = pd.to_datetime(df[col]).dt.time\n",
    "    return dt_df\n",
    "\n",
    "def ExtractSuffixName(x):\n",
    "    suffixes = ('II', 'III', 'IV', 'JR', 'SR')\n",
    "    suffix = [w for w in x.split(\" \") if w in suffixes]\n",
    "    return suffix[0] if suffix else \"\"\n",
    "\n",
    "def ExtractMiddleInitial(x):\n",
    "    xs = x.split(' ')\n",
    "    if len(xs) > 1 and len(xs[0]) == 1 and len(xs[1]) > 1:\n",
    "        return xs[0]\n",
    "    else:\n",
    "        return \"\"\n",
    "\n",
    "def StripName(x):\n",
    "    x = re.sub(r'[^\\w\\s]', '', x)\n",
    "    return ' '.join(x.split())\n",
    "\n",
    "def CleanLastName(x):\n",
    "    x = StripName(x)\n",
    "    suffix = ExtractSuffixName(x)\n",
    "    x = x.replace(suffix, \"\")\n",
    "\n",
    "    return [''.join(x.split()), suffix]\n",
    "\n",
    "def CleanFirstName(x):\n",
    "    x = StripName(x)\n",
    "    MI = ExtractMiddleInitial(x)\n",
    "    return [''.join(x.replace(MI+\" \", \"\").split()), MI]\n",
    "\n",
    "def FullNameSplit(names, ln='Last.Name', fn='First.Name'):\n",
    "    return (pd.DataFrame(names\n",
    "                        .fillna(\",\")\n",
    "                        .map(lambda x: x if re.search('[a-zA-Z]', x) else \",\")\n",
    "                        .map(lambda x: x.rsplit(',',1))\n",
    "                        .values.tolist(),\n",
    "                     columns = [ln, fn]))\n",
    "\n",
    "def LastNameSplit(names, ln='Last.Name', sn='Suffix.Name'):\n",
    "    return (pd.DataFrame(names\n",
    "                        .map(str.upper)\n",
    "                        .map(CleanLastName).values.tolist(),\n",
    "                    columns = [ln, sn]))\n",
    "\n",
    "def FirstNameSplit(names, fn='First.Name', mi='Middle.Initial'):\n",
    "    return (pd.DataFrame(names\n",
    "                        .map(str.upper)\n",
    "                        .map(CleanFirstName).values.tolist(),\n",
    "                        columns = [fn, mi]))\n",
    "def CleanNames(df):\n",
    "    df_cols = df.columns.values\n",
    "    if 'Full.Name' in df_cols and 'Last.Name' not in df_cols: \n",
    "        LN_FN = FullNameSplit(df['Full.Name'])\n",
    "        LN = LastNameSplit(LN_FN['Last.Name'])\n",
    "        FN = FirstNameSplit(LN_FN['First.Name'])\n",
    "    else:\n",
    "        df = df.fillna(\"\")\n",
    "        LN = LastNameSplit(df['Last.Name'])\n",
    "        FN = FirstNameSplit(df['First.Name'])\n",
    "    \n",
    "    new_df = LN.join(FN)\n",
    "    \n",
    "    if 'Middle.Initial' in df_cols: \n",
    "        print('Middle Initial Conflicts:', new_df.ix[(df['Middle.Initial'] != '') & (new_df['Middle.Initial'] != '')])\n",
    "        new_df.ix[df['Middle.Initial'] != '','Middle.Initial'] = df.ix[df['Middle.Initial'] != '', 'Middle.Initial']\n",
    "    if 'Suffix.Name' in df_cols: \n",
    "        print('Suffix Name Conflicts:', new_df.ix[(df['Suffix.Name'] != '') & (new_df['Suffix.Name'] != '')])\n",
    "        new_df.ix[df['Suffix.Name'] != '','Suffix.Name'] = df.ix[df['Suffix.Name'] != '', 'Suffix.Name']\n",
    "\n",
    "    return new_df\n",
    "\n",
    "def CleanData(df, skip_cols = []):\n",
    "    col_df = pd.read_csv('Column_Dictionary.csv')\n",
    "    name_cols = col_df.loc[col_df[\"Type\"]=='Name', 'Column'].tolist()\n",
    "    int_cols = col_df.loc[col_df[\"Type\"]=='Int', 'Column'].tolist()\n",
    "    df_cols = df.columns.values\n",
    "    \n",
    "    if 'Gender' in df_cols and 'Gender' not in skip_cols:\n",
    "        df['Gender'] = df['Gender'].apply(str.upper).apply(CleanGender)\n",
    "    \n",
    "    if 'Race' in df_cols and 'Race' not in skip_cols:\n",
    "        df['Race'] = df['Race'].apply(str.upper).apply(CleanRace)\n",
    "    \n",
    "    for col in [IC for IC in df_cols if IC in int_cols and IC not in skip_cols]:\n",
    "        print(col)\n",
    "        df[col] = df[col].map(CleanInt) \n",
    "    if [col for col in df_cols if 'Date' in col]:\n",
    "        dt_df = df[[DC for DC in df_cols if 'Date' in  DC]]\n",
    "        df = df[list(set(df.columns.values) - set(dt_df.columns.values))].join(CleanDates(dt_df))\n",
    "    \n",
    "    if [col for col in df_cols if col in name_cols]:\n",
    "        name_df = df[[col for col in df_cols if col in name_cols]]\n",
    "        df = df[list(set(df.columns.values) - set(name_df.columns.values))].join(CleanNames(name_df))\n",
    "    \n",
    "    return df"
   ]
  },
  {
   "cell_type": "code",
   "execution_count": 29,
   "metadata": {},
   "outputs": [
    {
     "ename": "TypeError",
     "evalue": "ufunc 'isfinite' not supported for the input types, and the inputs could not be safely coerced to any supported types according to the casting rule ''safe''",
     "output_type": "error",
     "traceback": [
      "\u001b[0;31m---------------------------------------------------------------------------\u001b[0m",
      "\u001b[0;31mTypeError\u001b[0m                                 Traceback (most recent call last)",
      "\u001b[0;32m<ipython-input-29-8a8bed9f038f>\u001b[0m in \u001b[0;36m<module>\u001b[0;34m()\u001b[0m\n\u001b[1;32m      1\u001b[0m \u001b[0;32mfor\u001b[0m \u001b[0mi\u001b[0m \u001b[0;32min\u001b[0m \u001b[0mdf\u001b[0m\u001b[0;34m[\u001b[0m\u001b[0;34m'Current.Unit'\u001b[0m\u001b[0;34m]\u001b[0m\u001b[0;34m:\u001b[0m\u001b[0;34m\u001b[0m\u001b[0m\n\u001b[0;32m----> 2\u001b[0;31m     \u001b[0mCleanInt\u001b[0m\u001b[0;34m(\u001b[0m\u001b[0mi\u001b[0m\u001b[0;34m)\u001b[0m\u001b[0;34m\u001b[0m\u001b[0m\n\u001b[0m",
      "\u001b[0;32m<ipython-input-7-0639a1b3fa16>\u001b[0m in \u001b[0;36mCleanInt\u001b[0;34m(x, na_value)\u001b[0m\n\u001b[1;32m      4\u001b[0m \u001b[0;34m\u001b[0m\u001b[0m\n\u001b[1;32m      5\u001b[0m \u001b[0;32mdef\u001b[0m \u001b[0mCleanInt\u001b[0m\u001b[0;34m(\u001b[0m\u001b[0mx\u001b[0m\u001b[0;34m,\u001b[0m \u001b[0mna_value\u001b[0m \u001b[0;34m=\u001b[0m \u001b[0;34m-\u001b[0m\u001b[0;36m999\u001b[0m\u001b[0;34m)\u001b[0m\u001b[0;34m:\u001b[0m\u001b[0;34m\u001b[0m\u001b[0m\n\u001b[0;32m----> 6\u001b[0;31m     \u001b[0;32mif\u001b[0m \u001b[0mnp\u001b[0m\u001b[0;34m.\u001b[0m\u001b[0misfinite\u001b[0m\u001b[0;34m(\u001b[0m\u001b[0mx\u001b[0m\u001b[0;34m)\u001b[0m\u001b[0;34m:\u001b[0m\u001b[0;34m\u001b[0m\u001b[0m\n\u001b[0m\u001b[1;32m      7\u001b[0m         \u001b[0;32mreturn\u001b[0m \u001b[0mint\u001b[0m\u001b[0;34m(\u001b[0m\u001b[0mfloat\u001b[0m\u001b[0;34m(\u001b[0m\u001b[0mx\u001b[0m\u001b[0;34m)\u001b[0m\u001b[0;34m)\u001b[0m\u001b[0;34m\u001b[0m\u001b[0m\n\u001b[1;32m      8\u001b[0m     \u001b[0;32melse\u001b[0m\u001b[0;34m:\u001b[0m\u001b[0;34m\u001b[0m\u001b[0m\n",
      "\u001b[0;31mTypeError\u001b[0m: ufunc 'isfinite' not supported for the input types, and the inputs could not be safely coerced to any supported types according to the casting rule ''safe''"
     ]
    }
   ],
   "source": [
    "for i in df['Current.Unit']: \n",
    "    CleanInt(i)"
   ]
  },
  {
   "cell_type": "code",
   "execution_count": 22,
   "metadata": {},
   "outputs": [
    {
     "name": "stdout",
     "output_type": "stream",
     "text": [
      "Birth.Year\n",
      "Current.Unit\n"
     ]
    },
    {
     "ename": "TypeError",
     "evalue": "ufunc 'isfinite' not supported for the input types, and the inputs could not be safely coerced to any supported types according to the casting rule ''safe''",
     "output_type": "error",
     "traceback": [
      "\u001b[0;31m---------------------------------------------------------------------------\u001b[0m",
      "\u001b[0;31mTypeError\u001b[0m                                 Traceback (most recent call last)",
      "\u001b[0;32m<ipython-input-22-c10069ae1292>\u001b[0m in \u001b[0;36m<module>\u001b[0;34m()\u001b[0m\n\u001b[0;32m----> 1\u001b[0;31m \u001b[0mCleanData\u001b[0m\u001b[0;34m(\u001b[0m\u001b[0mdf\u001b[0m\u001b[0;34m)\u001b[0m\u001b[0;34m.\u001b[0m\u001b[0mhead\u001b[0m\u001b[0;34m(\u001b[0m\u001b[0;34m)\u001b[0m\u001b[0;34m\u001b[0m\u001b[0m\n\u001b[0m",
      "\u001b[0;32m<ipython-input-7-0639a1b3fa16>\u001b[0m in \u001b[0;36mCleanData\u001b[0;34m(df, skip_cols)\u001b[0m\n\u001b[1;32m    113\u001b[0m     \u001b[0;32mfor\u001b[0m \u001b[0mcol\u001b[0m \u001b[0;32min\u001b[0m \u001b[0;34m[\u001b[0m\u001b[0mIC\u001b[0m \u001b[0;32mfor\u001b[0m \u001b[0mIC\u001b[0m \u001b[0;32min\u001b[0m \u001b[0mdf_cols\u001b[0m \u001b[0;32mif\u001b[0m \u001b[0mIC\u001b[0m \u001b[0;32min\u001b[0m \u001b[0mint_cols\u001b[0m \u001b[0;32mand\u001b[0m \u001b[0mIC\u001b[0m \u001b[0;32mnot\u001b[0m \u001b[0;32min\u001b[0m \u001b[0mskip_cols\u001b[0m\u001b[0;34m]\u001b[0m\u001b[0;34m:\u001b[0m\u001b[0;34m\u001b[0m\u001b[0m\n\u001b[1;32m    114\u001b[0m         \u001b[0mprint\u001b[0m\u001b[0;34m(\u001b[0m\u001b[0mcol\u001b[0m\u001b[0;34m)\u001b[0m\u001b[0;34m\u001b[0m\u001b[0m\n\u001b[0;32m--> 115\u001b[0;31m         \u001b[0mdf\u001b[0m\u001b[0;34m[\u001b[0m\u001b[0mcol\u001b[0m\u001b[0;34m]\u001b[0m \u001b[0;34m=\u001b[0m \u001b[0mdf\u001b[0m\u001b[0;34m[\u001b[0m\u001b[0mcol\u001b[0m\u001b[0;34m]\u001b[0m\u001b[0;34m.\u001b[0m\u001b[0mmap\u001b[0m\u001b[0;34m(\u001b[0m\u001b[0mCleanInt\u001b[0m\u001b[0;34m)\u001b[0m\u001b[0;34m\u001b[0m\u001b[0m\n\u001b[0m\u001b[1;32m    116\u001b[0m     \u001b[0;32mif\u001b[0m \u001b[0;34m[\u001b[0m\u001b[0mcol\u001b[0m \u001b[0;32mfor\u001b[0m \u001b[0mcol\u001b[0m \u001b[0;32min\u001b[0m \u001b[0mdf_cols\u001b[0m \u001b[0;32mif\u001b[0m \u001b[0;34m'Date'\u001b[0m \u001b[0;32min\u001b[0m \u001b[0mcol\u001b[0m\u001b[0;34m]\u001b[0m\u001b[0;34m:\u001b[0m\u001b[0;34m\u001b[0m\u001b[0m\n\u001b[1;32m    117\u001b[0m         \u001b[0mdt_df\u001b[0m \u001b[0;34m=\u001b[0m \u001b[0mdf\u001b[0m\u001b[0;34m[\u001b[0m\u001b[0;34m[\u001b[0m\u001b[0mDC\u001b[0m \u001b[0;32mfor\u001b[0m \u001b[0mDC\u001b[0m \u001b[0;32min\u001b[0m \u001b[0mdf_cols\u001b[0m \u001b[0;32mif\u001b[0m \u001b[0;34m'Date'\u001b[0m \u001b[0;32min\u001b[0m  \u001b[0mDC\u001b[0m\u001b[0;34m]\u001b[0m\u001b[0;34m]\u001b[0m\u001b[0;34m\u001b[0m\u001b[0m\n",
      "\u001b[0;32m/Users/invinst/anaconda3/lib/python3.6/site-packages/pandas/core/series.py\u001b[0m in \u001b[0;36mmap\u001b[0;34m(self, arg, na_action)\u001b[0m\n\u001b[1;32m   2156\u001b[0m         \u001b[0;32melse\u001b[0m\u001b[0;34m:\u001b[0m\u001b[0;34m\u001b[0m\u001b[0m\n\u001b[1;32m   2157\u001b[0m             \u001b[0;31m# arg is a function\u001b[0m\u001b[0;34m\u001b[0m\u001b[0;34m\u001b[0m\u001b[0m\n\u001b[0;32m-> 2158\u001b[0;31m             \u001b[0mnew_values\u001b[0m \u001b[0;34m=\u001b[0m \u001b[0mmap_f\u001b[0m\u001b[0;34m(\u001b[0m\u001b[0mvalues\u001b[0m\u001b[0;34m,\u001b[0m \u001b[0marg\u001b[0m\u001b[0;34m)\u001b[0m\u001b[0;34m\u001b[0m\u001b[0m\n\u001b[0m\u001b[1;32m   2159\u001b[0m \u001b[0;34m\u001b[0m\u001b[0m\n\u001b[1;32m   2160\u001b[0m         return self._constructor(new_values,\n",
      "\u001b[0;32mpandas/_libs/src/inference.pyx\u001b[0m in \u001b[0;36mpandas._libs.lib.map_infer (pandas/_libs/lib.c:66440)\u001b[0;34m()\u001b[0m\n",
      "\u001b[0;32m<ipython-input-7-0639a1b3fa16>\u001b[0m in \u001b[0;36mCleanInt\u001b[0;34m(x, na_value)\u001b[0m\n\u001b[1;32m      4\u001b[0m \u001b[0;34m\u001b[0m\u001b[0m\n\u001b[1;32m      5\u001b[0m \u001b[0;32mdef\u001b[0m \u001b[0mCleanInt\u001b[0m\u001b[0;34m(\u001b[0m\u001b[0mx\u001b[0m\u001b[0;34m,\u001b[0m \u001b[0mna_value\u001b[0m \u001b[0;34m=\u001b[0m \u001b[0;34m-\u001b[0m\u001b[0;36m999\u001b[0m\u001b[0;34m)\u001b[0m\u001b[0;34m:\u001b[0m\u001b[0;34m\u001b[0m\u001b[0m\n\u001b[0;32m----> 6\u001b[0;31m     \u001b[0;32mif\u001b[0m \u001b[0mnp\u001b[0m\u001b[0;34m.\u001b[0m\u001b[0misfinite\u001b[0m\u001b[0;34m(\u001b[0m\u001b[0mx\u001b[0m\u001b[0;34m)\u001b[0m\u001b[0;34m:\u001b[0m\u001b[0;34m\u001b[0m\u001b[0m\n\u001b[0m\u001b[1;32m      7\u001b[0m         \u001b[0;32mreturn\u001b[0m \u001b[0mint\u001b[0m\u001b[0;34m(\u001b[0m\u001b[0mfloat\u001b[0m\u001b[0;34m(\u001b[0m\u001b[0mx\u001b[0m\u001b[0;34m)\u001b[0m\u001b[0;34m)\u001b[0m\u001b[0;34m\u001b[0m\u001b[0m\n\u001b[1;32m      8\u001b[0m     \u001b[0;32melse\u001b[0m\u001b[0;34m:\u001b[0m\u001b[0;34m\u001b[0m\u001b[0m\n",
      "\u001b[0;31mTypeError\u001b[0m: ufunc 'isfinite' not supported for the input types, and the inputs could not be safely coerced to any supported types according to the casting rule ''safe''"
     ]
    }
   ],
   "source": [
    "CleanData(df).head()"
   ]
  },
  {
   "cell_type": "code",
   "execution_count": 18,
   "metadata": {},
   "outputs": [
    {
     "name": "stdout",
     "output_type": "stream",
     "text": [
      "hi\n"
     ]
    }
   ],
   "source": [
    "if : print('hi')"
   ]
  },
  {
   "cell_type": "code",
   "execution_count": 20,
   "metadata": {},
   "outputs": [
    {
     "data": {
      "text/plain": [
       "12.0"
      ]
     },
     "execution_count": 20,
     "metadata": {},
     "output_type": "execute_result"
    }
   ],
   "source": [
    "float('12')"
   ]
  }
 ],
 "metadata": {
  "kernelspec": {
   "display_name": "Python 3",
   "language": "python",
   "name": "python3"
  },
  "language_info": {
   "codemirror_mode": {
    "name": "ipython",
    "version": 3
   },
   "file_extension": ".py",
   "mimetype": "text/x-python",
   "name": "python",
   "nbconvert_exporter": "python",
   "pygments_lexer": "ipython3",
   "version": "3.6.1"
  }
 },
 "nbformat": 4,
 "nbformat_minor": 2
}
