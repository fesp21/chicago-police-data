{
 "cells": [
  {
   "cell_type": "code",
   "execution_count": 8,
   "metadata": {
    "collapsed": true
   },
   "outputs": [],
   "source": [
    "import pandas as pd\n",
    "from AUIDFunctions import *\n",
    "import inspect\n",
    "uh = pd.read_csv(\"input/unit-history_demo.csv\")\n",
    "am = pd.read_csv(\"input/all-members_demo.csv\")\n",
    "ac = pd.read_csv(\"input/accused_demo.csv\")\n",
    "am = am.rename(columns = {'TID' : 'ID1'})\n",
    "uh = uh.rename(columns = {'TID' : 'ID2'})"
   ]
  },
  {
   "cell_type": "code",
   "execution_count": 9,
   "metadata": {
    "collapsed": true
   },
   "outputs": [],
   "source": [
    "def intersect(a, b):\n",
    "     return list(set(a) & set(b))\n",
    "def setdiff(a,b):\n",
    "    return list(set(a) - set(b))\n",
    "def union(a,b):\n",
    "    return list(set(a) | set(b))"
   ]
  },
  {
   "cell_type": "code",
   "execution_count": 10,
   "metadata": {
    "collapsed": true
   },
   "outputs": [],
   "source": [
    "TakeFirst4 = lambda x: x[:4]\n",
    "BY_to_CA = lambda x: 2016 - x\n",
    "def AddColumns(df, add_cols = [\"F4FN\", \"F4LN\", \"Current.Age\", \"CA_BY\"]):\n",
    "    if \"F4FN\" in add_cols and \"First.Name\" in df.columns:\n",
    "            df['F4FN'] = df['First.Name'].map(TakeFirst4)\n",
    "    if \"F4LN\" in add_cols and 'Last.Name' in df.columns:\n",
    "            df['F4LN'] = df['Last.Name'].map(TakeFirst4)\n",
    "    if \"Current.Age\" in add_cols and \"Current.Age\" in df.columns:\n",
    "        df['Current.Age.p1'] = df['Current.Age']\n",
    "        df['Current.Age.m1'] = df['Current.Age']\n",
    "    if \"CA_BY\" in add_cols and \"Birth.Year\" in df.columns:\n",
    "        by_to_ca = lambda x: 2016 - x\n",
    "        df['Current.Age.p1'] = df['Birth.Year'].map(BY_to_CA)\n",
    "        df['Current.Age.m1'] = df['Birth.Year'].map(BY_to_CA) - 1  \n",
    "    return df\n",
    "\n"
   ]
  },
  {
   "cell_type": "code",
   "execution_count": 11,
   "metadata": {},
   "outputs": [
    {
     "name": "stdout",
     "output_type": "stream",
     "text": [
      "Index(['ID1', 'First.Name', 'Last.Name', 'Middle.Initial', 'Suffix.Name',\n",
      "       'Appointed.Date', 'Gender', 'Race', 'Birth.Year', 'F4FN', 'F4LN',\n",
      "       'Current.Age.p1', 'Current.Age.m1'],\n",
      "      dtype='object')\n",
      "Index(['ID2', 'First.Name', 'Last.Name', 'Middle.Initial', 'Suffix.Name',\n",
      "       'Appointed.Date', 'Current.Age', 'Gender', 'Race', 'Star1', 'Star2',\n",
      "       'Star3', 'Star4', 'Star5', 'Star6', 'Star7', 'Star8', 'Star9', 'Star10',\n",
      "       'Current.Unit', 'F4FN', 'F4LN', 'Current.Age.p1', 'Current.Age.m1'],\n",
      "      dtype='object')\n",
      "['First.Name', 'Last.Name', 'Middle.Initial', 'Suffix.Name', 'Appointed.Date', 'Gender', 'Race', 'F4FN', 'F4LN', 'Current.Age.p1', 'Current.Age.m1']\n"
     ]
    }
   ],
   "source": [
    "amd = am.dropna(axis=1, how='all')\n",
    "uhd = uh.dropna(axis=1, how='all')\n",
    "amdm = AddColumns(amd)\n",
    "uhdm = AddColumns(uhd)\n",
    "print(amd.columns)\n",
    "print(uhd.columns)\n",
    "cols = [col for col in amd.columns if col in uhd.columns]\n",
    "print(cols)"
   ]
  },
  {
   "cell_type": "code",
   "execution_count": 12,
   "metadata": {},
   "outputs": [
    {
     "name": "stdout",
     "output_type": "stream",
     "text": [
      "[]\n",
      "[]\n",
      "(1312, 29)\n",
      "(4289, 29)\n"
     ]
    }
   ],
   "source": [
    "mc = ['First.Name', 'Last.Name', \"Middle.Initial\", \"Suffix.Name\",'Appointed.Date', 'Gender', \"Race\", \"Current.Age.p1\"]\n",
    "amdmp = RemoveDuplicates(amdm)\n",
    "uhdmp = RemoveDuplicates(uhdm)\n",
    "t1 = amdmp.merge(uhdmp, on = mc, how ='inner')\n",
    "\n",
    "mc = ['First.Name', 'Last.Name', \"Middle.Initial\", \"Suffix.Name\",'Appointed.Date', 'Gender', \"Race\", \"Current.Age.m1\"]\n",
    "amdmp = RemoveDuplicates(amdm)\n",
    "uhdmp = RemoveDuplicates(uhdm)\n",
    "t2 = amdmp.merge(uhdmp, on = mc, how ='inner')\n",
    "\n",
    "print(intersect(t1['ID2'], t2['ID2']))\n",
    "print(intersect(t1['ID1'], t2['ID1']))\n",
    "print(t1.shape)\n",
    "print(t2.shape)"
   ]
  },
  {
   "cell_type": "code",
   "execution_count": 13,
   "metadata": {
    "collapsed": true
   },
   "outputs": [],
   "source": [
    "def LoopMerge(df1, df2, on_list, keep_columns = ['ID1', 'ID2']):\n",
    "    dfm = pd.DataFrame(columns = keep_columns + ['Match'])\n",
    "    # Generate on list?\n",
    "    for mc in on_list:\n",
    "        df1t = RemoveDuplicates(df1[keep_columns[:1] + mc], mc)\n",
    "        df2t = RemoveDuplicates(df2[keep_columns[1:] + mc], mc)\n",
    "        dfmt = df1t.merge(df2t, on=mc, how='inner')\n",
    "        if dfmt.shape[0] > 0:\n",
    "            print('******')\n",
    "            print(mc)\n",
    "            print(dfmt.shape[0])\n",
    "            dfmt['Match'] = '-'.join(mc)\n",
    "            dfm = dfm.append(dfmt[keep_columns + ['Match']].reset_index(drop=True))\n",
    "            df1 = df1.loc[~df1[keep_columns[0]].isin(dfm[keep_columns[0]])]\n",
    "            df2 = df2.loc[~df2[keep_columns[1]].isin(dfm[keep_columns[1]])]\n",
    "\n",
    "    print(df1.shape[0])\n",
    "    print(df2.shape[0])\n",
    "    return (dfm.reset_index(drop=True), df1, df2)\n",
    "\n"
   ]
  },
  {
   "cell_type": "code",
   "execution_count": 14,
   "metadata": {},
   "outputs": [
    {
     "name": "stdout",
     "output_type": "stream",
     "text": [
      "******\n",
      "['First.Name', 'Last.Name', 'Middle.Initial', 'Suffix.Name', 'Appointed.Date', 'Gender', 'Race', 'Current.Age.m1']\n",
      "4289\n",
      "******\n",
      "['First.Name', 'Last.Name', 'Middle.Initial', 'Suffix.Name', 'Appointed.Date', 'Gender', 'Race', 'Current.Age.p1']\n",
      "1312\n",
      "******\n",
      "['F4FN', 'F4LN', 'Middle.Initial', 'Suffix.Name', 'Appointed.Date', 'Gender', 'Race', 'Current.Age.m1']\n",
      "1\n",
      "******\n",
      "['First.Name', 'Last.Name', 'Suffix.Name', 'Appointed.Date', 'Gender', 'Race', 'Current.Age.m1']\n",
      "19949\n",
      "******\n",
      "['First.Name', 'Last.Name', 'Suffix.Name', 'Appointed.Date', 'Gender', 'Race', 'Current.Age.p1']\n",
      "6011\n",
      "******\n",
      "['F4FN', 'F4LN', 'Suffix.Name', 'Appointed.Date', 'Gender', 'Race', 'Current.Age.m1']\n",
      "3\n",
      "******\n",
      "['First.Name', 'Last.Name', 'Suffix.Name', 'Middle.Initial', 'Appointed.Date', 'Gender', 'Race']\n",
      "1\n",
      "******\n",
      "['First.Name', 'Last.Name', 'Suffix.Name', 'Appointed.Date', 'Gender', 'Race']\n",
      "2\n",
      "******\n",
      "['First.Name', 'Middle.Initial', 'Suffix.Name', 'Appointed.Date', 'Gender', 'Race', 'Current.Age.m1']\n",
      "4\n",
      "******\n",
      "['First.Name', 'Suffix.Name', 'Appointed.Date', 'Gender', 'Race', 'Current.Age.m1']\n",
      "7\n",
      "******\n",
      "['First.Name', 'Suffix.Name', 'Appointed.Date', 'Gender', 'Race', 'Current.Age.p1']\n",
      "3\n",
      "346\n",
      "15\n"
     ]
    }
   ],
   "source": [
    "m = LoopMerge(amdm, uhdm, on_list = [\n",
    "    ['First.Name', 'Last.Name', \"Middle.Initial\", \"Suffix.Name\",'Appointed.Date', 'Gender', \"Race\", \"Current.Age.m1\"],\n",
    "    ['First.Name', 'Last.Name', \"Middle.Initial\", \"Suffix.Name\",'Appointed.Date', 'Gender', \"Race\", \"Current.Age.p1\"],\n",
    "    ['F4FN', 'F4LN', \"Middle.Initial\", \"Suffix.Name\",'Appointed.Date', 'Gender', \"Race\", \"Current.Age.m1\"],\n",
    "    ['F4FN', 'F4LN', \"Middle.Initial\", \"Suffix.Name\",'Appointed.Date', 'Gender', \"Race\", \"Current.Age.p1\"],\n",
    "    ['First.Name', 'Last.Name', \"Middle.Initial\",'Appointed.Date', 'Gender', \"Race\", \"Current.Age.m1\"],\n",
    "    ['First.Name', 'Last.Name', \"Middle.Initial\",'Appointed.Date', 'Gender', \"Race\", \"Current.Age.p1\"],\n",
    "    ['F4FN', 'F4LN', \"Middle.Initial\",'Appointed.Date', 'Gender', \"Race\", \"Current.Age.m1\"],\n",
    "    ['F4FN', 'F4LN', \"Middle.Initial\",'Appointed.Date', 'Gender', \"Race\", \"Current.Age.p1\"],\n",
    "    ['First.Name', 'Last.Name', \"Suffix.Name\",'Appointed.Date', 'Gender', \"Race\", \"Current.Age.m1\"],\n",
    "    ['First.Name', 'Last.Name', \"Suffix.Name\",'Appointed.Date', 'Gender', \"Race\", \"Current.Age.p1\"],\n",
    "    ['F4FN', 'F4LN', \"Suffix.Name\",'Appointed.Date', 'Gender', \"Race\", \"Current.Age.m1\"],\n",
    "    ['F4FN', 'F4LN', \"Suffix.Name\",'Appointed.Date', 'Gender', \"Race\", \"Current.Age.p1\"],\n",
    "    ['First.Name', 'Last.Name',\"Suffix.Name\", \"Middle.Initial\",'Appointed.Date', 'Gender', \"Race\"],\n",
    "    ['F4FN', 'F4LN',\"Suffix.Name\", \"Middle.Initial\",'Appointed.Date', 'Gender', \"Race\"],\n",
    "    ['First.Name', 'Last.Name',\"Middle.Initial\",'Appointed.Date', 'Gender', \"Race\"],\n",
    "    ['F4FN', 'F4LN',\"Middle.Initial\",'Appointed.Date', 'Gender', \"Race\"],\n",
    "    ['First.Name', 'Last.Name', \"Suffix.Name\", 'Appointed.Date', 'Gender', \"Race\"],\n",
    "    ['F4FN', 'F4LN', \"Suffix.Name\", 'Appointed.Date', 'Gender', \"Race\"],\n",
    "    ['First.Name', \"Middle.Initial\", \"Suffix.Name\",'Appointed.Date', 'Gender', \"Race\", \"Current.Age.m1\"],\n",
    "    ['First.Name', \"Middle.Initial\", \"Suffix.Name\",'Appointed.Date', 'Gender', \"Race\", \"Current.Age.p1\"],\n",
    "    ['First.Name', \"Middle.Initial\",'Appointed.Date', 'Gender', \"Race\", \"Current.Age.m1\"],\n",
    "    ['First.Name', \"Middle.Initial\",'Appointed.Date', 'Gender', \"Race\", \"Current.Age.p1\"],\n",
    "    ['First.Name', \"Suffix.Name\",'Appointed.Date', 'Gender', \"Race\", \"Current.Age.m1\"],\n",
    "    ['First.Name', \"Suffix.Name\",'Appointed.Date', 'Gender', \"Race\", \"Current.Age.p1\"]\n",
    "])"
   ]
  },
  {
   "cell_type": "code",
   "execution_count": 15,
   "metadata": {
    "collapsed": true
   },
   "outputs": [],
   "source": [
    "def AppendToReference(ref, df):\n",
    "    return 0"
   ]
  },
  {
   "cell_type": "code",
   "execution_count": 16,
   "metadata": {
    "collapsed": true
   },
   "outputs": [],
   "source": [
    "uid_ref = pd.concat([m[0][[\"ID1\", \"ID2\"]], m[1][[\"ID1\"]], m[2][[\"ID2\"]]]).reset_index(drop=True)\n",
    "if \"UID\" not in uid_ref.columns:\n",
    "    uid_ref.insert(0, \"UID\", uid_ref.index + 1)"
   ]
  },
  {
   "cell_type": "code",
   "execution_count": 17,
   "metadata": {
    "collapsed": true
   },
   "outputs": [],
   "source": [
    "am = am.merge(uid_ref[[\"ID1\", \"UID\"]], on='ID1', how='left')\n",
    "uh = uh.merge(uid_ref[[\"ID2\", \"UID\"]], on='ID2', how='left')"
   ]
  },
  {
   "cell_type": "code",
   "execution_count": 18,
   "metadata": {},
   "outputs": [
    {
     "name": "stdout",
     "output_type": "stream",
     "text": [
      "Index(['Appointed.Date', 'Birth.Year', 'Current.Age', 'Current.Unit',\n",
      "       'First.Name', 'Gender', 'ID1', 'ID2', 'Last.Name', 'Middle.Initial',\n",
      "       'Race', 'Star1', 'Star10', 'Star2', 'Star3', 'Star4', 'Star5', 'Star6',\n",
      "       'Star7', 'Star8', 'Star9', 'Suffix.Name', 'UID'],\n",
      "      dtype='object')\n"
     ]
    }
   ],
   "source": [
    "ref = pd.concat([am, uh])\n",
    "print(ref.columns)"
   ]
  },
  {
   "cell_type": "code",
   "execution_count": 21,
   "metadata": {},
   "outputs": [
    {
     "data": {
      "text/plain": [
       "'profiles = AggregateData(ref, uid = \"UID\", id_cols = [],\\n              max_cols = setdiff(ref.columns, [\"UID\"]), make_uid=False)'"
      ]
     },
     "execution_count": 21,
     "metadata": {},
     "output_type": "execute_result"
    }
   ],
   "source": [
    "'''profiles = AggregateData(ref, uid = \"UID\", id_cols = [],\n",
    "              max_cols = setdiff(ref.columns, [\"UID\"]), make_uid=False)'''"
   ]
  },
  {
   "cell_type": "code",
   "execution_count": 23,
   "metadata": {},
   "outputs": [
    {
     "name": "stdout",
     "output_type": "stream",
     "text": [
      "['Appointed.Date', 'ID2', 'Star7', 'Star4', 'Star9', 'Star2', 'Star5', 'First.Name', 'Last.Name', 'Star1', 'Current.Unit', 'Current.Age', 'ID1', 'Suffix.Name', 'Star3', 'Gender', 'Middle.Initial', 'Star8', 'Birth.Year', 'Star6', 'Race', 'Star10']\n"
     ]
    }
   ],
   "source": [
    "uid = \"UID\"\n",
    "uid_col = [uid]\n",
    "agg_df = ref[uid_col].drop_duplicates().reset_index(drop=True) \n",
    "max_cols = setdiff(ref.columns, [\"UID\"])\n",
    "print(max_cols)"
   ]
  },
  {
   "cell_type": "code",
   "execution_count": 28,
   "metadata": {},
   "outputs": [
    {
     "name": "stdout",
     "output_type": "stream",
     "text": [
      "      Appointed.Date    ID2  Star7  Star4  Star9    Star2  Star5 First.Name  \\\n",
      "0         2005-09-26    NaN    NaN    NaN    NaN      NaN    NaN    JEFFERY   \n",
      "1         2005-09-26    NaN    NaN    NaN    NaN      NaN    NaN     KARINA   \n",
      "2         1970-06-15    NaN    NaN    NaN    NaN      NaN    NaN     DANIEL   \n",
      "3         1994-12-05    NaN    NaN    NaN    NaN      NaN    NaN    ANTHONY   \n",
      "4         1969-01-06    NaN    NaN    NaN    NaN      NaN    NaN     CARMEL   \n",
      "5         1954-10-16    NaN    NaN    NaN    NaN      NaN    NaN     CARMEN   \n",
      "6         1995-12-04    NaN    NaN    NaN    NaN      NaN    NaN      TERRY   \n",
      "7         1949-03-16    NaN    NaN    NaN    NaN      NaN    NaN       LEON   \n",
      "8         1990-03-26    NaN    NaN    NaN    NaN      NaN    NaN       LEON   \n",
      "9         1976-04-26    NaN    NaN    NaN    NaN      NaN    NaN    MICHAEL   \n",
      "10        1970-12-14    NaN    NaN    NaN    NaN      NaN    NaN     ANDREW   \n",
      "11        1982-11-29    NaN    NaN    NaN    NaN      NaN    NaN       DALE   \n",
      "12        1987-12-07    NaN    NaN    NaN    NaN      NaN    NaN  ELIZABETH   \n",
      "13        1986-07-14    NaN    NaN    NaN    NaN      NaN    NaN      LAURA   \n",
      "14        2012-11-30    NaN    NaN    NaN    NaN      NaN    NaN       ZAID   \n",
      "15        2006-12-18    NaN    NaN    NaN    NaN      NaN    NaN  ABDALMAHD   \n",
      "16        2008-04-28    NaN    NaN    NaN    NaN      NaN    NaN       AZIZ   \n",
      "17        1989-12-26    NaN    NaN    NaN    NaN      NaN    NaN     MOULAY   \n",
      "18        1999-10-25    NaN    NaN    NaN    NaN      NaN    NaN      JASON   \n",
      "19        1999-12-13    NaN    NaN    NaN    NaN      NaN    NaN  RESTITUTO   \n",
      "20        1970-06-15    NaN    NaN    NaN    NaN      NaN    NaN    KENNETH   \n",
      "21        1985-09-09    NaN    NaN    NaN    NaN      NaN    NaN    DEBORAH   \n",
      "22        1964-06-08    NaN    NaN    NaN    NaN      NaN    NaN     EUGENE   \n",
      "23        2015-06-29    NaN    NaN    NaN    NaN      NaN    NaN    PATRICK   \n",
      "24        1947-12-22    NaN    NaN    NaN    NaN      NaN    NaN       JOHN   \n",
      "25        1950-04-03    NaN    NaN    NaN    NaN      NaN    NaN        JOS   \n",
      "26        2014-04-28    NaN    NaN    NaN    NaN      NaN    NaN      NANCY   \n",
      "27        2016-06-27    NaN    NaN    NaN    NaN      NaN    NaN    ANTHONY   \n",
      "28        1976-04-26    NaN    NaN    NaN    NaN      NaN    NaN       PAUL   \n",
      "29        1986-06-16    NaN    NaN    NaN    NaN      NaN    NaN      HENRY   \n",
      "...              ...    ...    ...    ...    ...      ...    ...        ...   \n",
      "31567     2012-12-14  31568 -999.0 -999.0 -999.0   -999.0 -999.0     JURDON   \n",
      "31568     2012-11-30  31569 -999.0 -999.0 -999.0   -999.0 -999.0      OSCAR   \n",
      "31569     1999-10-25  31570 -999.0 -999.0 -999.0   -999.0 -999.0     RONALD   \n",
      "31570     2014-09-29  31571 -999.0 -999.0 -999.0   -999.0 -999.0      KELLY   \n",
      "31571     2012-12-14  31572 -999.0 -999.0 -999.0   -999.0 -999.0    MICHAEL   \n",
      "31572     1970-12-14  31573 -999.0 -999.0 -999.0   -999.0 -999.0      PETER   \n",
      "31573     1953-09-21  31574 -999.0 -999.0 -999.0   -999.0 -999.0    LEONARD   \n",
      "31574     1980-09-29  31575 -999.0 -999.0 -999.0   -999.0 -999.0    DEBORAH   \n",
      "31575     1977-04-04  31576 -999.0 -999.0 -999.0   8390.0 -999.0      JAMES   \n",
      "31576     1970-06-15  31577 -999.0 -999.0 -999.0   -999.0 -999.0      JAMES   \n",
      "31577     1961-05-29  31578 -999.0 -999.0 -999.0   -999.0 -999.0      JAMES   \n",
      "31578     1991-04-24  31579 -999.0 -999.0 -999.0   -999.0 -999.0       MARY   \n",
      "31579     1991-01-02  31580 -999.0 -999.0 -999.0   -999.0 -999.0    GREGORY   \n",
      "31580     2014-10-27  31581 -999.0 -999.0 -999.0   -999.0 -999.0     ADRIEL   \n",
      "31581     2006-11-27  31582 -999.0 -999.0 -999.0   -999.0 -999.0     YVETTE   \n",
      "31582     1968-03-04  31583 -999.0 -999.0 -999.0   -999.0 -999.0     JOSEPH   \n",
      "31583     1955-02-01  31584 -999.0 -999.0 -999.0   -999.0 -999.0      HENRY   \n",
      "31584     1973-03-19  31585 -999.0 -999.0 -999.0   -999.0 -999.0      JAMES   \n",
      "31585     2002-05-28  31586 -999.0 -999.0 -999.0  10336.0 -999.0    JEFFREY   \n",
      "31586     1997-09-02  31587 -999.0 -999.0 -999.0   -999.0 -999.0       MARY   \n",
      "31587     1946-03-11  31588 -999.0 -999.0 -999.0   -999.0 -999.0       ADAM   \n",
      "31588     1961-01-09  31589 -999.0 -999.0 -999.0   7038.0 -999.0      HENRY   \n",
      "31589     2015-08-31  31590 -999.0 -999.0 -999.0   -999.0 -999.0    MATEUSZ   \n",
      "31590     2007-09-24  31591 -999.0 -999.0 -999.0   -999.0 -999.0      BRYAN   \n",
      "31591     1966-05-09  31592 -999.0 -999.0 -999.0   -999.0 -999.0      JAMES   \n",
      "31592     1999-04-01  31593 -999.0 -999.0 -999.0  12477.0 -999.0      PETER   \n",
      "31593     1986-10-13  31594 -999.0 -999.0 -999.0   6476.0 -999.0      DEBRA   \n",
      "31594     2002-12-02  31595 -999.0 -999.0 -999.0   2708.0 -999.0       MARK   \n",
      "31595     1996-12-02  31596 -999.0 -999.0 -999.0   -999.0 -999.0      CARLO   \n",
      "31596     1955-02-08  31597 -999.0 -999.0 -999.0   -999.0 -999.0    STANLEY   \n",
      "\n",
      "         Last.Name    Star1   ...    ID1  Suffix.Name    Star3  Gender  \\\n",
      "0            AARON      NaN   ...      1          NaN      NaN    MALE   \n",
      "1            AARON      NaN   ...      2          NaN      NaN  FEMALE   \n",
      "2            ABATE      NaN   ...      3          NaN      NaN    MALE   \n",
      "3           ABBATE      NaN   ...      4          NaN      NaN    MALE   \n",
      "4           ABBATE      NaN   ...      5          NaN      NaN    MALE   \n",
      "5           ABBATE      NaN   ...      6          NaN      NaN    MALE   \n",
      "6           ABBATE      NaN   ...      7          NaN      NaN    MALE   \n",
      "7            ABBEY      NaN   ...      8          NaN      NaN    MALE   \n",
      "8            ABBEY      NaN   ...      9          NaN      NaN    MALE   \n",
      "9            ABBEY      NaN   ...     10          NaN      NaN    MALE   \n",
      "10          ABBOTT      NaN   ...     11          NaN      NaN    MALE   \n",
      "11          ABBOTT      NaN   ...     12          NaN      NaN    MALE   \n",
      "12          ABBOTT      NaN   ...     13          NaN      NaN  FEMALE   \n",
      "13          ABBOTT      NaN   ...     14          NaN      NaN  FEMALE   \n",
      "14        ABDALLAH      NaN   ...     15          NaN      NaN    MALE   \n",
      "15       ABDELHADI      NaN   ...     16          NaN      NaN    MALE   \n",
      "16     ABDELMAJEID      NaN   ...     17          NaN      NaN    MALE   \n",
      "17        ABDULLAH      NaN   ...     18          NaN      NaN    MALE   \n",
      "18         ABEJERO      NaN   ...     19          NaN      NaN    MALE   \n",
      "19         ABEJERO      NaN   ...     20          NaN      NaN    MALE   \n",
      "20           ABELS      NaN   ...     21          NaN      NaN    MALE   \n",
      "21         ABELSON      NaN   ...     22          NaN      NaN  FEMALE   \n",
      "22        ABINGTON      NaN   ...     23          NaN      NaN    MALE   \n",
      "23           ABNEY      NaN   ...     24          NaN      NaN    MALE   \n",
      "24         ABRAHAM      NaN   ...     25          NaN      NaN    MALE   \n",
      "25         ABRAHAM      NaN   ...     26          NaN      NaN    MALE   \n",
      "26         ABRAHAM      NaN   ...     27          NaN      NaN  FEMALE   \n",
      "27           ABRAM      NaN   ...     28          NaN      NaN    MALE   \n",
      "28           ABRAM      NaN   ...     29          NaN      NaN    MALE   \n",
      "29          ABRAMS      NaN   ...     30          NaN      NaN    MALE   \n",
      "...            ...      ...   ...    ...          ...      ...     ...   \n",
      "31567       ZUNIGA  10327.0   ...    NaN          NaN   -999.0    MALE   \n",
      "31568       ZUNIGA  10919.0   ...    NaN          NaN   -999.0    MALE   \n",
      "31569       ZUNIGA  14170.0   ...    NaN          NaN   -999.0    MALE   \n",
      "31570     ZUPANCIC  16862.0   ...    NaN          NaN   -999.0  FEMALE   \n",
      "31571     ZUPANCIC  13811.0   ...    NaN          NaN   -999.0    MALE   \n",
      "31572          ZUR  15472.0   ...    NaN          NaN   -999.0    MALE   \n",
      "31573      ZURALES   -999.0   ...    NaN          NaN   -999.0    MALE   \n",
      "31574      ZURAWIK   3455.0   ...    NaN          NaN   -999.0  FEMALE   \n",
      "31575      ZURAWIK  21281.0   ...    NaN          NaN   -999.0    MALE   \n",
      "31576     ZURAWSKI   -999.0   ...    NaN          NaN   -999.0    MALE   \n",
      "31577     ZURAWSKI     66.0   ...    NaN          NaN   -999.0    MALE   \n",
      "31578     ZURAWSKI  10436.0   ...    NaN          NaN   -999.0  FEMALE   \n",
      "31579        ZUREK  13351.0   ...    NaN          NaN   -999.0    MALE   \n",
      "31580       ZURITA  15091.0   ...    NaN          NaN   -999.0    MALE   \n",
      "31581       ZURITA   -999.0   ...    NaN          NaN   -999.0  FEMALE   \n",
      "31582       ZUZICH  10501.0   ...    NaN          NaN   -999.0    MALE   \n",
      "31583        ZWIER   -999.0   ...    NaN          NaN   -999.0    MALE   \n",
      "31584         ZWIT  10336.0   ...    NaN          NaN   -999.0    MALE   \n",
      "31585         ZWIT  16055.0   ...    NaN          NaN   5426.0    MALE   \n",
      "31586      ZWOLSKI  15918.0   ...    NaN          NaN   -999.0  FEMALE   \n",
      "31587         ZYCH   -999.0   ...    NaN          NaN   -999.0    MALE   \n",
      "31588         ZYCH  14383.0   ...    NaN          NaN   -999.0    MALE   \n",
      "31589         ZYCH  13312.0   ...    NaN          NaN   -999.0    MALE   \n",
      "31590        ZYDEK   5642.0   ...    NaN          NaN   -999.0    MALE   \n",
      "31591     ZYGOWICZ  12477.0   ...    NaN          NaN   -999.0    MALE   \n",
      "31592     ZYGOWICZ  19965.0   ...    NaN          NaN  10034.0    MALE   \n",
      "31593     ZYLVITIS  21324.0   ...    NaN          NaN   -999.0  FEMALE   \n",
      "31594     ZYMANTAS   6568.0   ...    NaN          NaN   -999.0    MALE   \n",
      "31595    ZYRKOWSKI  19215.0   ...    NaN          NaN   -999.0    MALE   \n",
      "31596    ZYSKOWSKI   2845.0   ...    NaN          NaN   -999.0    MALE   \n",
      "\n",
      "       Middle.Initial  Star8 Birth.Year  Star6      Race  Star10  \n",
      "0                   M    NaN     1971.0    NaN     WHITE     NaN  \n",
      "1                 NaN    NaN     1980.0    NaN  HISPANIC     NaN  \n",
      "2                   P    NaN     1942.0    NaN     WHITE     NaN  \n",
      "3                   G    NaN     1968.0    NaN     WHITE     NaN  \n",
      "4                   G    NaN     1942.0    NaN     WHITE     NaN  \n",
      "5                   S    NaN     1930.0    NaN     WHITE     NaN  \n",
      "6                   M    NaN     1972.0    NaN     WHITE     NaN  \n",
      "7                 NaN    NaN     1923.0    NaN     BLACK     NaN  \n",
      "8                   B    NaN     1945.0    NaN     BLACK     NaN  \n",
      "9                   J    NaN     1952.0    NaN     BLACK     NaN  \n",
      "10                  A    NaN     1949.0    NaN     WHITE     NaN  \n",
      "11                  E    NaN     1953.0    NaN     WHITE     NaN  \n",
      "12                  L    NaN     1958.0    NaN     WHITE     NaN  \n",
      "13                  F    NaN     1965.0    NaN     WHITE     NaN  \n",
      "14                  F    NaN     1983.0    NaN     WHITE     NaN  \n",
      "15                NaN    NaN     1978.0    NaN     WHITE     NaN  \n",
      "16                NaN    NaN     1984.0    NaN       API     NaN  \n",
      "17                  R    NaN     1958.0    NaN     BLACK     NaN  \n",
      "18                  V    NaN     1976.0    NaN       API     NaN  \n",
      "19                  E    NaN     1949.0    NaN       API     NaN  \n",
      "20                  L    NaN     1949.0    NaN     WHITE     NaN  \n",
      "21                  M    NaN     1957.0    NaN     WHITE     NaN  \n",
      "22                  B    NaN     1937.0    NaN     BLACK     NaN  \n",
      "23                  R    NaN     1990.0    NaN     WHITE     NaN  \n",
      "24                NaN    NaN     1925.0    NaN     WHITE     NaN  \n",
      "25                  H    NaN     1922.0    NaN     WHITE     NaN  \n",
      "26                  A    NaN     1986.0    NaN       API     NaN  \n",
      "27                  A    NaN     1988.0    NaN     BLACK     NaN  \n",
      "28                  W    NaN     1939.0    NaN     BLACK     NaN  \n",
      "29                  L    NaN     1963.0    NaN     BLACK     NaN  \n",
      "...               ...    ...        ...    ...       ...     ...  \n",
      "31567             NaN -999.0        NaN -999.0  HISPANIC  -999.0  \n",
      "31568             NaN -999.0        NaN -999.0  HISPANIC  -999.0  \n",
      "31569             NaN -999.0        NaN -999.0  HISPANIC  -999.0  \n",
      "31570             NaN -999.0        NaN -999.0     WHITE  -999.0  \n",
      "31571             NaN -999.0        NaN -999.0     WHITE  -999.0  \n",
      "31572             NaN -999.0        NaN -999.0     WHITE  -999.0  \n",
      "31573             NaN -999.0        NaN -999.0     WHITE  -999.0  \n",
      "31574             NaN -999.0        NaN -999.0     WHITE  -999.0  \n",
      "31575             NaN -999.0        NaN -999.0     WHITE  -999.0  \n",
      "31576             NaN -999.0        NaN -999.0     WHITE  -999.0  \n",
      "31577             NaN -999.0        NaN -999.0     WHITE  -999.0  \n",
      "31578             NaN -999.0        NaN -999.0     WHITE  -999.0  \n",
      "31579             NaN -999.0        NaN -999.0     WHITE  -999.0  \n",
      "31580             NaN -999.0        NaN -999.0  HISPANIC  -999.0  \n",
      "31581             NaN -999.0        NaN -999.0  HISPANIC  -999.0  \n",
      "31582             NaN -999.0        NaN -999.0     WHITE  -999.0  \n",
      "31583             NaN -999.0        NaN -999.0     WHITE  -999.0  \n",
      "31584             NaN -999.0        NaN -999.0     WHITE  -999.0  \n",
      "31585             NaN -999.0        NaN -999.0     WHITE  -999.0  \n",
      "31586             NaN -999.0        NaN -999.0     WHITE  -999.0  \n",
      "31587             NaN -999.0        NaN -999.0     WHITE  -999.0  \n",
      "31588             NaN -999.0        NaN -999.0     WHITE  -999.0  \n",
      "31589             NaN -999.0        NaN -999.0     WHITE  -999.0  \n",
      "31590             NaN -999.0        NaN -999.0     WHITE  -999.0  \n",
      "31591             NaN -999.0        NaN -999.0     WHITE  -999.0  \n",
      "31592             NaN -999.0        NaN -999.0     WHITE  -999.0  \n",
      "31593             NaN -999.0        NaN -999.0     WHITE  -999.0  \n",
      "31594             NaN -999.0        NaN -999.0     WHITE  -999.0  \n",
      "31595             NaN -999.0        NaN -999.0     WHITE  -999.0  \n",
      "31596             NaN -999.0        NaN -999.0     WHITE  -999.0  \n",
      "\n",
      "[63525 rows x 22 columns]\n"
     ]
    }
   ],
   "source": [
    "profiles = ref[uid_col + max_cols].drop_duplicates()\n",
    "profiles = profiles.groupby(uid_col, as_index=False)[max_cols]\n",
    "print(profiles.head())"
   ]
  },
  {
   "cell_type": "code",
   "execution_count": 26,
   "metadata": {
    "collapsed": true
   },
   "outputs": [],
   "source": [
    "profiles = profiles.agg(max)"
   ]
  },
  {
   "cell_type": "code",
   "execution_count": 27,
   "metadata": {},
   "outputs": [
    {
     "data": {
      "text/plain": [
       "Index(['UID', 'Appointed.Date', 'ID2', 'Star7', 'Star4', 'Star9', 'Star2',\n",
       "       'Star5', 'First.Name', 'Last.Name', 'Star1', 'Current.Unit',\n",
       "       'Current.Age', 'ID1', 'Suffix.Name', 'Star3', 'Gender', 'Star8',\n",
       "       'Birth.Year', 'Star6', 'Race', 'Star10'],\n",
       "      dtype='object')"
      ]
     },
     "execution_count": 27,
     "metadata": {},
     "output_type": "execute_result"
    }
   ],
   "source": [
    "profiles.columns"
   ]
  },
  {
   "cell_type": "code",
   "execution_count": null,
   "metadata": {},
   "outputs": [],
   "source": [
    "acd = ac.dropna(axis=1, how='all')\n",
    "acd = AddColumns(acd)\n",
    "print(acd.columns)\n",
    "print(profiles.columns)"
   ]
  },
  {
   "cell_type": "code",
   "execution_count": null,
   "metadata": {},
   "outputs": [],
   "source": [
    "m = LoopMerge(profiles, acd, on_list = [\n",
    "    ['First.Name', 'Last.Name', \"Middle.Initial\", \"Suffix.Name\",'Appointed.Date', 'Gender', \"Race\"],\n",
    "    ['F4FN', 'F4LN', \"Middle.Initial\", \"Suffix.Name\",'Appointed.Date', 'Gender', \"Race\"],\n",
    "    ['First.Name', 'Last.Name', \"Middle.Initial\",'Appointed.Date', 'Gender', \"Race\"],\n",
    "    ['F4FN', 'F4LN', \"Middle.Initial\",'Appointed.Date', 'Gender', \"Race\"],\n",
    "    ['First.Name', 'Last.Name', \"Suffix.Name\",'Appointed.Date', 'Gender', \"Race\"],\n",
    "    ['F4FN', 'F4LN', \"Suffix.Name\",'Appointed.Date', 'Gender', \"Race\"],\n",
    "    ['First.Name', 'Last.Name',\"Suffix.Name\", \"Middle.Initial\",'Appointed.Date', 'Gender', \"Race\"],\n",
    "    ['F4FN', 'F4LN',\"Suffix.Name\", \"Middle.Initial\",'Appointed.Date', 'Gender', \"Race\"],\n",
    "    ['First.Name', 'Last.Name',\"Middle.Initial\",'Appointed.Date', 'Gender', \"Race\"],\n",
    "    ['F4FN', 'F4LN',\"Middle.Initial\",'Appointed.Date', 'Gender', \"Race\"],\n",
    "    ['First.Name', 'Last.Name', \"Suffix.Name\", 'Appointed.Date', 'Gender', \"Race\"],\n",
    "    ['F4FN', 'F4LN', \"Suffix.Name\", 'Appointed.Date', 'Gender', \"Race\"],\n",
    "    ['First.Name', \"Middle.Initial\", \"Suffix.Name\",'Appointed.Date', 'Gender', \"Race\"],\n",
    "    ['First.Name', \"Middle.Initial\",'Appointed.Date', 'Gender', \"Race\"],\n",
    "    ['First.Name', \"Suffix.Name\",'Appointed.Date', 'Gender', \"Race\"]\n",
    "], keep_columns = [\"UID\", \"TID\"])"
   ]
  },
  {
   "cell_type": "code",
   "execution_count": null,
   "metadata": {
    "collapsed": true
   },
   "outputs": [],
   "source": []
  }
 ],
 "metadata": {
  "kernelspec": {
   "display_name": "Python 3",
   "language": "python",
   "name": "python3"
  },
  "language_info": {
   "codemirror_mode": {
    "name": "ipython",
    "version": 3
   },
   "file_extension": ".py",
   "mimetype": "text/x-python",
   "name": "python",
   "nbconvert_exporter": "python",
   "pygments_lexer": "ipython3",
   "version": "3.6.2"
  }
 },
 "nbformat": 4,
 "nbformat_minor": 2
}
