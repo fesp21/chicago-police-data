{
 "cells": [
  {
   "cell_type": "code",
   "execution_count": 161,
   "metadata": {
    "collapsed": true
   },
   "outputs": [],
   "source": [
    "import pandas as pd\n",
    "from assign_unique_ids_functions import *\n",
    "import inspect\n",
    "import itertools"
   ]
  },
  {
   "cell_type": "code",
   "execution_count": 162,
   "metadata": {
    "collapsed": true
   },
   "outputs": [],
   "source": [
    "def intersect(a, b):\n",
    "     return list(set(a) & set(b))\n",
    "def setdiff(a,b):\n",
    "    return list(set(a) - set(b))\n",
    "def union(a,b):\n",
    "    return list(set(a) | set(b))"
   ]
  },
  {
   "cell_type": "code",
   "execution_count": 163,
   "metadata": {},
   "outputs": [],
   "source": [
    "asd = pd.read_csv(\"input/all-sworn_demographics.csv.gz\")\n",
    "asud = pd.read_csv(\"input/all-sworn-units_demographics.csv.gz\")"
   ]
  },
  {
   "cell_type": "code",
   "execution_count": 268,
   "metadata": {},
   "outputs": [],
   "source": [
    "def take_first_four(x):\n",
    "    return x[:4]\n",
    "\n",
    "\n",
    "def BY_to_CA(x):\n",
    "    return 2016 - x\n",
    "\n",
    "\n",
    "def add_columns(df, add_cols = [\"F4FN\", \"F4LN\", \"Current.Age\", \"BY_to_CA\"]):\n",
    "    if \"F4FN\" in add_cols and \"First.Name\" in df.columns:\n",
    "            df['F4FN'] = df['First.Name'].map(take_first_four)\n",
    "    if \"F4LN\" in add_cols and 'Last.Name' in df.columns:\n",
    "            df['F4LN'] = df['Last.Name'].map(take_first_four)\n",
    "    if \"Current.Age\" in add_cols and \"Current.Age\" in df.columns:\n",
    "        df['Current.Age.p1'] = df['Current.Age']\n",
    "        df['Current.Age.m1'] = df['Current.Age']\n",
    "    if \"BY_to_CA\" in add_cols and \"Birth.Year\" in df.columns:\n",
    "        by_to_ca = lambda x: 2016 - x\n",
    "        df['Current.Age.p1'] = df['Birth.Year'].map(BY_to_CA)\n",
    "        df['Current.Age.m1'] = df['Birth.Year'].map(BY_to_CA) - 1  \n",
    "    return df"
   ]
  },
  {
   "cell_type": "code",
   "execution_count": 269,
   "metadata": {},
   "outputs": [],
   "source": [
    "def generate_on_lists(data_cols, base_lists):\n",
    "    merge_list = []\n",
    "    \n",
    "    for col_list in base_lists:\n",
    "        if intersect(col_list, data_cols):\n",
    "            ml = intersect(col_list, data_cols)\n",
    "            if '' in col_list:\n",
    "                ml.append('')\n",
    "            merge_list.append(sorted(ml, reverse=True))\n",
    "            \n",
    "    merge_list = list(itertools.product(*reversed(merge_list)))\n",
    "    merge_list = [[i for i in ml if i != ''] for ml in merge_list]\n",
    "    \n",
    "    return merge_list"
   ]
  },
  {
   "cell_type": "code",
   "execution_count": 270,
   "metadata": {
    "collapsed": true
   },
   "outputs": [],
   "source": [
    "def loop_merge(df1, df2, on_lists, keep_columns, return_unmatched = True):\n",
    "    dfm = pd.DataFrame(columns = keep_columns + ['Match'])\n",
    "    for mc in on_lists:\n",
    "        df1t = remove_duplicates(df1[keep_columns[:1] + mc], mc)\n",
    "        df2t = remove_duplicates(df2[keep_columns[1:] + mc], mc)\n",
    "        dfmt = df1t.merge(df2t, on=mc, how='inner')\n",
    "        if dfmt.shape[0] > 0:\n",
    "            print('******')\n",
    "            print(mc)\n",
    "            print(dfmt.shape[0])\n",
    "            print('******')\n",
    "            dfmt['Match'] = '-'.join(mc)\n",
    "            dfm = dfm.append(dfmt[keep_columns + ['Match']].reset_index(drop=True))\n",
    "            df1 = df1.loc[~df1[keep_columns[0]].isin(dfm[keep_columns[0]])]\n",
    "            df2 = df2.loc[~df2[keep_columns[1]].isin(dfm[keep_columns[1]])]\n",
    "    print(dfm.shape[0], df1.shape[0], df2.shape[0])\n",
    "    if return_unmatched:\n",
    "        return (dfm.reset_index(drop=True), df1, df2)\n",
    "    else:\n",
    "        return dfm.reset_index(drop=True)"
   ]
  },
  {
   "cell_type": "code",
   "execution_count": 274,
   "metadata": {},
   "outputs": [],
   "source": [
    "def merge_datasets(df1, df2, keep_columns,\n",
    "                   custom_matches = [], return_unmatched = True, name_changes=True):\n",
    "    df1 = df1.dropna(axis=1, how='all')\n",
    "    df2 = df2.dropna(axis=1, how='all')\n",
    "    \n",
    "    if \"Birth.Year\" not in intersect(df1.columns, df2.columns):\n",
    "        add_cols = [\"F4FN\", \"F4LN\", \"BY_to_CA\", \"Current.Age\"]\n",
    "    else:\n",
    "        add_cols = [\"F4FN\", \"F4LN\"]\n",
    "        \n",
    "    df1 = add_columns(df1, add_cols)\n",
    "    df2 = add_columns(df2, add_cols)\n",
    "    \n",
    "    \n",
    "    cols = intersect(df1.columns, df2.columns)\n",
    "    \n",
    "    df1 = df1[[col for col in df1.columns\n",
    "               if col in cols or col == keep_columns[0]]]\n",
    "    df2 = df2[[col for col in df2.columns\n",
    "               if col in cols or col == keep_columns[1]]]\n",
    "    \n",
    "    base_lists = [\n",
    "        ['Current.Star', 'Star1', 'Star2', 'Star3', 'Star4', 'Star5','Star6', 'Star7', 'Star8', 'Star9', 'Star10'],\n",
    "        ['First.Name', 'F4FN'], ['Last.Name', 'F4LN'], ['Appointed.Date'],\n",
    "        ['Birth.Year', 'Current.Age', 'Current.Age.p1', 'Current.Age.m1', ''],\n",
    "        ['Middle.Initial', ''], ['Gender', ''], ['Race', ''], ['Suffix.Name', '']\n",
    "    ]\n",
    "    \n",
    "    on_lists = generate_on_lists(cols, base_lists)\n",
    "    \n",
    "    if custom_matches:\n",
    "        on_lists.append(custom_matches)\n",
    "    \n",
    "    if name_changes:\n",
    "        nc_lists = generate_on_lists(cols, [ml for ml in base_lists if \"Last.Name\" not in ml])\n",
    "        nc_lists = [nc_list for nc_list in nc_lists if len(nc_list) > 3]\n",
    "        on_lists.extend(nc_lists)\n",
    "    \n",
    "    merged_data = loop_merge(df1, df2, on_lists=on_lists, keep_columns=keep_columns, return_unmatched=return_unmatched)\n",
    "        \n",
    "    return(merged_data)"
   ]
  },
  {
   "cell_type": "code",
   "execution_count": 275,
   "metadata": {
    "collapsed": true
   },
   "outputs": [],
   "source": [
    "def append_to_reference(df1, df2, keep_columns, custom_matches = [], name_changes=True):\n",
    "    ml = merge_datasets(df1, df2, keep_columns=keep_columns, \n",
    "                        custom_matches=custom_matches, name_changes=name_changes)\n",
    "    nm_df1 = df1[df1[keep_columns[0]].isin(ml[1][keep_columns[0]])]\n",
    "    nm_df2 = df2[df2[keep_columns[1]].isin(ml[2][keep_columns[1]])]\n",
    "    df1 = df1.merge(ml[0][keep_columns], on=keep_columns[0], how='inner')\n",
    "    df2 = df2.merge(ml[0][keep_columns], on=keep_columns[1], how='inner')\n",
    "    \n",
    "    ref = pd.concat([df1, df2, nm_df1, nm_df2], axis=0).reset_index(drop=True)\n",
    "    \n",
    "    if \"UID\" not in ref.columns:\n",
    "        ref.insert(0, 'UID', ref.index + 1)\n",
    "    return ref"
   ]
  },
  {
   "cell_type": "code",
   "execution_count": 276,
   "metadata": {
    "scrolled": true
   },
   "outputs": [
    {
     "name": "stdout",
     "output_type": "stream",
     "text": [
      "******\n",
      "['Suffix.Name', 'Race', 'Gender', 'Middle.Initial', 'Birth.Year', 'Appointed.Date', 'Last.Name', 'First.Name']\n",
      "31170\n",
      "******\n",
      "31170 839 0\n"
     ]
    }
   ],
   "source": [
    "t1 = append_to_reference(asd, asud, [\"all_sworn_ID\", \"all_sworn_units_ID\"])"
   ]
  },
  {
   "cell_type": "code",
   "execution_count": 239,
   "metadata": {
    "collapsed": true
   },
   "outputs": [],
   "source": [
    "uhd = pd.read_csv(\"input/unit-history_demographics.csv.gz\")"
   ]
  },
  {
   "cell_type": "code",
   "execution_count": 249,
   "metadata": {},
   "outputs": [
    {
     "data": {
      "text/plain": [
       "Index(['unit_history_ID', 'First.Name', 'Last.Name', 'Middle.Initial',\n",
       "       'Suffix.Name', 'Appointed.Date', 'Current.Age', 'Gender', 'Race',\n",
       "       'Star1', 'Star2', 'Star3', 'Star4', 'Star5', 'Star6', 'Star7', 'Star8',\n",
       "       'Star9', 'Star10', 'Current.Unit'],\n",
       "      dtype='object')"
      ]
     },
     "execution_count": 249,
     "metadata": {},
     "output_type": "execute_result"
    }
   ],
   "source": [
    "uhd.columns"
   ]
  },
  {
   "cell_type": "code",
   "execution_count": 250,
   "metadata": {},
   "outputs": [
    {
     "data": {
      "text/plain": [
       "Index(['all_sworn_ID', 'First.Name', 'Last.Name', 'Middle.Initial',\n",
       "       'Suffix.Name', 'Appointed.Date', 'Birth.Year', 'Gender', 'Race'],\n",
       "      dtype='object')"
      ]
     },
     "execution_count": 250,
     "metadata": {},
     "output_type": "execute_result"
    }
   ],
   "source": [
    "asd.columns"
   ]
  },
  {
   "cell_type": "code",
   "execution_count": 252,
   "metadata": {},
   "outputs": [
    {
     "name": "stdout",
     "output_type": "stream",
     "text": [
      "******\n",
      "['Suffix.Name', 'Race', 'Gender', 'Middle.Initial', 'Current.Age.p1', 'Appointed.Date', 'Last.Name', 'First.Name']\n",
      "1311\n",
      "******\n",
      "******\n",
      "['Suffix.Name', 'Race', 'Gender', 'Middle.Initial', 'Current.Age.m1', 'Appointed.Date', 'Last.Name', 'First.Name']\n",
      "4287\n",
      "******\n",
      "******\n",
      "['Suffix.Name', 'Race', 'Gender', 'Middle.Initial', 'Current.Age.m1', 'Appointed.Date', 'F4LN', 'First.Name']\n",
      "2\n",
      "******\n",
      "******\n",
      "['Suffix.Name', 'Race', 'Gender', 'Middle.Initial', 'Appointed.Date', 'Last.Name', 'First.Name']\n",
      "1\n",
      "******\n",
      "******\n",
      "['Suffix.Name', 'Race', 'Gender', 'Current.Age.p1', 'Appointed.Date', 'Last.Name', 'First.Name']\n",
      "6014\n",
      "******\n",
      "******\n",
      "['Suffix.Name', 'Race', 'Gender', 'Current.Age.m1', 'Appointed.Date', 'Last.Name', 'First.Name']\n",
      "19934\n",
      "******\n",
      "******\n",
      "['Suffix.Name', 'Race', 'Gender', 'Current.Age.m1', 'Appointed.Date', 'Last.Name', 'F4FN']\n",
      "1\n",
      "******\n",
      "******\n",
      "['Suffix.Name', 'Race', 'Gender', 'Current.Age.m1', 'Appointed.Date', 'F4LN', 'First.Name']\n",
      "4\n",
      "******\n",
      "******\n",
      "['Suffix.Name', 'Race', 'Gender', 'Appointed.Date', 'Last.Name', 'First.Name']\n",
      "4\n",
      "******\n",
      "******\n",
      "['Suffix.Name', 'Gender', 'Current.Age.m1', 'Appointed.Date', 'Last.Name', 'First.Name']\n",
      "1\n",
      "******\n",
      "******\n",
      "['Suffix.Name', 'Race', 'Gender', 'Middle.Initial', 'Current.Age.p1', 'Appointed.Date', 'First.Name']\n",
      "1\n",
      "******\n",
      "******\n",
      "['Suffix.Name', 'Race', 'Gender', 'Middle.Initial', 'Current.Age.m1', 'Appointed.Date', 'First.Name']\n",
      "5\n",
      "******\n",
      "******\n",
      "['Suffix.Name', 'Race', 'Gender', 'Current.Age.p1', 'Appointed.Date', 'First.Name']\n",
      "4\n",
      "******\n",
      "******\n",
      "['Suffix.Name', 'Race', 'Gender', 'Current.Age.m1', 'Appointed.Date', 'First.Name']\n",
      "12\n",
      "******\n",
      "31581 428 16\n"
     ]
    }
   ],
   "source": [
    "t2 = merge_datasets(asd, uhd, , base_lists, name_changes=True)"
   ]
  },
  {
   "cell_type": "code",
   "execution_count": 257,
   "metadata": {},
   "outputs": [],
   "source": [
    "amd = pd.read_csv(\"input/all-members_demographics.csv.gz\")"
   ]
  },
  {
   "cell_type": "code",
   "execution_count": 259,
   "metadata": {},
   "outputs": [
    {
     "name": "stdout",
     "output_type": "stream",
     "text": [
      "******\n",
      "['Suffix.Name', 'Race', 'Gender', 'Middle.Initial', 'Birth.Year', 'Appointed.Date', 'Last.Name', 'First.Name']\n",
      "31914\n",
      "******\n",
      "******\n",
      "['Suffix.Name', 'Race', 'Gender', 'Middle.Initial', 'Birth.Year', 'Appointed.Date', 'F4LN', 'First.Name']\n",
      "3\n",
      "******\n",
      "******\n",
      "['Suffix.Name', 'Race', 'Gender', 'Middle.Initial', 'Appointed.Date', 'Last.Name', 'First.Name']\n",
      "1\n",
      "******\n",
      "******\n",
      "['Suffix.Name', 'Gender', 'Middle.Initial', 'Birth.Year', 'Appointed.Date', 'Last.Name', 'First.Name']\n",
      "1\n",
      "******\n",
      "******\n",
      "['Suffix.Name', 'Race', 'Gender', 'Middle.Initial', 'Birth.Year', 'Appointed.Date', 'First.Name']\n",
      "8\n",
      "******\n",
      "31927 82 1\n",
      "      all_members_ID First.Name Last.Name Middle.Initial Suffix.Name  \\\n",
      "1942            1943     NACALA       BEY              M         NaN   \n",
      "\n",
      "     Appointed.Date  Birth.Year  Gender   Race  F4FN F4LN  \n",
      "1942     1989-12-26        1964  FEMALE  BLACK  NACA  BEY  \n"
     ]
    }
   ],
   "source": [
    "t3 = merge_datasets(asd, amd, [\"F4FN\", \"F4LN\"], base_lists, name_changes=True)"
   ]
  },
  {
   "cell_type": "code",
   "execution_count": 242,
   "metadata": {
    "collapsed": true
   },
   "outputs": [],
   "source": [
    "def StarMerge(df1, df2, on_list, keep_columns, return_unmerged = True):\n",
    "    dfm = pd.DataFrame(columns = keep_columns + ['Match'])\n",
    "    df2 = df2.loc[(df2[\"Star\"].notnull()) & (df2[\"Star\"] > 0)]\n",
    "    stars = [\"Star\" + str(i) for i in range(1,11)]\n",
    "    for mc_cols in on_list:\n",
    "        for star in stars:\n",
    "            mc1 = mc_cols + [star]\n",
    "            mc2 = mc_cols + [\"Star\"]\n",
    "            df1t = RemoveDuplicates(df1.loc[(df1[star].notnull()) & (df1[star] > 0), keep_columns[:1] + mc1], mc1)\n",
    "            df2t = RemoveDuplicates(df2[keep_columns[1:] + mc2], mc2)\n",
    "            dfmt = df1t.merge(df2t, left_on = mc1, right_on = mc2, how='inner')\n",
    "            if dfmt.shape[0] > 0:\n",
    "                print('******')\n",
    "                print(mc1)\n",
    "                print(dfmt.shape[0])\n",
    "                print('******')\n",
    "                dfmt['Match'] = '-'.join(mc + [star + \"/\" + \"Star\"])\n",
    "                dfm = dfm.append(dfmt[keep_columns + ['Match']].reset_index(drop=True))\n",
    "                df1 = df1.loc[~df1[keep_columns[0]].isin(dfm[keep_columns[0]])]\n",
    "                df2 = df2.loc[~df2[keep_columns[1]].isin(dfm[keep_columns[1]])]\n",
    "    if return_unmerged:\n",
    "        return (dfm.reset_index(drop=True), df1, df2)\n",
    "    else:\n",
    "        return dfm.reset_index(drop=True)"
   ]
  }
 ],
 "metadata": {
  "kernelspec": {
   "display_name": "Python 3",
   "language": "python",
   "name": "python3"
  },
  "language_info": {
   "codemirror_mode": {
    "name": "ipython",
    "version": 3
   },
   "file_extension": ".py",
   "mimetype": "text/x-python",
   "name": "python",
   "nbconvert_exporter": "python",
   "pygments_lexer": "ipython3",
   "version": "3.6.2"
  }
 },
 "nbformat": 4,
 "nbformat_minor": 2
}
