{
 "cells": [
  {
   "cell_type": "code",
   "execution_count": 292,
   "metadata": {},
   "outputs": [],
   "source": [
    "import pandas as pd\n",
    "from AUIDFunctions import *\n",
    "uh = pd.read_csv(\"input/unit-history_demo.csv\")\n",
    "am = pd.read_csv(\"input/all-members_demo.csv\")\n",
    "ac = pd.read_csv(\"input/accused_demo.csv\")\n",
    "am = am.rename(columns = {'TID' : 'ID1'})\n",
    "uh = uh.rename(columns = {'TID' : 'ID2'})"
   ]
  },
  {
   "cell_type": "code",
   "execution_count": 293,
   "metadata": {
    "collapsed": true
   },
   "outputs": [],
   "source": [
    "def intersect(a, b):\n",
    "     return list(set(a) & set(b))\n",
    "def setdiff(a,b):\n",
    "    return list(set(a) - set(b))\n",
    "def union(a,b):\n",
    "    return list(set(a) | set(b))"
   ]
  },
  {
   "cell_type": "code",
   "execution_count": 294,
   "metadata": {},
   "outputs": [],
   "source": [
    "TakeFirst4 = lambda x: x[:4]\n",
    "BY_to_CA = lambda x: 2016 - x\n",
    "def AddColumns(df, add_cols = [\"F4FN\", \"F4LN\", \"Current.Age\", \"CA_BY\"]):\n",
    "    if \"F4FN\" in add_cols and \"First.Name\" in df.columns:\n",
    "            df['F4FN'] = df['First.Name'].map(TakeFirst4)\n",
    "    if \"F4LN\" in add_cols and 'Last.Name' in df.columns:\n",
    "            df['F4LN'] = df['Last.Name'].map(TakeFirst4)\n",
    "    if \"Current.Age\" in add_cols and \"Current.Age\" in df.columns:\n",
    "        df['Current.Age.p1'] = df['Current.Age']\n",
    "        df['Current.Age.m1'] = df['Current.Age']\n",
    "    if \"CA_BY\" in add_cols and \"Birth.Year\" in df.columns:\n",
    "        by_to_ca = lambda x: 2016 - x\n",
    "        df['Current.Age.p1'] = df['Birth.Year'].map(BY_to_CA)\n",
    "        df['Current.Age.m1'] = df['Birth.Year'].map(BY_to_CA) - 1  \n",
    "    return df\n",
    "\n"
   ]
  },
  {
   "cell_type": "code",
   "execution_count": 295,
   "metadata": {},
   "outputs": [
    {
     "name": "stdout",
     "output_type": "stream",
     "text": [
      "Index(['ID1', 'First.Name', 'Last.Name', 'Middle.Initial', 'Suffix.Name',\n",
      "       'Appointed.Date', 'Gender', 'Race', 'Birth.Year', 'F4FN', 'F4LN',\n",
      "       'Current.Age.p1', 'Current.Age.m1'],\n",
      "      dtype='object')\n",
      "Index(['ID2', 'First.Name', 'Last.Name', 'Middle.Initial', 'Suffix.Name',\n",
      "       'Appointed.Date', 'Current.Age', 'Gender', 'Race', 'Star1', 'Star2',\n",
      "       'Star3', 'Star4', 'Star5', 'Star6', 'Star7', 'Star8', 'Star9', 'Star10',\n",
      "       'CurrentUnit', 'F4FN', 'F4LN', 'Current.Age.p1', 'Current.Age.m1'],\n",
      "      dtype='object')\n",
      "['First.Name', 'Last.Name', 'Middle.Initial', 'Suffix.Name', 'Appointed.Date', 'Gender', 'Race', 'F4FN', 'F4LN', 'Current.Age.p1', 'Current.Age.m1']\n"
     ]
    }
   ],
   "source": [
    "amd = am.dropna(axis=1, how='all')\n",
    "uhd = uh.dropna(axis=1, how='all')\n",
    "amd = AddColumns(amd)\n",
    "uhd = AddColumns(uhd)\n",
    "print(amd.columns)\n",
    "print(uhd.columns)\n",
    "cols = [col for col in amd.columns if col in uhd.columns]\n",
    "print(cols)"
   ]
  },
  {
   "cell_type": "code",
   "execution_count": 296,
   "metadata": {},
   "outputs": [
    {
     "name": "stdout",
     "output_type": "stream",
     "text": [
      "[]\n",
      "[]\n",
      "(1312, 16)\n",
      "(4289, 16)\n"
     ]
    }
   ],
   "source": [
    "mc = ['First.Name', 'Last.Name', \"Middle.Initial\", \"Suffix.Name\",'Appointed.Date', 'Gender', \"Race\", \"Current.Age.p1\"]\n",
    "amdmp = RemoveDuplicates(amdm)\n",
    "uhdmp = RemoveDuplicates(uhdm)\n",
    "t1 = amdmp.merge(uhdmp, on = mc, how ='inner')\n",
    "\n",
    "mc = ['First.Name', 'Last.Name', \"Middle.Initial\", \"Suffix.Name\",'Appointed.Date', 'Gender', \"Race\", \"Current.Age.m1\"]\n",
    "amdmp = RemoveDuplicates(amdm)\n",
    "uhdmp = RemoveDuplicates(uhdm)\n",
    "t2 = amdmp.merge(uhdmp, on = mc, how ='inner')\n",
    "\n",
    "print(intersect(t1['ID2'], t2['ID2']))\n",
    "print(intersect(t1['ID1'], t2['ID1']))\n",
    "print(t1.shape)\n",
    "print(t2.shape)"
   ]
  },
  {
   "cell_type": "code",
   "execution_count": 297,
   "metadata": {},
   "outputs": [],
   "source": [
    "def LoopMerge(df1, df2, on_list, keep_columns = ['ID1', 'ID2']):\n",
    "    dfm = pd.DataFrame(columns = keep_columns + ['Match'])\n",
    "    # Generate on list?\n",
    "    for mc in on_list:\n",
    "        df1t = RemoveDuplicates(df1[keep_columns[:1] + mc], mc)\n",
    "        df2t = RemoveDuplicates(df2[keep_columns[1:] + mc], mc)\n",
    "        dfmt = df1t.merge(df2t, on=mc, how='inner')\n",
    "        if dfmt.shape[0] > 0:\n",
    "            print('******')\n",
    "            print(mc)\n",
    "            print(dfmt.shape[0])\n",
    "            dfmt['Match'] = '-'.join(mc)\n",
    "            dfm = dfm.append(dfmt[keep_columns + ['Match']].reset_index(drop=True))\n",
    "            df1 = df1.loc[~df1[keep_columns[0]].isin(dfm[keep_columns[0]])]\n",
    "            df2 = df2.loc[~df2[keep_columns[1]].isin(dfm[keep_columns[1]])]\n",
    "\n",
    "    print(df1.shape[0])\n",
    "    print(df2.shape[0])\n",
    "    return (dfm.reset_index(drop=True), df1, df2)\n",
    "\n"
   ]
  },
  {
   "cell_type": "code",
   "execution_count": 298,
   "metadata": {},
   "outputs": [
    {
     "name": "stdout",
     "output_type": "stream",
     "text": [
      "******\n",
      "['First.Name', 'Last.Name', 'Middle.Initial', 'Suffix.Name', 'Appointed.Date', 'Gender', 'Race', 'Current.Age.m1']\n",
      "4289\n",
      "******\n",
      "['First.Name', 'Last.Name', 'Middle.Initial', 'Suffix.Name', 'Appointed.Date', 'Gender', 'Race', 'Current.Age.p1']\n",
      "1312\n",
      "******\n",
      "['F4FN', 'F4LN', 'Middle.Initial', 'Suffix.Name', 'Appointed.Date', 'Gender', 'Race', 'Current.Age.m1']\n",
      "1\n",
      "******\n",
      "['First.Name', 'Last.Name', 'Suffix.Name', 'Appointed.Date', 'Gender', 'Race', 'Current.Age.m1']\n",
      "19949\n",
      "******\n",
      "['First.Name', 'Last.Name', 'Suffix.Name', 'Appointed.Date', 'Gender', 'Race', 'Current.Age.p1']\n",
      "6011\n",
      "******\n",
      "['F4FN', 'F4LN', 'Suffix.Name', 'Appointed.Date', 'Gender', 'Race', 'Current.Age.m1']\n",
      "3\n",
      "******\n",
      "['First.Name', 'Last.Name', 'Suffix.Name', 'Middle.Initial', 'Appointed.Date', 'Gender', 'Race']\n",
      "1\n",
      "******\n",
      "['First.Name', 'Last.Name', 'Suffix.Name', 'Appointed.Date', 'Gender', 'Race']\n",
      "2\n",
      "******\n",
      "['First.Name', 'Middle.Initial', 'Suffix.Name', 'Appointed.Date', 'Gender', 'Race', 'Current.Age.m1']\n",
      "4\n",
      "******\n",
      "['First.Name', 'Suffix.Name', 'Appointed.Date', 'Gender', 'Race', 'Current.Age.m1']\n",
      "7\n",
      "******\n",
      "['First.Name', 'Suffix.Name', 'Appointed.Date', 'Gender', 'Race', 'Current.Age.p1']\n",
      "3\n",
      "346\n",
      "15\n"
     ]
    }
   ],
   "source": [
    "m = LoopMerge(amdm, uhdm, on_list = [\n",
    "    ['First.Name', 'Last.Name', \"Middle.Initial\", \"Suffix.Name\",'Appointed.Date', 'Gender', \"Race\", \"Current.Age.m1\"],\n",
    "    ['First.Name', 'Last.Name', \"Middle.Initial\", \"Suffix.Name\",'Appointed.Date', 'Gender', \"Race\", \"Current.Age.p1\"],\n",
    "    ['F4FN', 'F4LN', \"Middle.Initial\", \"Suffix.Name\",'Appointed.Date', 'Gender', \"Race\", \"Current.Age.m1\"],\n",
    "    ['F4FN', 'F4LN', \"Middle.Initial\", \"Suffix.Name\",'Appointed.Date', 'Gender', \"Race\", \"Current.Age.p1\"],\n",
    "    ['First.Name', 'Last.Name', \"Middle.Initial\",'Appointed.Date', 'Gender', \"Race\", \"Current.Age.m1\"],\n",
    "    ['First.Name', 'Last.Name', \"Middle.Initial\",'Appointed.Date', 'Gender', \"Race\", \"Current.Age.p1\"],\n",
    "    ['F4FN', 'F4LN', \"Middle.Initial\",'Appointed.Date', 'Gender', \"Race\", \"Current.Age.m1\"],\n",
    "    ['F4FN', 'F4LN', \"Middle.Initial\",'Appointed.Date', 'Gender', \"Race\", \"Current.Age.p1\"],\n",
    "    ['First.Name', 'Last.Name', \"Suffix.Name\",'Appointed.Date', 'Gender', \"Race\", \"Current.Age.m1\"],\n",
    "    ['First.Name', 'Last.Name', \"Suffix.Name\",'Appointed.Date', 'Gender', \"Race\", \"Current.Age.p1\"],\n",
    "    ['F4FN', 'F4LN', \"Suffix.Name\",'Appointed.Date', 'Gender', \"Race\", \"Current.Age.m1\"],\n",
    "    ['F4FN', 'F4LN', \"Suffix.Name\",'Appointed.Date', 'Gender', \"Race\", \"Current.Age.p1\"],\n",
    "    ['First.Name', 'Last.Name',\"Suffix.Name\", \"Middle.Initial\",'Appointed.Date', 'Gender', \"Race\"],\n",
    "    ['F4FN', 'F4LN',\"Suffix.Name\", \"Middle.Initial\",'Appointed.Date', 'Gender', \"Race\"],\n",
    "    ['First.Name', 'Last.Name',\"Middle.Initial\",'Appointed.Date', 'Gender', \"Race\"],\n",
    "    ['F4FN', 'F4LN',\"Middle.Initial\",'Appointed.Date', 'Gender', \"Race\"],\n",
    "    ['First.Name', 'Last.Name', \"Suffix.Name\", 'Appointed.Date', 'Gender', \"Race\"],\n",
    "    ['F4FN', 'F4LN', \"Suffix.Name\", 'Appointed.Date', 'Gender', \"Race\"],\n",
    "    ['First.Name', \"Middle.Initial\", \"Suffix.Name\",'Appointed.Date', 'Gender', \"Race\", \"Current.Age.m1\"],\n",
    "    ['First.Name', \"Middle.Initial\", \"Suffix.Name\",'Appointed.Date', 'Gender', \"Race\", \"Current.Age.p1\"],\n",
    "    ['First.Name', \"Middle.Initial\",'Appointed.Date', 'Gender', \"Race\", \"Current.Age.m1\"],\n",
    "    ['First.Name', \"Middle.Initial\",'Appointed.Date', 'Gender', \"Race\", \"Current.Age.p1\"],\n",
    "    ['First.Name', \"Suffix.Name\",'Appointed.Date', 'Gender', \"Race\", \"Current.Age.m1\"],\n",
    "    ['First.Name', \"Suffix.Name\",'Appointed.Date', 'Gender', \"Race\", \"Current.Age.p1\"]\n",
    "])"
   ]
  },
  {
   "cell_type": "code",
   "execution_count": 290,
   "metadata": {},
   "outputs": [],
   "source": [
    "def AppendToReference(ref, df):\n",
    "    return 0"
   ]
  },
  {
   "cell_type": "code",
   "execution_count": 299,
   "metadata": {},
   "outputs": [],
   "source": [
    "uid_ref = pd.concat([m[0][[\"ID1\", \"ID2\"]], m[1][[\"ID1\"]], m[2][[\"ID2\"]]]).reset_index(drop=True)\n",
    "if \"UID\" not in uid_ref.columns:\n",
    "    uid_ref.insert(0, \"UID\", uid_ref.index + 1)"
   ]
  },
  {
   "cell_type": "code",
   "execution_count": 300,
   "metadata": {},
   "outputs": [],
   "source": [
    "am = am.merge(uid_ref[[\"ID1\", \"UID\"]], on='ID1', how='left')\n",
    "uh = uh.merge(uid_ref[[\"ID2\", \"UID\"]], on='ID2', how='left')"
   ]
  },
  {
   "cell_type": "code",
   "execution_count": 301,
   "metadata": {
    "collapsed": true
   },
   "outputs": [],
   "source": [
    "ref = pd.concat([am, uh])"
   ]
  },
  {
   "cell_type": "code",
   "execution_count": 302,
   "metadata": {},
   "outputs": [
    {
     "ename": "TypeError",
     "evalue": "AggregateData() got an unexpected keyword argument 'make_uid'",
     "output_type": "error",
     "traceback": [
      "\u001b[0;31m---------------------------------------------------------------------------\u001b[0m",
      "\u001b[0;31mTypeError\u001b[0m                                 Traceback (most recent call last)",
      "\u001b[0;32m<ipython-input-302-bd12c000d002>\u001b[0m in \u001b[0;36m<module>\u001b[0;34m()\u001b[0m\n\u001b[1;32m      1\u001b[0m profiles = AggregateData(ref, uid = \"UID\", id_cols = [\"UID\"],\n\u001b[0;32m----> 2\u001b[0;31m               max_cols = setdiff(ref.columns, [\"UID\"]), make_uid=False)\n\u001b[0m",
      "\u001b[0;31mTypeError\u001b[0m: AggregateData() got an unexpected keyword argument 'make_uid'"
     ]
    }
   ],
   "source": [
    "profiles = AggregateData(ref, uid = \"UID\", id_cols = [\"UID\"],\n",
    "              max_cols = setdiff(ref.columns, [\"UID\"]), make_uid=False)"
   ]
  },
  {
   "cell_type": "code",
   "execution_count": null,
   "metadata": {
    "collapsed": true
   },
   "outputs": [],
   "source": []
  }
 ],
 "metadata": {
  "kernelspec": {
   "display_name": "Python 3",
   "language": "python",
   "name": "python3"
  },
  "language_info": {
   "codemirror_mode": {
    "name": "ipython",
    "version": 3
   },
   "file_extension": ".py",
   "mimetype": "text/x-python",
   "name": "python",
   "nbconvert_exporter": "python",
   "pygments_lexer": "ipython3",
   "version": "3.6.1"
  }
 },
 "nbformat": 4,
 "nbformat_minor": 2
}
