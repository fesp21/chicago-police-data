{
 "cells": [
  {
   "cell_type": "code",
   "execution_count": 1,
   "metadata": {
    "collapsed": true
   },
   "outputs": [],
   "source": [
    "import pandas as pd\n",
    "df = pd.read_csv('../input/police-board.csv.gz')"
   ]
  },
  {
   "cell_type": "code",
   "execution_count": 2,
   "metadata": {},
   "outputs": [
    {
     "data": {
      "text/html": [
       "<div>\n",
       "<style>\n",
       "    .dataframe thead tr:only-child th {\n",
       "        text-align: right;\n",
       "    }\n",
       "\n",
       "    .dataframe thead th {\n",
       "        text-align: left;\n",
       "    }\n",
       "\n",
       "    .dataframe tbody tr th {\n",
       "        vertical-align: top;\n",
       "    }\n",
       "</style>\n",
       "<table border=\"1\" class=\"dataframe\">\n",
       "  <thead>\n",
       "    <tr style=\"text-align: right;\">\n",
       "      <th></th>\n",
       "      <th>Case.NO</th>\n",
       "      <th>Filed.Date</th>\n",
       "      <th>Last.Name</th>\n",
       "      <th>First.Name</th>\n",
       "      <th>Star</th>\n",
       "      <th>CRID</th>\n",
       "      <th>PB.Decision.Date</th>\n",
       "      <th>PB.Decision</th>\n",
       "      <th>Ordered.Suspension.Month.</th>\n",
       "      <th>Recommended.Suspension</th>\n",
       "    </tr>\n",
       "  </thead>\n",
       "  <tbody>\n",
       "    <tr>\n",
       "      <th>0</th>\n",
       "      <td>1</td>\n",
       "      <td>1961-07-25</td>\n",
       "      <td>Richardson</td>\n",
       "      <td>Walter</td>\n",
       "      <td>NaN</td>\n",
       "      <td>NaN</td>\n",
       "      <td>1962-06-13 00:00:00</td>\n",
       "      <td>Not guilty</td>\n",
       "      <td>NaN</td>\n",
       "      <td>NaN</td>\n",
       "    </tr>\n",
       "    <tr>\n",
       "      <th>1</th>\n",
       "      <td>2</td>\n",
       "      <td>1961-07-25</td>\n",
       "      <td>Musdalslien</td>\n",
       "      <td>Henry</td>\n",
       "      <td>NaN</td>\n",
       "      <td>NaN</td>\n",
       "      <td>1961-10-23 00:00:00</td>\n",
       "      <td>Discharged</td>\n",
       "      <td>NaN</td>\n",
       "      <td>NaN</td>\n",
       "    </tr>\n",
       "    <tr>\n",
       "      <th>2</th>\n",
       "      <td>3</td>\n",
       "      <td>1961-08-09</td>\n",
       "      <td>Kelleher</td>\n",
       "      <td>Harold</td>\n",
       "      <td>NaN</td>\n",
       "      <td>NaN</td>\n",
       "      <td>1961-09-19 00:00:00</td>\n",
       "      <td>Charges WD--Resigned</td>\n",
       "      <td>NaN</td>\n",
       "      <td>NaN</td>\n",
       "    </tr>\n",
       "    <tr>\n",
       "      <th>3</th>\n",
       "      <td>4</td>\n",
       "      <td>1961-08-23</td>\n",
       "      <td>Crockett</td>\n",
       "      <td>Earl</td>\n",
       "      <td>NaN</td>\n",
       "      <td>NaN</td>\n",
       "      <td>1961-10-23 00:00:00</td>\n",
       "      <td>Discharged</td>\n",
       "      <td>NaN</td>\n",
       "      <td>NaN</td>\n",
       "    </tr>\n",
       "    <tr>\n",
       "      <th>4</th>\n",
       "      <td>5</td>\n",
       "      <td>1961-10-23</td>\n",
       "      <td>Balenton</td>\n",
       "      <td>Ben</td>\n",
       "      <td>NaN</td>\n",
       "      <td>NaN</td>\n",
       "      <td>1962-02-16 00:00:00</td>\n",
       "      <td>Discharged</td>\n",
       "      <td>NaN</td>\n",
       "      <td>NaN</td>\n",
       "    </tr>\n",
       "  </tbody>\n",
       "</table>\n",
       "</div>"
      ],
      "text/plain": [
       "   Case.NO  Filed.Date    Last.Name First.Name  Star CRID  \\\n",
       "0        1  1961-07-25   Richardson     Walter   NaN  NaN   \n",
       "1        2  1961-07-25  Musdalslien      Henry   NaN  NaN   \n",
       "2        3  1961-08-09     Kelleher     Harold   NaN  NaN   \n",
       "3        4  1961-08-23     Crockett       Earl   NaN  NaN   \n",
       "4        5  1961-10-23     Balenton        Ben   NaN  NaN   \n",
       "\n",
       "      PB.Decision.Date           PB.Decision Ordered.Suspension.Month.  \\\n",
       "0  1962-06-13 00:00:00            Not guilty                       NaN   \n",
       "1  1961-10-23 00:00:00            Discharged                       NaN   \n",
       "2  1961-09-19 00:00:00  Charges WD--Resigned                       NaN   \n",
       "3  1961-10-23 00:00:00            Discharged                       NaN   \n",
       "4  1962-02-16 00:00:00            Discharged                       NaN   \n",
       "\n",
       "  Recommended.Suspension  \n",
       "0                    NaN  \n",
       "1                    NaN  \n",
       "2                    NaN  \n",
       "3                    NaN  \n",
       "4                    NaN  "
      ]
     },
     "execution_count": 2,
     "metadata": {},
     "output_type": "execute_result"
    }
   ],
   "source": [
    "df.head()"
   ]
  },
  {
   "cell_type": "code",
   "execution_count": 3,
   "metadata": {},
   "outputs": [
    {
     "data": {
      "text/plain": [
       "array(['Not guilty', 'Discharged', 'Charges WD--Resigned', 'Suspended',\n",
       "       nan, 'Charges WD--Other', 'WDD', 'SET Suspended', 'Dismissed',\n",
       "       'Not Guilty', 'Reprimanded'], dtype=object)"
      ]
     },
     "execution_count": 3,
     "metadata": {},
     "output_type": "execute_result"
    }
   ],
   "source": [
    "df['PB.Decision'].unique()"
   ]
  },
  {
   "cell_type": "code",
   "execution_count": 6,
   "metadata": {},
   "outputs": [
    {
     "name": "stdout",
     "output_type": "stream",
     "text": [
      "(37, 10)\n",
      "     Case.NO  Filed.Date  Last.Name First.Name  Star CRID  \\\n",
      "64        65  1962-11-13    Withall     Albert   NaN  NaN   \n",
      "125      126  1964-04-16    Lutchen      Frank   NaN  NaN   \n",
      "375      376         NaN   ROBINSON    RENAULT   NaN  NaN   \n",
      "638      639  1972-11-28   ROBINSON    RENAULT   NaN  NaN   \n",
      "845      846  1975-06-27  Roudebush      James   NaN  NaN   \n",
      "\n",
      "        PB.Decision.Date PB.Decision Ordered.Suspension.Month.  \\\n",
      "64                   NaN         NaN                       NaN   \n",
      "125  1964-07-13 00:00:00         NaN                       NaN   \n",
      "375                  NaN         NaN                       NaN   \n",
      "638                  NaN         NaN                       NaN   \n",
      "845  1975-11-14 00:00:00         NaN                       NaN   \n",
      "\n",
      "    Recommended.Suspension  \n",
      "64                     NaN  \n",
      "125                    NaN  \n",
      "375                    NaN  \n",
      "638                    NaN  \n",
      "845                    NaN  \n",
      "      Case.NO  Filed.Date Last.Name First.Name     Star     CRID  \\\n",
      "2924     2925  2017-01-11    Walker       Clay  10774.0  1079480   \n",
      "2925     2926  2017-01-19     Smith     Daniel  13941.0  1060844   \n",
      "2926     2927  2017-01-30   Sanchez    Michael  17414.0  1075057   \n",
      "2927     2928  2017-02-02     Gaeta      Jaime  17317.0  1073693   \n",
      "2928     2929  2017-02-02   Matheos      Harry  21386.0  1073693   \n",
      "\n",
      "     PB.Decision.Date PB.Decision Ordered.Suspension.Month.  \\\n",
      "2924              NaN         NaN                       NaN   \n",
      "2925              NaN         NaN                       NaN   \n",
      "2926              NaN         NaN                       NaN   \n",
      "2927              NaN         NaN                       NaN   \n",
      "2928              NaN         NaN                       NaN   \n",
      "\n",
      "     Recommended.Suspension  \n",
      "2924                    NaN  \n",
      "2925                    NaN  \n",
      "2926                    NaN  \n",
      "2927                    NaN  \n",
      "2928                    NaN  \n"
     ]
    }
   ],
   "source": [
    "print(df[df['PB.Decision'].isnull()].shape)\n",
    "print(df[df['PB.Decision'].isnull()].head())\n",
    "print(df[df['PB.Decision'].isnull()].tail())"
   ]
  },
  {
   "cell_type": "code",
   "execution_count": 8,
   "metadata": {},
   "outputs": [
    {
     "name": "stdout",
     "output_type": "stream",
     "text": [
      "(2722, 10)\n",
      "(207, 10)\n"
     ]
    }
   ],
   "source": [
    "print(df[df['Star'].isnull()].shape)\n",
    "print(df[df['Star'].notnull()].shape)"
   ]
  },
  {
   "cell_type": "code",
   "execution_count": 9,
   "metadata": {},
   "outputs": [
    {
     "name": "stdout",
     "output_type": "stream",
     "text": [
      "(852, 10)\n",
      "(2077, 10)\n"
     ]
    }
   ],
   "source": [
    "print(df[df['CRID'].isnull()].shape)\n",
    "print(df[df['CRID'].notnull()].shape)"
   ]
  }
 ],
 "metadata": {
  "kernelspec": {
   "display_name": "Python 3",
   "language": "python",
   "name": "python3"
  },
  "language_info": {
   "codemirror_mode": {
    "name": "ipython",
    "version": 3
   },
   "file_extension": ".py",
   "mimetype": "text/x-python",
   "name": "python",
   "nbconvert_exporter": "python",
   "pygments_lexer": "ipython3",
   "version": "3.6.2"
  }
 },
 "nbformat": 4,
 "nbformat_minor": 2
}
