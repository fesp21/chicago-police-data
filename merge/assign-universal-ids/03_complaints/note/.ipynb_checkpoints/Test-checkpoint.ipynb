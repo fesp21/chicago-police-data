{
 "cells": [
  {
   "cell_type": "code",
   "execution_count": 17,
   "metadata": {
    "collapsed": true
   },
   "outputs": [],
   "source": [
    "import pandas as pd\n",
    "from assign_unique_ids_functions import *\n",
    "from merge_functions import *\n",
    "pd.options.display.max_columns = 100"
   ]
  },
  {
   "cell_type": "code",
   "execution_count": 18,
   "metadata": {},
   "outputs": [
    {
     "name": "stderr",
     "output_type": "stream",
     "text": [
      "/Users/invinst/anaconda3/lib/python3.6/site-packages/IPython/core/interactiveshell.py:2698: DtypeWarning: Columns (8) have mixed types. Specify dtype option on import or set low_memory=False.\n",
      "  interactivity=interactivity, compiler=compiler, result=result)\n"
     ]
    }
   ],
   "source": [
    "prof = pd.read_csv('../input/officer-profiles.csv.gz')\n",
    "ref = pd.read_csv('../input/officer-reference.csv.gz')"
   ]
  },
  {
   "cell_type": "code",
   "execution_count": 19,
   "metadata": {
    "collapsed": true
   },
   "outputs": [],
   "source": [
    "acc = pd.read_csv('../input/accused_demographics.csv.gz')"
   ]
  },
  {
   "cell_type": "code",
   "execution_count": 20,
   "metadata": {},
   "outputs": [
    {
     "name": "stdout",
     "output_type": "stream",
     "text": [
      "1431 Matches on \n",
      "['Current.Unit', 'Suffix.Name', 'Race', 'Gender', 'Middle.Initial', 'Birth.Year', 'Appointed.Date', 'Last.Name', 'First.Name'] columns\n",
      "1 Matches on \n",
      "['Current.Unit', 'Suffix.Name', 'Race', 'Gender', 'Middle.Initial', 'Birth.Year', 'Appointed.Date', 'F4LN', 'First.Name'] columns\n",
      "9160 Matches on \n",
      "['Current.Unit', 'Suffix.Name', 'Race', 'Gender', 'Birth.Year', 'Appointed.Date', 'Last.Name', 'First.Name'] columns\n",
      "1 Matches on \n",
      "['Current.Unit', 'Suffix.Name', 'Race', 'Gender', 'Birth.Year', 'Appointed.Date', 'F4LN', 'First.Name'] columns\n",
      "948 Matches on \n",
      "['Current.Unit', 'Suffix.Name', 'Gender', 'Middle.Initial', 'Birth.Year', 'Appointed.Date', 'Last.Name', 'First.Name'] columns\n",
      "1138 Matches on \n",
      "['Current.Unit', 'Suffix.Name', 'Gender', 'Birth.Year', 'Appointed.Date', 'Last.Name', 'First.Name'] columns\n",
      "388 Matches on \n",
      "['Suffix.Name', 'Race', 'Gender', 'Middle.Initial', 'Birth.Year', 'Appointed.Date', 'Last.Name', 'First.Name'] columns\n",
      "2378 Matches on \n",
      "['Suffix.Name', 'Race', 'Gender', 'Birth.Year', 'Appointed.Date', 'Last.Name', 'First.Name'] columns\n",
      "1 Matches on \n",
      "['Suffix.Name', 'Race', 'Gender', 'Birth.Year', 'Appointed.Date', 'F4LN', 'First.Name'] columns\n",
      "221 Matches on \n",
      "['Suffix.Name', 'Gender', 'Middle.Initial', 'Birth.Year', 'Appointed.Date', 'Last.Name', 'First.Name'] columns\n",
      "341 Matches on \n",
      "['Suffix.Name', 'Gender', 'Birth.Year', 'Appointed.Date', 'Last.Name', 'First.Name'] columns\n",
      "2 Matches on \n",
      "['Current.Unit', 'Suffix.Name', 'Race', 'Gender', 'Middle.Initial', 'Birth.Year', 'Appointed.Date', 'First.Name'] columns\n",
      "5 Matches on \n",
      "['Current.Unit', 'Suffix.Name', 'Race', 'Gender', 'Birth.Year', 'Appointed.Date', 'First.Name'] columns\n",
      "1 Matches on \n",
      "['Current.Unit', 'Suffix.Name', 'Gender', 'Middle.Initial', 'Birth.Year', 'Appointed.Date', 'First.Name'] columns\n",
      "1 Matches on \n",
      "['Current.Unit', 'Suffix.Name', 'Gender', 'Birth.Year', 'Appointed.Date', 'First.Name'] columns\n",
      "1 Matches on \n",
      "['Suffix.Name', 'Race', 'Gender', 'Middle.Initial', 'Birth.Year', 'Appointed.Date', 'F4FN'] columns\n",
      "16018 Total Merged. 50.03% of DF1 and 99.98% of DF2 Merged.\n",
      "15998 Unmerged in DF1. 49.97% Unmerged.\n",
      "3 Unmerged in DF2. 0.02% Unmerged.\n"
     ]
    }
   ],
   "source": [
    "atr_dict = append_to_reference(sub_df=acc, ref_df=ref, profile_df=prof, print_merging=True, return_unmatched=True,\n",
    "                              no_match_cols=['Last.Name'])"
   ]
  },
  {
   "cell_type": "code",
   "execution_count": 21,
   "metadata": {
    "collapsed": true
   },
   "outputs": [],
   "source": [
    "um1 = atr_dict['UM1']\n",
    "um2 = atr_dict['UM2']"
   ]
  },
  {
   "cell_type": "code",
   "execution_count": 22,
   "metadata": {},
   "outputs": [
    {
     "data": {
      "text/html": [
       "<div>\n",
       "<style>\n",
       "    .dataframe thead tr:only-child th {\n",
       "        text-align: right;\n",
       "    }\n",
       "\n",
       "    .dataframe thead th {\n",
       "        text-align: left;\n",
       "    }\n",
       "\n",
       "    .dataframe tbody tr th {\n",
       "        vertical-align: top;\n",
       "    }\n",
       "</style>\n",
       "<table border=\"1\" class=\"dataframe\">\n",
       "  <thead>\n",
       "    <tr style=\"text-align: right;\">\n",
       "      <th></th>\n",
       "      <th>accused_ID</th>\n",
       "      <th>Appointed.Date</th>\n",
       "      <th>Last.Name</th>\n",
       "      <th>F4FN</th>\n",
       "      <th>Suffix.Name</th>\n",
       "      <th>Race</th>\n",
       "      <th>First.Name</th>\n",
       "      <th>Gender</th>\n",
       "      <th>Birth.Year</th>\n",
       "      <th>Middle.Initial</th>\n",
       "      <th>Current.Unit</th>\n",
       "      <th>F4LN</th>\n",
       "    </tr>\n",
       "  </thead>\n",
       "  <tbody>\n",
       "    <tr>\n",
       "      <th>7768</th>\n",
       "      <td>14393</td>\n",
       "      <td>1999-03-08</td>\n",
       "      <td>LACASACALIZ</td>\n",
       "      <td>SUSA</td>\n",
       "      <td>NaN</td>\n",
       "      <td>WHITE</td>\n",
       "      <td>SUSANA</td>\n",
       "      <td>FEMALE</td>\n",
       "      <td>1964</td>\n",
       "      <td>NaN</td>\n",
       "      <td>376.0</td>\n",
       "      <td>LACA</td>\n",
       "    </tr>\n",
       "    <tr>\n",
       "      <th>9246</th>\n",
       "      <td>9231</td>\n",
       "      <td>2000-09-11</td>\n",
       "      <td>CONTRERAS</td>\n",
       "      <td>LUIS</td>\n",
       "      <td>NaN</td>\n",
       "      <td>WHITE</td>\n",
       "      <td>LUIS</td>\n",
       "      <td>MALE</td>\n",
       "      <td>1968</td>\n",
       "      <td>NaN</td>\n",
       "      <td>376.0</td>\n",
       "      <td>CONT</td>\n",
       "    </tr>\n",
       "    <tr>\n",
       "      <th>15030</th>\n",
       "      <td>5688</td>\n",
       "      <td>2012-10-05</td>\n",
       "      <td>JUDEH</td>\n",
       "      <td>JAME</td>\n",
       "      <td>NaN</td>\n",
       "      <td>HISPANIC</td>\n",
       "      <td>JAMEL</td>\n",
       "      <td>MALE</td>\n",
       "      <td>1983</td>\n",
       "      <td>NaN</td>\n",
       "      <td>44.0</td>\n",
       "      <td>JUDE</td>\n",
       "    </tr>\n",
       "  </tbody>\n",
       "</table>\n",
       "</div>"
      ],
      "text/plain": [
       "       accused_ID Appointed.Date    Last.Name  F4FN Suffix.Name      Race  \\\n",
       "7768        14393     1999-03-08  LACASACALIZ  SUSA         NaN     WHITE   \n",
       "9246         9231     2000-09-11    CONTRERAS  LUIS         NaN     WHITE   \n",
       "15030        5688     2012-10-05        JUDEH  JAME         NaN  HISPANIC   \n",
       "\n",
       "      First.Name  Gender  Birth.Year Middle.Initial  Current.Unit  F4LN  \n",
       "7768      SUSANA  FEMALE        1964            NaN         376.0  LACA  \n",
       "9246        LUIS    MALE        1968            NaN         376.0  CONT  \n",
       "15030      JAMEL    MALE        1983            NaN          44.0  JUDE  "
      ]
     },
     "execution_count": 22,
     "metadata": {},
     "output_type": "execute_result"
    }
   ],
   "source": [
    "um2"
   ]
  },
  {
   "cell_type": "code",
   "execution_count": 23,
   "metadata": {},
   "outputs": [
    {
     "name": "stderr",
     "output_type": "stream",
     "text": [
      "/Users/invinst/anaconda3/lib/python3.6/site-packages/ipykernel_launcher.py:1: UserWarning: Boolean Series key will be reindexed to match DataFrame index.\n",
      "  \"\"\"Entry point for launching an IPython kernel.\n"
     ]
    },
    {
     "data": {
      "text/html": [
       "<div>\n",
       "<style>\n",
       "    .dataframe thead tr:only-child th {\n",
       "        text-align: right;\n",
       "    }\n",
       "\n",
       "    .dataframe thead th {\n",
       "        text-align: left;\n",
       "    }\n",
       "\n",
       "    .dataframe tbody tr th {\n",
       "        vertical-align: top;\n",
       "    }\n",
       "</style>\n",
       "<table border=\"1\" class=\"dataframe\">\n",
       "  <thead>\n",
       "    <tr style=\"text-align: right;\">\n",
       "      <th></th>\n",
       "      <th>UID</th>\n",
       "      <th>Middle.Initial2</th>\n",
       "      <th>Star8</th>\n",
       "      <th>Star6</th>\n",
       "      <th>all-sworn_ID</th>\n",
       "      <th>Appointed.Date</th>\n",
       "      <th>Star2</th>\n",
       "      <th>Race</th>\n",
       "      <th>Star9</th>\n",
       "      <th>ase-units_ID</th>\n",
       "      <th>Star10</th>\n",
       "      <th>Star4</th>\n",
       "      <th>Current.Unit</th>\n",
       "      <th>Middle.Initial</th>\n",
       "      <th>Birth.Year</th>\n",
       "      <th>Star1</th>\n",
       "      <th>Last.Name</th>\n",
       "      <th>Current.Age</th>\n",
       "      <th>all-sworn-units_ID</th>\n",
       "      <th>all-members_ID</th>\n",
       "      <th>Suffix.Name</th>\n",
       "      <th>Star5</th>\n",
       "      <th>Star3</th>\n",
       "      <th>Star7</th>\n",
       "      <th>Gender</th>\n",
       "      <th>First.Name</th>\n",
       "    </tr>\n",
       "  </thead>\n",
       "  <tbody>\n",
       "    <tr>\n",
       "      <th>1258</th>\n",
       "      <td>1259</td>\n",
       "      <td>NaN</td>\n",
       "      <td>NaN</td>\n",
       "      <td>NaN</td>\n",
       "      <td>31998.0</td>\n",
       "      <td>2009-12-16</td>\n",
       "      <td>NaN</td>\n",
       "      <td>WHITE</td>\n",
       "      <td>NaN</td>\n",
       "      <td>1238.0</td>\n",
       "      <td>NaN</td>\n",
       "      <td>NaN</td>\n",
       "      <td>5.0</td>\n",
       "      <td>A</td>\n",
       "      <td>1983.0</td>\n",
       "      <td>10927.0</td>\n",
       "      <td>BANSLEY</td>\n",
       "      <td>32.0</td>\n",
       "      <td>31998.0</td>\n",
       "      <td>31917.0</td>\n",
       "      <td>NaN</td>\n",
       "      <td>NaN</td>\n",
       "      <td>NaN</td>\n",
       "      <td>NaN</td>\n",
       "      <td>MALE</td>\n",
       "      <td>JAMES</td>\n",
       "    </tr>\n",
       "    <tr>\n",
       "      <th>1259</th>\n",
       "      <td>1260</td>\n",
       "      <td>NaN</td>\n",
       "      <td>NaN</td>\n",
       "      <td>NaN</td>\n",
       "      <td>31999.0</td>\n",
       "      <td>2009-12-16</td>\n",
       "      <td>NaN</td>\n",
       "      <td>WHITE</td>\n",
       "      <td>NaN</td>\n",
       "      <td>1239.0</td>\n",
       "      <td>NaN</td>\n",
       "      <td>NaN</td>\n",
       "      <td>4.0</td>\n",
       "      <td>H</td>\n",
       "      <td>1983.0</td>\n",
       "      <td>8791.0</td>\n",
       "      <td>BANSLEY</td>\n",
       "      <td>33.0</td>\n",
       "      <td>31999.0</td>\n",
       "      <td>31918.0</td>\n",
       "      <td>NaN</td>\n",
       "      <td>NaN</td>\n",
       "      <td>NaN</td>\n",
       "      <td>NaN</td>\n",
       "      <td>MALE</td>\n",
       "      <td>JAMES</td>\n",
       "    </tr>\n",
       "  </tbody>\n",
       "</table>\n",
       "</div>"
      ],
      "text/plain": [
       "       UID Middle.Initial2  Star8  Star6  all-sworn_ID Appointed.Date  Star2  \\\n",
       "1258  1259             NaN    NaN    NaN       31998.0     2009-12-16    NaN   \n",
       "1259  1260             NaN    NaN    NaN       31999.0     2009-12-16    NaN   \n",
       "\n",
       "       Race  Star9  ase-units_ID  Star10  Star4  Current.Unit Middle.Initial  \\\n",
       "1258  WHITE    NaN        1238.0     NaN    NaN           5.0              A   \n",
       "1259  WHITE    NaN        1239.0     NaN    NaN           4.0              H   \n",
       "\n",
       "      Birth.Year    Star1 Last.Name  Current.Age  all-sworn-units_ID  \\\n",
       "1258      1983.0  10927.0   BANSLEY         32.0             31998.0   \n",
       "1259      1983.0   8791.0   BANSLEY         33.0             31999.0   \n",
       "\n",
       "      all-members_ID Suffix.Name  Star5  Star3  Star7 Gender First.Name  \n",
       "1258         31917.0         NaN    NaN    NaN    NaN   MALE      JAMES  \n",
       "1259         31918.0         NaN    NaN    NaN    NaN   MALE      JAMES  "
      ]
     },
     "execution_count": 23,
     "metadata": {},
     "output_type": "execute_result"
    }
   ],
   "source": [
    "prof[prof['First.Name'] == 'JAMES'][prof['Last.Name']=='BANSLEY']"
   ]
  },
  {
   "cell_type": "code",
   "execution_count": 24,
   "metadata": {
    "collapsed": true
   },
   "outputs": [],
   "source": [
    "wit = pd.read_csv('../input/witnesses_demographics.csv.gz')"
   ]
  },
  {
   "cell_type": "code",
   "execution_count": 25,
   "metadata": {
    "collapsed": true
   },
   "outputs": [],
   "source": [
    "# Lots of problems in this file\n",
    "#atr_dict = append_to_reference(sub_df=wit, ref_df=ref, profile_df=prof, print_merging=True, return_unmatched=True,\n",
    "                              #no_match_cols=['Last.Name'])"
   ]
  },
  {
   "cell_type": "code",
   "execution_count": null,
   "metadata": {
    "collapsed": true
   },
   "outputs": [],
   "source": [
    "inv = pd.read_csv('../input/investigators_demographics.csv.gz')"
   ]
  }
 ],
 "metadata": {
  "kernelspec": {
   "display_name": "Python 3",
   "language": "python",
   "name": "python3"
  },
  "language_info": {
   "codemirror_mode": {
    "name": "ipython",
    "version": 3
   },
   "file_extension": ".py",
   "mimetype": "text/x-python",
   "name": "python",
   "nbconvert_exporter": "python",
   "pygments_lexer": "ipython3",
   "version": "3.6.2"
  }
 },
 "nbformat": 4,
 "nbformat_minor": 2
}
