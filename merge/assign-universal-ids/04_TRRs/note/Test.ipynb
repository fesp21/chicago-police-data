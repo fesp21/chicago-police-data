{
 "cells": [
  {
   "cell_type": "code",
   "execution_count": 1,
   "metadata": {
    "collapsed": true
   },
   "outputs": [],
   "source": [
    "import pandas as pd\n",
    "from assign_unique_ids_functions import *\n",
    "from merge_functions import *\n",
    "pd.options.display.max_columns = 1000"
   ]
  },
  {
   "cell_type": "code",
   "execution_count": 2,
   "metadata": {},
   "outputs": [
    {
     "name": "stderr",
     "output_type": "stream",
     "text": [
      "/Users/invinst/anaconda3/lib/python3.6/site-packages/IPython/core/interactiveshell.py:2698: DtypeWarning: Columns (3,4,11) have mixed types. Specify dtype option on import or set low_memory=False.\n",
      "  interactivity=interactivity, compiler=compiler, result=result)\n"
     ]
    }
   ],
   "source": [
    "prof = pd.read_csv('../input/officer-profiles.csv.gz')\n",
    "ref = pd.read_csv('../input/officer-reference.csv.gz')"
   ]
  },
  {
   "cell_type": "code",
   "execution_count": 3,
   "metadata": {
    "collapsed": true
   },
   "outputs": [],
   "source": [
    "trro = pd.read_csv('../input/trr-officers_demographics.csv.gz')"
   ]
  },
  {
   "cell_type": "code",
   "execution_count": 17,
   "metadata": {},
   "outputs": [
    {
     "name": "stdout",
     "output_type": "stream",
     "text": [
      "1 Matches on \n",
      "['Suffix.Name', 'Race', 'Gender', 'Middle.Initial', 'Appointed.Date', 'Last.Name', 'First.Name', 'Star7'] columns\n",
      "2 Matches on \n",
      "['Suffix.Name', 'Race', 'Gender', 'Middle.Initial', 'Appointed.Date', 'Last.Name', 'First.Name', 'Star6'] columns\n",
      "11 Matches on \n",
      "['Suffix.Name', 'Race', 'Gender', 'Middle.Initial', 'Appointed.Date', 'Last.Name', 'First.Name', 'Star5'] columns\n",
      "21 Matches on \n",
      "['Suffix.Name', 'Race', 'Gender', 'Middle.Initial', 'Appointed.Date', 'Last.Name', 'First.Name', 'Star4'] columns\n",
      "74 Matches on \n",
      "['Suffix.Name', 'Race', 'Gender', 'Middle.Initial', 'Appointed.Date', 'Last.Name', 'First.Name', 'Star3'] columns\n",
      "289 Matches on \n",
      "['Suffix.Name', 'Race', 'Gender', 'Middle.Initial', 'Appointed.Date', 'Last.Name', 'First.Name', 'Star2'] columns\n",
      "1633 Matches on \n",
      "['Suffix.Name', 'Race', 'Gender', 'Middle.Initial', 'Appointed.Date', 'Last.Name', 'First.Name', 'Star1'] columns\n",
      "1 Matches on \n",
      "['Suffix.Name', 'Race', 'Gender', 'Middle.Initial', 'Appointed.Date', 'Last.Name', 'First.Name', 'Current.Star'] columns\n",
      "1 Matches on \n",
      "['Suffix.Name', 'Race', 'Gender', 'Appointed.Date', 'Last.Name', 'First.Name', 'Star9'] columns\n",
      "3 Matches on \n",
      "['Suffix.Name', 'Race', 'Gender', 'Appointed.Date', 'Last.Name', 'First.Name', 'Star7'] columns\n",
      "11 Matches on \n",
      "['Suffix.Name', 'Race', 'Gender', 'Appointed.Date', 'Last.Name', 'First.Name', 'Star6'] columns\n",
      "45 Matches on \n",
      "['Suffix.Name', 'Race', 'Gender', 'Appointed.Date', 'Last.Name', 'First.Name', 'Star5'] columns\n",
      "169 Matches on \n",
      "['Suffix.Name', 'Race', 'Gender', 'Appointed.Date', 'Last.Name', 'First.Name', 'Star4'] columns\n",
      "483 Matches on \n",
      "['Suffix.Name', 'Race', 'Gender', 'Appointed.Date', 'Last.Name', 'First.Name', 'Star3'] columns\n",
      "1431 Matches on \n",
      "['Suffix.Name', 'Race', 'Gender', 'Appointed.Date', 'Last.Name', 'First.Name', 'Star2'] columns\n",
      "1 Matches on \n",
      "['Suffix.Name', 'Race', 'Gender', 'Appointed.Date', 'Last.Name', 'First.Name', 'Star10'] columns\n",
      "6603 Matches on \n",
      "['Suffix.Name', 'Race', 'Gender', 'Appointed.Date', 'Last.Name', 'First.Name', 'Star1'] columns\n",
      "1 Matches on \n",
      "['Suffix.Name', 'Race', 'Gender', 'Appointed.Date', 'Last.Name', 'First.Name', 'Current.Star'] columns\n",
      "1 Matches on \n",
      "['Suffix.Name', 'Race', 'Gender', 'Appointed.Date', 'F4LN', 'First.Name', 'Star1'] columns\n",
      "1 Matches on \n",
      "['Suffix.Name', 'Gender', 'Appointed.Date', 'Last.Name', 'First.Name', 'Star1'] columns\n",
      "3 Matches on \n",
      "['Suffix.Name', 'Race', 'Gender', 'Middle.Initial', 'Appointed.Date', 'First.Name', 'Star1'] columns\n",
      "2 Matches on \n",
      "['Suffix.Name', 'Race', 'Gender', 'Appointed.Date', 'First.Name', 'Star2'] columns\n",
      "3 Matches on \n",
      "['Suffix.Name', 'Race', 'Gender', 'Appointed.Date', 'First.Name', 'Star1'] columns\n",
      "4 Matches on \n",
      "['Suffix.Name', 'Race', 'Gender', 'Appointed.Date', 'Last.Name', 'First.Name'] columns\n",
      "2 Matches on \n",
      "['Suffix.Name', 'Gender', 'Middle.Initial', 'Appointed.Date', 'Last.Name', 'First.Name'] columns\n",
      "10796 Total Merged. 33.71% of DF1 and 99.98% of DF2 Merged.\n",
      "21230 Unmerged in DF1. 66.29% Unmerged.\n",
      "2 Unmerged in DF2. 0.02% Unmerged.\n"
     ]
    }
   ],
   "source": [
    "atr_dict = append_to_reference(sub_df=trro, ref_df=ref, profile_df=prof, print_merging=True, return_unmatched=True,\n",
    "                              no_match_cols=['Last.Name', 'Current.Star'], expand_stars=True)"
   ]
  },
  {
   "cell_type": "code",
   "execution_count": 18,
   "metadata": {
    "collapsed": true
   },
   "outputs": [],
   "source": [
    "um1 = atr_dict['UM1']\n",
    "um2 = atr_dict['UM2']"
   ]
  },
  {
   "cell_type": "code",
   "execution_count": 19,
   "metadata": {},
   "outputs": [
    {
     "data": {
      "text/html": [
       "<div>\n",
       "<style>\n",
       "    .dataframe thead tr:only-child th {\n",
       "        text-align: right;\n",
       "    }\n",
       "\n",
       "    .dataframe thead th {\n",
       "        text-align: left;\n",
       "    }\n",
       "\n",
       "    .dataframe tbody tr th {\n",
       "        vertical-align: top;\n",
       "    }\n",
       "</style>\n",
       "<table border=\"1\" class=\"dataframe\">\n",
       "  <thead>\n",
       "    <tr style=\"text-align: right;\">\n",
       "      <th></th>\n",
       "      <th>trr-officers_ID</th>\n",
       "      <th>Appointed.Date</th>\n",
       "      <th>Star7</th>\n",
       "      <th>Current.Star</th>\n",
       "      <th>Star8</th>\n",
       "      <th>Suffix.Name</th>\n",
       "      <th>Star1</th>\n",
       "      <th>Middle.Initial</th>\n",
       "      <th>Star2</th>\n",
       "      <th>Star3</th>\n",
       "      <th>F4LN</th>\n",
       "      <th>Last.Name</th>\n",
       "      <th>Race</th>\n",
       "      <th>Star5</th>\n",
       "      <th>Star4</th>\n",
       "      <th>Gender</th>\n",
       "      <th>F4FN</th>\n",
       "      <th>Star6</th>\n",
       "      <th>Star9</th>\n",
       "      <th>First.Name</th>\n",
       "      <th>Star10</th>\n",
       "    </tr>\n",
       "  </thead>\n",
       "  <tbody>\n",
       "    <tr>\n",
       "      <th>3968</th>\n",
       "      <td>3995</td>\n",
       "      <td>2007-03-16</td>\n",
       "      <td>18.0</td>\n",
       "      <td>18.0</td>\n",
       "      <td>18.0</td>\n",
       "      <td>NaN</td>\n",
       "      <td>18.0</td>\n",
       "      <td>NaN</td>\n",
       "      <td>18.0</td>\n",
       "      <td>18.0</td>\n",
       "      <td>KRUE</td>\n",
       "      <td>KRUEGER</td>\n",
       "      <td>WHITE</td>\n",
       "      <td>18.0</td>\n",
       "      <td>18.0</td>\n",
       "      <td>MALE</td>\n",
       "      <td>ALBE</td>\n",
       "      <td>18.0</td>\n",
       "      <td>18.0</td>\n",
       "      <td>ALBERT</td>\n",
       "      <td>18.0</td>\n",
       "    </tr>\n",
       "    <tr>\n",
       "      <th>4091</th>\n",
       "      <td>4121</td>\n",
       "      <td>1981-03-02</td>\n",
       "      <td>30109.0</td>\n",
       "      <td>30109.0</td>\n",
       "      <td>30109.0</td>\n",
       "      <td>NaN</td>\n",
       "      <td>30109.0</td>\n",
       "      <td>NaN</td>\n",
       "      <td>30109.0</td>\n",
       "      <td>30109.0</td>\n",
       "      <td>GALA</td>\n",
       "      <td>GALATI</td>\n",
       "      <td>WHITE</td>\n",
       "      <td>30109.0</td>\n",
       "      <td>30109.0</td>\n",
       "      <td>FEMALE</td>\n",
       "      <td>SHAR</td>\n",
       "      <td>30109.0</td>\n",
       "      <td>30109.0</td>\n",
       "      <td>SHARON</td>\n",
       "      <td>30109.0</td>\n",
       "    </tr>\n",
       "  </tbody>\n",
       "</table>\n",
       "</div>"
      ],
      "text/plain": [
       "      trr-officers_ID Appointed.Date    Star7  Current.Star    Star8  \\\n",
       "3968             3995     2007-03-16     18.0          18.0     18.0   \n",
       "4091             4121     1981-03-02  30109.0       30109.0  30109.0   \n",
       "\n",
       "     Suffix.Name    Star1 Middle.Initial    Star2    Star3  F4LN Last.Name  \\\n",
       "3968         NaN     18.0            NaN     18.0     18.0  KRUE   KRUEGER   \n",
       "4091         NaN  30109.0            NaN  30109.0  30109.0  GALA    GALATI   \n",
       "\n",
       "       Race    Star5    Star4  Gender  F4FN    Star6    Star9 First.Name  \\\n",
       "3968  WHITE     18.0     18.0    MALE  ALBE     18.0     18.0     ALBERT   \n",
       "4091  WHITE  30109.0  30109.0  FEMALE  SHAR  30109.0  30109.0     SHARON   \n",
       "\n",
       "       Star10  \n",
       "3968     18.0  \n",
       "4091  30109.0  "
      ]
     },
     "execution_count": 19,
     "metadata": {},
     "output_type": "execute_result"
    }
   ],
   "source": [
    "um2"
   ]
  },
  {
   "cell_type": "code",
   "execution_count": 21,
   "metadata": {
    "collapsed": true
   },
   "outputs": [],
   "source": [
    "trrs = pd.read_csv('../input/trr-statuses_demographics.csv.gz')"
   ]
  },
  {
   "cell_type": "code",
   "execution_count": 24,
   "metadata": {},
   "outputs": [
    {
     "name": "stdout",
     "output_type": "stream",
     "text": [
      "1 Matches on \n",
      "['Suffix.Name', 'Race', 'Gender', 'Middle.Initial', 'Appointed.Date', 'Last.Name', 'First.Name', 'Star7'] columns\n",
      "4 Matches on \n",
      "['Suffix.Name', 'Race', 'Gender', 'Middle.Initial', 'Appointed.Date', 'Last.Name', 'First.Name', 'Star6'] columns\n",
      "8 Matches on \n",
      "['Suffix.Name', 'Race', 'Gender', 'Middle.Initial', 'Appointed.Date', 'Last.Name', 'First.Name', 'Star5'] columns\n",
      "46 Matches on \n",
      "['Suffix.Name', 'Race', 'Gender', 'Middle.Initial', 'Appointed.Date', 'Last.Name', 'First.Name', 'Star4'] columns\n",
      "120 Matches on \n",
      "['Suffix.Name', 'Race', 'Gender', 'Middle.Initial', 'Appointed.Date', 'Last.Name', 'First.Name', 'Star3'] columns\n",
      "350 Matches on \n",
      "['Suffix.Name', 'Race', 'Gender', 'Middle.Initial', 'Appointed.Date', 'Last.Name', 'First.Name', 'Star2'] columns\n",
      "1596 Matches on \n",
      "['Suffix.Name', 'Race', 'Gender', 'Middle.Initial', 'Appointed.Date', 'Last.Name', 'First.Name', 'Star1'] columns\n",
      "1 Matches on \n",
      "['Suffix.Name', 'Race', 'Gender', 'Appointed.Date', 'Last.Name', 'First.Name', 'Star8'] columns\n",
      "5 Matches on \n",
      "['Suffix.Name', 'Race', 'Gender', 'Appointed.Date', 'Last.Name', 'First.Name', 'Star7'] columns\n",
      "12 Matches on \n",
      "['Suffix.Name', 'Race', 'Gender', 'Appointed.Date', 'Last.Name', 'First.Name', 'Star6'] columns\n",
      "82 Matches on \n",
      "['Suffix.Name', 'Race', 'Gender', 'Appointed.Date', 'Last.Name', 'First.Name', 'Star5'] columns\n",
      "281 Matches on \n",
      "['Suffix.Name', 'Race', 'Gender', 'Appointed.Date', 'Last.Name', 'First.Name', 'Star4'] columns\n",
      "758 Matches on \n",
      "['Suffix.Name', 'Race', 'Gender', 'Appointed.Date', 'Last.Name', 'First.Name', 'Star3'] columns\n",
      "1848 Matches on \n",
      "['Suffix.Name', 'Race', 'Gender', 'Appointed.Date', 'Last.Name', 'First.Name', 'Star2'] columns\n",
      "1 Matches on \n",
      "['Suffix.Name', 'Race', 'Gender', 'Appointed.Date', 'Last.Name', 'First.Name', 'Star10'] columns\n",
      "6342 Matches on \n",
      "['Suffix.Name', 'Race', 'Gender', 'Appointed.Date', 'Last.Name', 'First.Name', 'Star1'] columns\n",
      "1 Matches on \n",
      "['Suffix.Name', 'Race', 'Gender', 'Appointed.Date', 'F4LN', 'First.Name', 'Star1'] columns\n",
      "1 Matches on \n",
      "['Suffix.Name', 'Gender', 'Appointed.Date', 'Last.Name', 'First.Name', 'Star1'] columns\n",
      "3 Matches on \n",
      "['Suffix.Name', 'Race', 'Gender', 'Middle.Initial', 'Appointed.Date', 'First.Name', 'Star1'] columns\n",
      "2 Matches on \n",
      "['Suffix.Name', 'Race', 'Gender', 'Appointed.Date', 'First.Name', 'Star2'] columns\n",
      "3 Matches on \n",
      "['Suffix.Name', 'Race', 'Gender', 'Appointed.Date', 'First.Name', 'Star1'] columns\n",
      "1 Matches on \n",
      "['Suffix.Name', 'Race', 'Gender', 'Appointed.Date', 'Last.Name', 'First.Name'] columns\n",
      "2 Matches on \n",
      "['Suffix.Name', 'Gender', 'Middle.Initial', 'Appointed.Date', 'Last.Name', 'First.Name'] columns\n",
      "1 Matches on \n",
      "['Suffix.Name', 'Middle.Initial', 'Appointed.Date', 'Last.Name', 'First.Name'] columns\n",
      "11469 Total Merged. 35.81% of DF1 and 99.97% of DF2 Merged.\n",
      "20557 Unmerged in DF1. 64.19% Unmerged.\n",
      "3 Unmerged in DF2. 0.03% Unmerged.\n"
     ]
    }
   ],
   "source": [
    "atr_dict = append_to_reference(sub_df=trrs, ref_df=ref, profile_df=prof, print_merging=True, return_unmatched=True,\n",
    "                              no_match_cols=['Last.Name', 'Current.Star'], expand_stars=True)"
   ]
  }
 ],
 "metadata": {
  "kernelspec": {
   "display_name": "Python 3",
   "language": "python",
   "name": "python3"
  },
  "language_info": {
   "codemirror_mode": {
    "name": "ipython",
    "version": 3
   },
   "file_extension": ".py",
   "mimetype": "text/x-python",
   "name": "python",
   "nbconvert_exporter": "python",
   "pygments_lexer": "ipython3",
   "version": "3.6.2"
  }
 },
 "nbformat": 4,
 "nbformat_minor": 2
}
