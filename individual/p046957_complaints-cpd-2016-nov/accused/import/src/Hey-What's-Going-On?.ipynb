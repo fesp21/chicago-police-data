{
 "cells": [
  {
   "cell_type": "code",
   "execution_count": 67,
   "metadata": {},
   "outputs": [
    {
     "name": "stdout",
     "output_type": "stream",
     "text": [
      "8880\n"
     ]
    }
   ],
   "source": [
    "import pandas as pd\n",
    "import numpy as np\n",
    "import os\n",
    "import sys\n",
    "# My original function\n",
    "from ImportFunctions import *\n",
    "\n",
    "input_path = \"../input/\"\n",
    "out_path = \"../output/\"\n",
    "out_file = \"accused.csv\"\n",
    "\n",
    "files = [input_path + f for f in os.listdir(input_path)]\n",
    "\n",
    "data = pd.DataFrame()\n",
    "metadata = pd.DataFrame()\n",
    "\n",
    "for f in files:\n",
    "    df = ReadMessy(f)\n",
    "    df.insert(0, \"CRID\", (df[\"Number:\"]\n",
    "                            .fillna(method='ffill')\n",
    "                            .astype(int)))\n",
    "    df = (df.drop(\"Number:\", axis=1)\n",
    "            .dropna(thresh = len(df.columns.values)-1))\n",
    "    df.columns = [\"CRID\", \"Full.Name\", \"Birth.Year\", \"Gender\", \"Race\", \"Appointed.Date\", \"Current.Unit\", \"Current.Rank\", \"Star\",\"Complaint.Category\", \"Recommended.Finding\", \"Recommended.Discipline\", \"Final.Finding\", \"Final.Discipline\"]\n",
    "    \n",
    "    data = (data\n",
    "            .append(df)\n",
    "            .reset_index(drop=True))\n",
    "\n",
    "    metadata = (metadata\n",
    "                    .append(metadata_dataset(df, f, out_file)\n",
    "                    .reset_index(drop=True)))\n",
    "print(len(data['Full.Name'].unique()))"
   ]
  },
  {
   "cell_type": "code",
   "execution_count": 74,
   "metadata": {},
   "outputs": [
    {
     "name": "stdout",
     "output_type": "stream",
     "text": [
      "../input/p046957 - report 2.1 - identified accused.xls\n"
     ]
    },
    {
     "ename": "KeyError",
     "evalue": "'Unnamed: 2'",
     "output_type": "error",
     "traceback": [
      "\u001b[0;31m---------------------------------------------------------------------------\u001b[0m",
      "\u001b[0;31mKeyError\u001b[0m                                  Traceback (most recent call last)",
      "\u001b[0;32m/Users/invinst/anaconda3/lib/python3.6/site-packages/pandas/core/indexes/base.py\u001b[0m in \u001b[0;36mget_loc\u001b[0;34m(self, key, method, tolerance)\u001b[0m\n\u001b[1;32m   2392\u001b[0m             \u001b[0;32mtry\u001b[0m\u001b[0;34m:\u001b[0m\u001b[0;34m\u001b[0m\u001b[0m\n\u001b[0;32m-> 2393\u001b[0;31m                 \u001b[0;32mreturn\u001b[0m \u001b[0mself\u001b[0m\u001b[0;34m.\u001b[0m\u001b[0m_engine\u001b[0m\u001b[0;34m.\u001b[0m\u001b[0mget_loc\u001b[0m\u001b[0;34m(\u001b[0m\u001b[0mkey\u001b[0m\u001b[0;34m)\u001b[0m\u001b[0;34m\u001b[0m\u001b[0m\n\u001b[0m\u001b[1;32m   2394\u001b[0m             \u001b[0;32mexcept\u001b[0m \u001b[0mKeyError\u001b[0m\u001b[0;34m:\u001b[0m\u001b[0;34m\u001b[0m\u001b[0m\n",
      "\u001b[0;32mpandas/_libs/index.pyx\u001b[0m in \u001b[0;36mpandas._libs.index.IndexEngine.get_loc (pandas/_libs/index.c:5239)\u001b[0;34m()\u001b[0m\n",
      "\u001b[0;32mpandas/_libs/index.pyx\u001b[0m in \u001b[0;36mpandas._libs.index.IndexEngine.get_loc (pandas/_libs/index.c:5085)\u001b[0;34m()\u001b[0m\n",
      "\u001b[0;32mpandas/_libs/hashtable_class_helper.pxi\u001b[0m in \u001b[0;36mpandas._libs.hashtable.PyObjectHashTable.get_item (pandas/_libs/hashtable.c:20405)\u001b[0;34m()\u001b[0m\n",
      "\u001b[0;32mpandas/_libs/hashtable_class_helper.pxi\u001b[0m in \u001b[0;36mpandas._libs.hashtable.PyObjectHashTable.get_item (pandas/_libs/hashtable.c:20359)\u001b[0;34m()\u001b[0m\n",
      "\u001b[0;31mKeyError\u001b[0m: 'Unnamed: 2'",
      "\nDuring handling of the above exception, another exception occurred:\n",
      "\u001b[0;31mKeyError\u001b[0m                                  Traceback (most recent call last)",
      "\u001b[0;32m<ipython-input-74-e733d629b019>\u001b[0m in \u001b[0;36m<module>\u001b[0;34m()\u001b[0m\n\u001b[1;32m     10\u001b[0m     \u001b[0mprint\u001b[0m\u001b[0;34m(\u001b[0m\u001b[0mf\u001b[0m\u001b[0;34m)\u001b[0m\u001b[0;34m\u001b[0m\u001b[0m\n\u001b[1;32m     11\u001b[0m     \u001b[0mtdata\u001b[0m \u001b[0;34m=\u001b[0m \u001b[0mtdata\u001b[0m\u001b[0;34m.\u001b[0m\u001b[0mappend\u001b[0m\u001b[0;34m(\u001b[0m\u001b[0mpd\u001b[0m\u001b[0;34m.\u001b[0m\u001b[0mread_excel\u001b[0m\u001b[0;34m(\u001b[0m\u001b[0mf\u001b[0m\u001b[0;34m,\u001b[0m\u001b[0mskip_rows\u001b[0m\u001b[0;34m=\u001b[0m\u001b[0;36m10\u001b[0m\u001b[0;34m)\u001b[0m\u001b[0;34m)\u001b[0m\u001b[0;34m\u001b[0m\u001b[0m\n\u001b[0;32m---> 12\u001b[0;31m \u001b[0mprint\u001b[0m\u001b[0;34m(\u001b[0m\u001b[0mlen\u001b[0m\u001b[0;34m(\u001b[0m\u001b[0mdata\u001b[0m\u001b[0;34m[\u001b[0m\u001b[0;34m'Unnamed: 2'\u001b[0m\u001b[0;34m]\u001b[0m\u001b[0;34m.\u001b[0m\u001b[0munique\u001b[0m\u001b[0;34m(\u001b[0m\u001b[0;34m)\u001b[0m\u001b[0;34m)\u001b[0m\u001b[0;34m)\u001b[0m\u001b[0;34m\u001b[0m\u001b[0m\n\u001b[0m",
      "\u001b[0;32m/Users/invinst/anaconda3/lib/python3.6/site-packages/pandas/core/frame.py\u001b[0m in \u001b[0;36m__getitem__\u001b[0;34m(self, key)\u001b[0m\n\u001b[1;32m   2060\u001b[0m             \u001b[0;32mreturn\u001b[0m \u001b[0mself\u001b[0m\u001b[0;34m.\u001b[0m\u001b[0m_getitem_multilevel\u001b[0m\u001b[0;34m(\u001b[0m\u001b[0mkey\u001b[0m\u001b[0;34m)\u001b[0m\u001b[0;34m\u001b[0m\u001b[0m\n\u001b[1;32m   2061\u001b[0m         \u001b[0;32melse\u001b[0m\u001b[0;34m:\u001b[0m\u001b[0;34m\u001b[0m\u001b[0m\n\u001b[0;32m-> 2062\u001b[0;31m             \u001b[0;32mreturn\u001b[0m \u001b[0mself\u001b[0m\u001b[0;34m.\u001b[0m\u001b[0m_getitem_column\u001b[0m\u001b[0;34m(\u001b[0m\u001b[0mkey\u001b[0m\u001b[0;34m)\u001b[0m\u001b[0;34m\u001b[0m\u001b[0m\n\u001b[0m\u001b[1;32m   2063\u001b[0m \u001b[0;34m\u001b[0m\u001b[0m\n\u001b[1;32m   2064\u001b[0m     \u001b[0;32mdef\u001b[0m \u001b[0m_getitem_column\u001b[0m\u001b[0;34m(\u001b[0m\u001b[0mself\u001b[0m\u001b[0;34m,\u001b[0m \u001b[0mkey\u001b[0m\u001b[0;34m)\u001b[0m\u001b[0;34m:\u001b[0m\u001b[0;34m\u001b[0m\u001b[0m\n",
      "\u001b[0;32m/Users/invinst/anaconda3/lib/python3.6/site-packages/pandas/core/frame.py\u001b[0m in \u001b[0;36m_getitem_column\u001b[0;34m(self, key)\u001b[0m\n\u001b[1;32m   2067\u001b[0m         \u001b[0;31m# get column\u001b[0m\u001b[0;34m\u001b[0m\u001b[0;34m\u001b[0m\u001b[0m\n\u001b[1;32m   2068\u001b[0m         \u001b[0;32mif\u001b[0m \u001b[0mself\u001b[0m\u001b[0;34m.\u001b[0m\u001b[0mcolumns\u001b[0m\u001b[0;34m.\u001b[0m\u001b[0mis_unique\u001b[0m\u001b[0;34m:\u001b[0m\u001b[0;34m\u001b[0m\u001b[0m\n\u001b[0;32m-> 2069\u001b[0;31m             \u001b[0;32mreturn\u001b[0m \u001b[0mself\u001b[0m\u001b[0;34m.\u001b[0m\u001b[0m_get_item_cache\u001b[0m\u001b[0;34m(\u001b[0m\u001b[0mkey\u001b[0m\u001b[0;34m)\u001b[0m\u001b[0;34m\u001b[0m\u001b[0m\n\u001b[0m\u001b[1;32m   2070\u001b[0m \u001b[0;34m\u001b[0m\u001b[0m\n\u001b[1;32m   2071\u001b[0m         \u001b[0;31m# duplicate columns & possible reduce dimensionality\u001b[0m\u001b[0;34m\u001b[0m\u001b[0;34m\u001b[0m\u001b[0m\n",
      "\u001b[0;32m/Users/invinst/anaconda3/lib/python3.6/site-packages/pandas/core/generic.py\u001b[0m in \u001b[0;36m_get_item_cache\u001b[0;34m(self, item)\u001b[0m\n\u001b[1;32m   1532\u001b[0m         \u001b[0mres\u001b[0m \u001b[0;34m=\u001b[0m \u001b[0mcache\u001b[0m\u001b[0;34m.\u001b[0m\u001b[0mget\u001b[0m\u001b[0;34m(\u001b[0m\u001b[0mitem\u001b[0m\u001b[0;34m)\u001b[0m\u001b[0;34m\u001b[0m\u001b[0m\n\u001b[1;32m   1533\u001b[0m         \u001b[0;32mif\u001b[0m \u001b[0mres\u001b[0m \u001b[0;32mis\u001b[0m \u001b[0;32mNone\u001b[0m\u001b[0;34m:\u001b[0m\u001b[0;34m\u001b[0m\u001b[0m\n\u001b[0;32m-> 1534\u001b[0;31m             \u001b[0mvalues\u001b[0m \u001b[0;34m=\u001b[0m \u001b[0mself\u001b[0m\u001b[0;34m.\u001b[0m\u001b[0m_data\u001b[0m\u001b[0;34m.\u001b[0m\u001b[0mget\u001b[0m\u001b[0;34m(\u001b[0m\u001b[0mitem\u001b[0m\u001b[0;34m)\u001b[0m\u001b[0;34m\u001b[0m\u001b[0m\n\u001b[0m\u001b[1;32m   1535\u001b[0m             \u001b[0mres\u001b[0m \u001b[0;34m=\u001b[0m \u001b[0mself\u001b[0m\u001b[0;34m.\u001b[0m\u001b[0m_box_item_values\u001b[0m\u001b[0;34m(\u001b[0m\u001b[0mitem\u001b[0m\u001b[0;34m,\u001b[0m \u001b[0mvalues\u001b[0m\u001b[0;34m)\u001b[0m\u001b[0;34m\u001b[0m\u001b[0m\n\u001b[1;32m   1536\u001b[0m             \u001b[0mcache\u001b[0m\u001b[0;34m[\u001b[0m\u001b[0mitem\u001b[0m\u001b[0;34m]\u001b[0m \u001b[0;34m=\u001b[0m \u001b[0mres\u001b[0m\u001b[0;34m\u001b[0m\u001b[0m\n",
      "\u001b[0;32m/Users/invinst/anaconda3/lib/python3.6/site-packages/pandas/core/internals.py\u001b[0m in \u001b[0;36mget\u001b[0;34m(self, item, fastpath)\u001b[0m\n\u001b[1;32m   3588\u001b[0m \u001b[0;34m\u001b[0m\u001b[0m\n\u001b[1;32m   3589\u001b[0m             \u001b[0;32mif\u001b[0m \u001b[0;32mnot\u001b[0m \u001b[0misnull\u001b[0m\u001b[0;34m(\u001b[0m\u001b[0mitem\u001b[0m\u001b[0;34m)\u001b[0m\u001b[0;34m:\u001b[0m\u001b[0;34m\u001b[0m\u001b[0m\n\u001b[0;32m-> 3590\u001b[0;31m                 \u001b[0mloc\u001b[0m \u001b[0;34m=\u001b[0m \u001b[0mself\u001b[0m\u001b[0;34m.\u001b[0m\u001b[0mitems\u001b[0m\u001b[0;34m.\u001b[0m\u001b[0mget_loc\u001b[0m\u001b[0;34m(\u001b[0m\u001b[0mitem\u001b[0m\u001b[0;34m)\u001b[0m\u001b[0;34m\u001b[0m\u001b[0m\n\u001b[0m\u001b[1;32m   3591\u001b[0m             \u001b[0;32melse\u001b[0m\u001b[0;34m:\u001b[0m\u001b[0;34m\u001b[0m\u001b[0m\n\u001b[1;32m   3592\u001b[0m                 \u001b[0mindexer\u001b[0m \u001b[0;34m=\u001b[0m \u001b[0mnp\u001b[0m\u001b[0;34m.\u001b[0m\u001b[0marange\u001b[0m\u001b[0;34m(\u001b[0m\u001b[0mlen\u001b[0m\u001b[0;34m(\u001b[0m\u001b[0mself\u001b[0m\u001b[0;34m.\u001b[0m\u001b[0mitems\u001b[0m\u001b[0;34m)\u001b[0m\u001b[0;34m)\u001b[0m\u001b[0;34m[\u001b[0m\u001b[0misnull\u001b[0m\u001b[0;34m(\u001b[0m\u001b[0mself\u001b[0m\u001b[0;34m.\u001b[0m\u001b[0mitems\u001b[0m\u001b[0;34m)\u001b[0m\u001b[0;34m]\u001b[0m\u001b[0;34m\u001b[0m\u001b[0m\n",
      "\u001b[0;32m/Users/invinst/anaconda3/lib/python3.6/site-packages/pandas/core/indexes/base.py\u001b[0m in \u001b[0;36mget_loc\u001b[0;34m(self, key, method, tolerance)\u001b[0m\n\u001b[1;32m   2393\u001b[0m                 \u001b[0;32mreturn\u001b[0m \u001b[0mself\u001b[0m\u001b[0;34m.\u001b[0m\u001b[0m_engine\u001b[0m\u001b[0;34m.\u001b[0m\u001b[0mget_loc\u001b[0m\u001b[0;34m(\u001b[0m\u001b[0mkey\u001b[0m\u001b[0;34m)\u001b[0m\u001b[0;34m\u001b[0m\u001b[0m\n\u001b[1;32m   2394\u001b[0m             \u001b[0;32mexcept\u001b[0m \u001b[0mKeyError\u001b[0m\u001b[0;34m:\u001b[0m\u001b[0;34m\u001b[0m\u001b[0m\n\u001b[0;32m-> 2395\u001b[0;31m                 \u001b[0;32mreturn\u001b[0m \u001b[0mself\u001b[0m\u001b[0;34m.\u001b[0m\u001b[0m_engine\u001b[0m\u001b[0;34m.\u001b[0m\u001b[0mget_loc\u001b[0m\u001b[0;34m(\u001b[0m\u001b[0mself\u001b[0m\u001b[0;34m.\u001b[0m\u001b[0m_maybe_cast_indexer\u001b[0m\u001b[0;34m(\u001b[0m\u001b[0mkey\u001b[0m\u001b[0;34m)\u001b[0m\u001b[0;34m)\u001b[0m\u001b[0;34m\u001b[0m\u001b[0m\n\u001b[0m\u001b[1;32m   2396\u001b[0m \u001b[0;34m\u001b[0m\u001b[0m\n\u001b[1;32m   2397\u001b[0m         \u001b[0mindexer\u001b[0m \u001b[0;34m=\u001b[0m \u001b[0mself\u001b[0m\u001b[0;34m.\u001b[0m\u001b[0mget_indexer\u001b[0m\u001b[0;34m(\u001b[0m\u001b[0;34m[\u001b[0m\u001b[0mkey\u001b[0m\u001b[0;34m]\u001b[0m\u001b[0;34m,\u001b[0m \u001b[0mmethod\u001b[0m\u001b[0;34m=\u001b[0m\u001b[0mmethod\u001b[0m\u001b[0;34m,\u001b[0m \u001b[0mtolerance\u001b[0m\u001b[0;34m=\u001b[0m\u001b[0mtolerance\u001b[0m\u001b[0;34m)\u001b[0m\u001b[0;34m\u001b[0m\u001b[0m\n",
      "\u001b[0;32mpandas/_libs/index.pyx\u001b[0m in \u001b[0;36mpandas._libs.index.IndexEngine.get_loc (pandas/_libs/index.c:5239)\u001b[0;34m()\u001b[0m\n",
      "\u001b[0;32mpandas/_libs/index.pyx\u001b[0m in \u001b[0;36mpandas._libs.index.IndexEngine.get_loc (pandas/_libs/index.c:5085)\u001b[0;34m()\u001b[0m\n",
      "\u001b[0;32mpandas/_libs/hashtable_class_helper.pxi\u001b[0m in \u001b[0;36mpandas._libs.hashtable.PyObjectHashTable.get_item (pandas/_libs/hashtable.c:20405)\u001b[0;34m()\u001b[0m\n",
      "\u001b[0;32mpandas/_libs/hashtable_class_helper.pxi\u001b[0m in \u001b[0;36mpandas._libs.hashtable.PyObjectHashTable.get_item (pandas/_libs/hashtable.c:20359)\u001b[0;34m()\u001b[0m\n",
      "\u001b[0;31mKeyError\u001b[0m: 'Unnamed: 2'"
     ]
    }
   ],
   "source": [
    "input_path = \"../input/\"\n",
    "out_path = \"../output/\"\n",
    "out_file = \"accused.csv\"\n",
    "\n",
    "files = [input_path + f for f in os.listdir(input_path)]\n",
    "\n",
    "tdata = pd.DataFrame()\n",
    "metadata = pd.DataFrame()\n",
    "for f in files[:1]:\n",
    "    print(f)\n",
    "    tdata = tdata.append(pd.read_excel(f,skip_rows=10))\n",
    "print(len(data['Unnamed: 2'].unique()))"
   ]
  },
  {
   "cell_type": "code",
   "execution_count": 37,
   "metadata": {},
   "outputs": [],
   "source": [
    "add_skip = 1\n",
    "row_sums = 0\n",
    "for path in files:\n",
    "    df = pd.read_excel(path, rows=20)\n",
    "    col_list = df.columns.tolist()\n",
    "    # if [col if '\\n' in col or len(col) > 40 for col in col_list]:\n",
    "    #   metadata = True\n",
    "    Report_Produced_Date = [x for x in col_list if isinstance(x, datetime.datetime)]\n",
    "    col_list = [x for x in col_list if x not in Report_Produced_Date]\n",
    "    FOIA_Request = [x for x in col_list if 'FOIA' in x][0]\n",
    "\n",
    "    skip = np.where(df.iloc[:,0].str.contains('Number', na=False))[0][0]+add_skip\n",
    "    df = (pd.read_excel(path, skiprows=skip)\n",
    "            .dropna(how='all', axis=0)\n",
    "            .dropna(how='all', axis=1))\n",
    "    df.insert(0, \"CRID\", (df[\"Number:\"]\n",
    "                            .fillna(method='ffill')\n",
    "                            .astype(int)))\n",
    "    df = df.drop(\"Number:\", axis=1)\n",
    "    df = df.dropna(thresh = len(df.columns.values)-1)\n",
    "    row_sums += df.shape[0]\n"
   ]
  },
  {
   "cell_type": "code",
   "execution_count": 38,
   "metadata": {},
   "outputs": [
    {
     "data": {
      "text/plain": [
       "84970"
      ]
     },
     "execution_count": 38,
     "metadata": {},
     "output_type": "execute_result"
    }
   ],
   "source": [
    "row_sums"
   ]
  },
  {
   "cell_type": "code",
   "execution_count": 40,
   "metadata": {},
   "outputs": [
    {
     "name": "stdout",
     "output_type": "stream",
     "text": [
      "10\n"
     ]
    }
   ],
   "source": [
    "path = files[1]\n",
    "df = pd.read_excel(path, rows=20)\n",
    "col_list = df.columns.tolist()\n",
    "Report_Produced_Date = [x for x in col_list if isinstance(x, datetime.datetime)]\n",
    "col_list = [x for x in col_list if x not in Report_Produced_Date]\n",
    "FOIA_Request = [x for x in col_list if 'FOIA' in x][0]\n",
    "skip = np.where(df.iloc[:,0].str.contains('Number', na=False))[0][0]+add_skip\n",
    "print(skip)"
   ]
  },
  {
   "cell_type": "code",
   "execution_count": 59,
   "metadata": {},
   "outputs": [
    {
     "name": "stdout",
     "output_type": "stream",
     "text": [
      "(28064, 16)\n",
      "(28064, 14)\n",
      "(28064, 14)\n",
      "(17414, 14)\n"
     ]
    }
   ],
   "source": [
    "df = pd.read_excel(path, skiprows=skip)\n",
    "print(df.shape)\n",
    "df = df.dropna(how='all', axis=0).dropna(how='all', axis=1)\n",
    "print(df.shape)\n",
    "df.insert(0, \"CRID\", (df[\"Number:\"]\n",
    "                            .fillna(method='ffill')\n",
    "                            .astype(int)))\n",
    "df = df.drop(\"Number:\", axis=1)\n",
    "print(df.shape)\n",
    "df = df.dropna(thresh = len(df.columns.values)-1)\n",
    "print(df.shape)"
   ]
  },
  {
   "cell_type": "code",
   "execution_count": 77,
   "metadata": {},
   "outputs": [
    {
     "name": "stdout",
     "output_type": "stream",
     "text": [
      "Index([                                                                                                  'Bureau of Internal Affairs\\nAnalytical Section',\n",
      "                                                                                                                                             'Unnamed: 1',\n",
      "                                                                                                                                             'Unnamed: 2',\n",
      "       'FOIA P046957\\nReport 2.1\\nAll Complaints in CRMS with Identified Sworn Accused\\nIncident Date from 01 Jan 2000 to 31 Dec 2002\\nSource Data: CRMS',\n",
      "                                                                                                                                             'Unnamed: 4',\n",
      "                                                                                                                                             'Unnamed: 5',\n",
      "                                                                                                                                             'Unnamed: 6',\n",
      "                                                                                                                                             'Unnamed: 7',\n",
      "                                                                                                                                             'Unnamed: 8',\n",
      "                                                                                                                                             'Unnamed: 9',\n",
      "                                                                                                                                            'Unnamed: 10',\n",
      "                                                                                                                                            'Unnamed: 11',\n",
      "                                                                                                                                            'Unnamed: 12',\n",
      "                                                                                                                                      2016-10-29 00:00:00,\n",
      "                                                                                                                                            'Unnamed: 14',\n",
      "                                                                                                                                            'Unnamed: 15'],\n",
      "      dtype='object')\n",
      "10\n",
      "Index([                                                                                                  'Bureau of Internal Affairs\\nAnalytical Section',\n",
      "                                                                                                                                             'Unnamed: 1',\n",
      "                                                                                                                                             'Unnamed: 2',\n",
      "       'FOIA P046957\\nReport 2.1\\nAll Complaints in CRMS with Identified Sworn Accused\\nIncident Date from 01 Jan 2000 to 31 Dec 2002\\nSource Data: CRMS',\n",
      "                                                                                                                                             'Unnamed: 4',\n",
      "                                                                                                                                             'Unnamed: 5',\n",
      "                                                                                                                                             'Unnamed: 6',\n",
      "                                                                                                                                             'Unnamed: 7',\n",
      "                                                                                                                                             'Unnamed: 8',\n",
      "                                                                                                                                             'Unnamed: 9',\n",
      "                                                                                                                                            'Unnamed: 10',\n",
      "                                                                                                                                            'Unnamed: 11',\n",
      "                                                                                                                                            'Unnamed: 12',\n",
      "                                                                                                                                      2016-10-29 00:00:00,\n",
      "                                                                                                                                            'Unnamed: 14',\n",
      "                                                                                                                                            'Unnamed: 15'],\n",
      "      dtype='object')\n"
     ]
    }
   ],
   "source": [
    "# Tony's Code\n",
    "final_df = pd.DataFrame()\n",
    "def null_dropper(df):\n",
    "    buf = io.StringIO()\n",
    "    df.info(buf=buf)\n",
    "    s = buf.getvalue()\n",
    "    info_values = [re.split(\"\\\\s\\\\s+\",x) for x in s.split(\"\\n\")]\n",
    "    info_values = [x for x in info_values if len(x)>1]\n",
    "    info_values = [x[0] for x in info_values if x[1].startswith('0 non-null')]\n",
    "    df = df.drop(info_values,axis=1)\n",
    "    return df\n",
    "\n",
    "for file in files[:1]:\n",
    "    #df = pd.read_excel(in_path_nov_2016_report + file,nrows=20)\n",
    "    df = pd.read_excel(file, skip_rows=20)\n",
    "    ## Making Sure Every File contains date the file was created and the foia that created it\n",
    "    col_list = df.columns.tolist()\n",
    "    Report_Produced_Date = [x for x in col_list if isinstance(x, datetime.datetime)]\n",
    "    col_list = [x for x in col_list if isinstance(x, datetime.datetime)==False]\n",
    "    FOIA_Request = [x for x in col_list if 'FOIA' in x][0]\n",
    "    print(df.columns)\n",
    "    print(skip)\n",
    "    # +1 because of python indexing,\n",
    "    skip = np.where(df.iloc[:,0]==\"Number:\")[0][0]+1\n",
    "    #df = pd.read_excel(in_path_nov_2016_report + file, skiprows=skip)\n",
    "    df = pd.read_excel(file, skiprows=skip)\n",
    "    df.dropna(how='all', inplace=True)\n",
    "    \n",
    "    ## Remove leading and trailing whitespace from columns \n",
    "    df.columns = [col.strip() if col not in Report_Produced_Date else col for col in df.columns.tolist()]\n",
    "    print(df.columns)\n",
    "    ## Need to fill in Number\n",
    "    '''\n",
    "    df['Number:'].fillna(method='ffill', inplace=True)\n",
    "    df['Number:'] = df['Number:'].astype(int)\n",
    "\n",
    "    ## Drops end of record \n",
    "    df = df.dropna(subset=[\"Accused:\",\"Gender:\",\"Date of Appt:\",\"Star:\"],how=\"all\",axis=0)\n",
    "    \n",
    "    ## drops the significant number of columns that are all nulls\n",
    "    df = null_dropper(df)\n",
    "    ##print(df.head())\n",
    "    df.columns = [\"CRID\",\"Accused\",\"Accused_Birth_Year\",\"Accused_Gender\",\"Accused_Race_Code\",\"Date_of_Appt\",\"Current_Unit\",\"Current_Rank\",\n",
    "                  \"Star\",\"Complaint_Category\",\"Orig_Finding\",\"Orig_Recommended_Discipline\",\"Final_Finding\",\n",
    "                 \"Final_Recommended_Discipline\"]\n",
    "    final_df = final_df.append(df)\n",
    "    final_df.reset_index(drop=True,inplace=True)\n",
    "print(final_df.shape)\n",
    "print(len(final_df['Accused'].unique()))'''"
   ]
  },
  {
   "cell_type": "code",
   "execution_count": null,
   "metadata": {
    "collapsed": true
   },
   "outputs": [],
   "source": []
  }
 ],
 "metadata": {
  "kernelspec": {
   "display_name": "Python 3",
   "language": "python",
   "name": "python3"
  },
  "language_info": {
   "codemirror_mode": {
    "name": "ipython",
    "version": 3
   },
   "file_extension": ".py",
   "mimetype": "text/x-python",
   "name": "python",
   "nbconvert_exporter": "python",
   "pygments_lexer": "ipython3",
   "version": "3.6.1"
  }
 },
 "nbformat": 4,
 "nbformat_minor": 2
}
