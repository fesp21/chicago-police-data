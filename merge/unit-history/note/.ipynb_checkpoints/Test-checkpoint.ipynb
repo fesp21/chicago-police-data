{
 "cells": [
  {
   "cell_type": "code",
   "execution_count": 1,
   "metadata": {
    "collapsed": true
   },
   "outputs": [],
   "source": [
    "import pandas as pd"
   ]
  },
  {
   "cell_type": "code",
   "execution_count": 26,
   "metadata": {
    "collapsed": true
   },
   "outputs": [],
   "source": [
    "um1 = pd.read_csv('../input/ase-units.csv.gz')\n",
    "um1['Start.Date'] = um1['Effective.Date']\n",
    "um2 = pd.read_csv('../input/all-sworn-units.csv.gz')"
   ]
  },
  {
   "cell_type": "code",
   "execution_count": 27,
   "metadata": {},
   "outputs": [
    {
     "data": {
      "text/html": [
       "<div>\n",
       "<style>\n",
       "    .dataframe thead tr:only-child th {\n",
       "        text-align: right;\n",
       "    }\n",
       "\n",
       "    .dataframe thead th {\n",
       "        text-align: left;\n",
       "    }\n",
       "\n",
       "    .dataframe tbody tr th {\n",
       "        vertical-align: top;\n",
       "    }\n",
       "</style>\n",
       "<table border=\"1\" class=\"dataframe\">\n",
       "  <thead>\n",
       "    <tr style=\"text-align: right;\">\n",
       "      <th></th>\n",
       "      <th>ase-units_ID</th>\n",
       "      <th>Unit</th>\n",
       "      <th>Effective.Date</th>\n",
       "      <th>End.Date</th>\n",
       "      <th>UID</th>\n",
       "      <th>Start.Date</th>\n",
       "    </tr>\n",
       "  </thead>\n",
       "  <tbody>\n",
       "    <tr>\n",
       "      <th>0</th>\n",
       "      <td>1</td>\n",
       "      <td>14.0</td>\n",
       "      <td>2007-03-29</td>\n",
       "      <td>2007-03-28</td>\n",
       "      <td>1</td>\n",
       "      <td>2007-03-29</td>\n",
       "    </tr>\n",
       "    <tr>\n",
       "      <th>1</th>\n",
       "      <td>1</td>\n",
       "      <td>14.0</td>\n",
       "      <td>2007-03-29</td>\n",
       "      <td>NaN</td>\n",
       "      <td>1</td>\n",
       "      <td>2007-03-29</td>\n",
       "    </tr>\n",
       "    <tr>\n",
       "      <th>2</th>\n",
       "      <td>2</td>\n",
       "      <td>15.0</td>\n",
       "      <td>2007-03-29</td>\n",
       "      <td>2007-03-28</td>\n",
       "      <td>2</td>\n",
       "      <td>2007-03-29</td>\n",
       "    </tr>\n",
       "    <tr>\n",
       "      <th>3</th>\n",
       "      <td>2</td>\n",
       "      <td>15.0</td>\n",
       "      <td>2007-03-29</td>\n",
       "      <td>NaN</td>\n",
       "      <td>2</td>\n",
       "      <td>2007-03-29</td>\n",
       "    </tr>\n",
       "    <tr>\n",
       "      <th>4</th>\n",
       "      <td>3</td>\n",
       "      <td>1.0</td>\n",
       "      <td>1976-08-19</td>\n",
       "      <td>1976-08-20</td>\n",
       "      <td>3</td>\n",
       "      <td>1976-08-19</td>\n",
       "    </tr>\n",
       "  </tbody>\n",
       "</table>\n",
       "</div>"
      ],
      "text/plain": [
       "   ase-units_ID  Unit Effective.Date    End.Date  UID  Start.Date\n",
       "0             1  14.0     2007-03-29  2007-03-28    1  2007-03-29\n",
       "1             1  14.0     2007-03-29         NaN    1  2007-03-29\n",
       "2             2  15.0     2007-03-29  2007-03-28    2  2007-03-29\n",
       "3             2  15.0     2007-03-29         NaN    2  2007-03-29\n",
       "4             3   1.0     1976-08-19  1976-08-20    3  1976-08-19"
      ]
     },
     "execution_count": 27,
     "metadata": {},
     "output_type": "execute_result"
    }
   ],
   "source": [
    "um1.head()"
   ]
  },
  {
   "cell_type": "code",
   "execution_count": 28,
   "metadata": {},
   "outputs": [
    {
     "data": {
      "text/html": [
       "<div>\n",
       "<style>\n",
       "    .dataframe thead tr:only-child th {\n",
       "        text-align: right;\n",
       "    }\n",
       "\n",
       "    .dataframe thead th {\n",
       "        text-align: left;\n",
       "    }\n",
       "\n",
       "    .dataframe tbody tr th {\n",
       "        vertical-align: top;\n",
       "    }\n",
       "</style>\n",
       "<table border=\"1\" class=\"dataframe\">\n",
       "  <thead>\n",
       "    <tr style=\"text-align: right;\">\n",
       "      <th></th>\n",
       "      <th>all-sworn-units_ID</th>\n",
       "      <th>Unit</th>\n",
       "      <th>Start.Date</th>\n",
       "      <th>End.Date</th>\n",
       "      <th>UID</th>\n",
       "    </tr>\n",
       "  </thead>\n",
       "  <tbody>\n",
       "    <tr>\n",
       "      <th>0</th>\n",
       "      <td>12735</td>\n",
       "      <td>3.0</td>\n",
       "      <td>2016-06-05</td>\n",
       "      <td>NaN</td>\n",
       "      <td>1</td>\n",
       "    </tr>\n",
       "    <tr>\n",
       "      <th>1</th>\n",
       "      <td>12735</td>\n",
       "      <td>14.0</td>\n",
       "      <td>2007-03-29</td>\n",
       "      <td>2007-03-28</td>\n",
       "      <td>1</td>\n",
       "    </tr>\n",
       "    <tr>\n",
       "      <th>2</th>\n",
       "      <td>12735</td>\n",
       "      <td>14.0</td>\n",
       "      <td>2007-03-29</td>\n",
       "      <td>2016-06-04</td>\n",
       "      <td>1</td>\n",
       "    </tr>\n",
       "    <tr>\n",
       "      <th>3</th>\n",
       "      <td>16413</td>\n",
       "      <td>15.0</td>\n",
       "      <td>2007-03-29</td>\n",
       "      <td>2007-03-28</td>\n",
       "      <td>2</td>\n",
       "    </tr>\n",
       "    <tr>\n",
       "      <th>4</th>\n",
       "      <td>16413</td>\n",
       "      <td>15.0</td>\n",
       "      <td>2007-03-29</td>\n",
       "      <td>NaN</td>\n",
       "      <td>2</td>\n",
       "    </tr>\n",
       "  </tbody>\n",
       "</table>\n",
       "</div>"
      ],
      "text/plain": [
       "   all-sworn-units_ID  Unit  Start.Date    End.Date  UID\n",
       "0               12735   3.0  2016-06-05         NaN    1\n",
       "1               12735  14.0  2007-03-29  2007-03-28    1\n",
       "2               12735  14.0  2007-03-29  2016-06-04    1\n",
       "3               16413  15.0  2007-03-29  2007-03-28    2\n",
       "4               16413  15.0  2007-03-29         NaN    2"
      ]
     },
     "execution_count": 28,
     "metadata": {},
     "output_type": "execute_result"
    }
   ],
   "source": [
    "um2.head()"
   ]
  },
  {
   "cell_type": "code",
   "execution_count": 29,
   "metadata": {},
   "outputs": [
    {
     "data": {
      "text/plain": [
       "31587"
      ]
     },
     "execution_count": 29,
     "metadata": {},
     "output_type": "execute_result"
    }
   ],
   "source": [
    "uids = list(set(um1['UID']) & set(um2['UID']))\n",
    "len(uids)"
   ]
  },
  {
   "cell_type": "code",
   "execution_count": 30,
   "metadata": {
    "collapsed": true
   },
   "outputs": [],
   "source": [
    "um1 = um1[(um1['UID'].isin(uids)) & (um1['Effective.Date'].notnull())]\n",
    "um2 = um2[(um2['UID'].isin(uids)) & (um2['Start.Date'].notnull()) & \n",
    "          (um2['Start.Date'] < max(um1['Effective.Date'].dropna()))]"
   ]
  },
  {
   "cell_type": "code",
   "execution_count": 31,
   "metadata": {},
   "outputs": [
    {
     "data": {
      "text/plain": [
       "(112487, 6)"
      ]
     },
     "execution_count": 31,
     "metadata": {},
     "output_type": "execute_result"
    }
   ],
   "source": [
    "um1.shape"
   ]
  },
  {
   "cell_type": "code",
   "execution_count": 32,
   "metadata": {},
   "outputs": [
    {
     "data": {
      "text/plain": [
       "(112488, 5)"
      ]
     },
     "execution_count": 32,
     "metadata": {},
     "output_type": "execute_result"
    }
   ],
   "source": [
    "um2.shape"
   ]
  },
  {
   "cell_type": "code",
   "execution_count": 43,
   "metadata": {
    "collapsed": true
   },
   "outputs": [],
   "source": [
    "um1 = um1.sort_values(['UID','Start.Date', 'End.Date'], na_position='last')\n",
    "um2 = um2.sort_values(['UID','Start.Date', 'End.Date'], na_position='last')"
   ]
  },
  {
   "cell_type": "code",
   "execution_count": null,
   "metadata": {},
   "outputs": [
    {
     "name": "stderr",
     "output_type": "stream",
     "text": [
      "/Users/invinst/anaconda3/lib/python3.6/site-packages/ipykernel_launcher.py:3: SettingWithCopyWarning: \n",
      "A value is trying to be set on a copy of a slice from a DataFrame.\n",
      "Try using .loc[row_indexer,col_indexer] = value instead\n",
      "\n",
      "See the caveats in the documentation: http://pandas.pydata.org/pandas-docs/stable/indexing.html#indexing-view-versus-copy\n",
      "  This is separate from the ipykernel package so we can avoid doing imports until\n"
     ]
    }
   ],
   "source": [
    "um1_n = []\n",
    "num = 0\n",
    "for i in um1['UID']:\n",
    "    if "
   ]
  },
  {
   "cell_type": "code",
   "execution_count": 44,
   "metadata": {},
   "outputs": [
    {
     "data": {
      "text/html": [
       "<div>\n",
       "<style>\n",
       "    .dataframe thead tr:only-child th {\n",
       "        text-align: right;\n",
       "    }\n",
       "\n",
       "    .dataframe thead th {\n",
       "        text-align: left;\n",
       "    }\n",
       "\n",
       "    .dataframe tbody tr th {\n",
       "        vertical-align: top;\n",
       "    }\n",
       "</style>\n",
       "<table border=\"1\" class=\"dataframe\">\n",
       "  <thead>\n",
       "    <tr style=\"text-align: right;\">\n",
       "      <th></th>\n",
       "      <th>ase-units_ID</th>\n",
       "      <th>Unit</th>\n",
       "      <th>Effective.Date</th>\n",
       "      <th>End.Date</th>\n",
       "      <th>UID</th>\n",
       "      <th>Start.Date</th>\n",
       "    </tr>\n",
       "  </thead>\n",
       "  <tbody>\n",
       "    <tr>\n",
       "      <th>0</th>\n",
       "      <td>1</td>\n",
       "      <td>14.0</td>\n",
       "      <td>2007-03-29</td>\n",
       "      <td>2007-03-28</td>\n",
       "      <td>1</td>\n",
       "      <td>2007-03-29</td>\n",
       "    </tr>\n",
       "    <tr>\n",
       "      <th>1</th>\n",
       "      <td>1</td>\n",
       "      <td>14.0</td>\n",
       "      <td>2007-03-29</td>\n",
       "      <td>NaN</td>\n",
       "      <td>1</td>\n",
       "      <td>2007-03-29</td>\n",
       "    </tr>\n",
       "    <tr>\n",
       "      <th>2</th>\n",
       "      <td>2</td>\n",
       "      <td>15.0</td>\n",
       "      <td>2007-03-29</td>\n",
       "      <td>2007-03-28</td>\n",
       "      <td>2</td>\n",
       "      <td>2007-03-29</td>\n",
       "    </tr>\n",
       "    <tr>\n",
       "      <th>3</th>\n",
       "      <td>2</td>\n",
       "      <td>15.0</td>\n",
       "      <td>2007-03-29</td>\n",
       "      <td>NaN</td>\n",
       "      <td>2</td>\n",
       "      <td>2007-03-29</td>\n",
       "    </tr>\n",
       "    <tr>\n",
       "      <th>6</th>\n",
       "      <td>3</td>\n",
       "      <td>22.0</td>\n",
       "      <td>1970-06-15</td>\n",
       "      <td>1971-01-15</td>\n",
       "      <td>3</td>\n",
       "      <td>1970-06-15</td>\n",
       "    </tr>\n",
       "  </tbody>\n",
       "</table>\n",
       "</div>"
      ],
      "text/plain": [
       "   ase-units_ID  Unit Effective.Date    End.Date  UID  Start.Date\n",
       "0             1  14.0     2007-03-29  2007-03-28    1  2007-03-29\n",
       "1             1  14.0     2007-03-29         NaN    1  2007-03-29\n",
       "2             2  15.0     2007-03-29  2007-03-28    2  2007-03-29\n",
       "3             2  15.0     2007-03-29         NaN    2  2007-03-29\n",
       "6             3  22.0     1970-06-15  1971-01-15    3  1970-06-15"
      ]
     },
     "execution_count": 44,
     "metadata": {},
     "output_type": "execute_result"
    }
   ],
   "source": [
    "um1.head()"
   ]
  },
  {
   "cell_type": "code",
   "execution_count": 41,
   "metadata": {},
   "outputs": [
    {
     "data": {
      "text/html": [
       "<div>\n",
       "<style>\n",
       "    .dataframe thead tr:only-child th {\n",
       "        text-align: right;\n",
       "    }\n",
       "\n",
       "    .dataframe thead th {\n",
       "        text-align: left;\n",
       "    }\n",
       "\n",
       "    .dataframe tbody tr th {\n",
       "        vertical-align: top;\n",
       "    }\n",
       "</style>\n",
       "<table border=\"1\" class=\"dataframe\">\n",
       "  <thead>\n",
       "    <tr style=\"text-align: right;\">\n",
       "      <th></th>\n",
       "      <th>all-sworn-units_ID</th>\n",
       "      <th>Unit</th>\n",
       "      <th>Start.Date</th>\n",
       "      <th>End.Date</th>\n",
       "      <th>UID</th>\n",
       "    </tr>\n",
       "  </thead>\n",
       "  <tbody>\n",
       "    <tr>\n",
       "      <th>1</th>\n",
       "      <td>12735</td>\n",
       "      <td>14.0</td>\n",
       "      <td>2007-03-29</td>\n",
       "      <td>2007-03-28</td>\n",
       "      <td>1</td>\n",
       "    </tr>\n",
       "    <tr>\n",
       "      <th>2</th>\n",
       "      <td>12735</td>\n",
       "      <td>14.0</td>\n",
       "      <td>2007-03-29</td>\n",
       "      <td>2016-06-04</td>\n",
       "      <td>1</td>\n",
       "    </tr>\n",
       "    <tr>\n",
       "      <th>3</th>\n",
       "      <td>16413</td>\n",
       "      <td>15.0</td>\n",
       "      <td>2007-03-29</td>\n",
       "      <td>2007-03-28</td>\n",
       "      <td>2</td>\n",
       "    </tr>\n",
       "    <tr>\n",
       "      <th>4</th>\n",
       "      <td>16413</td>\n",
       "      <td>15.0</td>\n",
       "      <td>2007-03-29</td>\n",
       "      <td>NaN</td>\n",
       "      <td>2</td>\n",
       "    </tr>\n",
       "    <tr>\n",
       "      <th>5</th>\n",
       "      <td>4767</td>\n",
       "      <td>1.0</td>\n",
       "      <td>1976-08-19</td>\n",
       "      <td>1976-08-20</td>\n",
       "      <td>3</td>\n",
       "    </tr>\n",
       "  </tbody>\n",
       "</table>\n",
       "</div>"
      ],
      "text/plain": [
       "   all-sworn-units_ID  Unit  Start.Date    End.Date  UID\n",
       "1               12735  14.0  2007-03-29  2007-03-28    1\n",
       "2               12735  14.0  2007-03-29  2016-06-04    1\n",
       "3               16413  15.0  2007-03-29  2007-03-28    2\n",
       "4               16413  15.0  2007-03-29         NaN    2\n",
       "5                4767   1.0  1976-08-19  1976-08-20    3"
      ]
     },
     "execution_count": 41,
     "metadata": {},
     "output_type": "execute_result"
    }
   ],
   "source": [
    "um2.head()"
   ]
  },
  {
   "cell_type": "code",
   "execution_count": 37,
   "metadata": {
    "collapsed": true
   },
   "outputs": [],
   "source": [
    "um12 = um1.merge(um2, how='inner', on = ['UID', 'Unit', 'Start.Date'])"
   ]
  },
  {
   "cell_type": "code",
   "execution_count": 39,
   "metadata": {},
   "outputs": [
    {
     "data": {
      "text/html": [
       "<div>\n",
       "<style>\n",
       "    .dataframe thead tr:only-child th {\n",
       "        text-align: right;\n",
       "    }\n",
       "\n",
       "    .dataframe thead th {\n",
       "        text-align: left;\n",
       "    }\n",
       "\n",
       "    .dataframe tbody tr th {\n",
       "        vertical-align: top;\n",
       "    }\n",
       "</style>\n",
       "<table border=\"1\" class=\"dataframe\">\n",
       "  <thead>\n",
       "    <tr style=\"text-align: right;\">\n",
       "      <th></th>\n",
       "      <th>ase-units_ID</th>\n",
       "      <th>Unit</th>\n",
       "      <th>Effective.Date</th>\n",
       "      <th>End.Date_x</th>\n",
       "      <th>UID</th>\n",
       "      <th>Start.Date</th>\n",
       "      <th>all-sworn-units_ID</th>\n",
       "      <th>End.Date_y</th>\n",
       "    </tr>\n",
       "  </thead>\n",
       "  <tbody>\n",
       "    <tr>\n",
       "      <th>0</th>\n",
       "      <td>1</td>\n",
       "      <td>14.0</td>\n",
       "      <td>2007-03-29</td>\n",
       "      <td>2007-03-28</td>\n",
       "      <td>1</td>\n",
       "      <td>2007-03-29</td>\n",
       "      <td>12735</td>\n",
       "      <td>2007-03-28</td>\n",
       "    </tr>\n",
       "    <tr>\n",
       "      <th>1</th>\n",
       "      <td>1</td>\n",
       "      <td>14.0</td>\n",
       "      <td>2007-03-29</td>\n",
       "      <td>2007-03-28</td>\n",
       "      <td>1</td>\n",
       "      <td>2007-03-29</td>\n",
       "      <td>12735</td>\n",
       "      <td>2016-06-04</td>\n",
       "    </tr>\n",
       "    <tr>\n",
       "      <th>2</th>\n",
       "      <td>1</td>\n",
       "      <td>14.0</td>\n",
       "      <td>2007-03-29</td>\n",
       "      <td>NaN</td>\n",
       "      <td>1</td>\n",
       "      <td>2007-03-29</td>\n",
       "      <td>12735</td>\n",
       "      <td>2007-03-28</td>\n",
       "    </tr>\n",
       "    <tr>\n",
       "      <th>3</th>\n",
       "      <td>1</td>\n",
       "      <td>14.0</td>\n",
       "      <td>2007-03-29</td>\n",
       "      <td>NaN</td>\n",
       "      <td>1</td>\n",
       "      <td>2007-03-29</td>\n",
       "      <td>12735</td>\n",
       "      <td>2016-06-04</td>\n",
       "    </tr>\n",
       "    <tr>\n",
       "      <th>4</th>\n",
       "      <td>2</td>\n",
       "      <td>15.0</td>\n",
       "      <td>2007-03-29</td>\n",
       "      <td>2007-03-28</td>\n",
       "      <td>2</td>\n",
       "      <td>2007-03-29</td>\n",
       "      <td>16413</td>\n",
       "      <td>2007-03-28</td>\n",
       "    </tr>\n",
       "  </tbody>\n",
       "</table>\n",
       "</div>"
      ],
      "text/plain": [
       "   ase-units_ID  Unit Effective.Date  End.Date_x  UID  Start.Date  \\\n",
       "0             1  14.0     2007-03-29  2007-03-28    1  2007-03-29   \n",
       "1             1  14.0     2007-03-29  2007-03-28    1  2007-03-29   \n",
       "2             1  14.0     2007-03-29         NaN    1  2007-03-29   \n",
       "3             1  14.0     2007-03-29         NaN    1  2007-03-29   \n",
       "4             2  15.0     2007-03-29  2007-03-28    2  2007-03-29   \n",
       "\n",
       "   all-sworn-units_ID  End.Date_y  \n",
       "0               12735  2007-03-28  \n",
       "1               12735  2016-06-04  \n",
       "2               12735  2007-03-28  \n",
       "3               12735  2016-06-04  \n",
       "4               16413  2007-03-28  "
      ]
     },
     "execution_count": 39,
     "metadata": {},
     "output_type": "execute_result"
    }
   ],
   "source": [
    "um12.head()"
   ]
  }
 ],
 "metadata": {
  "kernelspec": {
   "display_name": "Python 3",
   "language": "python",
   "name": "python3"
  },
  "language_info": {
   "codemirror_mode": {
    "name": "ipython",
    "version": 3
   },
   "file_extension": ".py",
   "mimetype": "text/x-python",
   "name": "python",
   "nbconvert_exporter": "python",
   "pygments_lexer": "ipython3",
   "version": "3.6.2"
  }
 },
 "nbformat": 4,
 "nbformat_minor": 2
}
