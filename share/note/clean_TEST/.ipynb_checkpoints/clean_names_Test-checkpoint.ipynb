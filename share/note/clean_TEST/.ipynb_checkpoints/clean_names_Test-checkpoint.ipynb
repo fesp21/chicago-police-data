{
 "cells": [
  {
   "cell_type": "code",
   "execution_count": 169,
   "metadata": {
    "collapsed": true
   },
   "outputs": [],
   "source": [
    "import re\n",
    "import numpy as np\n",
    "import pandas as pd"
   ]
  },
  {
   "cell_type": "code",
   "execution_count": 170,
   "metadata": {},
   "outputs": [
    {
     "name": "stderr",
     "output_type": "stream",
     "text": [
      "/Users/invinst/anaconda3/lib/python3.6/site-packages/IPython/core/interactiveshell.py:2698: DtypeWarning: Columns (19) have mixed types. Specify dtype option on import or set low_memory=False.\n",
      "  interactivity=interactivity, compiler=compiler, result=result)\n",
      "/Users/invinst/anaconda3/lib/python3.6/site-packages/IPython/core/interactiveshell.py:2698: DtypeWarning: Columns (6) have mixed types. Specify dtype option on import or set low_memory=False.\n",
      "  interactivity=interactivity, compiler=compiler, result=result)\n"
     ]
    }
   ],
   "source": [
    "awd = pd.read_csv('awards.csv.gz')\n",
    "acc = pd.read_csv('accused.csv.gz')"
   ]
  },
  {
   "cell_type": "code",
   "execution_count": 171,
   "metadata": {
    "collapsed": true
   },
   "outputs": [],
   "source": [
    "def list_diff(list1, list2):\n",
    "    '''returns list after taking set difference of two lists'''\n",
    "    return list(set(list1) - set(list2))\n",
    "\n",
    "\n",
    "def intersect(list1, list2):\n",
    "    '''returns list after taking set intersection of two lists'''\n",
    "    return list(set(list1) & set(list2))"
   ]
  },
  {
   "cell_type": "code",
   "execution_count": 172,
   "metadata": {
    "collapsed": true
   },
   "outputs": [],
   "source": [
    "name_cols = ['Full.Name', 'First.Name', 'Last.Name', 'Middle.Initial', 'Middle.Name', 'Suffix.Name']"
   ]
  },
  {
   "cell_type": "code",
   "execution_count": 173,
   "metadata": {},
   "outputs": [
    {
     "data": {
      "text/html": [
       "<div>\n",
       "<style>\n",
       "    .dataframe thead tr:only-child th {\n",
       "        text-align: right;\n",
       "    }\n",
       "\n",
       "    .dataframe thead th {\n",
       "        text-align: left;\n",
       "    }\n",
       "\n",
       "    .dataframe tbody tr th {\n",
       "        vertical-align: top;\n",
       "    }\n",
       "</style>\n",
       "<table border=\"1\" class=\"dataframe\">\n",
       "  <thead>\n",
       "    <tr style=\"text-align: right;\">\n",
       "      <th></th>\n",
       "      <th>Full.Name</th>\n",
       "    </tr>\n",
       "  </thead>\n",
       "  <tbody>\n",
       "    <tr>\n",
       "      <th>0</th>\n",
       "      <td>BARRON, WILLIAM</td>\n",
       "    </tr>\n",
       "    <tr>\n",
       "      <th>1</th>\n",
       "      <td>C0NNOLLY, KIMBERLY</td>\n",
       "    </tr>\n",
       "    <tr>\n",
       "      <th>2</th>\n",
       "      <td>KEENE, JOHN</td>\n",
       "    </tr>\n",
       "    <tr>\n",
       "      <th>3</th>\n",
       "      <td>SLAVIN, SCOTT</td>\n",
       "    </tr>\n",
       "    <tr>\n",
       "      <th>4</th>\n",
       "      <td>MARTINEZ, ANTONIO</td>\n",
       "    </tr>\n",
       "  </tbody>\n",
       "</table>\n",
       "</div>"
      ],
      "text/plain": [
       "            Full.Name\n",
       "0     BARRON, WILLIAM\n",
       "1  C0NNOLLY, KIMBERLY\n",
       "2         KEENE, JOHN\n",
       "3       SLAVIN, SCOTT\n",
       "4   MARTINEZ, ANTONIO"
      ]
     },
     "execution_count": 173,
     "metadata": {},
     "output_type": "execute_result"
    }
   ],
   "source": [
    "acc = acc[intersect(acc.columns, name_cols)]\n",
    "acc.head()"
   ]
  },
  {
   "cell_type": "code",
   "execution_count": 174,
   "metadata": {
    "collapsed": true
   },
   "outputs": [],
   "source": [
    "df = acc.copy()\n",
    "df_cols = acc.columns"
   ]
  },
  {
   "cell_type": "code",
   "execution_count": 175,
   "metadata": {},
   "outputs": [
    {
     "data": {
      "text/plain": [
       "Full.Name    MC CORMACK, PATRICK\n",
       "Name: 117690, dtype: object"
      ]
     },
     "execution_count": 175,
     "metadata": {},
     "output_type": "execute_result"
    }
   ],
   "source": [
    "df.iloc[117690,]"
   ]
  },
  {
   "cell_type": "code",
   "execution_count": 176,
   "metadata": {
    "collapsed": true
   },
   "outputs": [],
   "source": [
    "def split_full_names(names, ln='Last.Name', fn='First.Name'):\n",
    "    '''returns pandas dataframe of last and first name columns\n",
    "       made from splitting input pandas series of full names\n",
    "    '''\n",
    "    # Fill NaN names with ',' for ease of use\n",
    "    names = names.fillna(\",\")\n",
    "    # Fill names that do not contain letter ('-') as ',' for ease of use\n",
    "    names = names.map(lambda x: x if re.search('[a-zA-Z]', x) else \",\")\n",
    "    # Split names after last comma into list of length = 2\n",
    "    # Ex: 'Jones, JR, Bob' -> ['Jones, JR', 'Bob']\n",
    "    names = names.map(lambda x: x.rsplit(',', 1))\n",
    "    # Turn series of lists into dataframe\n",
    "    # with last and first name columns\n",
    "    names = pd.DataFrame(names.values.tolist(),\n",
    "                         columns=[ln, fn])\n",
    "    return names\n",
    "\n",
    "def extract_suffix_name(x, suffixes):\n",
    "    '''returns the suffix name in a given string'''\n",
    "    # Split input name (x) by spaces and look for suffix in name pieces\n",
    "    suffix = [w for w in x.split(\" \") if w in suffixes]\n",
    "    # If any suffix found, return it, else return empty string\n",
    "    return suffix[0] if suffix else \"\"\n",
    "\n",
    "\n",
    "def extract_middle_initial(x, mi_pattern, suffixes):\n",
    "    '''returns the middle initial in a given string'''\n",
    "    # Search input name for middle initial based on regex pattern\n",
    "    mi = re.search(mi_pattern, x)\n",
    "    # Assign identified middle initial if it is found\n",
    "    # And if the name is too short (Ex: A J, J R)\n",
    "    # Otherwise mi is assigned as an empty string\n",
    "    mi = mi.group() if mi and len(x) > 3 else ''\n",
    "    \n",
    "    # If middle initial is not empty\n",
    "    # And name is not DE LA _ (middle initial is not valid)\n",
    "    # And the identified middle initial is not in the suffixes\n",
    "    if (mi and\n",
    "        not (re.search('^DE LA\\s[A-Z]$', x) or\n",
    "             mi[1] in suffixes)):\n",
    "        # Remove the middle initial from the name\n",
    "        x = x.replace(mi, ' ')\n",
    "        # Remove spaces in middle initial\n",
    "        mi = mi.replace(' ', '')\n",
    "    else:\n",
    "        # Assign middle initial as empty string\n",
    "        mi = ''\n",
    "    return x, mi"
   ]
  },
  {
   "cell_type": "code",
   "execution_count": 177,
   "metadata": {},
   "outputs": [],
   "source": [
    "if 'Full.Name' in df_cols:\n",
    "        # Split full names into last and first names\n",
    "        name_df = split_full_names(df['Full.Name'])\n",
    "    # Otherwise (generally first and last names)\n",
    "else:\n",
    "    name_df = df.fillna(\"\")  # Fill NAs with empty strings"
   ]
  },
  {
   "cell_type": "code",
   "execution_count": 178,
   "metadata": {},
   "outputs": [],
   "source": [
    "#name_df[name_df['First.Name'].str.contains('  ') | name_df['Last.Name'].str.contains('MAC')]"
   ]
  },
  {
   "cell_type": "code",
   "execution_count": 179,
   "metadata": {
    "collapsed": true
   },
   "outputs": [],
   "source": [
    "def full_strip_name(x):\n",
    "    '''returns string after\n",
    "       removing any redundant whitespace or punctuation from string\n",
    "    '''\n",
    "    x = re.sub(r'[^\\w\\s]', '', x)\n",
    "    return ' '.join(x.split())\n",
    "\n",
    "def basic_strip_name(x):\n",
    "    '''returns string after\n",
    "       removing any redundant whitespace or period from string\n",
    "    '''\n",
    "    x = re.sub('\\s\\s+', ' ',\n",
    "               re.sub(r'^\\s|\\.|\\s$', '', x))\n",
    "    return x\n"
   ]
  },
  {
   "cell_type": "code",
   "execution_count": 180,
   "metadata": {
    "collapsed": true
   },
   "outputs": [],
   "source": [
    "def split_name(x, mi_pattern, suffixes):\n",
    "    # Extract middle initial\n",
    "    x, mi = extract_middle_initial(x, mi_pattern, suffixes)\n",
    "    x, mi2 = extract_middle_initial(x, mi_pattern, suffixes)\n",
    "    # Extract suffix name\n",
    "    suff = extract_suffix_name(x, suffixes)\n",
    "    # If suffix is not empty\n",
    "    if suff:\n",
    "        # Remove suffix from name\n",
    "        x = re.sub('(^{0}\\s)|(\\s{0}$)'.format(suff),\n",
    "                   '', x)\n",
    "        # Remove white space from suffix\n",
    "        suff = suff.replace(' ', '')\n",
    "    # If name is empty after suffix removed\n",
    "    # EX: first name = JR\n",
    "    if not x:\n",
    "        x = suff    # Re-assign suffix as name\n",
    "        suff = ''   # Replace suffix with empty string\n",
    "\n",
    "    # Return list of cleaned name, middle initial, and suffix\n",
    "    return [full_strip_name(x).replace(' ', ''), mi2, suff, basic_strip_name(x)]"
   ]
  },
  {
   "cell_type": "code",
   "execution_count": 181,
   "metadata": {
    "collapsed": true
   },
   "outputs": [],
   "source": [
    "def clean_name_col(col):\n",
    "    # Store name of input column\n",
    "    col_name = col.name\n",
    "    # Remove redundant spaces and periods\n",
    "    col = col.map(basic_strip_name)\n",
    "    # Ensure string is in uppercase\n",
    "    col = col.map(str.upper)\n",
    "\n",
    "    # If col is First or Last Name\n",
    "    if col_name in ['First.Name', 'Last.Name']:\n",
    "        # Choose regex pattern for middle initial depending on column:\n",
    "        # If First Name: single letters starting, ending, or middle of string\n",
    "        # If Last Name: single letters ending or middle of string\n",
    "        # EX: This avoids O Brien or D Angelo mistakes\n",
    "        mi_pattern = ('(^[A-Z]\\s)|(\\s[A-Z])\\s|\\s[A-Z]$'\n",
    "                      if col_name == 'First.Name'\n",
    "                      else '(\\s[A-Z])\\s|\\s[A-Z]$')\n",
    "        # Chooses suffixes to look for depending on column:\n",
    "        # First Name columns probably do no contain V as a suffix\n",
    "        # V may be mistaken as a middle initial\n",
    "        # But Last Name columns might contain V or I as a suffix\n",
    "        suffixes = ['II', 'III', 'IV', 'JR', 'SR']\n",
    "        if col_name == 'Last.Name':\n",
    "            suffixes.extend(['V', 'I'])\n",
    "        # Return pandas dataframe created from list of lists\n",
    "        # Comprised of first/last name, middle initial, suffix name\n",
    "        # middle initial and suffix name elements are abbrivated\n",
    "        # And which column they came from is idenified by F/L\n",
    "        return pd.DataFrame([split_name(x, mi_pattern, suffixes)\n",
    "                             for x in col],\n",
    "                            columns=[col_name,\n",
    "                                     col_name[0] + '_MI',\n",
    "                                     col_name[0] + '_MI2',\n",
    "                                     col_name[0] + '_SN',\n",
    "                                     col_name + '_NS'])\n",
    "\n",
    "    # Else if column is a middle name column\n",
    "    elif col_name == 'Middle.Name':\n",
    "        # Return pandas dataframe of middle name\n",
    "        # And first letter of middle name (middle initial)\n",
    "        # If there is not middle name, return empty strings\n",
    "        return pd.DataFrame([['', '']\n",
    "                             if not (isinstance(x, str) and x)\n",
    "                             else [x, x[0]]\n",
    "                             for x in col],\n",
    "                            columns=[col_name, 'Middle.Initial'])\n",
    "\n",
    "    # If column is middle initial\n",
    "    elif col_name == 'Middle.Initial':\n",
    "        # Return middle initial column\n",
    "        return col\n",
    "\n",
    "    # If column not recognized, raise error\n",
    "    else:\n",
    "        raise Exception('Uh.. what sort of names?')"
   ]
  },
  {
   "cell_type": "code",
   "execution_count": 182,
   "metadata": {},
   "outputs": [
    {
     "ename": "NameError",
     "evalue": "name 'suffixes' is not defined",
     "output_type": "error",
     "traceback": [
      "\u001b[0;31m---------------------------------------------------------------------------\u001b[0m",
      "\u001b[0;31mNameError\u001b[0m                                 Traceback (most recent call last)",
      "\u001b[0;32m<ipython-input-182-c6973b2457f7>\u001b[0m in \u001b[0;36m<module>\u001b[0;34m()\u001b[0m\n\u001b[1;32m      1\u001b[0m \u001b[0;31m# Split first name column into first name, middle initial, suffix\u001b[0m\u001b[0;34m\u001b[0m\u001b[0;34m\u001b[0m\u001b[0m\n\u001b[0;32m----> 2\u001b[0;31m \u001b[0mfn_df\u001b[0m \u001b[0;34m=\u001b[0m \u001b[0mclean_name_col\u001b[0m\u001b[0;34m(\u001b[0m\u001b[0mname_df\u001b[0m\u001b[0;34m[\u001b[0m\u001b[0;34m'First.Name'\u001b[0m\u001b[0;34m]\u001b[0m\u001b[0;34m)\u001b[0m\u001b[0;34m\u001b[0m\u001b[0m\n\u001b[0m\u001b[1;32m      3\u001b[0m \u001b[0;31m# Split last name column into last name, middle initial, suffix\u001b[0m\u001b[0;34m\u001b[0m\u001b[0;34m\u001b[0m\u001b[0m\n\u001b[1;32m      4\u001b[0m \u001b[0mln_df\u001b[0m \u001b[0;34m=\u001b[0m \u001b[0mclean_name_col\u001b[0m\u001b[0;34m(\u001b[0m\u001b[0mname_df\u001b[0m\u001b[0;34m[\u001b[0m\u001b[0;34m'Last.Name'\u001b[0m\u001b[0;34m]\u001b[0m\u001b[0;34m)\u001b[0m\u001b[0;34m\u001b[0m\u001b[0m\n",
      "\u001b[0;32m<ipython-input-181-f0db74c8c320>\u001b[0m in \u001b[0;36mclean_name_col\u001b[0;34m(col)\u001b[0m\n\u001b[1;32m     28\u001b[0m         \u001b[0;31m# And which column they came from is idenified by F/L\u001b[0m\u001b[0;34m\u001b[0m\u001b[0;34m\u001b[0m\u001b[0m\n\u001b[1;32m     29\u001b[0m         return pd.DataFrame([split_name(x, mi_pattern, suffixes)\n\u001b[0;32m---> 30\u001b[0;31m                              for x in col],\n\u001b[0m\u001b[1;32m     31\u001b[0m                             columns=[col_name,\n\u001b[1;32m     32\u001b[0m                                      \u001b[0mcol_name\u001b[0m\u001b[0;34m[\u001b[0m\u001b[0;36m0\u001b[0m\u001b[0;34m]\u001b[0m \u001b[0;34m+\u001b[0m \u001b[0;34m'_MI'\u001b[0m\u001b[0;34m,\u001b[0m\u001b[0;34m\u001b[0m\u001b[0m\n",
      "\u001b[0;32m<ipython-input-181-f0db74c8c320>\u001b[0m in \u001b[0;36m<listcomp>\u001b[0;34m(.0)\u001b[0m\n\u001b[1;32m     28\u001b[0m         \u001b[0;31m# And which column they came from is idenified by F/L\u001b[0m\u001b[0;34m\u001b[0m\u001b[0;34m\u001b[0m\u001b[0m\n\u001b[1;32m     29\u001b[0m         return pd.DataFrame([split_name(x, mi_pattern, suffixes)\n\u001b[0;32m---> 30\u001b[0;31m                              for x in col],\n\u001b[0m\u001b[1;32m     31\u001b[0m                             columns=[col_name,\n\u001b[1;32m     32\u001b[0m                                      \u001b[0mcol_name\u001b[0m\u001b[0;34m[\u001b[0m\u001b[0;36m0\u001b[0m\u001b[0;34m]\u001b[0m \u001b[0;34m+\u001b[0m \u001b[0;34m'_MI'\u001b[0m\u001b[0;34m,\u001b[0m\u001b[0;34m\u001b[0m\u001b[0m\n",
      "\u001b[0;32m<ipython-input-180-1b4880eae7f1>\u001b[0m in \u001b[0;36msplit_name\u001b[0;34m(x, mi_pattern, suffixes)\u001b[0m\n\u001b[1;32m      1\u001b[0m \u001b[0;32mdef\u001b[0m \u001b[0msplit_name\u001b[0m\u001b[0;34m(\u001b[0m\u001b[0mx\u001b[0m\u001b[0;34m,\u001b[0m \u001b[0mmi_pattern\u001b[0m\u001b[0;34m,\u001b[0m \u001b[0msuffixes\u001b[0m\u001b[0;34m)\u001b[0m\u001b[0;34m:\u001b[0m\u001b[0;34m\u001b[0m\u001b[0m\n\u001b[1;32m      2\u001b[0m     \u001b[0;31m# Extract middle initial\u001b[0m\u001b[0;34m\u001b[0m\u001b[0;34m\u001b[0m\u001b[0m\n\u001b[0;32m----> 3\u001b[0;31m     \u001b[0mx\u001b[0m\u001b[0;34m,\u001b[0m \u001b[0mmi\u001b[0m \u001b[0;34m=\u001b[0m \u001b[0mextract_middle_initial\u001b[0m\u001b[0;34m(\u001b[0m\u001b[0mx\u001b[0m\u001b[0;34m,\u001b[0m \u001b[0mmi_pattern\u001b[0m\u001b[0;34m)\u001b[0m\u001b[0;34m\u001b[0m\u001b[0m\n\u001b[0m\u001b[1;32m      4\u001b[0m     \u001b[0mx\u001b[0m\u001b[0;34m,\u001b[0m \u001b[0mmi2\u001b[0m \u001b[0;34m=\u001b[0m \u001b[0mextract_middle_initial\u001b[0m\u001b[0;34m(\u001b[0m\u001b[0mx\u001b[0m\u001b[0;34m,\u001b[0m \u001b[0mmi_pattern\u001b[0m\u001b[0;34m)\u001b[0m\u001b[0;34m\u001b[0m\u001b[0m\n\u001b[1;32m      5\u001b[0m     \u001b[0;31m# Extract suffix name\u001b[0m\u001b[0;34m\u001b[0m\u001b[0;34m\u001b[0m\u001b[0m\n",
      "\u001b[0;32m<ipython-input-176-262f134bb2d7>\u001b[0m in \u001b[0;36mextract_middle_initial\u001b[0;34m(x, mi_pattern)\u001b[0m\n\u001b[1;32m     38\u001b[0m     if (mi and\n\u001b[1;32m     39\u001b[0m         not (re.search('^DE LA\\s[A-Z]$', x) or\n\u001b[0;32m---> 40\u001b[0;31m              mi[1] in suffixes)):\n\u001b[0m\u001b[1;32m     41\u001b[0m         \u001b[0;31m# Remove the middle initial from the name\u001b[0m\u001b[0;34m\u001b[0m\u001b[0;34m\u001b[0m\u001b[0m\n\u001b[1;32m     42\u001b[0m         \u001b[0mx\u001b[0m \u001b[0;34m=\u001b[0m \u001b[0mx\u001b[0m\u001b[0;34m.\u001b[0m\u001b[0mreplace\u001b[0m\u001b[0;34m(\u001b[0m\u001b[0mmi\u001b[0m\u001b[0;34m,\u001b[0m \u001b[0;34m' '\u001b[0m\u001b[0;34m)\u001b[0m\u001b[0;34m\u001b[0m\u001b[0m\n",
      "\u001b[0;31mNameError\u001b[0m: name 'suffixes' is not defined"
     ]
    }
   ],
   "source": [
    "# Split first name column into first name, middle initial, suffix\n",
    "fn_df = clean_name_col(name_df['First.Name'])\n",
    "# Split last name column into last name, middle initial, suffix\n",
    "ln_df = clean_name_col(name_df['Last.Name'])"
   ]
  },
  {
   "cell_type": "code",
   "execution_count": null,
   "metadata": {},
   "outputs": [],
   "source": [
    "ln_df.iloc[117690,]"
   ]
  },
  {
   "cell_type": "code",
   "execution_count": null,
   "metadata": {
    "collapsed": true
   },
   "outputs": [],
   "source": [
    "# Join name dataframes\n",
    "cleaned_df = fn_df.join(ln_df)"
   ]
  },
  {
   "cell_type": "code",
   "execution_count": null,
   "metadata": {
    "collapsed": true
   },
   "outputs": [],
   "source": [
    "def compare_middle_initials(mi_df):\n",
    "    '''returns pandas dataframe and list of conflicts'''\n",
    "    output_list = []    # Initialize output list\n",
    "    conflict_indexes = []   # Initialize conflict index list\n",
    "    # Iterate over the the middle initial columns\n",
    "    # In order of importance any given middle initial column takes priority\n",
    "    # (or it is totally empty), then come middle initials found in first names\n",
    "    # And lastly middle initials found in last names (very rare)\n",
    "    for i, v, w, x, y, z in mi_df[['Middle.Initial', 'F_MI', 'F_MI2', 'L_MI', 'F_MI']].itertuples():\n",
    "        # Initialize (unique) set of middle initials\n",
    "        mis = set((v, w, x, y, z))\n",
    "        # Remove all empty strings\n",
    "        mis.discard('')\n",
    "        # If the set is empty (all middle initials were empty)\n",
    "        if not mis:\n",
    "            # Add tuple of two  empty strings to output\n",
    "            output_list.append(('', ''))\n",
    "        # If there is only 1 real middle initial in columns\n",
    "        elif len(mis) == 1:\n",
    "            # Add first (only) middle initial and empty string to output\n",
    "            output_list.append((mis.pop(), ''))\n",
    "        # If there are two real middle initials\n",
    "        elif len(mis) == 2:\n",
    "            # Append both (since the values are in order of importance)\n",
    "            output_list.append((mis))\n",
    "        # Else (if there are 3 unique values)\n",
    "        else:\n",
    "            # Add this index to the conflict list\n",
    "            conflict_indexes.append(i)\n",
    "            # Add first and second middle initials to output\n",
    "            output_list.append(tuple(mis)[:2])\n",
    "\n",
    "    # Return dataframe of first (primary) middle initials\n",
    "    # and secondary middle initials\n",
    "    # and list of conflict indexes\n",
    "    return (pd.DataFrame(output_list,\n",
    "                         columns=['Middle.Initial',\n",
    "                                  'Middle.Initial2']),\n",
    "            conflict_indexes)\n",
    "\n",
    "\n",
    "def compare_suffix_names(sn_df):\n",
    "    '''returns pandas dataframe and list of conflicts'''\n",
    "    output_list = []    # Initialize output list\n",
    "    conflict_indexes = []   # Initialize conflict index list\n",
    "    # Iterate over the the suffix name columns\n",
    "    # In order of importance any given suffix name column takes priority\n",
    "    # (or it is totally empty), then come suffix names found in last names\n",
    "    # And lastly suffix names found in first names (rare)\n",
    "    for i, x, y, z in sn_df[['Suffix.Name', 'L_SN', 'F_SN']].itertuples():\n",
    "        # Initialize (unique) set of suffix names\n",
    "        sns = set((x, y, z))\n",
    "        # Remove all empty strings\n",
    "        sns.discard('')\n",
    "        # If the set is empty (all suffix names were empty)\n",
    "        if not sns:\n",
    "            # Add empty string to output\n",
    "            output_list.append('')\n",
    "        # If there is only 1 real suffix name in columns\n",
    "        elif len(sns) == 1:\n",
    "            output_list.append(sns.pop())\n",
    "        # If there are more than 1 unique suffixes\n",
    "        else:\n",
    "            # Add index to conflicts list\n",
    "            conflict_indexes.append(i)\n",
    "            # Append first element to output\n",
    "            output_list.append(sns.pop())\n",
    "    # Return pandas dataframe of 1 Suffix Name column\n",
    "    # and list of conflict indexes\n",
    "    return (pd.DataFrame(output_list,\n",
    "                         columns=['Suffix.Name']),\n",
    "            conflict_indexes)"
   ]
  },
  {
   "cell_type": "code",
   "execution_count": null,
   "metadata": {},
   "outputs": [],
   "source": [
    "# Join name dataframes\n",
    "cleaned_df = fn_df.join(ln_df)\n",
    "\n",
    "# If suffix not in columns already (almost always)\n",
    "if 'Suffix.Name' not in df_cols:\n",
    "    # Insert suffix name column of empty strings\n",
    "    cleaned_df.insert(0, 'Suffix.Name', '')\n",
    "\n",
    "# If middle name is already in columns\n",
    "if 'Middle.Name' in df_cols:\n",
    "    # Join cleaned middle name and initial columns to cleaned_df\n",
    "    cleaned_df = cleaned_df.join(clean_name_col(name_df['Middle.Name']))\n",
    "# If middle initial is already in columns\n",
    "elif 'Middle.Initial' in df_cols:\n",
    "    # Join cleaned middle initial column to cleaned_df\n",
    "    cleaned_df = cleaned_df.join(clean_name_col(name_df['Middle.Initial']))\n",
    "# If no middle inital columns in original dataframe\n",
    "else:\n",
    "    # Insert middle initial column of empty strings\n",
    "    cleaned_df.insert(0, 'Middle.Initial', '')\n",
    "\n",
    "# Create middle initial dataframe (Middle.Initial, Middle.Initial2)\n",
    "# And collect indexes of conflicting middle initials\n",
    "mi_df, mi_conflicts = compare_middle_initials(cleaned_df[['Middle.Initial',\n",
    "                                                          'F_MI','F_MI2', 'L_MI', 'L_MI2']])\n",
    "# Create suffix name dataframe (Suffix.Name)\n",
    "# And collect indexes of conflicting suffix names\n",
    "sn_df, sn_conflicts = compare_suffix_names(cleaned_df[['Suffix.Name',\n",
    "                                                       'F_SN', 'L_SN']])\n",
    "\n",
    "# Identify name columns which exist in cleaned_df\n",
    "name_cols = intersect(cleaned_df.columns,\n",
    "                      ['First.Name', 'Last.Name', 'Middle.Name','Last.Name_NS', 'First.Name_NS'])\n",
    "# Remove middle initial and suffix columns from cleaned dataframe\n",
    "# Then joined cleaned dataframe to middle initial and suffix name dfs\n",
    "cleaned_df = cleaned_df[name_cols].join(mi_df).join(sn_df)"
   ]
  },
  {
   "cell_type": "code",
   "execution_count": null,
   "metadata": {},
   "outputs": [],
   "source": [
    "cleaned_df[cleaned_df['First.Name']!=cleaned_df['First.Name_NS']]"
   ]
  },
  {
   "cell_type": "code",
   "execution_count": 167,
   "metadata": {},
   "outputs": [
    {
     "data": {
      "text/plain": [
       "First.Name          ERINM\n",
       "Last.Name           MARSH\n",
       "Last.Name_NS        MARSH\n",
       "First.Name_NS      ERIN M\n",
       "Middle.Initial          E\n",
       "Middle.Initial2          \n",
       "Suffix.Name              \n",
       "Name: 115229, dtype: object"
      ]
     },
     "execution_count": 167,
     "metadata": {},
     "output_type": "execute_result"
    }
   ],
   "source": [
    "cleaned_df.loc[115229,]"
   ]
  },
  {
   "cell_type": "code",
   "execution_count": 152,
   "metadata": {},
   "outputs": [
    {
     "data": {
      "text/plain": [
       "(1, 2)"
      ]
     },
     "execution_count": 152,
     "metadata": {},
     "output_type": "execute_result"
    }
   ],
   "source": [
    "tuple(set((1,2,3,4)))[:2]"
   ]
  }
 ],
 "metadata": {
  "kernelspec": {
   "display_name": "Python 3",
   "language": "python",
   "name": "python3"
  },
  "language_info": {
   "codemirror_mode": {
    "name": "ipython",
    "version": 3
   },
   "file_extension": ".py",
   "mimetype": "text/x-python",
   "name": "python",
   "nbconvert_exporter": "python",
   "pygments_lexer": "ipython3",
   "version": "3.6.2"
  }
 },
 "nbformat": 4,
 "nbformat_minor": 2
}
