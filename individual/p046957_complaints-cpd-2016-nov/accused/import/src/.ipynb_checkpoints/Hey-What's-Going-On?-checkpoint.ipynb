{
 "cells": [
  {
   "cell_type": "code",
   "execution_count": 23,
   "metadata": {
    "collapsed": true
   },
   "outputs": [],
   "source": [
    "import pandas as pd\n",
    "import numpy as np\n",
    "import datetime\n",
    "import os\n",
    "import io\n",
    "import re"
   ]
  },
  {
   "cell_type": "code",
   "execution_count": 24,
   "metadata": {
    "collapsed": true
   },
   "outputs": [],
   "source": [
    "input_path = \"../input/\"\n",
    "out_path = \"../output/\"\n",
    "out_file = \"accused.csv\"\n",
    "\n",
    "files = [input_path + f for f in os.listdir(input_path)]\n",
    "\n",
    "data = pd.DataFrame()\n",
    "metadata = pd.DataFrame()"
   ]
  },
  {
   "cell_type": "code",
   "execution_count": 25,
   "metadata": {},
   "outputs": [
    {
     "data": {
      "text/plain": [
       "['../input/p046957 - report 2.1 - identified accused.xls',\n",
       " '../input/p046957 - report 2.2 - identified accused.xls',\n",
       " '../input/p046957 - report 2.3 - identified accused.xls',\n",
       " '../input/p046957 - report 2.4 - identified accused.xls',\n",
       " '../input/p046957 - report 2.5 - identified accused.xls']"
      ]
     },
     "execution_count": 25,
     "metadata": {},
     "output_type": "execute_result"
    }
   ],
   "source": [
    "files"
   ]
  },
  {
   "cell_type": "code",
   "execution_count": 26,
   "metadata": {},
   "outputs": [
    {
     "name": "stdout",
     "output_type": "stream",
     "text": [
      "(52106, 14)\n"
     ]
    }
   ],
   "source": [
    "add_skip = 1\n",
    "for path in files[:1]:\n",
    "    df = pd.read_excel(path, rows=20)\n",
    "    col_list = df.columns.tolist()\n",
    "    # if [col if '\\n' in col or len(col) > 40 for col in col_list]:\n",
    "    #   metadata = True\n",
    "    Report_Produced_Date = [x for x in col_list if isinstance(x, datetime.datetime)]\n",
    "    col_list = [x for x in col_list if x not in Report_Produced_Date]\n",
    "    FOIA_Request = [x for x in col_list if 'FOIA' in x][0]\n",
    "\n",
    "    skip = np.where(df.iloc[:,0].str.contains('Number', na=False))[0][0]+add_skip\n",
    "    df = (pd.read_excel(path, skiprows=skip)\n",
    "            .dropna(how='all', axis=0)\n",
    "            .dropna(how='all', axis=1))\n",
    "    df.insert(0, \"CRID\", (df[\"Number:\"]\n",
    "                            .fillna(method='ffill')\n",
    "                            .astype(int)))\n",
    "    df = df.drop(\"Number:\", axis=1)\n",
    "    df = df.dropna(thresh = len(df.columns.values)-1)\n",
    "    print(df.shape)\n"
   ]
  },
  {
   "cell_type": "code",
   "execution_count": 27,
   "metadata": {},
   "outputs": [],
   "source": [
    "\n",
    "print(df.shape)"
   ]
  },
  {
   "cell_type": "code",
   "execution_count": 30,
   "metadata": {},
   "outputs": [],
   "source": [
    "print(df.shape)"
   ]
  },
  {
   "cell_type": "code",
   "execution_count": 31,
   "metadata": {},
   "outputs": [
    {
     "name": "stdout",
     "output_type": "stream",
     "text": [
      "(31984, 14)\n"
     ]
    }
   ],
   "source": []
  },
  {
   "cell_type": "code",
   "execution_count": null,
   "metadata": {
    "collapsed": true
   },
   "outputs": [],
   "source": [
    "def ReadMessy(path, add_skip=1):\n",
    "    # add roll column (number)\n",
    "    # format column names ahead of time\n",
    "    # detect meta data in columns\n",
    "    df = pd.read_excel(path, rows=20)\n",
    "    col_list = df.columns.tolist()\n",
    "    # if [col if '\\n' in col or len(col) > 40 for col in col_list]:\n",
    "    #   metadata = True\n",
    "    Report_Produced_Date = [x for x in col_list if isinstance(x, datetime.datetime)]\n",
    "    col_list = [x for x in col_list if x not in Report_Produced_Date]\n",
    "    FOIA_Request = [x for x in col_list if 'FOIA' in x][0]\n",
    "\n",
    "    skip = np.where(df.iloc[:,0].str.contains('Number', na=False))[0][0]+add_skip\n",
    "    df = (pd.read_excel(path, skiprows=skip)\n",
    "            .dropna(how='all', axis=0)\n",
    "            .dropna(how='all', axis=1))\n",
    "\n",
    "    return df"
   ]
  }
 ],
 "metadata": {
  "kernelspec": {
   "display_name": "Python 3",
   "language": "python",
   "name": "python3"
  },
  "language_info": {
   "codemirror_mode": {
    "name": "ipython",
    "version": 3
   },
   "file_extension": ".py",
   "mimetype": "text/x-python",
   "name": "python",
   "nbconvert_exporter": "python",
   "pygments_lexer": "ipython3",
   "version": "3.6.1"
  }
 },
 "nbformat": 4,
 "nbformat_minor": 2
}
