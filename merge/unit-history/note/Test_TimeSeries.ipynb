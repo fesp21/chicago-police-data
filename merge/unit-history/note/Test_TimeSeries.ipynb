{
 "cells": [
  {
   "cell_type": "code",
   "execution_count": 1,
   "metadata": {},
   "outputs": [],
   "source": [
    "import pandas as pd\n",
    "from assign_unique_ids_functions import *\n",
    "pd.options.display.max_columns = 999\n",
    "import numpy as np\n",
    "uhc = ['UID', 'Unit', 'Date', 'Event']"
   ]
  },
  {
   "cell_type": "code",
   "execution_count": 361,
   "metadata": {},
   "outputs": [
    {
     "data": {
      "text/html": [
       "<div>\n",
       "<style>\n",
       "    .dataframe thead tr:only-child th {\n",
       "        text-align: right;\n",
       "    }\n",
       "\n",
       "    .dataframe thead th {\n",
       "        text-align: left;\n",
       "    }\n",
       "\n",
       "    .dataframe tbody tr th {\n",
       "        vertical-align: top;\n",
       "    }\n",
       "</style>\n",
       "<table border=\"1\" class=\"dataframe\">\n",
       "  <thead>\n",
       "    <tr style=\"text-align: right;\">\n",
       "      <th></th>\n",
       "      <th>Unit</th>\n",
       "      <th>Start.Date</th>\n",
       "      <th>End.Date</th>\n",
       "      <th>UID</th>\n",
       "    </tr>\n",
       "  </thead>\n",
       "  <tbody>\n",
       "    <tr>\n",
       "      <th>0</th>\n",
       "      <td>14.0</td>\n",
       "      <td>2007-03-29</td>\n",
       "      <td>NaN</td>\n",
       "      <td>1</td>\n",
       "    </tr>\n",
       "    <tr>\n",
       "      <th>2</th>\n",
       "      <td>15.0</td>\n",
       "      <td>2007-03-29</td>\n",
       "      <td>NaN</td>\n",
       "      <td>2</td>\n",
       "    </tr>\n",
       "    <tr>\n",
       "      <th>4</th>\n",
       "      <td>1.0</td>\n",
       "      <td>1976-08-19</td>\n",
       "      <td>1976-08-20</td>\n",
       "      <td>3</td>\n",
       "    </tr>\n",
       "    <tr>\n",
       "      <th>5</th>\n",
       "      <td>4.0</td>\n",
       "      <td>1971-01-16</td>\n",
       "      <td>1976-08-18</td>\n",
       "      <td>3</td>\n",
       "    </tr>\n",
       "    <tr>\n",
       "      <th>6</th>\n",
       "      <td>22.0</td>\n",
       "      <td>1970-06-15</td>\n",
       "      <td>1971-01-15</td>\n",
       "      <td>3</td>\n",
       "    </tr>\n",
       "  </tbody>\n",
       "</table>\n",
       "</div>"
      ],
      "text/plain": [
       "   Unit  Start.Date    End.Date  UID\n",
       "0  14.0  2007-03-29         NaN    1\n",
       "2  15.0  2007-03-29         NaN    2\n",
       "4   1.0  1976-08-19  1976-08-20    3\n",
       "5   4.0  1971-01-16  1976-08-18    3\n",
       "6  22.0  1970-06-15  1971-01-15    3"
      ]
     },
     "execution_count": 361,
     "metadata": {},
     "output_type": "execute_result"
    }
   ],
   "source": [
    "um1 = pd.read_csv('../input/ase-units.csv.gz')\n",
    "um1.dropna(thresh=4, axis=0, inplace=True)\n",
    "um1.rename(columns={'Effective.Date' : 'Start.Date'}, inplace=True)\n",
    "um1.dropna(subset=['Start.Date'],inplace=True)\n",
    "um1.drop('ase-units_ID', inplace=True, axis=1)\n",
    "um1.loc[um1['End.Date'] < um1['Start.Date'], 'End.Date'] = np.nan\n",
    "um1.drop_duplicates(inplace=True)\n",
    "um1.head()"
   ]
  },
  {
   "cell_type": "code",
   "execution_count": 364,
   "metadata": {},
   "outputs": [
    {
     "data": {
      "text/html": [
       "<div>\n",
       "<style>\n",
       "    .dataframe thead tr:only-child th {\n",
       "        text-align: right;\n",
       "    }\n",
       "\n",
       "    .dataframe thead th {\n",
       "        text-align: left;\n",
       "    }\n",
       "\n",
       "    .dataframe tbody tr th {\n",
       "        vertical-align: top;\n",
       "    }\n",
       "</style>\n",
       "<table border=\"1\" class=\"dataframe\">\n",
       "  <thead>\n",
       "    <tr style=\"text-align: right;\">\n",
       "      <th></th>\n",
       "      <th>Unit</th>\n",
       "      <th>Start.Date</th>\n",
       "      <th>End.Date</th>\n",
       "      <th>UID</th>\n",
       "    </tr>\n",
       "  </thead>\n",
       "  <tbody>\n",
       "  </tbody>\n",
       "</table>\n",
       "</div>"
      ],
      "text/plain": [
       "Empty DataFrame\n",
       "Columns: [Unit, Start.Date, End.Date, UID]\n",
       "Index: []"
      ]
     },
     "execution_count": 364,
     "metadata": {},
     "output_type": "execute_result"
    }
   ],
   "source": [
    "um1[(um1['End.Date'].notnull()) & (um1['Start.Date']>um1['End.Date'])]"
   ]
  },
  {
   "cell_type": "code",
   "execution_count": 365,
   "metadata": {},
   "outputs": [
    {
     "data": {
      "text/html": [
       "<div>\n",
       "<style>\n",
       "    .dataframe thead tr:only-child th {\n",
       "        text-align: right;\n",
       "    }\n",
       "\n",
       "    .dataframe thead th {\n",
       "        text-align: left;\n",
       "    }\n",
       "\n",
       "    .dataframe tbody tr th {\n",
       "        vertical-align: top;\n",
       "    }\n",
       "</style>\n",
       "<table border=\"1\" class=\"dataframe\">\n",
       "  <thead>\n",
       "    <tr style=\"text-align: right;\">\n",
       "      <th></th>\n",
       "      <th>Unit</th>\n",
       "      <th>Start.Date</th>\n",
       "      <th>End.Date</th>\n",
       "      <th>UID</th>\n",
       "    </tr>\n",
       "  </thead>\n",
       "  <tbody>\n",
       "    <tr>\n",
       "      <th>0</th>\n",
       "      <td>3.0</td>\n",
       "      <td>2016-06-05</td>\n",
       "      <td>NaN</td>\n",
       "      <td>1</td>\n",
       "    </tr>\n",
       "    <tr>\n",
       "      <th>1</th>\n",
       "      <td>14.0</td>\n",
       "      <td>2007-03-29</td>\n",
       "      <td>NaN</td>\n",
       "      <td>1</td>\n",
       "    </tr>\n",
       "    <tr>\n",
       "      <th>2</th>\n",
       "      <td>14.0</td>\n",
       "      <td>2007-03-29</td>\n",
       "      <td>2016-06-04</td>\n",
       "      <td>1</td>\n",
       "    </tr>\n",
       "    <tr>\n",
       "      <th>3</th>\n",
       "      <td>15.0</td>\n",
       "      <td>2007-03-29</td>\n",
       "      <td>NaN</td>\n",
       "      <td>2</td>\n",
       "    </tr>\n",
       "    <tr>\n",
       "      <th>5</th>\n",
       "      <td>1.0</td>\n",
       "      <td>1976-08-19</td>\n",
       "      <td>1976-08-20</td>\n",
       "      <td>3</td>\n",
       "    </tr>\n",
       "  </tbody>\n",
       "</table>\n",
       "</div>"
      ],
      "text/plain": [
       "   Unit  Start.Date    End.Date  UID\n",
       "0   3.0  2016-06-05         NaN    1\n",
       "1  14.0  2007-03-29         NaN    1\n",
       "2  14.0  2007-03-29  2016-06-04    1\n",
       "3  15.0  2007-03-29         NaN    2\n",
       "5   1.0  1976-08-19  1976-08-20    3"
      ]
     },
     "execution_count": 365,
     "metadata": {},
     "output_type": "execute_result"
    }
   ],
   "source": [
    "um2 = pd.read_csv('../input/all-sworn-units.csv.gz')\n",
    "um2.dropna(thresh=4, axis=0, inplace=True)\n",
    "um2.dropna(subset=['Start.Date'],inplace=True)\n",
    "um2.drop('all-sworn-units_ID', inplace=True, axis=1)\n",
    "um2.loc[um2['End.Date'] < um2['Start.Date'], 'End.Date'] = np.nan\n",
    "um2.drop_duplicates(inplace=True)\n",
    "um2.head()"
   ]
  },
  {
   "cell_type": "code",
   "execution_count": 366,
   "metadata": {},
   "outputs": [
    {
     "data": {
      "text/html": [
       "<div>\n",
       "<style>\n",
       "    .dataframe thead tr:only-child th {\n",
       "        text-align: right;\n",
       "    }\n",
       "\n",
       "    .dataframe thead th {\n",
       "        text-align: left;\n",
       "    }\n",
       "\n",
       "    .dataframe tbody tr th {\n",
       "        vertical-align: top;\n",
       "    }\n",
       "</style>\n",
       "<table border=\"1\" class=\"dataframe\">\n",
       "  <thead>\n",
       "    <tr style=\"text-align: right;\">\n",
       "      <th></th>\n",
       "      <th>Unit</th>\n",
       "      <th>Start.Date</th>\n",
       "      <th>End.Date</th>\n",
       "      <th>UID</th>\n",
       "    </tr>\n",
       "  </thead>\n",
       "  <tbody>\n",
       "  </tbody>\n",
       "</table>\n",
       "</div>"
      ],
      "text/plain": [
       "Empty DataFrame\n",
       "Columns: [Unit, Start.Date, End.Date, UID]\n",
       "Index: []"
      ]
     },
     "execution_count": 366,
     "metadata": {},
     "output_type": "execute_result"
    }
   ],
   "source": [
    "um2[(um2['End.Date'].notnull()) & (um2['Start.Date']>um2['End.Date'])]"
   ]
  },
  {
   "cell_type": "code",
   "execution_count": 367,
   "metadata": {
    "collapsed": true
   },
   "outputs": [],
   "source": [
    "uh = pd.concat([um1, um2]).drop_duplicates()"
   ]
  },
  {
   "cell_type": "code",
   "execution_count": 368,
   "metadata": {},
   "outputs": [
    {
     "data": {
      "text/html": [
       "<div>\n",
       "<style>\n",
       "    .dataframe thead tr:only-child th {\n",
       "        text-align: right;\n",
       "    }\n",
       "\n",
       "    .dataframe thead th {\n",
       "        text-align: left;\n",
       "    }\n",
       "\n",
       "    .dataframe tbody tr th {\n",
       "        vertical-align: top;\n",
       "    }\n",
       "</style>\n",
       "<table border=\"1\" class=\"dataframe\">\n",
       "  <thead>\n",
       "    <tr style=\"text-align: right;\">\n",
       "      <th></th>\n",
       "      <th>Unit</th>\n",
       "      <th>Start.Date</th>\n",
       "      <th>End.Date</th>\n",
       "      <th>UID</th>\n",
       "    </tr>\n",
       "  </thead>\n",
       "  <tbody>\n",
       "    <tr>\n",
       "      <th>0</th>\n",
       "      <td>14.0</td>\n",
       "      <td>2007-03-29</td>\n",
       "      <td>NaN</td>\n",
       "      <td>1</td>\n",
       "    </tr>\n",
       "    <tr>\n",
       "      <th>2</th>\n",
       "      <td>15.0</td>\n",
       "      <td>2007-03-29</td>\n",
       "      <td>NaN</td>\n",
       "      <td>2</td>\n",
       "    </tr>\n",
       "    <tr>\n",
       "      <th>4</th>\n",
       "      <td>1.0</td>\n",
       "      <td>1976-08-19</td>\n",
       "      <td>1976-08-20</td>\n",
       "      <td>3</td>\n",
       "    </tr>\n",
       "    <tr>\n",
       "      <th>5</th>\n",
       "      <td>4.0</td>\n",
       "      <td>1971-01-16</td>\n",
       "      <td>1976-08-18</td>\n",
       "      <td>3</td>\n",
       "    </tr>\n",
       "    <tr>\n",
       "      <th>6</th>\n",
       "      <td>22.0</td>\n",
       "      <td>1970-06-15</td>\n",
       "      <td>1971-01-15</td>\n",
       "      <td>3</td>\n",
       "    </tr>\n",
       "  </tbody>\n",
       "</table>\n",
       "</div>"
      ],
      "text/plain": [
       "   Unit  Start.Date    End.Date  UID\n",
       "0  14.0  2007-03-29         NaN    1\n",
       "2  15.0  2007-03-29         NaN    2\n",
       "4   1.0  1976-08-19  1976-08-20    3\n",
       "5   4.0  1971-01-16  1976-08-18    3\n",
       "6  22.0  1970-06-15  1971-01-15    3"
      ]
     },
     "execution_count": 368,
     "metadata": {},
     "output_type": "execute_result"
    }
   ],
   "source": [
    "uh.head()"
   ]
  },
  {
   "cell_type": "code",
   "execution_count": 369,
   "metadata": {
    "collapsed": true
   },
   "outputs": [],
   "source": [
    "prof = pd.read_csv('officer-profiles.csv.gz')[['UID', 'Resignation.Date']]"
   ]
  },
  {
   "cell_type": "code",
   "execution_count": 279,
   "metadata": {
    "collapsed": true
   },
   "outputs": [],
   "source": [
    "prof = prof[(prof['UID'].isin(um1['UID'])) & (prof['Resignation.Date'].notnull())]"
   ]
  },
  {
   "cell_type": "code",
   "execution_count": 371,
   "metadata": {
    "collapsed": true
   },
   "outputs": [],
   "source": [
    "uh = uh.merge(prof, on='UID', how='left')"
   ]
  },
  {
   "cell_type": "code",
   "execution_count": 370,
   "metadata": {
    "collapsed": true
   },
   "outputs": [],
   "source": [
    "'''prof.columns = ['UID', 'End.Date']\n",
    "uh_ed = uh[uh['End.Date'].notnull()]\n",
    "uh_ned = uh[uh['End.Date'].isnull()].drop('End.Date', axis=1)\n",
    "uh_ned = uh_ned.merge(prof, on='UID', how='left')\n",
    "uh = uh_ed.append(uh_ned).reset_index(drop=True)\n",
    "uh.sort_values(['UID', 'Start.Date']).head()'''"
   ]
  },
  {
   "cell_type": "code",
   "execution_count": 375,
   "metadata": {
    "collapsed": true
   },
   "outputs": [],
   "source": [
    "uh.loc[(uh['Resignation.Date'].notnull()) & (uh['Start.Date'] > uh['Resignation.Date']), 'End.Date'] = np.nan"
   ]
  },
  {
   "cell_type": "code",
   "execution_count": 376,
   "metadata": {
    "collapsed": true
   },
   "outputs": [],
   "source": [
    "uh.loc[(uh['Resignation.Date'].notnull()) &\n",
    "       (uh['End.Date'].isnull()) &\n",
    "       (uh['Start.Date'] < uh['Resignation.Date']), 'End.Date'] =  uh.loc[(uh['Resignation.Date'].notnull()) &\n",
    "       (uh['End.Date'].isnull()) &\n",
    "       (uh['Start.Date'] < uh['Resignation.Date']), 'Resignation.Date']"
   ]
  },
  {
   "cell_type": "code",
   "execution_count": 379,
   "metadata": {},
   "outputs": [
    {
     "data": {
      "text/html": [
       "<div>\n",
       "<style>\n",
       "    .dataframe thead tr:only-child th {\n",
       "        text-align: right;\n",
       "    }\n",
       "\n",
       "    .dataframe thead th {\n",
       "        text-align: left;\n",
       "    }\n",
       "\n",
       "    .dataframe tbody tr th {\n",
       "        vertical-align: top;\n",
       "    }\n",
       "</style>\n",
       "<table border=\"1\" class=\"dataframe\">\n",
       "  <thead>\n",
       "    <tr style=\"text-align: right;\">\n",
       "      <th></th>\n",
       "      <th>Unit</th>\n",
       "      <th>Start.Date</th>\n",
       "      <th>End.Date</th>\n",
       "      <th>UID</th>\n",
       "      <th>Resignation.Date</th>\n",
       "    </tr>\n",
       "  </thead>\n",
       "  <tbody>\n",
       "    <tr>\n",
       "      <th>0</th>\n",
       "      <td>14.0</td>\n",
       "      <td>2007-03-29</td>\n",
       "      <td>NaN</td>\n",
       "      <td>1</td>\n",
       "      <td>NaN</td>\n",
       "    </tr>\n",
       "    <tr>\n",
       "      <th>1</th>\n",
       "      <td>15.0</td>\n",
       "      <td>2007-03-29</td>\n",
       "      <td>NaN</td>\n",
       "      <td>2</td>\n",
       "      <td>NaN</td>\n",
       "    </tr>\n",
       "    <tr>\n",
       "      <th>2</th>\n",
       "      <td>1.0</td>\n",
       "      <td>1976-08-19</td>\n",
       "      <td>1976-08-20</td>\n",
       "      <td>3</td>\n",
       "      <td>NaN</td>\n",
       "    </tr>\n",
       "    <tr>\n",
       "      <th>3</th>\n",
       "      <td>4.0</td>\n",
       "      <td>1971-01-16</td>\n",
       "      <td>1976-08-18</td>\n",
       "      <td>3</td>\n",
       "      <td>NaN</td>\n",
       "    </tr>\n",
       "    <tr>\n",
       "      <th>4</th>\n",
       "      <td>22.0</td>\n",
       "      <td>1970-06-15</td>\n",
       "      <td>1971-01-15</td>\n",
       "      <td>3</td>\n",
       "      <td>NaN</td>\n",
       "    </tr>\n",
       "  </tbody>\n",
       "</table>\n",
       "</div>"
      ],
      "text/plain": [
       "   Unit  Start.Date    End.Date  UID Resignation.Date\n",
       "0  14.0  2007-03-29         NaN    1              NaN\n",
       "1  15.0  2007-03-29         NaN    2              NaN\n",
       "2   1.0  1976-08-19  1976-08-20    3              NaN\n",
       "3   4.0  1971-01-16  1976-08-18    3              NaN\n",
       "4  22.0  1970-06-15  1971-01-15    3              NaN"
      ]
     },
     "execution_count": 379,
     "metadata": {},
     "output_type": "execute_result"
    }
   ],
   "source": [
    "uh.head()"
   ]
  },
  {
   "cell_type": "code",
   "execution_count": 380,
   "metadata": {
    "collapsed": true
   },
   "outputs": [],
   "source": [
    "uh_kd = aggregate_data(keep_duplicates(uh, ['UID','Start.Date', 'Unit']) , uid='UID', id_cols=['Start.Date', 'Unit'], max_cols = ['End.Date'])"
   ]
  },
  {
   "cell_type": "code",
   "execution_count": 381,
   "metadata": {
    "collapsed": true
   },
   "outputs": [],
   "source": [
    "uh = remove_duplicates(uh,['UID','Start.Date', 'Unit']).append(uh_kd)"
   ]
  },
  {
   "cell_type": "code",
   "execution_count": 382,
   "metadata": {},
   "outputs": [
    {
     "data": {
      "text/html": [
       "<div>\n",
       "<style>\n",
       "    .dataframe thead tr:only-child th {\n",
       "        text-align: right;\n",
       "    }\n",
       "\n",
       "    .dataframe thead th {\n",
       "        text-align: left;\n",
       "    }\n",
       "\n",
       "    .dataframe tbody tr th {\n",
       "        vertical-align: top;\n",
       "    }\n",
       "</style>\n",
       "<table border=\"1\" class=\"dataframe\">\n",
       "  <thead>\n",
       "    <tr style=\"text-align: right;\">\n",
       "      <th></th>\n",
       "      <th>End.Date</th>\n",
       "      <th>Resignation.Date</th>\n",
       "      <th>Start.Date</th>\n",
       "      <th>UID</th>\n",
       "      <th>Unit</th>\n",
       "    </tr>\n",
       "  </thead>\n",
       "  <tbody>\n",
       "    <tr>\n",
       "      <th>0</th>\n",
       "      <td>2016-06-04</td>\n",
       "      <td>NaN</td>\n",
       "      <td>2007-03-29</td>\n",
       "      <td>1</td>\n",
       "      <td>14.0</td>\n",
       "    </tr>\n",
       "    <tr>\n",
       "      <th>108697</th>\n",
       "      <td>NaN</td>\n",
       "      <td>NaN</td>\n",
       "      <td>2016-06-05</td>\n",
       "      <td>1</td>\n",
       "      <td>3.0</td>\n",
       "    </tr>\n",
       "    <tr>\n",
       "      <th>1</th>\n",
       "      <td>NaN</td>\n",
       "      <td>NaN</td>\n",
       "      <td>2007-03-29</td>\n",
       "      <td>2</td>\n",
       "      <td>15.0</td>\n",
       "    </tr>\n",
       "    <tr>\n",
       "      <th>4</th>\n",
       "      <td>1971-01-15</td>\n",
       "      <td>NaN</td>\n",
       "      <td>1970-06-15</td>\n",
       "      <td>3</td>\n",
       "      <td>22.0</td>\n",
       "    </tr>\n",
       "    <tr>\n",
       "      <th>3</th>\n",
       "      <td>1976-08-18</td>\n",
       "      <td>NaN</td>\n",
       "      <td>1971-01-16</td>\n",
       "      <td>3</td>\n",
       "      <td>4.0</td>\n",
       "    </tr>\n",
       "  </tbody>\n",
       "</table>\n",
       "</div>"
      ],
      "text/plain": [
       "          End.Date Resignation.Date  Start.Date  UID  Unit\n",
       "0       2016-06-04              NaN  2007-03-29    1  14.0\n",
       "108697         NaN              NaN  2016-06-05    1   3.0\n",
       "1              NaN              NaN  2007-03-29    2  15.0\n",
       "4       1971-01-15              NaN  1970-06-15    3  22.0\n",
       "3       1976-08-18              NaN  1971-01-16    3   4.0"
      ]
     },
     "execution_count": 382,
     "metadata": {},
     "output_type": "execute_result"
    }
   ],
   "source": [
    "uh.sort_values(['UID', 'Start.Date']).head()"
   ]
  },
  {
   "cell_type": "code",
   "execution_count": 383,
   "metadata": {},
   "outputs": [
    {
     "data": {
      "text/plain": [
       "'2016-10-09'"
      ]
     },
     "execution_count": 383,
     "metadata": {},
     "output_type": "execute_result"
    }
   ],
   "source": [
    "max(uh['Start.Date'].dropna())"
   ]
  },
  {
   "cell_type": "code",
   "execution_count": 384,
   "metadata": {},
   "outputs": [
    {
     "data": {
      "text/plain": [
       "'2017-08-24'"
      ]
     },
     "execution_count": 384,
     "metadata": {},
     "output_type": "execute_result"
    }
   ],
   "source": [
    "max(uh['End.Date'].dropna())"
   ]
  },
  {
   "cell_type": "code",
   "execution_count": 386,
   "metadata": {},
   "outputs": [
    {
     "data": {
      "text/html": [
       "<div>\n",
       "<style>\n",
       "    .dataframe thead tr:only-child th {\n",
       "        text-align: right;\n",
       "    }\n",
       "\n",
       "    .dataframe thead th {\n",
       "        text-align: left;\n",
       "    }\n",
       "\n",
       "    .dataframe tbody tr th {\n",
       "        vertical-align: top;\n",
       "    }\n",
       "</style>\n",
       "<table border=\"1\" class=\"dataframe\">\n",
       "  <thead>\n",
       "    <tr style=\"text-align: right;\">\n",
       "      <th></th>\n",
       "      <th>End.Date</th>\n",
       "      <th>Resignation.Date</th>\n",
       "      <th>Start.Date</th>\n",
       "      <th>UID</th>\n",
       "      <th>Unit</th>\n",
       "    </tr>\n",
       "  </thead>\n",
       "  <tbody>\n",
       "    <tr>\n",
       "      <th>856</th>\n",
       "      <td>2017-08-15</td>\n",
       "      <td>NaN</td>\n",
       "      <td>2006-06-13</td>\n",
       "      <td>8546</td>\n",
       "      <td>610.0</td>\n",
       "    </tr>\n",
       "    <tr>\n",
       "      <th>41863</th>\n",
       "      <td>2017-08-19</td>\n",
       "      <td>2017-08-19</td>\n",
       "      <td>1999-09-16</td>\n",
       "      <td>11359</td>\n",
       "      <td>2.0</td>\n",
       "    </tr>\n",
       "    <tr>\n",
       "      <th>48753</th>\n",
       "      <td>2017-08-19</td>\n",
       "      <td>2017-08-19</td>\n",
       "      <td>2015-01-15</td>\n",
       "      <td>13454</td>\n",
       "      <td>5.0</td>\n",
       "    </tr>\n",
       "    <tr>\n",
       "      <th>1335</th>\n",
       "      <td>2017-08-19</td>\n",
       "      <td>NaN</td>\n",
       "      <td>2000-06-22</td>\n",
       "      <td>13454</td>\n",
       "      <td>7.0</td>\n",
       "    </tr>\n",
       "    <tr>\n",
       "      <th>66639</th>\n",
       "      <td>2017-08-24</td>\n",
       "      <td>2017-08-24</td>\n",
       "      <td>2000-06-26</td>\n",
       "      <td>18928</td>\n",
       "      <td>2.0</td>\n",
       "    </tr>\n",
       "  </tbody>\n",
       "</table>\n",
       "</div>"
      ],
      "text/plain": [
       "         End.Date Resignation.Date  Start.Date    UID   Unit\n",
       "856    2017-08-15              NaN  2006-06-13   8546  610.0\n",
       "41863  2017-08-19       2017-08-19  1999-09-16  11359    2.0\n",
       "48753  2017-08-19       2017-08-19  2015-01-15  13454    5.0\n",
       "1335   2017-08-19              NaN  2000-06-22  13454    7.0\n",
       "66639  2017-08-24       2017-08-24  2000-06-26  18928    2.0"
      ]
     },
     "execution_count": 386,
     "metadata": {},
     "output_type": "execute_result"
    }
   ],
   "source": [
    "uh.sort_values('End.Date', ascending=True, na_position='first').tail(5)"
   ]
  },
  {
   "cell_type": "code",
   "execution_count": 391,
   "metadata": {},
   "outputs": [
    {
     "data": {
      "text/plain": [
       "Timestamp('2016-10-10 00:00:00', freq='D')"
      ]
     },
     "execution_count": 391,
     "metadata": {},
     "output_type": "execute_result"
    }
   ],
   "source": [
    "pd.to_datetime(pd.date_range(start = max(uh['Start.Date'].dropna()), periods=2, freq='D'))[1]"
   ]
  },
  {
   "cell_type": "code",
   "execution_count": 394,
   "metadata": {
    "collapsed": true
   },
   "outputs": [],
   "source": [
    "date_cap = pd.to_datetime(pd.date_range(start = max(uh['Start.Date'].dropna()), periods=2, freq='D'))[1].date()"
   ]
  },
  {
   "cell_type": "code",
   "execution_count": 395,
   "metadata": {},
   "outputs": [
    {
     "data": {
      "text/plain": [
       "datetime.date(2016, 10, 10)"
      ]
     },
     "execution_count": 395,
     "metadata": {},
     "output_type": "execute_result"
    }
   ],
   "source": [
    "date_cap"
   ]
  },
  {
   "cell_type": "code",
   "execution_count": 396,
   "metadata": {
    "collapsed": true
   },
   "outputs": [],
   "source": [
    "uh.loc[(uh['End.Date'].isnull()) | \n",
    "       (pd.to_datetime(uh['End.Date']) > date_cap),\n",
    "  'End.Date'] = pd.to_datetime(date_cap)\n",
    "uh['End.Date']= pd.to_datetime(uh['End.Date'])\n",
    "uh['Start.Date']= pd.to_datetime(uh['Start.Date'])"
   ]
  },
  {
   "cell_type": "code",
   "execution_count": 397,
   "metadata": {
    "collapsed": true
   },
   "outputs": [],
   "source": [
    "uh.reset_index(drop=True, inplace=True)"
   ]
  },
  {
   "cell_type": "code",
   "execution_count": 398,
   "metadata": {},
   "outputs": [
    {
     "data": {
      "text/html": [
       "<div>\n",
       "<style>\n",
       "    .dataframe thead tr:only-child th {\n",
       "        text-align: right;\n",
       "    }\n",
       "\n",
       "    .dataframe thead th {\n",
       "        text-align: left;\n",
       "    }\n",
       "\n",
       "    .dataframe tbody tr th {\n",
       "        vertical-align: top;\n",
       "    }\n",
       "</style>\n",
       "<table border=\"1\" class=\"dataframe\">\n",
       "  <thead>\n",
       "    <tr style=\"text-align: right;\">\n",
       "      <th></th>\n",
       "      <th>End.Date</th>\n",
       "      <th>Resignation.Date</th>\n",
       "      <th>Start.Date</th>\n",
       "      <th>UID</th>\n",
       "      <th>Unit</th>\n",
       "    </tr>\n",
       "  </thead>\n",
       "  <tbody>\n",
       "    <tr>\n",
       "      <th>0</th>\n",
       "      <td>2016-10-10</td>\n",
       "      <td>NaN</td>\n",
       "      <td>2016-06-05</td>\n",
       "      <td>1</td>\n",
       "      <td>3.0</td>\n",
       "    </tr>\n",
       "    <tr>\n",
       "      <th>1</th>\n",
       "      <td>2016-10-10</td>\n",
       "      <td>NaN</td>\n",
       "      <td>2007-03-29</td>\n",
       "      <td>2</td>\n",
       "      <td>15.0</td>\n",
       "    </tr>\n",
       "    <tr>\n",
       "      <th>2</th>\n",
       "      <td>1971-01-15</td>\n",
       "      <td>NaN</td>\n",
       "      <td>1970-06-15</td>\n",
       "      <td>3</td>\n",
       "      <td>22.0</td>\n",
       "    </tr>\n",
       "    <tr>\n",
       "      <th>3</th>\n",
       "      <td>1976-08-18</td>\n",
       "      <td>NaN</td>\n",
       "      <td>1971-01-16</td>\n",
       "      <td>3</td>\n",
       "      <td>4.0</td>\n",
       "    </tr>\n",
       "    <tr>\n",
       "      <th>4</th>\n",
       "      <td>1976-08-20</td>\n",
       "      <td>NaN</td>\n",
       "      <td>1976-08-19</td>\n",
       "      <td>3</td>\n",
       "      <td>1.0</td>\n",
       "    </tr>\n",
       "  </tbody>\n",
       "</table>\n",
       "</div>"
      ],
      "text/plain": [
       "    End.Date Resignation.Date  Start.Date  UID  Unit\n",
       "0 2016-10-10              NaN  2016-06-05    1   3.0\n",
       "1 2016-10-10              NaN  2007-03-29    2  15.0\n",
       "2 1971-01-15              NaN  1970-06-15    3  22.0\n",
       "3 1976-08-18              NaN  1971-01-16    3   4.0\n",
       "4 1976-08-20              NaN  1976-08-19    3   1.0"
      ]
     },
     "execution_count": 398,
     "metadata": {},
     "output_type": "execute_result"
    }
   ],
   "source": [
    "uh.head()"
   ]
  },
  {
   "cell_type": "code",
   "execution_count": 443,
   "metadata": {
    "collapsed": true
   },
   "outputs": [],
   "source": [
    "tuh = uh[['Start.Date', 'End.Date', 'UID', 'Unit']]"
   ]
  },
  {
   "cell_type": "code",
   "execution_count": 444,
   "metadata": {
    "collapsed": true
   },
   "outputs": [],
   "source": [
    "def expand_times(sd,ed,unit,uid):\n",
    "    outdf = pd.DataFrame(pd.date_range(start=sd, end=ed, freq='D', name='Date'))\n",
    "    outdf.insert(1, 'Unit', unit)\n",
    "    outdf.insert(2, 'UID', uid)\n",
    "    return outdf"
   ]
  },
  {
   "cell_type": "code",
   "execution_count": 446,
   "metadata": {},
   "outputs": [
    {
     "name": "stdout",
     "output_type": "stream",
     "text": [
      "207.50347900390625\n"
     ]
    }
   ],
   "source": [
    "import time\n",
    "start = time.time()\n",
    "full_df = pd.concat([expand_times(r['Start.Date'], r['End.Date'], r['Unit'], r['UID']) for i,r in tuh.iterrows()])\n",
    "end = time.time()\n",
    "print(end - start)"
   ]
  },
  {
   "cell_type": "code",
   "execution_count": 451,
   "metadata": {},
   "outputs": [
    {
     "data": {
      "text/plain": [
       "Index    1.924042\n",
       "Date     1.924042\n",
       "Unit     1.924042\n",
       "UID      1.924042\n",
       "dtype: float64"
      ]
     },
     "execution_count": 451,
     "metadata": {},
     "output_type": "execute_result"
    }
   ],
   "source": [
    "full_df.memory_usage() / 1e9"
   ]
  },
  {
   "cell_type": "code",
   "execution_count": 453,
   "metadata": {
    "collapsed": true
   },
   "outputs": [],
   "source": [
    "full_df = full_df[full_df['Date'] >= '2000-01-01']"
   ]
  },
  {
   "cell_type": "code",
   "execution_count": 454,
   "metadata": {},
   "outputs": [
    {
     "data": {
      "text/plain": [
       "Index    0.934583\n",
       "Date     0.934583\n",
       "Unit     0.934583\n",
       "UID      0.934583\n",
       "dtype: float64"
      ]
     },
     "execution_count": 454,
     "metadata": {},
     "output_type": "execute_result"
    }
   ],
   "source": [
    "full_df.memory_usage() / 1e9"
   ]
  },
  {
   "cell_type": "code",
   "execution_count": 455,
   "metadata": {},
   "outputs": [
    {
     "data": {
      "text/html": [
       "<div>\n",
       "<style>\n",
       "    .dataframe thead tr:only-child th {\n",
       "        text-align: right;\n",
       "    }\n",
       "\n",
       "    .dataframe thead th {\n",
       "        text-align: left;\n",
       "    }\n",
       "\n",
       "    .dataframe tbody tr th {\n",
       "        vertical-align: top;\n",
       "    }\n",
       "</style>\n",
       "<table border=\"1\" class=\"dataframe\">\n",
       "  <thead>\n",
       "    <tr style=\"text-align: right;\">\n",
       "      <th></th>\n",
       "      <th>Date</th>\n",
       "      <th>Unit</th>\n",
       "      <th>UID</th>\n",
       "    </tr>\n",
       "  </thead>\n",
       "  <tbody>\n",
       "    <tr>\n",
       "      <th>0</th>\n",
       "      <td>2016-06-05</td>\n",
       "      <td>3.0</td>\n",
       "      <td>1</td>\n",
       "    </tr>\n",
       "    <tr>\n",
       "      <th>1</th>\n",
       "      <td>2016-06-06</td>\n",
       "      <td>3.0</td>\n",
       "      <td>1</td>\n",
       "    </tr>\n",
       "    <tr>\n",
       "      <th>2</th>\n",
       "      <td>2016-06-07</td>\n",
       "      <td>3.0</td>\n",
       "      <td>1</td>\n",
       "    </tr>\n",
       "    <tr>\n",
       "      <th>3</th>\n",
       "      <td>2016-06-08</td>\n",
       "      <td>3.0</td>\n",
       "      <td>1</td>\n",
       "    </tr>\n",
       "    <tr>\n",
       "      <th>4</th>\n",
       "      <td>2016-06-09</td>\n",
       "      <td>3.0</td>\n",
       "      <td>1</td>\n",
       "    </tr>\n",
       "  </tbody>\n",
       "</table>\n",
       "</div>"
      ],
      "text/plain": [
       "        Date  Unit  UID\n",
       "0 2016-06-05   3.0    1\n",
       "1 2016-06-06   3.0    1\n",
       "2 2016-06-07   3.0    1\n",
       "3 2016-06-08   3.0    1\n",
       "4 2016-06-09   3.0    1"
      ]
     },
     "execution_count": 455,
     "metadata": {},
     "output_type": "execute_result"
    }
   ],
   "source": [
    "full_df.head()"
   ]
  },
  {
   "cell_type": "code",
   "execution_count": 297,
   "metadata": {
    "collapsed": true
   },
   "outputs": [],
   "source": [
    "uhm = uh.copy()"
   ]
  },
  {
   "cell_type": "code",
   "execution_count": 298,
   "metadata": {
    "collapsed": true
   },
   "outputs": [],
   "source": [
    "uhm['End.Date'] = uhm['End.Date'].map(lambda x: x.replace(day=1))"
   ]
  },
  {
   "cell_type": "code",
   "execution_count": 299,
   "metadata": {
    "collapsed": true
   },
   "outputs": [],
   "source": [
    "uhm['Start.Date'] = pd.to_datetime(uhm['Start.Date']).map(lambda x: x.replace(day=1))"
   ]
  },
  {
   "cell_type": "code",
   "execution_count": 327,
   "metadata": {},
   "outputs": [
    {
     "data": {
      "text/html": [
       "<div>\n",
       "<style>\n",
       "    .dataframe thead tr:only-child th {\n",
       "        text-align: right;\n",
       "    }\n",
       "\n",
       "    .dataframe thead th {\n",
       "        text-align: left;\n",
       "    }\n",
       "\n",
       "    .dataframe tbody tr th {\n",
       "        vertical-align: top;\n",
       "    }\n",
       "</style>\n",
       "<table border=\"1\" class=\"dataframe\">\n",
       "  <thead>\n",
       "    <tr style=\"text-align: right;\">\n",
       "      <th></th>\n",
       "      <th>End.Date</th>\n",
       "      <th>Start.Date</th>\n",
       "      <th>UID</th>\n",
       "      <th>Unit</th>\n",
       "      <th>TID</th>\n",
       "    </tr>\n",
       "  </thead>\n",
       "  <tbody>\n",
       "    <tr>\n",
       "      <th>0</th>\n",
       "      <td>2016-11-01</td>\n",
       "      <td>2016-06-01</td>\n",
       "      <td>1</td>\n",
       "      <td>3.0</td>\n",
       "      <td>1</td>\n",
       "    </tr>\n",
       "    <tr>\n",
       "      <th>1</th>\n",
       "      <td>2016-06-01</td>\n",
       "      <td>2007-03-01</td>\n",
       "      <td>1</td>\n",
       "      <td>14.0</td>\n",
       "      <td>1</td>\n",
       "    </tr>\n",
       "    <tr>\n",
       "      <th>2</th>\n",
       "      <td>2016-11-01</td>\n",
       "      <td>2007-03-01</td>\n",
       "      <td>2</td>\n",
       "      <td>15.0</td>\n",
       "      <td>2</td>\n",
       "    </tr>\n",
       "    <tr>\n",
       "      <th>3</th>\n",
       "      <td>1971-01-01</td>\n",
       "      <td>1970-06-01</td>\n",
       "      <td>3</td>\n",
       "      <td>22.0</td>\n",
       "      <td>3</td>\n",
       "    </tr>\n",
       "    <tr>\n",
       "      <th>4</th>\n",
       "      <td>1976-08-01</td>\n",
       "      <td>1971-01-01</td>\n",
       "      <td>3</td>\n",
       "      <td>4.0</td>\n",
       "      <td>3</td>\n",
       "    </tr>\n",
       "  </tbody>\n",
       "</table>\n",
       "</div>"
      ],
      "text/plain": [
       "    End.Date Start.Date  UID  Unit  TID\n",
       "0 2016-11-01 2016-06-01    1   3.0    1\n",
       "1 2016-06-01 2007-03-01    1  14.0    1\n",
       "2 2016-11-01 2007-03-01    2  15.0    2\n",
       "3 1971-01-01 1970-06-01    3  22.0    3\n",
       "4 1976-08-01 1971-01-01    3   4.0    3"
      ]
     },
     "execution_count": 327,
     "metadata": {},
     "output_type": "execute_result"
    }
   ],
   "source": [
    "uhm.head()"
   ]
  },
  {
   "cell_type": "code",
   "execution_count": 341,
   "metadata": {},
   "outputs": [
    {
     "data": {
      "text/plain": [
       "DatetimeIndex(['2016-06-01'], dtype='datetime64[ns]', freq=None)"
      ]
     },
     "execution_count": 341,
     "metadata": {},
     "output_type": "execute_result"
    }
   ],
   "source": [
    "pd.period_range('2016-06-01', '2016-11-01', periods=1).end_time"
   ]
  },
  {
   "cell_type": "code",
   "execution_count": 359,
   "metadata": {},
   "outputs": [
    {
     "data": {
      "text/html": [
       "<div>\n",
       "<style>\n",
       "    .dataframe thead tr:only-child th {\n",
       "        text-align: right;\n",
       "    }\n",
       "\n",
       "    .dataframe thead th {\n",
       "        text-align: left;\n",
       "    }\n",
       "\n",
       "    .dataframe tbody tr th {\n",
       "        vertical-align: top;\n",
       "    }\n",
       "</style>\n",
       "<table border=\"1\" class=\"dataframe\">\n",
       "  <thead>\n",
       "    <tr style=\"text-align: right;\">\n",
       "      <th></th>\n",
       "      <th>End.Date</th>\n",
       "      <th>Start.Date</th>\n",
       "      <th>UID</th>\n",
       "      <th>Unit</th>\n",
       "      <th>TID</th>\n",
       "    </tr>\n",
       "  </thead>\n",
       "  <tbody>\n",
       "    <tr>\n",
       "      <th>630</th>\n",
       "      <td>1981-09-01</td>\n",
       "      <td>1990-01-01</td>\n",
       "      <td>148</td>\n",
       "      <td>631.0</td>\n",
       "      <td>147</td>\n",
       "    </tr>\n",
       "    <tr>\n",
       "      <th>705</th>\n",
       "      <td>1986-03-01</td>\n",
       "      <td>1990-01-01</td>\n",
       "      <td>162</td>\n",
       "      <td>13.0</td>\n",
       "      <td>160</td>\n",
       "    </tr>\n",
       "    <tr>\n",
       "      <th>720</th>\n",
       "      <td>1981-06-01</td>\n",
       "      <td>1990-01-01</td>\n",
       "      <td>164</td>\n",
       "      <td>6.0</td>\n",
       "      <td>162</td>\n",
       "    </tr>\n",
       "    <tr>\n",
       "      <th>995</th>\n",
       "      <td>1986-06-01</td>\n",
       "      <td>1990-01-01</td>\n",
       "      <td>234</td>\n",
       "      <td>13.0</td>\n",
       "      <td>229</td>\n",
       "    </tr>\n",
       "    <tr>\n",
       "      <th>1127</th>\n",
       "      <td>1987-02-01</td>\n",
       "      <td>1990-01-01</td>\n",
       "      <td>271</td>\n",
       "      <td>11.0</td>\n",
       "      <td>266</td>\n",
       "    </tr>\n",
       "    <tr>\n",
       "      <th>1167</th>\n",
       "      <td>1981-03-01</td>\n",
       "      <td>1990-01-01</td>\n",
       "      <td>277</td>\n",
       "      <td>12.0</td>\n",
       "      <td>272</td>\n",
       "    </tr>\n",
       "    <tr>\n",
       "      <th>1173</th>\n",
       "      <td>1986-10-01</td>\n",
       "      <td>1990-01-01</td>\n",
       "      <td>279</td>\n",
       "      <td>1.0</td>\n",
       "      <td>274</td>\n",
       "    </tr>\n",
       "    <tr>\n",
       "      <th>1268</th>\n",
       "      <td>1983-09-01</td>\n",
       "      <td>1990-01-01</td>\n",
       "      <td>310</td>\n",
       "      <td>13.0</td>\n",
       "      <td>304</td>\n",
       "    </tr>\n",
       "    <tr>\n",
       "      <th>1432</th>\n",
       "      <td>1987-08-01</td>\n",
       "      <td>1990-01-01</td>\n",
       "      <td>341</td>\n",
       "      <td>12.0</td>\n",
       "      <td>334</td>\n",
       "    </tr>\n",
       "    <tr>\n",
       "      <th>1487</th>\n",
       "      <td>1986-08-01</td>\n",
       "      <td>1990-01-01</td>\n",
       "      <td>356</td>\n",
       "      <td>18.0</td>\n",
       "      <td>348</td>\n",
       "    </tr>\n",
       "    <tr>\n",
       "      <th>1943</th>\n",
       "      <td>1986-06-01</td>\n",
       "      <td>1990-01-01</td>\n",
       "      <td>464</td>\n",
       "      <td>12.0</td>\n",
       "      <td>455</td>\n",
       "    </tr>\n",
       "    <tr>\n",
       "      <th>2121</th>\n",
       "      <td>1986-02-01</td>\n",
       "      <td>1990-01-01</td>\n",
       "      <td>511</td>\n",
       "      <td>1.0</td>\n",
       "      <td>502</td>\n",
       "    </tr>\n",
       "    <tr>\n",
       "      <th>2302</th>\n",
       "      <td>1987-02-01</td>\n",
       "      <td>1990-01-01</td>\n",
       "      <td>555</td>\n",
       "      <td>7.0</td>\n",
       "      <td>544</td>\n",
       "    </tr>\n",
       "    <tr>\n",
       "      <th>2434</th>\n",
       "      <td>1985-08-01</td>\n",
       "      <td>1990-01-01</td>\n",
       "      <td>582</td>\n",
       "      <td>21.0</td>\n",
       "      <td>570</td>\n",
       "    </tr>\n",
       "    <tr>\n",
       "      <th>2462</th>\n",
       "      <td>1986-05-01</td>\n",
       "      <td>1990-01-01</td>\n",
       "      <td>590</td>\n",
       "      <td>19.0</td>\n",
       "      <td>578</td>\n",
       "    </tr>\n",
       "    <tr>\n",
       "      <th>2727</th>\n",
       "      <td>1987-05-01</td>\n",
       "      <td>1990-01-01</td>\n",
       "      <td>636</td>\n",
       "      <td>7.0</td>\n",
       "      <td>623</td>\n",
       "    </tr>\n",
       "    <tr>\n",
       "      <th>2934</th>\n",
       "      <td>1987-03-01</td>\n",
       "      <td>1990-01-01</td>\n",
       "      <td>680</td>\n",
       "      <td>3.0</td>\n",
       "      <td>666</td>\n",
       "    </tr>\n",
       "    <tr>\n",
       "      <th>3133</th>\n",
       "      <td>1981-03-01</td>\n",
       "      <td>1990-01-01</td>\n",
       "      <td>725</td>\n",
       "      <td>13.0</td>\n",
       "      <td>710</td>\n",
       "    </tr>\n",
       "    <tr>\n",
       "      <th>3203</th>\n",
       "      <td>1983-09-01</td>\n",
       "      <td>1990-01-01</td>\n",
       "      <td>741</td>\n",
       "      <td>19.0</td>\n",
       "      <td>726</td>\n",
       "    </tr>\n",
       "    <tr>\n",
       "      <th>3222</th>\n",
       "      <td>1986-06-01</td>\n",
       "      <td>1990-01-01</td>\n",
       "      <td>747</td>\n",
       "      <td>12.0</td>\n",
       "      <td>732</td>\n",
       "    </tr>\n",
       "    <tr>\n",
       "      <th>3303</th>\n",
       "      <td>1987-04-01</td>\n",
       "      <td>1990-01-01</td>\n",
       "      <td>762</td>\n",
       "      <td>25.0</td>\n",
       "      <td>747</td>\n",
       "    </tr>\n",
       "    <tr>\n",
       "      <th>3316</th>\n",
       "      <td>1981-03-01</td>\n",
       "      <td>1990-01-01</td>\n",
       "      <td>765</td>\n",
       "      <td>16.0</td>\n",
       "      <td>750</td>\n",
       "    </tr>\n",
       "    <tr>\n",
       "      <th>3377</th>\n",
       "      <td>1981-06-01</td>\n",
       "      <td>1990-01-01</td>\n",
       "      <td>777</td>\n",
       "      <td>152.0</td>\n",
       "      <td>762</td>\n",
       "    </tr>\n",
       "    <tr>\n",
       "      <th>3451</th>\n",
       "      <td>1983-11-01</td>\n",
       "      <td>1990-01-01</td>\n",
       "      <td>796</td>\n",
       "      <td>15.0</td>\n",
       "      <td>780</td>\n",
       "    </tr>\n",
       "    <tr>\n",
       "      <th>3607</th>\n",
       "      <td>2012-07-01</td>\n",
       "      <td>2013-08-01</td>\n",
       "      <td>836</td>\n",
       "      <td>1.0</td>\n",
       "      <td>819</td>\n",
       "    </tr>\n",
       "    <tr>\n",
       "      <th>3683</th>\n",
       "      <td>1987-06-01</td>\n",
       "      <td>1990-01-01</td>\n",
       "      <td>851</td>\n",
       "      <td>2.0</td>\n",
       "      <td>834</td>\n",
       "    </tr>\n",
       "    <tr>\n",
       "      <th>3934</th>\n",
       "      <td>1986-05-01</td>\n",
       "      <td>1990-01-01</td>\n",
       "      <td>912</td>\n",
       "      <td>8.0</td>\n",
       "      <td>895</td>\n",
       "    </tr>\n",
       "    <tr>\n",
       "      <th>4042</th>\n",
       "      <td>1985-03-01</td>\n",
       "      <td>1990-01-01</td>\n",
       "      <td>934</td>\n",
       "      <td>11.0</td>\n",
       "      <td>915</td>\n",
       "    </tr>\n",
       "    <tr>\n",
       "      <th>4127</th>\n",
       "      <td>1982-11-01</td>\n",
       "      <td>1990-01-01</td>\n",
       "      <td>948</td>\n",
       "      <td>1.0</td>\n",
       "      <td>929</td>\n",
       "    </tr>\n",
       "    <tr>\n",
       "      <th>4989</th>\n",
       "      <td>1984-11-01</td>\n",
       "      <td>1990-01-01</td>\n",
       "      <td>1135</td>\n",
       "      <td>11.0</td>\n",
       "      <td>1115</td>\n",
       "    </tr>\n",
       "    <tr>\n",
       "      <th>...</th>\n",
       "      <td>...</td>\n",
       "      <td>...</td>\n",
       "      <td>...</td>\n",
       "      <td>...</td>\n",
       "      <td>...</td>\n",
       "    </tr>\n",
       "    <tr>\n",
       "      <th>105334</th>\n",
       "      <td>1982-07-01</td>\n",
       "      <td>1990-01-01</td>\n",
       "      <td>31204</td>\n",
       "      <td>24.0</td>\n",
       "      <td>29152</td>\n",
       "    </tr>\n",
       "    <tr>\n",
       "      <th>105447</th>\n",
       "      <td>2012-08-01</td>\n",
       "      <td>2016-04-01</td>\n",
       "      <td>31232</td>\n",
       "      <td>19.0</td>\n",
       "      <td>29178</td>\n",
       "    </tr>\n",
       "    <tr>\n",
       "      <th>105552</th>\n",
       "      <td>1987-06-01</td>\n",
       "      <td>1990-01-01</td>\n",
       "      <td>31256</td>\n",
       "      <td>19.0</td>\n",
       "      <td>29201</td>\n",
       "    </tr>\n",
       "    <tr>\n",
       "      <th>105746</th>\n",
       "      <td>1983-12-01</td>\n",
       "      <td>1990-01-01</td>\n",
       "      <td>31322</td>\n",
       "      <td>2.0</td>\n",
       "      <td>29265</td>\n",
       "    </tr>\n",
       "    <tr>\n",
       "      <th>105772</th>\n",
       "      <td>1982-04-01</td>\n",
       "      <td>1990-01-01</td>\n",
       "      <td>31331</td>\n",
       "      <td>5.0</td>\n",
       "      <td>29274</td>\n",
       "    </tr>\n",
       "    <tr>\n",
       "      <th>105820</th>\n",
       "      <td>1981-06-01</td>\n",
       "      <td>1990-01-01</td>\n",
       "      <td>31346</td>\n",
       "      <td>3.0</td>\n",
       "      <td>29288</td>\n",
       "    </tr>\n",
       "    <tr>\n",
       "      <th>106058</th>\n",
       "      <td>1986-06-01</td>\n",
       "      <td>1990-01-01</td>\n",
       "      <td>31408</td>\n",
       "      <td>16.0</td>\n",
       "      <td>29348</td>\n",
       "    </tr>\n",
       "    <tr>\n",
       "      <th>106087</th>\n",
       "      <td>1983-06-01</td>\n",
       "      <td>1990-01-01</td>\n",
       "      <td>31418</td>\n",
       "      <td>18.0</td>\n",
       "      <td>29358</td>\n",
       "    </tr>\n",
       "    <tr>\n",
       "      <th>106108</th>\n",
       "      <td>1986-06-01</td>\n",
       "      <td>1990-01-01</td>\n",
       "      <td>31428</td>\n",
       "      <td>11.0</td>\n",
       "      <td>29365</td>\n",
       "    </tr>\n",
       "    <tr>\n",
       "      <th>106153</th>\n",
       "      <td>1987-06-01</td>\n",
       "      <td>1990-01-01</td>\n",
       "      <td>31441</td>\n",
       "      <td>2.0</td>\n",
       "      <td>29378</td>\n",
       "    </tr>\n",
       "    <tr>\n",
       "      <th>106164</th>\n",
       "      <td>1986-03-01</td>\n",
       "      <td>1990-01-01</td>\n",
       "      <td>31445</td>\n",
       "      <td>18.0</td>\n",
       "      <td>29382</td>\n",
       "    </tr>\n",
       "    <tr>\n",
       "      <th>106218</th>\n",
       "      <td>1984-12-01</td>\n",
       "      <td>1990-01-01</td>\n",
       "      <td>31460</td>\n",
       "      <td>3.0</td>\n",
       "      <td>29396</td>\n",
       "    </tr>\n",
       "    <tr>\n",
       "      <th>106348</th>\n",
       "      <td>1986-05-01</td>\n",
       "      <td>1990-01-01</td>\n",
       "      <td>31493</td>\n",
       "      <td>4.0</td>\n",
       "      <td>29429</td>\n",
       "    </tr>\n",
       "    <tr>\n",
       "      <th>106433</th>\n",
       "      <td>1981-06-01</td>\n",
       "      <td>1990-01-01</td>\n",
       "      <td>31525</td>\n",
       "      <td>15.0</td>\n",
       "      <td>29458</td>\n",
       "    </tr>\n",
       "    <tr>\n",
       "      <th>106470</th>\n",
       "      <td>1987-04-01</td>\n",
       "      <td>1990-01-01</td>\n",
       "      <td>31542</td>\n",
       "      <td>23.0</td>\n",
       "      <td>29473</td>\n",
       "    </tr>\n",
       "    <tr>\n",
       "      <th>106515</th>\n",
       "      <td>1981-07-01</td>\n",
       "      <td>1990-01-01</td>\n",
       "      <td>31555</td>\n",
       "      <td>650.0</td>\n",
       "      <td>29486</td>\n",
       "    </tr>\n",
       "    <tr>\n",
       "      <th>106946</th>\n",
       "      <td>2013-02-01</td>\n",
       "      <td>2016-01-01</td>\n",
       "      <td>31694</td>\n",
       "      <td>3.0</td>\n",
       "      <td>29612</td>\n",
       "    </tr>\n",
       "    <tr>\n",
       "      <th>107064</th>\n",
       "      <td>2012-10-01</td>\n",
       "      <td>2013-05-01</td>\n",
       "      <td>31734</td>\n",
       "      <td>18.0</td>\n",
       "      <td>29646</td>\n",
       "    </tr>\n",
       "    <tr>\n",
       "      <th>107162</th>\n",
       "      <td>1986-04-01</td>\n",
       "      <td>1990-01-01</td>\n",
       "      <td>31763</td>\n",
       "      <td>18.0</td>\n",
       "      <td>29674</td>\n",
       "    </tr>\n",
       "    <tr>\n",
       "      <th>107192</th>\n",
       "      <td>1987-02-01</td>\n",
       "      <td>1990-01-01</td>\n",
       "      <td>31775</td>\n",
       "      <td>9.0</td>\n",
       "      <td>29685</td>\n",
       "    </tr>\n",
       "    <tr>\n",
       "      <th>107256</th>\n",
       "      <td>1986-06-01</td>\n",
       "      <td>1990-01-01</td>\n",
       "      <td>31797</td>\n",
       "      <td>12.0</td>\n",
       "      <td>29707</td>\n",
       "    </tr>\n",
       "    <tr>\n",
       "      <th>107325</th>\n",
       "      <td>1986-04-01</td>\n",
       "      <td>1990-01-01</td>\n",
       "      <td>31813</td>\n",
       "      <td>8.0</td>\n",
       "      <td>29721</td>\n",
       "    </tr>\n",
       "    <tr>\n",
       "      <th>107329</th>\n",
       "      <td>1984-05-01</td>\n",
       "      <td>1990-01-01</td>\n",
       "      <td>31816</td>\n",
       "      <td>12.0</td>\n",
       "      <td>29724</td>\n",
       "    </tr>\n",
       "    <tr>\n",
       "      <th>107333</th>\n",
       "      <td>1982-02-01</td>\n",
       "      <td>1990-01-01</td>\n",
       "      <td>31818</td>\n",
       "      <td>24.0</td>\n",
       "      <td>29726</td>\n",
       "    </tr>\n",
       "    <tr>\n",
       "      <th>107350</th>\n",
       "      <td>1983-09-01</td>\n",
       "      <td>1990-01-01</td>\n",
       "      <td>31825</td>\n",
       "      <td>19.0</td>\n",
       "      <td>29733</td>\n",
       "    </tr>\n",
       "    <tr>\n",
       "      <th>107351</th>\n",
       "      <td>1981-06-01</td>\n",
       "      <td>1990-01-01</td>\n",
       "      <td>31826</td>\n",
       "      <td>18.0</td>\n",
       "      <td>29734</td>\n",
       "    </tr>\n",
       "    <tr>\n",
       "      <th>107352</th>\n",
       "      <td>1982-10-01</td>\n",
       "      <td>1990-01-01</td>\n",
       "      <td>31827</td>\n",
       "      <td>8.0</td>\n",
       "      <td>29735</td>\n",
       "    </tr>\n",
       "    <tr>\n",
       "      <th>107354</th>\n",
       "      <td>1984-02-01</td>\n",
       "      <td>1990-01-01</td>\n",
       "      <td>31829</td>\n",
       "      <td>16.0</td>\n",
       "      <td>29737</td>\n",
       "    </tr>\n",
       "    <tr>\n",
       "      <th>107393</th>\n",
       "      <td>1986-09-01</td>\n",
       "      <td>1990-01-01</td>\n",
       "      <td>31842</td>\n",
       "      <td>22.0</td>\n",
       "      <td>29749</td>\n",
       "    </tr>\n",
       "    <tr>\n",
       "      <th>107499</th>\n",
       "      <td>1987-07-01</td>\n",
       "      <td>1990-01-01</td>\n",
       "      <td>31876</td>\n",
       "      <td>9.0</td>\n",
       "      <td>29782</td>\n",
       "    </tr>\n",
       "  </tbody>\n",
       "</table>\n",
       "<p>1063 rows × 5 columns</p>\n",
       "</div>"
      ],
      "text/plain": [
       "         End.Date Start.Date    UID   Unit    TID\n",
       "630    1981-09-01 1990-01-01    148  631.0    147\n",
       "705    1986-03-01 1990-01-01    162   13.0    160\n",
       "720    1981-06-01 1990-01-01    164    6.0    162\n",
       "995    1986-06-01 1990-01-01    234   13.0    229\n",
       "1127   1987-02-01 1990-01-01    271   11.0    266\n",
       "1167   1981-03-01 1990-01-01    277   12.0    272\n",
       "1173   1986-10-01 1990-01-01    279    1.0    274\n",
       "1268   1983-09-01 1990-01-01    310   13.0    304\n",
       "1432   1987-08-01 1990-01-01    341   12.0    334\n",
       "1487   1986-08-01 1990-01-01    356   18.0    348\n",
       "1943   1986-06-01 1990-01-01    464   12.0    455\n",
       "2121   1986-02-01 1990-01-01    511    1.0    502\n",
       "2302   1987-02-01 1990-01-01    555    7.0    544\n",
       "2434   1985-08-01 1990-01-01    582   21.0    570\n",
       "2462   1986-05-01 1990-01-01    590   19.0    578\n",
       "2727   1987-05-01 1990-01-01    636    7.0    623\n",
       "2934   1987-03-01 1990-01-01    680    3.0    666\n",
       "3133   1981-03-01 1990-01-01    725   13.0    710\n",
       "3203   1983-09-01 1990-01-01    741   19.0    726\n",
       "3222   1986-06-01 1990-01-01    747   12.0    732\n",
       "3303   1987-04-01 1990-01-01    762   25.0    747\n",
       "3316   1981-03-01 1990-01-01    765   16.0    750\n",
       "3377   1981-06-01 1990-01-01    777  152.0    762\n",
       "3451   1983-11-01 1990-01-01    796   15.0    780\n",
       "3607   2012-07-01 2013-08-01    836    1.0    819\n",
       "3683   1987-06-01 1990-01-01    851    2.0    834\n",
       "3934   1986-05-01 1990-01-01    912    8.0    895\n",
       "4042   1985-03-01 1990-01-01    934   11.0    915\n",
       "4127   1982-11-01 1990-01-01    948    1.0    929\n",
       "4989   1984-11-01 1990-01-01   1135   11.0   1115\n",
       "...           ...        ...    ...    ...    ...\n",
       "105334 1982-07-01 1990-01-01  31204   24.0  29152\n",
       "105447 2012-08-01 2016-04-01  31232   19.0  29178\n",
       "105552 1987-06-01 1990-01-01  31256   19.0  29201\n",
       "105746 1983-12-01 1990-01-01  31322    2.0  29265\n",
       "105772 1982-04-01 1990-01-01  31331    5.0  29274\n",
       "105820 1981-06-01 1990-01-01  31346    3.0  29288\n",
       "106058 1986-06-01 1990-01-01  31408   16.0  29348\n",
       "106087 1983-06-01 1990-01-01  31418   18.0  29358\n",
       "106108 1986-06-01 1990-01-01  31428   11.0  29365\n",
       "106153 1987-06-01 1990-01-01  31441    2.0  29378\n",
       "106164 1986-03-01 1990-01-01  31445   18.0  29382\n",
       "106218 1984-12-01 1990-01-01  31460    3.0  29396\n",
       "106348 1986-05-01 1990-01-01  31493    4.0  29429\n",
       "106433 1981-06-01 1990-01-01  31525   15.0  29458\n",
       "106470 1987-04-01 1990-01-01  31542   23.0  29473\n",
       "106515 1981-07-01 1990-01-01  31555  650.0  29486\n",
       "106946 2013-02-01 2016-01-01  31694    3.0  29612\n",
       "107064 2012-10-01 2013-05-01  31734   18.0  29646\n",
       "107162 1986-04-01 1990-01-01  31763   18.0  29674\n",
       "107192 1987-02-01 1990-01-01  31775    9.0  29685\n",
       "107256 1986-06-01 1990-01-01  31797   12.0  29707\n",
       "107325 1986-04-01 1990-01-01  31813    8.0  29721\n",
       "107329 1984-05-01 1990-01-01  31816   12.0  29724\n",
       "107333 1982-02-01 1990-01-01  31818   24.0  29726\n",
       "107350 1983-09-01 1990-01-01  31825   19.0  29733\n",
       "107351 1981-06-01 1990-01-01  31826   18.0  29734\n",
       "107352 1982-10-01 1990-01-01  31827    8.0  29735\n",
       "107354 1984-02-01 1990-01-01  31829   16.0  29737\n",
       "107393 1986-09-01 1990-01-01  31842   22.0  29749\n",
       "107499 1987-07-01 1990-01-01  31876    9.0  29782\n",
       "\n",
       "[1063 rows x 5 columns]"
      ]
     },
     "execution_count": 359,
     "metadata": {},
     "output_type": "execute_result"
    }
   ],
   "source": [
    "uhm[uhm['Start.Date'] > uhm['End.Date']]"
   ]
  },
  {
   "cell_type": "code",
   "execution_count": 348,
   "metadata": {},
   "outputs": [
    {
     "data": {
      "text/plain": [
       "153"
      ]
     },
     "execution_count": 348,
     "metadata": {},
     "output_type": "execute_result"
    }
   ],
   "source": [
    "(pd.to_datetime('2016-11-01') - pd.to_datetime('2016-06-01')).days"
   ]
  },
  {
   "cell_type": "code",
   "execution_count": 351,
   "metadata": {},
   "outputs": [
    {
     "data": {
      "text/plain": [
       "Timestamp('2016-10-31 23:59:59.999999999')"
      ]
     },
     "execution_count": 351,
     "metadata": {},
     "output_type": "execute_result"
    }
   ],
   "source": [
    "pd.Period('2016-06-01', freq='153D').end_time"
   ]
  },
  {
   "cell_type": "code",
   "execution_count": 354,
   "metadata": {
    "collapsed": true
   },
   "outputs": [],
   "source": [
    "uhm['Start.Date'] = pd.to_datetime(uhm['Start.Date'])\n",
    "uhm['End.Date'] = pd.to_datetime(uhm['End.Date'])"
   ]
  },
  {
   "cell_type": "code",
   "execution_count": 357,
   "metadata": {
    "collapsed": true
   },
   "outputs": [],
   "source": [
    "def make_period(start, end):\n",
    "    freq = str((end-start).days + 1) + 'D'\n",
    "    return pd.Period(start, freq=freq)"
   ]
  },
  {
   "cell_type": "code",
   "execution_count": 358,
   "metadata": {},
   "outputs": [
    {
     "ename": "KeyError",
     "evalue": "('Start.Date', 'occurred at index End.Date')",
     "output_type": "error",
     "traceback": [
      "\u001b[0;31m---------------------------------------------------------------------------\u001b[0m",
      "\u001b[0;31mTypeError\u001b[0m                                 Traceback (most recent call last)",
      "\u001b[0;32mpandas/_libs/index.pyx\u001b[0m in \u001b[0;36mpandas._libs.index.IndexEngine.get_loc (pandas/_libs/index.c:5126)\u001b[0;34m()\u001b[0m\n",
      "\u001b[0;32mpandas/_libs/hashtable_class_helper.pxi\u001b[0m in \u001b[0;36mpandas._libs.hashtable.Int64HashTable.get_item (pandas/_libs/hashtable.c:14010)\u001b[0;34m()\u001b[0m\n",
      "\u001b[0;31mTypeError\u001b[0m: an integer is required",
      "\nDuring handling of the above exception, another exception occurred:\n",
      "\u001b[0;31mKeyError\u001b[0m                                  Traceback (most recent call last)",
      "\u001b[0;32m<ipython-input-358-6796fa0a079b>\u001b[0m in \u001b[0;36m<module>\u001b[0;34m()\u001b[0m\n\u001b[0;32m----> 1\u001b[0;31m \u001b[0muhm\u001b[0m\u001b[0;34m.\u001b[0m\u001b[0mapply\u001b[0m\u001b[0;34m(\u001b[0m\u001b[0;32mlambda\u001b[0m \u001b[0mrow\u001b[0m\u001b[0;34m:\u001b[0m \u001b[0mmake_period\u001b[0m\u001b[0;34m(\u001b[0m\u001b[0mstart\u001b[0m \u001b[0;34m=\u001b[0m \u001b[0mrow\u001b[0m\u001b[0;34m[\u001b[0m\u001b[0;34m'Start.Date'\u001b[0m\u001b[0;34m]\u001b[0m\u001b[0;34m,\u001b[0m \u001b[0mend\u001b[0m \u001b[0;34m=\u001b[0m \u001b[0mrow\u001b[0m\u001b[0;34m[\u001b[0m\u001b[0;34m'End.Date'\u001b[0m\u001b[0;34m]\u001b[0m\u001b[0;34m)\u001b[0m\u001b[0;34m)\u001b[0m\u001b[0;34m\u001b[0m\u001b[0m\n\u001b[0m",
      "\u001b[0;32m~/anaconda3/lib/python3.6/site-packages/pandas/core/frame.py\u001b[0m in \u001b[0;36mapply\u001b[0;34m(self, func, axis, broadcast, raw, reduce, args, **kwds)\u001b[0m\n\u001b[1;32m   4260\u001b[0m                         \u001b[0mf\u001b[0m\u001b[0;34m,\u001b[0m \u001b[0maxis\u001b[0m\u001b[0;34m,\u001b[0m\u001b[0;34m\u001b[0m\u001b[0m\n\u001b[1;32m   4261\u001b[0m                         \u001b[0mreduce\u001b[0m\u001b[0;34m=\u001b[0m\u001b[0mreduce\u001b[0m\u001b[0;34m,\u001b[0m\u001b[0;34m\u001b[0m\u001b[0m\n\u001b[0;32m-> 4262\u001b[0;31m                         ignore_failures=ignore_failures)\n\u001b[0m\u001b[1;32m   4263\u001b[0m             \u001b[0;32melse\u001b[0m\u001b[0;34m:\u001b[0m\u001b[0;34m\u001b[0m\u001b[0m\n\u001b[1;32m   4264\u001b[0m                 \u001b[0;32mreturn\u001b[0m \u001b[0mself\u001b[0m\u001b[0;34m.\u001b[0m\u001b[0m_apply_broadcast\u001b[0m\u001b[0;34m(\u001b[0m\u001b[0mf\u001b[0m\u001b[0;34m,\u001b[0m \u001b[0maxis\u001b[0m\u001b[0;34m)\u001b[0m\u001b[0;34m\u001b[0m\u001b[0m\n",
      "\u001b[0;32m~/anaconda3/lib/python3.6/site-packages/pandas/core/frame.py\u001b[0m in \u001b[0;36m_apply_standard\u001b[0;34m(self, func, axis, ignore_failures, reduce)\u001b[0m\n\u001b[1;32m   4356\u001b[0m             \u001b[0;32mtry\u001b[0m\u001b[0;34m:\u001b[0m\u001b[0;34m\u001b[0m\u001b[0m\n\u001b[1;32m   4357\u001b[0m                 \u001b[0;32mfor\u001b[0m \u001b[0mi\u001b[0m\u001b[0;34m,\u001b[0m \u001b[0mv\u001b[0m \u001b[0;32min\u001b[0m \u001b[0menumerate\u001b[0m\u001b[0;34m(\u001b[0m\u001b[0mseries_gen\u001b[0m\u001b[0;34m)\u001b[0m\u001b[0;34m:\u001b[0m\u001b[0;34m\u001b[0m\u001b[0m\n\u001b[0;32m-> 4358\u001b[0;31m                     \u001b[0mresults\u001b[0m\u001b[0;34m[\u001b[0m\u001b[0mi\u001b[0m\u001b[0;34m]\u001b[0m \u001b[0;34m=\u001b[0m \u001b[0mfunc\u001b[0m\u001b[0;34m(\u001b[0m\u001b[0mv\u001b[0m\u001b[0;34m)\u001b[0m\u001b[0;34m\u001b[0m\u001b[0m\n\u001b[0m\u001b[1;32m   4359\u001b[0m                     \u001b[0mkeys\u001b[0m\u001b[0;34m.\u001b[0m\u001b[0mappend\u001b[0m\u001b[0;34m(\u001b[0m\u001b[0mv\u001b[0m\u001b[0;34m.\u001b[0m\u001b[0mname\u001b[0m\u001b[0;34m)\u001b[0m\u001b[0;34m\u001b[0m\u001b[0m\n\u001b[1;32m   4360\u001b[0m             \u001b[0;32mexcept\u001b[0m \u001b[0mException\u001b[0m \u001b[0;32mas\u001b[0m \u001b[0me\u001b[0m\u001b[0;34m:\u001b[0m\u001b[0;34m\u001b[0m\u001b[0m\n",
      "\u001b[0;32m<ipython-input-358-6796fa0a079b>\u001b[0m in \u001b[0;36m<lambda>\u001b[0;34m(row)\u001b[0m\n\u001b[0;32m----> 1\u001b[0;31m \u001b[0muhm\u001b[0m\u001b[0;34m.\u001b[0m\u001b[0mapply\u001b[0m\u001b[0;34m(\u001b[0m\u001b[0;32mlambda\u001b[0m \u001b[0mrow\u001b[0m\u001b[0;34m:\u001b[0m \u001b[0mmake_period\u001b[0m\u001b[0;34m(\u001b[0m\u001b[0mstart\u001b[0m \u001b[0;34m=\u001b[0m \u001b[0mrow\u001b[0m\u001b[0;34m[\u001b[0m\u001b[0;34m'Start.Date'\u001b[0m\u001b[0;34m]\u001b[0m\u001b[0;34m,\u001b[0m \u001b[0mend\u001b[0m \u001b[0;34m=\u001b[0m \u001b[0mrow\u001b[0m\u001b[0;34m[\u001b[0m\u001b[0;34m'End.Date'\u001b[0m\u001b[0;34m]\u001b[0m\u001b[0;34m)\u001b[0m\u001b[0;34m)\u001b[0m\u001b[0;34m\u001b[0m\u001b[0m\n\u001b[0m",
      "\u001b[0;32m~/anaconda3/lib/python3.6/site-packages/pandas/core/series.py\u001b[0m in \u001b[0;36m__getitem__\u001b[0;34m(self, key)\u001b[0m\n\u001b[1;32m    599\u001b[0m         \u001b[0mkey\u001b[0m \u001b[0;34m=\u001b[0m \u001b[0mcom\u001b[0m\u001b[0;34m.\u001b[0m\u001b[0m_apply_if_callable\u001b[0m\u001b[0;34m(\u001b[0m\u001b[0mkey\u001b[0m\u001b[0;34m,\u001b[0m \u001b[0mself\u001b[0m\u001b[0;34m)\u001b[0m\u001b[0;34m\u001b[0m\u001b[0m\n\u001b[1;32m    600\u001b[0m         \u001b[0;32mtry\u001b[0m\u001b[0;34m:\u001b[0m\u001b[0;34m\u001b[0m\u001b[0m\n\u001b[0;32m--> 601\u001b[0;31m             \u001b[0mresult\u001b[0m \u001b[0;34m=\u001b[0m \u001b[0mself\u001b[0m\u001b[0;34m.\u001b[0m\u001b[0mindex\u001b[0m\u001b[0;34m.\u001b[0m\u001b[0mget_value\u001b[0m\u001b[0;34m(\u001b[0m\u001b[0mself\u001b[0m\u001b[0;34m,\u001b[0m \u001b[0mkey\u001b[0m\u001b[0;34m)\u001b[0m\u001b[0;34m\u001b[0m\u001b[0m\n\u001b[0m\u001b[1;32m    602\u001b[0m \u001b[0;34m\u001b[0m\u001b[0m\n\u001b[1;32m    603\u001b[0m             \u001b[0;32mif\u001b[0m \u001b[0;32mnot\u001b[0m \u001b[0mis_scalar\u001b[0m\u001b[0;34m(\u001b[0m\u001b[0mresult\u001b[0m\u001b[0;34m)\u001b[0m\u001b[0;34m:\u001b[0m\u001b[0;34m\u001b[0m\u001b[0m\n",
      "\u001b[0;32m~/anaconda3/lib/python3.6/site-packages/pandas/core/indexes/base.py\u001b[0m in \u001b[0;36mget_value\u001b[0;34m(self, series, key)\u001b[0m\n\u001b[1;32m   2475\u001b[0m         \u001b[0;32mtry\u001b[0m\u001b[0;34m:\u001b[0m\u001b[0;34m\u001b[0m\u001b[0m\n\u001b[1;32m   2476\u001b[0m             return self._engine.get_value(s, k,\n\u001b[0;32m-> 2477\u001b[0;31m                                           tz=getattr(series.dtype, 'tz', None))\n\u001b[0m\u001b[1;32m   2478\u001b[0m         \u001b[0;32mexcept\u001b[0m \u001b[0mKeyError\u001b[0m \u001b[0;32mas\u001b[0m \u001b[0me1\u001b[0m\u001b[0;34m:\u001b[0m\u001b[0;34m\u001b[0m\u001b[0m\n\u001b[1;32m   2479\u001b[0m             \u001b[0;32mif\u001b[0m \u001b[0mlen\u001b[0m\u001b[0;34m(\u001b[0m\u001b[0mself\u001b[0m\u001b[0;34m)\u001b[0m \u001b[0;34m>\u001b[0m \u001b[0;36m0\u001b[0m \u001b[0;32mand\u001b[0m \u001b[0mself\u001b[0m\u001b[0;34m.\u001b[0m\u001b[0minferred_type\u001b[0m \u001b[0;32min\u001b[0m \u001b[0;34m[\u001b[0m\u001b[0;34m'integer'\u001b[0m\u001b[0;34m,\u001b[0m \u001b[0;34m'boolean'\u001b[0m\u001b[0;34m]\u001b[0m\u001b[0;34m:\u001b[0m\u001b[0;34m\u001b[0m\u001b[0m\n",
      "\u001b[0;32mpandas/_libs/index.pyx\u001b[0m in \u001b[0;36mpandas._libs.index.IndexEngine.get_value (pandas/_libs/index.c:4404)\u001b[0;34m()\u001b[0m\n",
      "\u001b[0;32mpandas/_libs/index.pyx\u001b[0m in \u001b[0;36mpandas._libs.index.IndexEngine.get_value (pandas/_libs/index.c:4087)\u001b[0;34m()\u001b[0m\n",
      "\u001b[0;32mpandas/_libs/index.pyx\u001b[0m in \u001b[0;36mpandas._libs.index.IndexEngine.get_loc (pandas/_libs/index.c:5210)\u001b[0;34m()\u001b[0m\n",
      "\u001b[0;31mKeyError\u001b[0m: ('Start.Date', 'occurred at index End.Date')"
     ]
    }
   ],
   "source": [
    "uhm.apply(lambda row: make_period(start = row['Start.Date'], end = row['End.Date']))"
   ]
  },
  {
   "cell_type": "code",
   "execution_count": null,
   "metadata": {
    "collapsed": true
   },
   "outputs": [],
   "source": []
  }
 ],
 "metadata": {
  "kernelspec": {
   "display_name": "Python 3",
   "language": "python",
   "name": "python3"
  },
  "language_info": {
   "codemirror_mode": {
    "name": "ipython",
    "version": 3
   },
   "file_extension": ".py",
   "mimetype": "text/x-python",
   "name": "python",
   "nbconvert_exporter": "python",
   "pygments_lexer": "ipython3",
   "version": "3.6.2"
  }
 },
 "nbformat": 4,
 "nbformat_minor": 2
}
