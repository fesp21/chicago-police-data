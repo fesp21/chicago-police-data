{
 "cells": [
  {
   "cell_type": "code",
   "execution_count": 107,
   "metadata": {},
   "outputs": [
    {
     "name": "stdout",
     "output_type": "stream",
     "text": [
      "15494\n",
      "(125581, 14)\n"
     ]
    }
   ],
   "source": [
    "import pandas as pd\n",
    "import numpy as np\n",
    "import os\n",
    "import sys\n",
    "# My original function\n",
    "from ImportFunctions import *\n",
    "\n",
    "input_path = \"../input/\"\n",
    "out_path = \"../output/\"\n",
    "out_file = \"accused.csv\"\n",
    "\n",
    "files = [input_path + f for f in os.listdir(input_path)]\n",
    "\n",
    "data = pd.DataFrame()\n",
    "metadata = pd.DataFrame()\n",
    "\n",
    "for f in files:\n",
    "    df = ReadMessy(f)\n",
    "    df.insert(0, \"CRID\", (df[\"Number:\"]\n",
    "                            .fillna(method='ffill')\n",
    "                            .astype(int)))\n",
    "    df = (df.drop(\"Number:\", axis=1)\n",
    "            .dropna(thresh = 2))\n",
    "    df.columns = [\"CRID\", \"Full.Name\", \"Birth.Year\", \"Gender\", \"Race\", \"Appointed.Date\", \"Current.Unit\", \"Current.Rank\", \"Star\",\"Complaint.Category\", \"Recommended.Finding\", \"Recommended.Discipline\", \"Final.Finding\", \"Final.Discipline\"]\n",
    "    \n",
    "    data = (data\n",
    "            .append(df)\n",
    "            .reset_index(drop=True))\n",
    "\n",
    "    metadata = (metadata\n",
    "                    .append(metadata_dataset(df, f, out_file)\n",
    "                    .reset_index(drop=True)))\n",
    "print(len(data['Full.Name'].unique()))\n",
    "print(data.shape)"
   ]
  },
  {
   "cell_type": "code",
   "execution_count": 82,
   "metadata": {},
   "outputs": [],
   "source": [
    "def ReadMessy(path, add_skip=1):\n",
    "    df = pd.read_excel(path, rows=20)\n",
    "    col_list = df.columns.tolist()\n",
    "    # if [col if '\\n' in col or len(col) > 40 for col in col_list]:\n",
    "    #   metadata = True\n",
    "    Report_Produced_Date = [x for x in col_list if isinstance(x, datetime.datetime)]\n",
    "    col_list = [x for x in col_list if x not in Report_Produced_Date]\n",
    "    FOIA_Request = [x for x in col_list if 'FOIA' in x][0]\n",
    "\n",
    "    skip = np.where(df.iloc[:,0].str.contains('Number', na=False))[0][0]+add_skip\n",
    "    df = (pd.read_excel(path, skiprows=skip)\n",
    "            .dropna(how='all', axis=0)\n",
    "            .dropna(how='all', axis=1))\n",
    "\n",
    "    return df"
   ]
  },
  {
   "cell_type": "code",
   "execution_count": 37,
   "metadata": {},
   "outputs": [],
   "source": [
    "add_skip = 1\n",
    "row_sums = 0\n",
    "for path in files:\n",
    "    df = pd.read_excel(path, rows=20)\n",
    "    col_list = df.columns.tolist()\n",
    "    # if [col if '\\n' in col or len(col) > 40 for col in col_list]:\n",
    "    #   metadata = True\n",
    "    Report_Produced_Date = [x for x in col_list if isinstance(x, datetime.datetime)]\n",
    "    col_list = [x for x in col_list if x not in Report_Produced_Date]\n",
    "    FOIA_Request = [x for x in col_list if 'FOIA' in x][0]\n",
    "\n",
    "    skip = np.where(df.iloc[:,0].str.contains('Number', na=False))[0][0]+add_skip\n",
    "    df = (pd.read_excel(path, skiprows=skip)\n",
    "            .dropna(how='all', axis=0)\n",
    "            .dropna(how='all', axis=1))\n",
    "    df.insert(0, \"CRID\", (df[\"Number:\"]\n",
    "                            .fillna(method='ffill')\n",
    "                            .astype(int)))\n",
    "    df = df.drop(\"Number:\", axis=1)\n",
    "    df = df.dropna(thresh = len(df.columns.values)-1)\n",
    "    row_sums += df.shape[0]\n"
   ]
  },
  {
   "cell_type": "code",
   "execution_count": 38,
   "metadata": {},
   "outputs": [
    {
     "data": {
      "text/plain": [
       "84970"
      ]
     },
     "execution_count": 38,
     "metadata": {},
     "output_type": "execute_result"
    }
   ],
   "source": [
    "row_sums"
   ]
  },
  {
   "cell_type": "code",
   "execution_count": 40,
   "metadata": {},
   "outputs": [
    {
     "name": "stdout",
     "output_type": "stream",
     "text": [
      "10\n"
     ]
    }
   ],
   "source": [
    "path = files[1]\n",
    "df = pd.read_excel(path, rows=20)\n",
    "col_list = df.columns.tolist()\n",
    "Report_Produced_Date = [x for x in col_list if isinstance(x, datetime.datetime)]\n",
    "col_list = [x for x in col_list if x not in Report_Produced_Date]\n",
    "FOIA_Request = [x for x in col_list if 'FOIA' in x][0]\n",
    "skip = np.where(df.iloc[:,0].str.contains('Number', na=False))[0][0]+add_skip\n",
    "print(skip)"
   ]
  },
  {
   "cell_type": "code",
   "execution_count": 59,
   "metadata": {},
   "outputs": [
    {
     "name": "stdout",
     "output_type": "stream",
     "text": [
      "(28064, 16)\n",
      "(28064, 14)\n",
      "(28064, 14)\n",
      "(17414, 14)\n"
     ]
    }
   ],
   "source": [
    "df = pd.read_excel(path, skiprows=skip)\n",
    "print(df.shape)\n",
    "df = df.dropna(how='all', axis=0).dropna(how='all', axis=1)\n",
    "print(df.shape)\n",
    "df.insert(0, \"CRID\", (df[\"Number:\"]\n",
    "                            .fillna(method='ffill')\n",
    "                            .astype(int)))\n",
    "df = df.drop(\"Number:\", axis=1)\n",
    "print(df.shape)\n",
    "df = df.dropna(thresh = 1)\n",
    "print(df.shape)"
   ]
  },
  {
   "cell_type": "code",
   "execution_count": 102,
   "metadata": {},
   "outputs": [
    {
     "name": "stdout",
     "output_type": "stream",
     "text": [
      "(52106, 16)\n",
      "9376\n",
      "(52106, 16)\n",
      "9376\n",
      "(33173, 16)\n",
      "9375\n",
      "(33173, 14)\n",
      "9375\n",
      "*****\n",
      "(28064, 16)\n",
      "7045\n",
      "(28064, 16)\n",
      "7045\n",
      "(18202, 16)\n",
      "7044\n",
      "(18202, 14)\n",
      "7044\n",
      "*****\n",
      "(35083, 16)\n",
      "8261\n",
      "(35083, 16)\n",
      "8261\n",
      "(23153, 16)\n",
      "8260\n",
      "(23153, 14)\n",
      "8260\n",
      "*****\n",
      "(45525, 16)\n",
      "8724\n",
      "(45525, 16)\n",
      "8724\n",
      "(30209, 16)\n",
      "8723\n",
      "(30209, 14)\n",
      "8723\n",
      "*****\n",
      "(32249, 16)\n",
      "7793\n",
      "(32249, 16)\n",
      "7793\n",
      "(20844, 16)\n",
      "7792\n",
      "(20844, 14)\n",
      "7792\n",
      "*****\n",
      "(125581, 14)\n",
      "15494\n"
     ]
    }
   ],
   "source": [
    "# Tony's Code\n",
    "final_df = pd.DataFrame()\n",
    "def null_dropper(df):\n",
    "    buf = io.StringIO()\n",
    "    df.info(buf=buf)\n",
    "    s = buf.getvalue()\n",
    "    info_values = [re.split(\"\\\\s\\\\s+\",x) for x in s.split(\"\\n\")]\n",
    "    info_values = [x for x in info_values if len(x)>1]\n",
    "    info_values = [x[0] for x in info_values if x[1].startswith('0 non-null')]\n",
    "    df = df.drop(info_values,axis=1)\n",
    "    return df\n",
    "\n",
    "for file in files:\n",
    "    #df = pd.read_excel(in_path_nov_2016_report + file,nrows=20)\n",
    "    df = pd.read_excel(file, skip_rows=20)\n",
    "    ## Making Sure Every File contains date the file was created and the foia that created it\n",
    "    col_list = df.columns.tolist()\n",
    "    Report_Produced_Date = [x for x in col_list if isinstance(x, datetime.datetime)]\n",
    "    col_list = [x for x in col_list if isinstance(x, datetime.datetime)==False]\n",
    "    FOIA_Request = [x for x in col_list if 'FOIA' in x][0]\n",
    "    # +1 because of python indexing,\n",
    "    skip = np.where(df.iloc[:,0]==\"Number:\")[0][0]+1\n",
    "    #df = pd.read_excel(in_path_nov_2016_report + file, skiprows=skip)\n",
    "    df = pd.read_excel(file, skiprows=skip)\n",
    "    print(df.shape)\n",
    "    print(len(df['Accused:'].unique()))\n",
    "    df.dropna(how='all', inplace=True)\n",
    "    ## Remove leading and trailing whitespace from columns \n",
    "    df.columns = [col.strip() if col not in Report_Produced_Date else col for col in df.columns.tolist()]\n",
    "    ## Need to fill in Number\n",
    "    df['Number:'].fillna(method='ffill', inplace=True)\n",
    "    df['Number:'] = df['Number:'].astype(int)\n",
    "\n",
    "    ## Drops end of record \n",
    "    #print(df.head())\n",
    "    print(df.shape)\n",
    "    print(len(df['Accused:'].unique()))\n",
    "    df = df.dropna(thresh=2)\n",
    "    #df = df.dropna(subset=[\"Accused:\",\"Gender:\",\"Date of Appt:\",\"Star:\"],how=\"all\",axis=0)\n",
    "    #print(df.head())\n",
    "    print(df.shape)\n",
    "    print(len(df['Accused:'].unique()))\n",
    "\n",
    "\n",
    "    ## drops the significant number of columns that are all nulls\n",
    "    #df = null_dropper(df)\n",
    "    df = df.dropna(how='all', axis=1)\n",
    "    print(df.shape)\n",
    "    print(len(df['Accused:'].unique()))\n",
    "\n",
    "\n",
    "    ##print(df.head())\n",
    "    df.columns = [\"CRID\",\"Accused\",\"Accused_Birth_Year\",\"Accused_Gender\",\"Accused_Race_Code\",\"Date_of_Appt\",\"Current_Unit\",\"Current_Rank\",\n",
    "                  \"Star\",\"Complaint_Category\",\"Orig_Finding\",\"Orig_Recommended_Discipline\",\"Final_Finding\", \"Final_Recommended_Discipline\"]\n",
    "    final_df = final_df.append(df)\n",
    "    final_df.reset_index(drop=True,inplace=True)\n",
    "    print(\"*****\")\n",
    "print(final_df.shape)\n",
    "print(len(final_df['Accused'].unique()))"
   ]
  },
  {
   "cell_type": "code",
   "execution_count": null,
   "metadata": {
    "collapsed": true
   },
   "outputs": [],
   "source": []
  }
 ],
 "metadata": {
  "kernelspec": {
   "display_name": "Python 3",
   "language": "python",
   "name": "python3"
  },
  "language_info": {
   "codemirror_mode": {
    "name": "ipython",
    "version": 3
   },
   "file_extension": ".py",
   "mimetype": "text/x-python",
   "name": "python",
   "nbconvert_exporter": "python",
   "pygments_lexer": "ipython3",
   "version": "3.6.1"
  }
 },
 "nbformat": 4,
 "nbformat_minor": 2
}
