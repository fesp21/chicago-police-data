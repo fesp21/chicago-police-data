{
 "cells": [
  {
   "cell_type": "code",
   "execution_count": 365,
   "metadata": {
    "collapsed": true
   },
   "outputs": [],
   "source": [
    "import pandas as pd\n",
    "from AUIDFunctions import *\n",
    "uh = pd.read_csv(\"input/unit-history_demo.csv\")\n",
    "am = pd.read_csv(\"input/all-members_demo.csv\")\n",
    "ac = pd.read_csv(\"input/accused_demo.csv\")\n",
    "am = am.rename(columns = {'TID' : 'ID1'})\n",
    "uh = uh.rename(columns = {'TID' : 'ID2'})"
   ]
  },
  {
   "cell_type": "code",
   "execution_count": 368,
   "metadata": {},
   "outputs": [],
   "source": [
    "def intersect(a, b):\n",
    "     return list(set(a) & set(b))\n",
    "def setdiff(a,b):\n",
    "    return list(set(a) - set(b))\n",
    "def union(a,b):\n",
    "    return list(set(a) | set(b))"
   ]
  },
  {
   "cell_type": "code",
   "execution_count": 369,
   "metadata": {
    "collapsed": true
   },
   "outputs": [],
   "source": [
    "TakeFirst4 = lambda x: x[:4]\n",
    "BY_to_CA = lambda x: 2016 - x\n",
    "def AddColumns(df, add_cols = [\"F4FN\", \"F4LN\", \"Current.Age\", \"CA_BY\"]):\n",
    "    if \"F4FN\" in add_cols and \"First.Name\" in df.columns:\n",
    "            df['F4FN'] = df['First.Name'].map(TakeFirst4)\n",
    "    if \"F4LN\" in add_cols and 'Last.Name' in df.columns:\n",
    "            df['F4LN'] = df['Last.Name'].map(TakeFirst4)\n",
    "    if \"Current.Age\" in add_cols and \"Current.Age\" in df.columns:\n",
    "        df['Current.Age.p1'] = df['Current.Age']\n",
    "        df['Current.Age.m1'] = df['Current.Age']\n",
    "    if \"CA_BY\" in add_cols and \"Birth.Year\" in df.columns:\n",
    "        by_to_ca = lambda x: 2016 - x\n",
    "        df['Current.Age.p1'] = df['Birth.Year'].map(BY_to_CA)\n",
    "        df['Current.Age.m1'] = df['Birth.Year'].map(BY_to_CA) - 1  \n",
    "    return df\n",
    "\n"
   ]
  },
  {
   "cell_type": "code",
   "execution_count": 370,
   "metadata": {},
   "outputs": [
    {
     "name": "stdout",
     "output_type": "stream",
     "text": [
      "Index(['ID1', 'First.Name', 'Last.Name', 'Middle.Initial', 'Suffix.Name',\n",
      "       'Appointed.Date', 'Gender', 'Race', 'Birth.Year', 'F4FN', 'F4LN',\n",
      "       'Current.Age.p1', 'Current.Age.m1'],\n",
      "      dtype='object')\n",
      "Index(['ID2', 'First.Name', 'Last.Name', 'Middle.Initial', 'Suffix.Name',\n",
      "       'Appointed.Date', 'Current.Age', 'Gender', 'Race', 'Star1', 'Star2',\n",
      "       'Star3', 'Star4', 'Star5', 'Star6', 'Star7', 'Star8', 'Star9', 'Star10',\n",
      "       'Current.Unit', 'F4FN', 'F4LN', 'Current.Age.p1', 'Current.Age.m1'],\n",
      "      dtype='object')\n",
      "['First.Name', 'Last.Name', 'Middle.Initial', 'Suffix.Name', 'Appointed.Date', 'Gender', 'Race', 'F4FN', 'F4LN', 'Current.Age.p1', 'Current.Age.m1']\n"
     ]
    }
   ],
   "source": [
    "amd = am.dropna(axis=1, how='all')\n",
    "uhd = uh.dropna(axis=1, how='all')\n",
    "amd = AddColumns(amd)\n",
    "uhd = AddColumns(uhd)\n",
    "print(amd.columns)\n",
    "print(uhd.columns)\n",
    "cols = [col for col in amd.columns if col in uhd.columns]\n",
    "print(cols)"
   ]
  },
  {
   "cell_type": "code",
   "execution_count": 371,
   "metadata": {},
   "outputs": [
    {
     "name": "stdout",
     "output_type": "stream",
     "text": [
      "[]\n",
      "[]\n",
      "(1312, 16)\n",
      "(4289, 16)\n"
     ]
    }
   ],
   "source": [
    "mc = ['First.Name', 'Last.Name', \"Middle.Initial\", \"Suffix.Name\",'Appointed.Date', 'Gender', \"Race\", \"Current.Age.p1\"]\n",
    "amdmp = RemoveDuplicates(amdm)\n",
    "uhdmp = RemoveDuplicates(uhdm)\n",
    "t1 = amdmp.merge(uhdmp, on = mc, how ='inner')\n",
    "\n",
    "mc = ['First.Name', 'Last.Name', \"Middle.Initial\", \"Suffix.Name\",'Appointed.Date', 'Gender', \"Race\", \"Current.Age.m1\"]\n",
    "amdmp = RemoveDuplicates(amdm)\n",
    "uhdmp = RemoveDuplicates(uhdm)\n",
    "t2 = amdmp.merge(uhdmp, on = mc, how ='inner')\n",
    "\n",
    "print(intersect(t1['ID2'], t2['ID2']))\n",
    "print(intersect(t1['ID1'], t2['ID1']))\n",
    "print(t1.shape)\n",
    "print(t2.shape)"
   ]
  },
  {
   "cell_type": "code",
   "execution_count": 372,
   "metadata": {
    "collapsed": true
   },
   "outputs": [],
   "source": [
    "def LoopMerge(df1, df2, on_list, keep_columns = ['ID1', 'ID2']):\n",
    "    dfm = pd.DataFrame(columns = keep_columns + ['Match'])\n",
    "    # Generate on list?\n",
    "    for mc in on_list:\n",
    "        df1t = RemoveDuplicates(df1[keep_columns[:1] + mc], mc)\n",
    "        df2t = RemoveDuplicates(df2[keep_columns[1:] + mc], mc)\n",
    "        dfmt = df1t.merge(df2t, on=mc, how='inner')\n",
    "        if dfmt.shape[0] > 0:\n",
    "            print('******')\n",
    "            print(mc)\n",
    "            print(dfmt.shape[0])\n",
    "            dfmt['Match'] = '-'.join(mc)\n",
    "            dfm = dfm.append(dfmt[keep_columns + ['Match']].reset_index(drop=True))\n",
    "            df1 = df1.loc[~df1[keep_columns[0]].isin(dfm[keep_columns[0]])]\n",
    "            df2 = df2.loc[~df2[keep_columns[1]].isin(dfm[keep_columns[1]])]\n",
    "\n",
    "    print(df1.shape[0])\n",
    "    print(df2.shape[0])\n",
    "    return (dfm.reset_index(drop=True), df1, df2)\n",
    "\n"
   ]
  },
  {
   "cell_type": "code",
   "execution_count": 373,
   "metadata": {},
   "outputs": [
    {
     "name": "stdout",
     "output_type": "stream",
     "text": [
      "******\n",
      "['First.Name', 'Last.Name', 'Middle.Initial', 'Suffix.Name', 'Appointed.Date', 'Gender', 'Race', 'Current.Age.m1']\n",
      "4289\n",
      "******\n",
      "['First.Name', 'Last.Name', 'Middle.Initial', 'Suffix.Name', 'Appointed.Date', 'Gender', 'Race', 'Current.Age.p1']\n",
      "1312\n",
      "******\n",
      "['F4FN', 'F4LN', 'Middle.Initial', 'Suffix.Name', 'Appointed.Date', 'Gender', 'Race', 'Current.Age.m1']\n",
      "1\n",
      "******\n",
      "['First.Name', 'Last.Name', 'Suffix.Name', 'Appointed.Date', 'Gender', 'Race', 'Current.Age.m1']\n",
      "19949\n",
      "******\n",
      "['First.Name', 'Last.Name', 'Suffix.Name', 'Appointed.Date', 'Gender', 'Race', 'Current.Age.p1']\n",
      "6011\n",
      "******\n",
      "['F4FN', 'F4LN', 'Suffix.Name', 'Appointed.Date', 'Gender', 'Race', 'Current.Age.m1']\n",
      "3\n",
      "******\n",
      "['First.Name', 'Last.Name', 'Suffix.Name', 'Middle.Initial', 'Appointed.Date', 'Gender', 'Race']\n",
      "1\n",
      "******\n",
      "['First.Name', 'Last.Name', 'Suffix.Name', 'Appointed.Date', 'Gender', 'Race']\n",
      "2\n",
      "******\n",
      "['First.Name', 'Middle.Initial', 'Suffix.Name', 'Appointed.Date', 'Gender', 'Race', 'Current.Age.m1']\n",
      "4\n",
      "******\n",
      "['First.Name', 'Suffix.Name', 'Appointed.Date', 'Gender', 'Race', 'Current.Age.m1']\n",
      "7\n",
      "******\n",
      "['First.Name', 'Suffix.Name', 'Appointed.Date', 'Gender', 'Race', 'Current.Age.p1']\n",
      "3\n",
      "346\n",
      "15\n"
     ]
    }
   ],
   "source": [
    "m = LoopMerge(amdm, uhdm, on_list = [\n",
    "    ['First.Name', 'Last.Name', \"Middle.Initial\", \"Suffix.Name\",'Appointed.Date', 'Gender', \"Race\", \"Current.Age.m1\"],\n",
    "    ['First.Name', 'Last.Name', \"Middle.Initial\", \"Suffix.Name\",'Appointed.Date', 'Gender', \"Race\", \"Current.Age.p1\"],\n",
    "    ['F4FN', 'F4LN', \"Middle.Initial\", \"Suffix.Name\",'Appointed.Date', 'Gender', \"Race\", \"Current.Age.m1\"],\n",
    "    ['F4FN', 'F4LN', \"Middle.Initial\", \"Suffix.Name\",'Appointed.Date', 'Gender', \"Race\", \"Current.Age.p1\"],\n",
    "    ['First.Name', 'Last.Name', \"Middle.Initial\",'Appointed.Date', 'Gender', \"Race\", \"Current.Age.m1\"],\n",
    "    ['First.Name', 'Last.Name', \"Middle.Initial\",'Appointed.Date', 'Gender', \"Race\", \"Current.Age.p1\"],\n",
    "    ['F4FN', 'F4LN', \"Middle.Initial\",'Appointed.Date', 'Gender', \"Race\", \"Current.Age.m1\"],\n",
    "    ['F4FN', 'F4LN', \"Middle.Initial\",'Appointed.Date', 'Gender', \"Race\", \"Current.Age.p1\"],\n",
    "    ['First.Name', 'Last.Name', \"Suffix.Name\",'Appointed.Date', 'Gender', \"Race\", \"Current.Age.m1\"],\n",
    "    ['First.Name', 'Last.Name', \"Suffix.Name\",'Appointed.Date', 'Gender', \"Race\", \"Current.Age.p1\"],\n",
    "    ['F4FN', 'F4LN', \"Suffix.Name\",'Appointed.Date', 'Gender', \"Race\", \"Current.Age.m1\"],\n",
    "    ['F4FN', 'F4LN', \"Suffix.Name\",'Appointed.Date', 'Gender', \"Race\", \"Current.Age.p1\"],\n",
    "    ['First.Name', 'Last.Name',\"Suffix.Name\", \"Middle.Initial\",'Appointed.Date', 'Gender', \"Race\"],\n",
    "    ['F4FN', 'F4LN',\"Suffix.Name\", \"Middle.Initial\",'Appointed.Date', 'Gender', \"Race\"],\n",
    "    ['First.Name', 'Last.Name',\"Middle.Initial\",'Appointed.Date', 'Gender', \"Race\"],\n",
    "    ['F4FN', 'F4LN',\"Middle.Initial\",'Appointed.Date', 'Gender', \"Race\"],\n",
    "    ['First.Name', 'Last.Name', \"Suffix.Name\", 'Appointed.Date', 'Gender', \"Race\"],\n",
    "    ['F4FN', 'F4LN', \"Suffix.Name\", 'Appointed.Date', 'Gender', \"Race\"],\n",
    "    ['First.Name', \"Middle.Initial\", \"Suffix.Name\",'Appointed.Date', 'Gender', \"Race\", \"Current.Age.m1\"],\n",
    "    ['First.Name', \"Middle.Initial\", \"Suffix.Name\",'Appointed.Date', 'Gender', \"Race\", \"Current.Age.p1\"],\n",
    "    ['First.Name', \"Middle.Initial\",'Appointed.Date', 'Gender', \"Race\", \"Current.Age.m1\"],\n",
    "    ['First.Name', \"Middle.Initial\",'Appointed.Date', 'Gender', \"Race\", \"Current.Age.p1\"],\n",
    "    ['First.Name', \"Suffix.Name\",'Appointed.Date', 'Gender', \"Race\", \"Current.Age.m1\"],\n",
    "    ['First.Name', \"Suffix.Name\",'Appointed.Date', 'Gender', \"Race\", \"Current.Age.p1\"]\n",
    "])"
   ]
  },
  {
   "cell_type": "code",
   "execution_count": 374,
   "metadata": {
    "collapsed": true
   },
   "outputs": [],
   "source": [
    "def AppendToReference(ref, df):\n",
    "    return 0"
   ]
  },
  {
   "cell_type": "code",
   "execution_count": 375,
   "metadata": {
    "collapsed": true
   },
   "outputs": [],
   "source": [
    "uid_ref = pd.concat([m[0][[\"ID1\", \"ID2\"]], m[1][[\"ID1\"]], m[2][[\"ID2\"]]]).reset_index(drop=True)\n",
    "if \"UID\" not in uid_ref.columns:\n",
    "    uid_ref.insert(0, \"UID\", uid_ref.index + 1)"
   ]
  },
  {
   "cell_type": "code",
   "execution_count": 376,
   "metadata": {
    "collapsed": true
   },
   "outputs": [],
   "source": [
    "am = am.merge(uid_ref[[\"ID1\", \"UID\"]], on='ID1', how='left')\n",
    "uh = uh.merge(uid_ref[[\"ID2\", \"UID\"]], on='ID2', how='left')"
   ]
  },
  {
   "cell_type": "code",
   "execution_count": 389,
   "metadata": {},
   "outputs": [
    {
     "data": {
      "text/html": [
       "<div>\n",
       "<style>\n",
       "    .dataframe thead tr:only-child th {\n",
       "        text-align: right;\n",
       "    }\n",
       "\n",
       "    .dataframe thead th {\n",
       "        text-align: left;\n",
       "    }\n",
       "\n",
       "    .dataframe tbody tr th {\n",
       "        vertical-align: top;\n",
       "    }\n",
       "</style>\n",
       "<table border=\"1\" class=\"dataframe\">\n",
       "  <thead>\n",
       "    <tr style=\"text-align: right;\">\n",
       "      <th></th>\n",
       "      <th>Appointed.Date</th>\n",
       "      <th>Birth.Year</th>\n",
       "      <th>Current.Age</th>\n",
       "      <th>Current.Unit</th>\n",
       "      <th>First.Name</th>\n",
       "      <th>Gender</th>\n",
       "      <th>ID1</th>\n",
       "      <th>ID2</th>\n",
       "      <th>Last.Name</th>\n",
       "      <th>Middle.Initial</th>\n",
       "      <th>...</th>\n",
       "      <th>Star2</th>\n",
       "      <th>Star3</th>\n",
       "      <th>Star4</th>\n",
       "      <th>Star5</th>\n",
       "      <th>Star6</th>\n",
       "      <th>Star7</th>\n",
       "      <th>Star8</th>\n",
       "      <th>Star9</th>\n",
       "      <th>Suffix.Name</th>\n",
       "      <th>UID</th>\n",
       "    </tr>\n",
       "  </thead>\n",
       "  <tbody>\n",
       "    <tr>\n",
       "      <th>0</th>\n",
       "      <td>2005-09-26</td>\n",
       "      <td>1971.0</td>\n",
       "      <td>NaN</td>\n",
       "      <td>NaN</td>\n",
       "      <td>JEFFERY</td>\n",
       "      <td>MALE</td>\n",
       "      <td>1</td>\n",
       "      <td>NaN</td>\n",
       "      <td>AARON</td>\n",
       "      <td>M</td>\n",
       "      <td>...</td>\n",
       "      <td>NaN</td>\n",
       "      <td>NaN</td>\n",
       "      <td>NaN</td>\n",
       "      <td>NaN</td>\n",
       "      <td>NaN</td>\n",
       "      <td>NaN</td>\n",
       "      <td>NaN</td>\n",
       "      <td>NaN</td>\n",
       "      <td>NaN</td>\n",
       "      <td>5603</td>\n",
       "    </tr>\n",
       "    <tr>\n",
       "      <th>1</th>\n",
       "      <td>2005-09-26</td>\n",
       "      <td>1980.0</td>\n",
       "      <td>NaN</td>\n",
       "      <td>NaN</td>\n",
       "      <td>KARINA</td>\n",
       "      <td>FEMALE</td>\n",
       "      <td>2</td>\n",
       "      <td>NaN</td>\n",
       "      <td>AARON</td>\n",
       "      <td>NaN</td>\n",
       "      <td>...</td>\n",
       "      <td>NaN</td>\n",
       "      <td>NaN</td>\n",
       "      <td>NaN</td>\n",
       "      <td>NaN</td>\n",
       "      <td>NaN</td>\n",
       "      <td>NaN</td>\n",
       "      <td>NaN</td>\n",
       "      <td>NaN</td>\n",
       "      <td>NaN</td>\n",
       "      <td>1</td>\n",
       "    </tr>\n",
       "    <tr>\n",
       "      <th>2</th>\n",
       "      <td>1970-06-15</td>\n",
       "      <td>1942.0</td>\n",
       "      <td>NaN</td>\n",
       "      <td>NaN</td>\n",
       "      <td>DANIEL</td>\n",
       "      <td>MALE</td>\n",
       "      <td>3</td>\n",
       "      <td>NaN</td>\n",
       "      <td>ABATE</td>\n",
       "      <td>P</td>\n",
       "      <td>...</td>\n",
       "      <td>NaN</td>\n",
       "      <td>NaN</td>\n",
       "      <td>NaN</td>\n",
       "      <td>NaN</td>\n",
       "      <td>NaN</td>\n",
       "      <td>NaN</td>\n",
       "      <td>NaN</td>\n",
       "      <td>NaN</td>\n",
       "      <td>NaN</td>\n",
       "      <td>25552</td>\n",
       "    </tr>\n",
       "    <tr>\n",
       "      <th>3</th>\n",
       "      <td>1994-12-05</td>\n",
       "      <td>1968.0</td>\n",
       "      <td>NaN</td>\n",
       "      <td>NaN</td>\n",
       "      <td>ANTHONY</td>\n",
       "      <td>MALE</td>\n",
       "      <td>4</td>\n",
       "      <td>NaN</td>\n",
       "      <td>ABBATE</td>\n",
       "      <td>G</td>\n",
       "      <td>...</td>\n",
       "      <td>NaN</td>\n",
       "      <td>NaN</td>\n",
       "      <td>NaN</td>\n",
       "      <td>NaN</td>\n",
       "      <td>NaN</td>\n",
       "      <td>NaN</td>\n",
       "      <td>NaN</td>\n",
       "      <td>NaN</td>\n",
       "      <td>NaN</td>\n",
       "      <td>5604</td>\n",
       "    </tr>\n",
       "    <tr>\n",
       "      <th>4</th>\n",
       "      <td>1969-01-06</td>\n",
       "      <td>1942.0</td>\n",
       "      <td>NaN</td>\n",
       "      <td>NaN</td>\n",
       "      <td>CARMEL</td>\n",
       "      <td>MALE</td>\n",
       "      <td>5</td>\n",
       "      <td>NaN</td>\n",
       "      <td>ABBATE</td>\n",
       "      <td>G</td>\n",
       "      <td>...</td>\n",
       "      <td>NaN</td>\n",
       "      <td>NaN</td>\n",
       "      <td>NaN</td>\n",
       "      <td>NaN</td>\n",
       "      <td>NaN</td>\n",
       "      <td>NaN</td>\n",
       "      <td>NaN</td>\n",
       "      <td>NaN</td>\n",
       "      <td>NaN</td>\n",
       "      <td>5605</td>\n",
       "    </tr>\n",
       "  </tbody>\n",
       "</table>\n",
       "<p>5 rows × 23 columns</p>\n",
       "</div>"
      ],
      "text/plain": [
       "  Appointed.Date  Birth.Year  Current.Age  Current.Unit First.Name  Gender  \\\n",
       "0     2005-09-26      1971.0          NaN           NaN    JEFFERY    MALE   \n",
       "1     2005-09-26      1980.0          NaN           NaN     KARINA  FEMALE   \n",
       "2     1970-06-15      1942.0          NaN           NaN     DANIEL    MALE   \n",
       "3     1994-12-05      1968.0          NaN           NaN    ANTHONY    MALE   \n",
       "4     1969-01-06      1942.0          NaN           NaN     CARMEL    MALE   \n",
       "\n",
       "  ID1  ID2 Last.Name Middle.Initial  ...   Star2  Star3  Star4  Star5  Star6  \\\n",
       "0   1  NaN     AARON              M  ...     NaN    NaN    NaN    NaN    NaN   \n",
       "1   2  NaN     AARON            NaN  ...     NaN    NaN    NaN    NaN    NaN   \n",
       "2   3  NaN     ABATE              P  ...     NaN    NaN    NaN    NaN    NaN   \n",
       "3   4  NaN    ABBATE              G  ...     NaN    NaN    NaN    NaN    NaN   \n",
       "4   5  NaN    ABBATE              G  ...     NaN    NaN    NaN    NaN    NaN   \n",
       "\n",
       "   Star7  Star8  Star9  Suffix.Name    UID  \n",
       "0    NaN    NaN    NaN          NaN   5603  \n",
       "1    NaN    NaN    NaN          NaN      1  \n",
       "2    NaN    NaN    NaN          NaN  25552  \n",
       "3    NaN    NaN    NaN          NaN   5604  \n",
       "4    NaN    NaN    NaN          NaN   5605  \n",
       "\n",
       "[5 rows x 23 columns]"
      ]
     },
     "execution_count": 389,
     "metadata": {},
     "output_type": "execute_result"
    }
   ],
   "source": [
    "ref = pd.concat([am, uh])"
   ]
  },
  {
   "cell_type": "code",
   "execution_count": 391,
   "metadata": {
    "collapsed": true
   },
   "outputs": [],
   "source": [
    "profiles = AggregateData(ref, uid = \"UID\", id_cols = [],\n",
    "              max_cols = setdiff(ref.columns, [\"UID\"]))"
   ]
  },
  {
   "cell_type": "code",
   "execution_count": 392,
   "metadata": {},
   "outputs": [
    {
     "data": {
      "text/plain": [
       "Index(['UID', 'Star10', 'Star1', 'Current.Age', 'Birth.Year', 'Current.Unit',\n",
       "       'Last.Name', 'Star3', 'Star8', 'ID2', 'Star5', 'Star4', 'First.Name',\n",
       "       'Suffix.Name', 'Star9', 'Star6', 'Gender', 'Star7', 'Appointed.Date',\n",
       "       'ID1', 'Star2', 'Race'],\n",
       "      dtype='object')"
      ]
     },
     "execution_count": 392,
     "metadata": {},
     "output_type": "execute_result"
    }
   ],
   "source": [
    "profiles.columns"
   ]
  },
  {
   "cell_type": "code",
   "execution_count": 387,
   "metadata": {},
   "outputs": [
    {
     "name": "stdout",
     "output_type": "stream",
     "text": [
      "Index(['TID', 'First.Name', 'Last.Name', 'Middle.Initial', 'Suffix.Name',\n",
      "       'Appointed.Date', 'Birth.Year', 'Gender', 'Race', 'Current.Unit',\n",
      "       'Current.Rank', 'Star', 'F4FN', 'F4LN', 'Current.Age.p1',\n",
      "       'Current.Age.m1'],\n",
      "      dtype='object')\n",
      "Index(['UID', 'Star10', 'Star1', 'Current.Age', 'Birth.Year', 'Current.Unit',\n",
      "       'Last.Name', 'Star3', 'Star8', 'ID2', 'Star5', 'Star4', 'First.Name',\n",
      "       'Suffix.Name', 'Star9', 'Star6', 'Gender', 'Star7', 'Appointed.Date',\n",
      "       'ID1', 'Star2', 'Race'],\n",
      "      dtype='object')\n"
     ]
    }
   ],
   "source": [
    "acd = ac.dropna(axis=1, how='all')\n",
    "acd = AddColumns(acd)\n",
    "print(acd.columns)\n",
    "print(profiles.columns)"
   ]
  },
  {
   "cell_type": "code",
   "execution_count": 385,
   "metadata": {},
   "outputs": [
    {
     "ename": "KeyError",
     "evalue": "\"['Middle.Initial'] not in index\"",
     "output_type": "error",
     "traceback": [
      "\u001b[0;31m---------------------------------------------------------------------------\u001b[0m",
      "\u001b[0;31mKeyError\u001b[0m                                  Traceback (most recent call last)",
      "\u001b[0;32m<ipython-input-385-ec8d9bcaaaa6>\u001b[0m in \u001b[0;36m<module>\u001b[0;34m()\u001b[0m\n\u001b[1;32m     15\u001b[0m     \u001b[0;34m[\u001b[0m\u001b[0;34m'First.Name'\u001b[0m\u001b[0;34m,\u001b[0m \u001b[0;34m\"Middle.Initial\"\u001b[0m\u001b[0;34m,\u001b[0m\u001b[0;34m'Appointed.Date'\u001b[0m\u001b[0;34m,\u001b[0m \u001b[0;34m'Gender'\u001b[0m\u001b[0;34m,\u001b[0m \u001b[0;34m\"Race\"\u001b[0m\u001b[0;34m]\u001b[0m\u001b[0;34m,\u001b[0m\u001b[0;34m\u001b[0m\u001b[0m\n\u001b[1;32m     16\u001b[0m     \u001b[0;34m[\u001b[0m\u001b[0;34m'First.Name'\u001b[0m\u001b[0;34m,\u001b[0m \u001b[0;34m\"Suffix.Name\"\u001b[0m\u001b[0;34m,\u001b[0m\u001b[0;34m'Appointed.Date'\u001b[0m\u001b[0;34m,\u001b[0m \u001b[0;34m'Gender'\u001b[0m\u001b[0;34m,\u001b[0m \u001b[0;34m\"Race\"\u001b[0m\u001b[0;34m]\u001b[0m\u001b[0;34m\u001b[0m\u001b[0m\n\u001b[0;32m---> 17\u001b[0;31m ], keep_columns = [\"UID\", \"TID\"])\n\u001b[0m",
      "\u001b[0;32m<ipython-input-372-8d5ddc5a9c30>\u001b[0m in \u001b[0;36mLoopMerge\u001b[0;34m(df1, df2, on_list, keep_columns)\u001b[0m\n\u001b[1;32m      3\u001b[0m     \u001b[0;31m# Generate on list?\u001b[0m\u001b[0;34m\u001b[0m\u001b[0;34m\u001b[0m\u001b[0m\n\u001b[1;32m      4\u001b[0m     \u001b[0;32mfor\u001b[0m \u001b[0mmc\u001b[0m \u001b[0;32min\u001b[0m \u001b[0mon_list\u001b[0m\u001b[0;34m:\u001b[0m\u001b[0;34m\u001b[0m\u001b[0m\n\u001b[0;32m----> 5\u001b[0;31m         \u001b[0mdf1t\u001b[0m \u001b[0;34m=\u001b[0m \u001b[0mRemoveDuplicates\u001b[0m\u001b[0;34m(\u001b[0m\u001b[0mdf1\u001b[0m\u001b[0;34m[\u001b[0m\u001b[0mkeep_columns\u001b[0m\u001b[0;34m[\u001b[0m\u001b[0;34m:\u001b[0m\u001b[0;36m1\u001b[0m\u001b[0;34m]\u001b[0m \u001b[0;34m+\u001b[0m \u001b[0mmc\u001b[0m\u001b[0;34m]\u001b[0m\u001b[0;34m,\u001b[0m \u001b[0mmc\u001b[0m\u001b[0;34m)\u001b[0m\u001b[0;34m\u001b[0m\u001b[0m\n\u001b[0m\u001b[1;32m      6\u001b[0m         \u001b[0mdf2t\u001b[0m \u001b[0;34m=\u001b[0m \u001b[0mRemoveDuplicates\u001b[0m\u001b[0;34m(\u001b[0m\u001b[0mdf2\u001b[0m\u001b[0;34m[\u001b[0m\u001b[0mkeep_columns\u001b[0m\u001b[0;34m[\u001b[0m\u001b[0;36m1\u001b[0m\u001b[0;34m:\u001b[0m\u001b[0;34m]\u001b[0m \u001b[0;34m+\u001b[0m \u001b[0mmc\u001b[0m\u001b[0;34m]\u001b[0m\u001b[0;34m,\u001b[0m \u001b[0mmc\u001b[0m\u001b[0;34m)\u001b[0m\u001b[0;34m\u001b[0m\u001b[0m\n\u001b[1;32m      7\u001b[0m         \u001b[0mdfmt\u001b[0m \u001b[0;34m=\u001b[0m \u001b[0mdf1t\u001b[0m\u001b[0;34m.\u001b[0m\u001b[0mmerge\u001b[0m\u001b[0;34m(\u001b[0m\u001b[0mdf2t\u001b[0m\u001b[0;34m,\u001b[0m \u001b[0mon\u001b[0m\u001b[0;34m=\u001b[0m\u001b[0mmc\u001b[0m\u001b[0;34m,\u001b[0m \u001b[0mhow\u001b[0m\u001b[0;34m=\u001b[0m\u001b[0;34m'inner'\u001b[0m\u001b[0;34m)\u001b[0m\u001b[0;34m\u001b[0m\u001b[0m\n",
      "\u001b[0;32m/Users/invinst/anaconda3/lib/python3.6/site-packages/pandas/core/frame.py\u001b[0m in \u001b[0;36m__getitem__\u001b[0;34m(self, key)\u001b[0m\n\u001b[1;32m   2054\u001b[0m         \u001b[0;32mif\u001b[0m \u001b[0misinstance\u001b[0m\u001b[0;34m(\u001b[0m\u001b[0mkey\u001b[0m\u001b[0;34m,\u001b[0m \u001b[0;34m(\u001b[0m\u001b[0mSeries\u001b[0m\u001b[0;34m,\u001b[0m \u001b[0mnp\u001b[0m\u001b[0;34m.\u001b[0m\u001b[0mndarray\u001b[0m\u001b[0;34m,\u001b[0m \u001b[0mIndex\u001b[0m\u001b[0;34m,\u001b[0m \u001b[0mlist\u001b[0m\u001b[0;34m)\u001b[0m\u001b[0;34m)\u001b[0m\u001b[0;34m:\u001b[0m\u001b[0;34m\u001b[0m\u001b[0m\n\u001b[1;32m   2055\u001b[0m             \u001b[0;31m# either boolean or fancy integer index\u001b[0m\u001b[0;34m\u001b[0m\u001b[0;34m\u001b[0m\u001b[0m\n\u001b[0;32m-> 2056\u001b[0;31m             \u001b[0;32mreturn\u001b[0m \u001b[0mself\u001b[0m\u001b[0;34m.\u001b[0m\u001b[0m_getitem_array\u001b[0m\u001b[0;34m(\u001b[0m\u001b[0mkey\u001b[0m\u001b[0;34m)\u001b[0m\u001b[0;34m\u001b[0m\u001b[0m\n\u001b[0m\u001b[1;32m   2057\u001b[0m         \u001b[0;32melif\u001b[0m \u001b[0misinstance\u001b[0m\u001b[0;34m(\u001b[0m\u001b[0mkey\u001b[0m\u001b[0;34m,\u001b[0m \u001b[0mDataFrame\u001b[0m\u001b[0;34m)\u001b[0m\u001b[0;34m:\u001b[0m\u001b[0;34m\u001b[0m\u001b[0m\n\u001b[1;32m   2058\u001b[0m             \u001b[0;32mreturn\u001b[0m \u001b[0mself\u001b[0m\u001b[0;34m.\u001b[0m\u001b[0m_getitem_frame\u001b[0m\u001b[0;34m(\u001b[0m\u001b[0mkey\u001b[0m\u001b[0;34m)\u001b[0m\u001b[0;34m\u001b[0m\u001b[0m\n",
      "\u001b[0;32m/Users/invinst/anaconda3/lib/python3.6/site-packages/pandas/core/frame.py\u001b[0m in \u001b[0;36m_getitem_array\u001b[0;34m(self, key)\u001b[0m\n\u001b[1;32m   2098\u001b[0m             \u001b[0;32mreturn\u001b[0m \u001b[0mself\u001b[0m\u001b[0;34m.\u001b[0m\u001b[0mtake\u001b[0m\u001b[0;34m(\u001b[0m\u001b[0mindexer\u001b[0m\u001b[0;34m,\u001b[0m \u001b[0maxis\u001b[0m\u001b[0;34m=\u001b[0m\u001b[0;36m0\u001b[0m\u001b[0;34m,\u001b[0m \u001b[0mconvert\u001b[0m\u001b[0;34m=\u001b[0m\u001b[0;32mFalse\u001b[0m\u001b[0;34m)\u001b[0m\u001b[0;34m\u001b[0m\u001b[0m\n\u001b[1;32m   2099\u001b[0m         \u001b[0;32melse\u001b[0m\u001b[0;34m:\u001b[0m\u001b[0;34m\u001b[0m\u001b[0m\n\u001b[0;32m-> 2100\u001b[0;31m             \u001b[0mindexer\u001b[0m \u001b[0;34m=\u001b[0m \u001b[0mself\u001b[0m\u001b[0;34m.\u001b[0m\u001b[0mloc\u001b[0m\u001b[0;34m.\u001b[0m\u001b[0m_convert_to_indexer\u001b[0m\u001b[0;34m(\u001b[0m\u001b[0mkey\u001b[0m\u001b[0;34m,\u001b[0m \u001b[0maxis\u001b[0m\u001b[0;34m=\u001b[0m\u001b[0;36m1\u001b[0m\u001b[0;34m)\u001b[0m\u001b[0;34m\u001b[0m\u001b[0m\n\u001b[0m\u001b[1;32m   2101\u001b[0m             \u001b[0;32mreturn\u001b[0m \u001b[0mself\u001b[0m\u001b[0;34m.\u001b[0m\u001b[0mtake\u001b[0m\u001b[0;34m(\u001b[0m\u001b[0mindexer\u001b[0m\u001b[0;34m,\u001b[0m \u001b[0maxis\u001b[0m\u001b[0;34m=\u001b[0m\u001b[0;36m1\u001b[0m\u001b[0;34m,\u001b[0m \u001b[0mconvert\u001b[0m\u001b[0;34m=\u001b[0m\u001b[0;32mTrue\u001b[0m\u001b[0;34m)\u001b[0m\u001b[0;34m\u001b[0m\u001b[0m\n\u001b[1;32m   2102\u001b[0m \u001b[0;34m\u001b[0m\u001b[0m\n",
      "\u001b[0;32m/Users/invinst/anaconda3/lib/python3.6/site-packages/pandas/core/indexing.py\u001b[0m in \u001b[0;36m_convert_to_indexer\u001b[0;34m(self, obj, axis, is_setter)\u001b[0m\n\u001b[1;32m   1229\u001b[0m                 \u001b[0mmask\u001b[0m \u001b[0;34m=\u001b[0m \u001b[0mcheck\u001b[0m \u001b[0;34m==\u001b[0m \u001b[0;34m-\u001b[0m\u001b[0;36m1\u001b[0m\u001b[0;34m\u001b[0m\u001b[0m\n\u001b[1;32m   1230\u001b[0m                 \u001b[0;32mif\u001b[0m \u001b[0mmask\u001b[0m\u001b[0;34m.\u001b[0m\u001b[0many\u001b[0m\u001b[0;34m(\u001b[0m\u001b[0;34m)\u001b[0m\u001b[0;34m:\u001b[0m\u001b[0;34m\u001b[0m\u001b[0m\n\u001b[0;32m-> 1231\u001b[0;31m                     \u001b[0;32mraise\u001b[0m \u001b[0mKeyError\u001b[0m\u001b[0;34m(\u001b[0m\u001b[0;34m'%s not in index'\u001b[0m \u001b[0;34m%\u001b[0m \u001b[0mobjarr\u001b[0m\u001b[0;34m[\u001b[0m\u001b[0mmask\u001b[0m\u001b[0;34m]\u001b[0m\u001b[0;34m)\u001b[0m\u001b[0;34m\u001b[0m\u001b[0m\n\u001b[0m\u001b[1;32m   1232\u001b[0m \u001b[0;34m\u001b[0m\u001b[0m\n\u001b[1;32m   1233\u001b[0m                 \u001b[0;32mreturn\u001b[0m \u001b[0m_values_from_object\u001b[0m\u001b[0;34m(\u001b[0m\u001b[0mindexer\u001b[0m\u001b[0;34m)\u001b[0m\u001b[0;34m\u001b[0m\u001b[0m\n",
      "\u001b[0;31mKeyError\u001b[0m: \"['Middle.Initial'] not in index\""
     ]
    }
   ],
   "source": [
    "m = LoopMerge(profiles, acd, on_list = [\n",
    "    ['First.Name', 'Last.Name', \"Middle.Initial\", \"Suffix.Name\",'Appointed.Date', 'Gender', \"Race\"],\n",
    "    ['F4FN', 'F4LN', \"Middle.Initial\", \"Suffix.Name\",'Appointed.Date', 'Gender', \"Race\"],\n",
    "    ['First.Name', 'Last.Name', \"Middle.Initial\",'Appointed.Date', 'Gender', \"Race\"],\n",
    "    ['F4FN', 'F4LN', \"Middle.Initial\",'Appointed.Date', 'Gender', \"Race\"],\n",
    "    ['First.Name', 'Last.Name', \"Suffix.Name\",'Appointed.Date', 'Gender', \"Race\"],\n",
    "    ['F4FN', 'F4LN', \"Suffix.Name\",'Appointed.Date', 'Gender', \"Race\"],\n",
    "    ['First.Name', 'Last.Name',\"Suffix.Name\", \"Middle.Initial\",'Appointed.Date', 'Gender', \"Race\"],\n",
    "    ['F4FN', 'F4LN',\"Suffix.Name\", \"Middle.Initial\",'Appointed.Date', 'Gender', \"Race\"],\n",
    "    ['First.Name', 'Last.Name',\"Middle.Initial\",'Appointed.Date', 'Gender', \"Race\"],\n",
    "    ['F4FN', 'F4LN',\"Middle.Initial\",'Appointed.Date', 'Gender', \"Race\"],\n",
    "    ['First.Name', 'Last.Name', \"Suffix.Name\", 'Appointed.Date', 'Gender', \"Race\"],\n",
    "    ['F4FN', 'F4LN', \"Suffix.Name\", 'Appointed.Date', 'Gender', \"Race\"],\n",
    "    ['First.Name', \"Middle.Initial\", \"Suffix.Name\",'Appointed.Date', 'Gender', \"Race\"],\n",
    "    ['First.Name', \"Middle.Initial\",'Appointed.Date', 'Gender', \"Race\"],\n",
    "    ['First.Name', \"Suffix.Name\",'Appointed.Date', 'Gender', \"Race\"]\n",
    "], keep_columns = [\"UID\", \"TID\"])"
   ]
  },
  {
   "cell_type": "code",
   "execution_count": null,
   "metadata": {
    "collapsed": true
   },
   "outputs": [],
   "source": []
  }
 ],
 "metadata": {
  "kernelspec": {
   "display_name": "Python 3",
   "language": "python",
   "name": "python3"
  },
  "language_info": {
   "codemirror_mode": {
    "name": "ipython",
    "version": 3
   },
   "file_extension": ".py",
   "mimetype": "text/x-python",
   "name": "python",
   "nbconvert_exporter": "python",
   "pygments_lexer": "ipython3",
   "version": "3.6.1"
  }
 },
 "nbformat": 4,
 "nbformat_minor": 2
}
