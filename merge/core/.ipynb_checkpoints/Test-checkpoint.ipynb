{
 "cells": [
  {
   "cell_type": "code",
   "execution_count": 38,
   "metadata": {
    "collapsed": true
   },
   "outputs": [],
   "source": [
    "import pandas as pd\n",
    "from AUIDFunctions import *\n",
    "import inspect\n",
    "uh = pd.read_csv(\"input/unit-history_demo.csv\")\n",
    "am = pd.read_csv(\"input/all-members_demo.csv\")\n",
    "ac = pd.read_csv(\"input/accused_demo.csv\", dtype={\"Middle.Initial\":str})\n",
    "am = am.rename(columns = {'TID' : 'ID1'})\n",
    "uh = uh.rename(columns = {'TID' : 'ID2'})"
   ]
  },
  {
   "cell_type": "code",
   "execution_count": 39,
   "metadata": {
    "collapsed": true
   },
   "outputs": [],
   "source": [
    "def intersect(a, b):\n",
    "     return list(set(a) & set(b))\n",
    "def setdiff(a,b):\n",
    "    return list(set(a) - set(b))\n",
    "def union(a,b):\n",
    "    return list(set(a) | set(b))"
   ]
  },
  {
   "cell_type": "code",
   "execution_count": 40,
   "metadata": {
    "collapsed": true
   },
   "outputs": [],
   "source": [
    "TakeFirst4 = lambda x: x[:4]\n",
    "BY_to_CA = lambda x: 2016 - x\n",
    "def AddColumns(df, add_cols = [\"F4FN\", \"F4LN\", \"Current.Age\", \"CA_BY\"]):\n",
    "    if \"F4FN\" in add_cols and \"First.Name\" in df.columns:\n",
    "            df['F4FN'] = df['First.Name'].map(TakeFirst4)\n",
    "    if \"F4LN\" in add_cols and 'Last.Name' in df.columns:\n",
    "            df['F4LN'] = df['Last.Name'].map(TakeFirst4)\n",
    "    if \"Current.Age\" in add_cols and \"Current.Age\" in df.columns:\n",
    "        df['Current.Age.p1'] = df['Current.Age']\n",
    "        df['Current.Age.m1'] = df['Current.Age']\n",
    "    if \"CA_BY\" in add_cols and \"Birth.Year\" in df.columns:\n",
    "        by_to_ca = lambda x: 2016 - x\n",
    "        df['Current.Age.p1'] = df['Birth.Year'].map(BY_to_CA)\n",
    "        df['Current.Age.m1'] = df['Birth.Year'].map(BY_to_CA) - 1  \n",
    "    return df\n",
    "\n"
   ]
  },
  {
   "cell_type": "code",
   "execution_count": 41,
   "metadata": {},
   "outputs": [
    {
     "name": "stdout",
     "output_type": "stream",
     "text": [
      "Index(['ID1', 'First.Name', 'Last.Name', 'Middle.Initial', 'Suffix.Name',\n",
      "       'Appointed.Date', 'Gender', 'Race', 'Birth.Year', 'F4FN', 'F4LN',\n",
      "       'Current.Age.p1', 'Current.Age.m1'],\n",
      "      dtype='object')\n",
      "Index(['ID2', 'First.Name', 'Last.Name', 'Middle.Initial', 'Suffix.Name',\n",
      "       'Appointed.Date', 'Current.Age', 'Gender', 'Race', 'Star1', 'Star2',\n",
      "       'Star3', 'Star4', 'Star5', 'Star6', 'Star7', 'Star8', 'Star9', 'Star10',\n",
      "       'Current.Unit', 'F4FN', 'F4LN', 'Current.Age.p1', 'Current.Age.m1'],\n",
      "      dtype='object')\n",
      "['First.Name', 'Last.Name', 'Middle.Initial', 'Suffix.Name', 'Appointed.Date', 'Gender', 'Race', 'F4FN', 'F4LN', 'Current.Age.p1', 'Current.Age.m1']\n"
     ]
    }
   ],
   "source": [
    "amd = am.dropna(axis=1, how='all')\n",
    "uhd = uh.dropna(axis=1, how='all')\n",
    "amdm = AddColumns(amd)\n",
    "uhdm = AddColumns(uhd)\n",
    "print(amd.columns)\n",
    "print(uhd.columns)\n",
    "cols = [col for col in amd.columns if col in uhd.columns]\n",
    "print(cols)"
   ]
  },
  {
   "cell_type": "code",
   "execution_count": 42,
   "metadata": {},
   "outputs": [
    {
     "name": "stdout",
     "output_type": "stream",
     "text": [
      "[]\n",
      "[]\n",
      "(1312, 29)\n",
      "(4289, 29)\n"
     ]
    }
   ],
   "source": [
    "mc = ['First.Name', 'Last.Name', \"Middle.Initial\", \"Suffix.Name\",'Appointed.Date', 'Gender', \"Race\", \"Current.Age.p1\"]\n",
    "amdmp = RemoveDuplicates(amdm)\n",
    "uhdmp = RemoveDuplicates(uhdm)\n",
    "t1 = amdmp.merge(uhdmp, on = mc, how ='inner')\n",
    "\n",
    "mc = ['First.Name', 'Last.Name', \"Middle.Initial\", \"Suffix.Name\",'Appointed.Date', 'Gender', \"Race\", \"Current.Age.m1\"]\n",
    "amdmp = RemoveDuplicates(amdm)\n",
    "uhdmp = RemoveDuplicates(uhdm)\n",
    "t2 = amdmp.merge(uhdmp, on = mc, how ='inner')\n",
    "\n",
    "print(intersect(t1['ID2'], t2['ID2']))\n",
    "print(intersect(t1['ID1'], t2['ID1']))\n",
    "print(t1.shape)\n",
    "print(t2.shape)"
   ]
  },
  {
   "cell_type": "code",
   "execution_count": 43,
   "metadata": {
    "collapsed": true
   },
   "outputs": [],
   "source": [
    "def LoopMerge(df1, df2, on_list, keep_columns = ['ID1', 'ID2']):\n",
    "    dfm = pd.DataFrame(columns = keep_columns + ['Match'])\n",
    "    # Generate on list?\n",
    "    for mc in on_list:\n",
    "        df1t = RemoveDuplicates(df1[keep_columns[:1] + mc], mc)\n",
    "        df2t = RemoveDuplicates(df2[keep_columns[1:] + mc], mc)\n",
    "        dfmt = df1t.merge(df2t, on=mc, how='inner')\n",
    "        if dfmt.shape[0] > 0:\n",
    "            print('******')\n",
    "            print(mc)\n",
    "            print(dfmt.shape[0])\n",
    "            dfmt['Match'] = '-'.join(mc)\n",
    "            dfm = dfm.append(dfmt[keep_columns + ['Match']].reset_index(drop=True))\n",
    "            df1 = df1.loc[~df1[keep_columns[0]].isin(dfm[keep_columns[0]])]\n",
    "            df2 = df2.loc[~df2[keep_columns[1]].isin(dfm[keep_columns[1]])]\n",
    "    return (dfm.reset_index(drop=True), df1, df2)\n",
    "\n"
   ]
  },
  {
   "cell_type": "code",
   "execution_count": 44,
   "metadata": {},
   "outputs": [
    {
     "name": "stdout",
     "output_type": "stream",
     "text": [
      "******\n",
      "['First.Name', 'Last.Name', 'Middle.Initial', 'Suffix.Name', 'Appointed.Date', 'Gender', 'Race', 'Current.Age.m1']\n",
      "4289\n",
      "******\n",
      "['First.Name', 'Last.Name', 'Middle.Initial', 'Suffix.Name', 'Appointed.Date', 'Gender', 'Race', 'Current.Age.p1']\n",
      "1312\n",
      "******\n",
      "['F4FN', 'F4LN', 'Middle.Initial', 'Suffix.Name', 'Appointed.Date', 'Gender', 'Race', 'Current.Age.m1']\n",
      "1\n",
      "******\n",
      "['First.Name', 'Last.Name', 'Suffix.Name', 'Appointed.Date', 'Gender', 'Race', 'Current.Age.m1']\n",
      "19949\n",
      "******\n",
      "['First.Name', 'Last.Name', 'Suffix.Name', 'Appointed.Date', 'Gender', 'Race', 'Current.Age.p1']\n",
      "6011\n",
      "******\n",
      "['F4FN', 'F4LN', 'Suffix.Name', 'Appointed.Date', 'Gender', 'Race', 'Current.Age.m1']\n",
      "3\n",
      "******\n",
      "['First.Name', 'Last.Name', 'Suffix.Name', 'Middle.Initial', 'Appointed.Date', 'Gender', 'Race']\n",
      "1\n",
      "******\n",
      "['First.Name', 'Last.Name', 'Suffix.Name', 'Appointed.Date', 'Gender', 'Race']\n",
      "2\n",
      "******\n",
      "['First.Name', 'Middle.Initial', 'Suffix.Name', 'Appointed.Date', 'Gender', 'Race', 'Current.Age.m1']\n",
      "4\n",
      "******\n",
      "['First.Name', 'Suffix.Name', 'Appointed.Date', 'Gender', 'Race', 'Current.Age.m1']\n",
      "7\n",
      "******\n",
      "['First.Name', 'Suffix.Name', 'Appointed.Date', 'Gender', 'Race', 'Current.Age.p1']\n",
      "3\n",
      "346\n",
      "15\n"
     ]
    }
   ],
   "source": [
    "m = LoopMerge(amdm, uhdm, on_list = [\n",
    "    ['First.Name', 'Last.Name', \"Middle.Initial\", \"Suffix.Name\",'Appointed.Date', 'Gender', \"Race\", \"Current.Age.m1\"],\n",
    "    ['First.Name', 'Last.Name', \"Middle.Initial\", \"Suffix.Name\",'Appointed.Date', 'Gender', \"Race\", \"Current.Age.p1\"],\n",
    "    ['F4FN', 'F4LN', \"Middle.Initial\", \"Suffix.Name\",'Appointed.Date', 'Gender', \"Race\", \"Current.Age.m1\"],\n",
    "    ['F4FN', 'F4LN', \"Middle.Initial\", \"Suffix.Name\",'Appointed.Date', 'Gender', \"Race\", \"Current.Age.p1\"],\n",
    "    ['First.Name', 'Last.Name', \"Middle.Initial\",'Appointed.Date', 'Gender', \"Race\", \"Current.Age.m1\"],\n",
    "    ['First.Name', 'Last.Name', \"Middle.Initial\",'Appointed.Date', 'Gender', \"Race\", \"Current.Age.p1\"],\n",
    "    ['F4FN', 'F4LN', \"Middle.Initial\",'Appointed.Date', 'Gender', \"Race\", \"Current.Age.m1\"],\n",
    "    ['F4FN', 'F4LN', \"Middle.Initial\",'Appointed.Date', 'Gender', \"Race\", \"Current.Age.p1\"],\n",
    "    ['First.Name', 'Last.Name', \"Suffix.Name\",'Appointed.Date', 'Gender', \"Race\", \"Current.Age.m1\"],\n",
    "    ['First.Name', 'Last.Name', \"Suffix.Name\",'Appointed.Date', 'Gender', \"Race\", \"Current.Age.p1\"],\n",
    "    ['F4FN', 'F4LN', \"Suffix.Name\",'Appointed.Date', 'Gender', \"Race\", \"Current.Age.m1\"],\n",
    "    ['F4FN', 'F4LN', \"Suffix.Name\",'Appointed.Date', 'Gender', \"Race\", \"Current.Age.p1\"],\n",
    "    ['First.Name', 'Last.Name',\"Suffix.Name\", \"Middle.Initial\",'Appointed.Date', 'Gender', \"Race\"],\n",
    "    ['F4FN', 'F4LN',\"Suffix.Name\", \"Middle.Initial\",'Appointed.Date', 'Gender', \"Race\"],\n",
    "    ['First.Name', 'Last.Name',\"Middle.Initial\",'Appointed.Date', 'Gender', \"Race\"],\n",
    "    ['F4FN', 'F4LN',\"Middle.Initial\",'Appointed.Date', 'Gender', \"Race\"],\n",
    "    ['First.Name', 'Last.Name', \"Suffix.Name\", 'Appointed.Date', 'Gender', \"Race\"],\n",
    "    ['F4FN', 'F4LN', \"Suffix.Name\", 'Appointed.Date', 'Gender', \"Race\"],\n",
    "    ['First.Name', \"Middle.Initial\", \"Suffix.Name\",'Appointed.Date', 'Gender', \"Race\", \"Current.Age.m1\"],\n",
    "    ['First.Name', \"Middle.Initial\", \"Suffix.Name\",'Appointed.Date', 'Gender', \"Race\", \"Current.Age.p1\"],\n",
    "    ['First.Name', \"Middle.Initial\",'Appointed.Date', 'Gender', \"Race\", \"Current.Age.m1\"],\n",
    "    ['First.Name', \"Middle.Initial\",'Appointed.Date', 'Gender', \"Race\", \"Current.Age.p1\"],\n",
    "    ['First.Name', \"Suffix.Name\",'Appointed.Date', 'Gender', \"Race\", \"Current.Age.m1\"],\n",
    "    ['First.Name', \"Suffix.Name\",'Appointed.Date', 'Gender', \"Race\", \"Current.Age.p1\"]\n",
    "])"
   ]
  },
  {
   "cell_type": "code",
   "execution_count": 45,
   "metadata": {
    "collapsed": true
   },
   "outputs": [],
   "source": [
    "def AppendToReference(ref, df):\n",
    "    return 0"
   ]
  },
  {
   "cell_type": "code",
   "execution_count": 46,
   "metadata": {
    "collapsed": true
   },
   "outputs": [],
   "source": [
    "uid_ref = pd.concat([m[0][[\"ID1\", \"ID2\"]], m[1][[\"ID1\"]], m[2][[\"ID2\"]]]).reset_index(drop=True)\n",
    "if \"UID\" not in uid_ref.columns:\n",
    "    uid_ref.insert(0, \"UID\", uid_ref.index + 1)"
   ]
  },
  {
   "cell_type": "code",
   "execution_count": 47,
   "metadata": {
    "collapsed": true
   },
   "outputs": [],
   "source": [
    "am = am.merge(uid_ref[[\"ID1\", \"UID\"]], on='ID1', how='left')\n",
    "uh = uh.merge(uid_ref[[\"ID2\", \"UID\"]], on='ID2', how='left')"
   ]
  },
  {
   "cell_type": "code",
   "execution_count": 56,
   "metadata": {},
   "outputs": [
    {
     "name": "stdout",
     "output_type": "stream",
     "text": [
      "Index(['Appointed.Date', 'Birth.Year', 'Current.Age', 'Current.Unit',\n",
      "       'First.Name', 'Gender', 'ID1', 'ID2', 'Last.Name', 'Middle.Initial',\n",
      "       'Race', 'Star1', 'Star10', 'Star2', 'Star3', 'Star4', 'Star5', 'Star6',\n",
      "       'Star7', 'Star8', 'Star9', 'Suffix.Name', 'UID'],\n",
      "      dtype='object')\n"
     ]
    }
   ],
   "source": [
    "ref = pd.concat([am, uh])\n",
    "ref['Middle.Initial'] = ref['Middle.Initial'].fillna(\"\")\n",
    "print(ref.columns)"
   ]
  },
  {
   "cell_type": "code",
   "execution_count": 57,
   "metadata": {},
   "outputs": [
    {
     "data": {
      "text/plain": [
       "'profiles = AggregateData(ref, uid = \"UID\", id_cols = [],\\n              max_cols = setdiff(ref.columns, [\"UID\"]), make_uid=False)'"
      ]
     },
     "execution_count": 57,
     "metadata": {},
     "output_type": "execute_result"
    }
   ],
   "source": [
    "'''profiles = AggregateData(ref, uid = \"UID\", id_cols = [],\n",
    "              max_cols = setdiff(ref.columns, [\"UID\"]), make_uid=False)'''"
   ]
  },
  {
   "cell_type": "code",
   "execution_count": 58,
   "metadata": {},
   "outputs": [
    {
     "name": "stdout",
     "output_type": "stream",
     "text": [
      "['Appointed.Date', 'ID2', 'Star7', 'Star4', 'Star9', 'Star2', 'Star5', 'First.Name', 'Last.Name', 'Star1', 'Current.Unit', 'Current.Age', 'ID1', 'Suffix.Name', 'Star3', 'Gender', 'Middle.Initial', 'Star8', 'Birth.Year', 'Star6', 'Race', 'Star10']\n"
     ]
    }
   ],
   "source": [
    "uid = \"UID\"\n",
    "uid_col = [uid]\n",
    "agg_df = ref[uid_col].drop_duplicates().reset_index(drop=True) \n",
    "max_cols = setdiff(ref.columns, [\"UID\"])\n",
    "print(max_cols)"
   ]
  },
  {
   "cell_type": "code",
   "execution_count": 59,
   "metadata": {},
   "outputs": [],
   "source": [
    "profiles = ref[uid_col + max_cols].drop_duplicates()\n",
    "profiles = profiles.groupby(uid_col, as_index=False)[max_cols]"
   ]
  },
  {
   "cell_type": "code",
   "execution_count": 60,
   "metadata": {
    "collapsed": true
   },
   "outputs": [],
   "source": [
    "profiles = profiles.agg(max)"
   ]
  },
  {
   "cell_type": "code",
   "execution_count": 61,
   "metadata": {},
   "outputs": [
    {
     "data": {
      "text/plain": [
       "Index(['UID', 'Appointed.Date', 'ID2', 'Star7', 'Star4', 'Star9', 'Star2',\n",
       "       'Star5', 'First.Name', 'Last.Name', 'Star1', 'Current.Unit',\n",
       "       'Current.Age', 'ID1', 'Suffix.Name', 'Star3', 'Gender',\n",
       "       'Middle.Initial', 'Star8', 'Birth.Year', 'Star6', 'Race', 'Star10'],\n",
       "      dtype='object')"
      ]
     },
     "execution_count": 61,
     "metadata": {},
     "output_type": "execute_result"
    }
   ],
   "source": [
    "profiles.columns"
   ]
  },
  {
   "cell_type": "code",
   "execution_count": 64,
   "metadata": {},
   "outputs": [],
   "source": [
    "acd = ac.dropna(axis=1, how='all')\n",
    "acd = AddColumns(acd)\n",
    "profiles = AddColumns(profiles)"
   ]
  },
  {
   "cell_type": "code",
   "execution_count": 72,
   "metadata": {},
   "outputs": [
    {
     "name": "stdout",
     "output_type": "stream",
     "text": [
      "******\n",
      "['First.Name', 'Last.Name', 'Middle.Initial', 'Suffix.Name', 'Appointed.Date', 'Gender', 'Race']\n",
      "2\n",
      "******\n",
      "['First.Name', 'Last.Name', 'Suffix.Name', 'Appointed.Date', 'Gender', 'Race']\n",
      "13381\n",
      "******\n",
      "['First.Name', 'Last.Name', 'Appointed.Date', 'Gender', 'Race', 'Current.Unit']\n",
      "15\n",
      "18545\n",
      "2624\n",
      "(13398, 3)\n",
      "(18545, 27)\n",
      "(2624, 16)\n"
     ]
    }
   ],
   "source": [
    "m = LoopMerge(profiles, acd, on_list = [\n",
    "    ['First.Name', 'Last.Name', \"Middle.Initial\", \"Suffix.Name\",'Appointed.Date', 'Gender', \"Race\"],\n",
    "    ['First.Name', 'Last.Name', \"Suffix.Name\",'Appointed.Date', 'Gender', \"Race\"],\n",
    "    ['First.Name', 'Last.Name', \"Middle.Initial\", 'Appointed.Date', 'Gender', \"Race\"],\n",
    "    ['First.Name', 'Last.Name', 'Appointed.Date', 'Gender', \"Race\"],\n",
    "    ['First.Name', 'Last.Name', 'Appointed.Date', 'Gender', \"Race\", \"Current.Unit\"]\n",
    "], keep_columns = [\"UID\", \"TID\"])\n",
    "for i in m:\n",
    "    print(i.shape)"
   ]
  },
  {
   "cell_type": "code",
   "execution_count": null,
   "metadata": {
    "collapsed": true
   },
   "outputs": [],
   "source": []
  }
 ],
 "metadata": {
  "kernelspec": {
   "display_name": "Python 3",
   "language": "python",
   "name": "python3"
  },
  "language_info": {
   "codemirror_mode": {
    "name": "ipython",
    "version": 3
   },
   "file_extension": ".py",
   "mimetype": "text/x-python",
   "name": "python",
   "nbconvert_exporter": "python",
   "pygments_lexer": "ipython3",
   "version": "3.6.2"
  }
 },
 "nbformat": 4,
 "nbformat_minor": 2
}
