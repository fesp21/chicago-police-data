{
 "cells": [
  {
   "cell_type": "code",
   "execution_count": 1,
   "metadata": {
    "collapsed": true
   },
   "outputs": [],
   "source": [
    "import pandas as pd\n",
    "import numpy as np"
   ]
  },
  {
   "cell_type": "code",
   "execution_count": 2,
   "metadata": {},
   "outputs": [
    {
     "name": "stderr",
     "output_type": "stream",
     "text": [
      "/Users/invinst/anaconda3/lib/python3.6/site-packages/IPython/core/interactiveshell.py:2698: DtypeWarning: Columns (10,20) have mixed types. Specify dtype option on import or set low_memory=False.\n",
      "  interactivity=interactivity, compiler=compiler, result=result)\n"
     ]
    }
   ],
   "source": [
    "df = pd.read_csv('../input/awards.csv.gz')"
   ]
  },
  {
   "cell_type": "code",
   "execution_count": 3,
   "metadata": {
    "collapsed": true
   },
   "outputs": [],
   "source": [
    "id_cols = [\"First.Name\", \"Last.Name\",\n",
    "                    \"Appointed.Date\", \"Gender\"]\n",
    "conflict_cols = ['Middle.Initial', 'Birth.Year',\n",
    "                 'Current.Star', 'Resignation.Date']\n",
    "uid = 'awards_ID'"
   ]
  },
  {
   "cell_type": "code",
   "execution_count": 8,
   "metadata": {
    "collapsed": true
   },
   "outputs": [],
   "source": [
    "def remove_duplicates(df, cols=[]):\n",
    "    if not cols:\n",
    "        cols = df.columns.tolist()\n",
    "    return df[~df.duplicated(subset=cols, keep=False)].sort_values(cols)"
   ]
  },
  {
   "cell_type": "code",
   "execution_count": 9,
   "metadata": {
    "collapsed": true
   },
   "outputs": [],
   "source": [
    "def keep_duplicates(df, cols):\n",
    "    return df[df.duplicated(subset=cols, keep=False)].sort_values(cols)"
   ]
  },
  {
   "cell_type": "code",
   "execution_count": 10,
   "metadata": {
    "collapsed": true
   },
   "outputs": [],
   "source": [
    "def resolve_conflicts(df, id_cols, conflict_cols,\n",
    "                      uid, starting_uid,\n",
    "                      temp_fillna=-9999):\n",
    "    out_df = pd.DataFrame()\n",
    "\n",
    "    df.reset_index(drop=True, inplace=True)\n",
    "    df.fillna(temp_fillna, inplace=True)\n",
    "\n",
    "    group_df = df.groupby(id_cols, as_index=False)\n",
    "\n",
    "    for key, group in group_df:\n",
    "        group = group.reset_index(drop=True)\n",
    "        conflicts = 0\n",
    "\n",
    "        for col in conflict_cols:\n",
    "            non_nan = group[col]\n",
    "            non_nan = non_nan[(non_nan != -999) &\n",
    "                              (non_nan != temp_fillna)]\n",
    "            if len(non_nan.unique()) > 1:\n",
    "                conflicts += 1\n",
    "        if conflicts == 0:\n",
    "            group.insert(0, uid, starting_uid + 1)\n",
    "            starting_uid += 1\n",
    "        else:\n",
    "            group.insert(0, uid, starting_uid + group.index + 1)\n",
    "            starting_uid += max(group.index + 1)\n",
    "        out_df = out_df.append(group)\n",
    "\n",
    "    out_df[out_df == temp_fillna] = np.nan\n",
    "    return out_df"
   ]
  },
  {
   "cell_type": "code",
   "execution_count": 13,
   "metadata": {
    "collapsed": true
   },
   "outputs": [],
   "source": [
    "dfu = df[id_cols + conflict_cols].drop_duplicates()\n",
    "dfu.reset_index(drop=True, inplace=True)"
   ]
  },
  {
   "cell_type": "code",
   "execution_count": 14,
   "metadata": {
    "collapsed": true
   },
   "outputs": [],
   "source": [
    "rd_df = remove_duplicates(dfu, id_cols).reset_index(drop=True)"
   ]
  },
  {
   "cell_type": "code",
   "execution_count": 15,
   "metadata": {
    "collapsed": true
   },
   "outputs": [],
   "source": [
    "rd_df.insert(0, uid, rd_df.index + 1)"
   ]
  },
  {
   "cell_type": "code",
   "execution_count": 16,
   "metadata": {
    "collapsed": true
   },
   "outputs": [],
   "source": [
    "kd_df = keep_duplicates(dfu, id_cols).reset_index(drop=True)"
   ]
  },
  {
   "cell_type": "code",
   "execution_count": 17,
   "metadata": {
    "collapsed": true
   },
   "outputs": [],
   "source": [
    "rc_df = resolve_conflicts(kd_df, id_cols, conflict_cols, uid=uid, starting_uid=max(rd_df[uid]))"
   ]
  },
  {
   "cell_type": "code",
   "execution_count": 19,
   "metadata": {},
   "outputs": [
    {
     "data": {
      "text/html": [
       "<div>\n",
       "<style>\n",
       "    .dataframe thead tr:only-child th {\n",
       "        text-align: right;\n",
       "    }\n",
       "\n",
       "    .dataframe thead th {\n",
       "        text-align: left;\n",
       "    }\n",
       "\n",
       "    .dataframe tbody tr th {\n",
       "        vertical-align: top;\n",
       "    }\n",
       "</style>\n",
       "<table border=\"1\" class=\"dataframe\">\n",
       "  <thead>\n",
       "    <tr style=\"text-align: right;\">\n",
       "      <th></th>\n",
       "      <th>awards_ID</th>\n",
       "      <th>First.Name</th>\n",
       "      <th>Last.Name</th>\n",
       "      <th>Appointed.Date</th>\n",
       "      <th>Gender</th>\n",
       "      <th>Middle.Initial</th>\n",
       "      <th>Birth.Year</th>\n",
       "      <th>Current.Star</th>\n",
       "      <th>Resignation.Date</th>\n",
       "    </tr>\n",
       "  </thead>\n",
       "  <tbody>\n",
       "    <tr>\n",
       "      <th>0</th>\n",
       "      <td>26095</td>\n",
       "      <td>ANN</td>\n",
       "      <td>HERR</td>\n",
       "      <td>2002-06-11</td>\n",
       "      <td>FEMALE</td>\n",
       "      <td>M</td>\n",
       "      <td>1966</td>\n",
       "      <td>-999</td>\n",
       "      <td>2010-06-16</td>\n",
       "    </tr>\n",
       "    <tr>\n",
       "      <th>1</th>\n",
       "      <td>26095</td>\n",
       "      <td>ANN</td>\n",
       "      <td>HERR</td>\n",
       "      <td>2002-06-11</td>\n",
       "      <td>FEMALE</td>\n",
       "      <td>M</td>\n",
       "      <td>1966</td>\n",
       "      <td>-999</td>\n",
       "      <td>NaN</td>\n",
       "    </tr>\n",
       "    <tr>\n",
       "      <th>0</th>\n",
       "      <td>26096</td>\n",
       "      <td>AUDREY</td>\n",
       "      <td>JURCZYKOWSKI</td>\n",
       "      <td>1999-05-10</td>\n",
       "      <td>FEMALE</td>\n",
       "      <td>NaN</td>\n",
       "      <td>1970</td>\n",
       "      <td>-999</td>\n",
       "      <td>NaN</td>\n",
       "    </tr>\n",
       "    <tr>\n",
       "      <th>1</th>\n",
       "      <td>26096</td>\n",
       "      <td>AUDREY</td>\n",
       "      <td>JURCZYKOWSKI</td>\n",
       "      <td>1999-05-10</td>\n",
       "      <td>FEMALE</td>\n",
       "      <td>A</td>\n",
       "      <td>1970</td>\n",
       "      <td>8280</td>\n",
       "      <td>NaN</td>\n",
       "    </tr>\n",
       "    <tr>\n",
       "      <th>0</th>\n",
       "      <td>26097</td>\n",
       "      <td>DAVID</td>\n",
       "      <td>ADCOCK</td>\n",
       "      <td>2002-09-30</td>\n",
       "      <td>MALE</td>\n",
       "      <td>G</td>\n",
       "      <td>1971</td>\n",
       "      <td>6673</td>\n",
       "      <td>NaN</td>\n",
       "    </tr>\n",
       "  </tbody>\n",
       "</table>\n",
       "</div>"
      ],
      "text/plain": [
       "   awards_ID First.Name     Last.Name Appointed.Date  Gender Middle.Initial  \\\n",
       "0      26095        ANN          HERR     2002-06-11  FEMALE              M   \n",
       "1      26095        ANN          HERR     2002-06-11  FEMALE              M   \n",
       "0      26096     AUDREY  JURCZYKOWSKI     1999-05-10  FEMALE            NaN   \n",
       "1      26096     AUDREY  JURCZYKOWSKI     1999-05-10  FEMALE              A   \n",
       "0      26097      DAVID        ADCOCK     2002-09-30    MALE              G   \n",
       "\n",
       "   Birth.Year  Current.Star Resignation.Date  \n",
       "0        1966          -999       2010-06-16  \n",
       "1        1966          -999              NaN  \n",
       "0        1970          -999              NaN  \n",
       "1        1970          8280              NaN  \n",
       "0        1971          6673              NaN  "
      ]
     },
     "execution_count": 19,
     "metadata": {},
     "output_type": "execute_result"
    }
   ],
   "source": [
    "rc_df.shape()"
   ]
  },
  {
   "cell_type": "code",
   "execution_count": 21,
   "metadata": {
    "collapsed": true
   },
   "outputs": [],
   "source": [
    "rc_df = rd_df.append(rc_df)\n",
    "df2 = df.merge(rc_df, on=id_cols + conflict_cols,how='left')"
   ]
  },
  {
   "cell_type": "code",
   "execution_count": 23,
   "metadata": {},
   "outputs": [
    {
     "data": {
      "text/plain": [
       "0"
      ]
     },
     "execution_count": 23,
     "metadata": {},
     "output_type": "execute_result"
    }
   ],
   "source": [
    "df2[df2[uid].isnull()].shape[0]"
   ]
  },
  {
   "cell_type": "code",
   "execution_count": 25,
   "metadata": {},
   "outputs": [
    {
     "data": {
      "text/plain": [
       "26126"
      ]
     },
     "execution_count": 25,
     "metadata": {},
     "output_type": "execute_result"
    }
   ],
   "source": [
    "max(df2[uid])"
   ]
  },
  {
   "cell_type": "code",
   "execution_count": 27,
   "metadata": {},
   "outputs": [
    {
     "data": {
      "text/plain": [
       "26126"
      ]
     },
     "execution_count": 27,
     "metadata": {},
     "output_type": "execute_result"
    }
   ],
   "source": [
    "len(df2[uid].drop_duplicates())"
   ]
  },
  {
   "cell_type": "code",
   "execution_count": 40,
   "metadata": {
    "collapsed": true
   },
   "outputs": [],
   "source": [
    "def assign_unique_ids(df, uid, id_cols, conflict_cols=[]):\n",
    "    dfu = df[id_cols + conflict_cols].drop_duplicates()\n",
    "    dfu.reset_index(drop=True, inplace=True)\n",
    "    if conflict_cols:\n",
    "        rd_df = remove_duplicates(dfu, id_cols).reset_index(drop=True)\n",
    "        rd_df.insert(0, uid, rd_df.index + 1)\n",
    "\n",
    "        kd_df = keep_duplicates(dfu, id_cols).reset_index(drop=True)\n",
    "        rc_df = resolve_conflicts(kd_df, id_cols, conflict_cols,\n",
    "                                  uid=uid, starting_uid=max(rd_df[uid]))\n",
    "        df = df.merge(rd_df.append(rc_df),\n",
    "                      on=id_cols + conflict_cols,\n",
    "                      how='left')\n",
    "        assert  (df[df[uid].isnull()].shape[0] == 0),\\\n",
    "            print('Some unique IDs are null')\n",
    "        assert (max(df[uid]) == len(df[uid].drop_duplicates())),\\\n",
    "            print('Unique IDs are not correctly scaled')\n",
    "    else:\n",
    "        dfu[uid] = dfu.index + 1\n",
    "        return df.merge(dfu, on=id_cols, how='left')"
   ]
  },
  {
   "cell_type": "code",
   "execution_count": 41,
   "metadata": {},
   "outputs": [
    {
     "name": "stdout",
     "output_type": "stream",
     "text": [
      "0\n"
     ]
    }
   ],
   "source": [
    "df3 = assign_unique_ids(df, uid, id_cols, conflict_cols)"
   ]
  },
  {
   "cell_type": "code",
   "execution_count": null,
   "metadata": {
    "collapsed": true
   },
   "outputs": [],
   "source": []
  }
 ],
 "metadata": {
  "kernelspec": {
   "display_name": "Python 3",
   "language": "python",
   "name": "python3"
  },
  "language_info": {
   "codemirror_mode": {
    "name": "ipython",
    "version": 3
   },
   "file_extension": ".py",
   "mimetype": "text/x-python",
   "name": "python",
   "nbconvert_exporter": "python",
   "pygments_lexer": "ipython3",
   "version": "3.6.2"
  }
 },
 "nbformat": 4,
 "nbformat_minor": 2
}
