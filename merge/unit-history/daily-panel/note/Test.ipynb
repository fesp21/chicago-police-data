{
 "cells": [
  {
   "cell_type": "code",
   "execution_count": 486,
   "metadata": {},
   "outputs": [
    {
     "name": "stdout",
     "output_type": "stream",
     "text": [
      "The line_profiler extension is already loaded. To reload it, use:\n",
      "  %reload_ext line_profiler\n"
     ]
    }
   ],
   "source": [
    "import pandas as pd\n",
    "import time\n",
    "import numpy as np\n",
    "%load_ext line_profiler"
   ]
  },
  {
   "cell_type": "code",
   "execution_count": 603,
   "metadata": {
    "collapsed": true
   },
   "outputs": [],
   "source": [
    "uh_df = pd.read_csv('../input/unit-history.csv.gz')\n",
    "full_uh_df = uh_df.copy()"
   ]
  },
  {
   "cell_type": "code",
   "execution_count": 488,
   "metadata": {
    "collapsed": true
   },
   "outputs": [],
   "source": [
    "start_col = 'Start.Date'\n",
    "end_col = 'End.Date'\n",
    "unit_col = 'Unit'\n",
    "uid_col = 'UID'\n",
    "lower_bound = '2000-01-01'\n",
    "upper_bound = ''\n",
    "cap_date = ''"
   ]
  },
  {
   "cell_type": "code",
   "execution_count": 489,
   "metadata": {},
   "outputs": [
    {
     "data": {
      "text/html": [
       "<div>\n",
       "<style>\n",
       "    .dataframe thead tr:only-child th {\n",
       "        text-align: right;\n",
       "    }\n",
       "\n",
       "    .dataframe thead th {\n",
       "        text-align: left;\n",
       "    }\n",
       "\n",
       "    .dataframe tbody tr th {\n",
       "        vertical-align: top;\n",
       "    }\n",
       "</style>\n",
       "<table border=\"1\" class=\"dataframe\">\n",
       "  <thead>\n",
       "    <tr style=\"text-align: right;\">\n",
       "      <th></th>\n",
       "      <th>End.Date</th>\n",
       "      <th>Start.Date</th>\n",
       "      <th>UID</th>\n",
       "      <th>Unit</th>\n",
       "    </tr>\n",
       "  </thead>\n",
       "  <tbody>\n",
       "    <tr>\n",
       "      <th>0</th>\n",
       "      <td>2016-06-04</td>\n",
       "      <td>2007-03-29</td>\n",
       "      <td>1</td>\n",
       "      <td>14.0</td>\n",
       "    </tr>\n",
       "    <tr>\n",
       "      <th>1</th>\n",
       "      <td>NaN</td>\n",
       "      <td>2016-06-05</td>\n",
       "      <td>1</td>\n",
       "      <td>3.0</td>\n",
       "    </tr>\n",
       "    <tr>\n",
       "      <th>2</th>\n",
       "      <td>NaN</td>\n",
       "      <td>2007-03-29</td>\n",
       "      <td>2</td>\n",
       "      <td>15.0</td>\n",
       "    </tr>\n",
       "    <tr>\n",
       "      <th>3</th>\n",
       "      <td>1971-01-15</td>\n",
       "      <td>1970-06-15</td>\n",
       "      <td>3</td>\n",
       "      <td>22.0</td>\n",
       "    </tr>\n",
       "    <tr>\n",
       "      <th>4</th>\n",
       "      <td>1976-08-18</td>\n",
       "      <td>1971-01-16</td>\n",
       "      <td>3</td>\n",
       "      <td>4.0</td>\n",
       "    </tr>\n",
       "  </tbody>\n",
       "</table>\n",
       "</div>"
      ],
      "text/plain": [
       "     End.Date  Start.Date  UID  Unit\n",
       "0  2016-06-04  2007-03-29    1  14.0\n",
       "1         NaN  2016-06-05    1   3.0\n",
       "2         NaN  2007-03-29    2  15.0\n",
       "3  1971-01-15  1970-06-15    3  22.0\n",
       "4  1976-08-18  1971-01-16    3   4.0"
      ]
     },
     "execution_count": 489,
     "metadata": {},
     "output_type": "execute_result"
    }
   ],
   "source": [
    "uh_df.head()"
   ]
  },
  {
   "cell_type": "code",
   "execution_count": 490,
   "metadata": {},
   "outputs": [
    {
     "data": {
      "text/plain": [
       "(107786, 4)"
      ]
     },
     "execution_count": 490,
     "metadata": {},
     "output_type": "execute_result"
    }
   ],
   "source": [
    "uh_df.shape"
   ]
  },
  {
   "cell_type": "code",
   "execution_count": 491,
   "metadata": {
    "collapsed": true
   },
   "outputs": [],
   "source": [
    "uh_df[end_col] = pd.to_datetime(uh_df[end_col])\n",
    "uh_df[start_col] = pd.to_datetime(uh_df[start_col])"
   ]
  },
  {
   "cell_type": "code",
   "execution_count": 492,
   "metadata": {
    "collapsed": true
   },
   "outputs": [],
   "source": [
    "if upper_bound:\n",
    "    upper_bound = pd.to_datetime(upper_bound)\n",
    "    assert isinstance(upper_bound, pd.Timestamp), 'upper bound given is not a proper date'\n",
    "else:\n",
    "    upper_bound = pd.to_datetime(pd.date_range(start = max(uh_df[start_col]),\n",
    "                                            periods=2, freq='D'))[1]\n",
    "uh_df = uh_df[uh_df[start_col] <= upper_bound]\n",
    "uh_df.loc[(uh_df[end_col].isnull()) |\n",
    "          (uh_df[end_col] > upper_bound),\n",
    "          end_col] = upper_bound\n"
   ]
  },
  {
   "cell_type": "code",
   "execution_count": 493,
   "metadata": {},
   "outputs": [
    {
     "data": {
      "text/html": [
       "<div>\n",
       "<style>\n",
       "    .dataframe thead tr:only-child th {\n",
       "        text-align: right;\n",
       "    }\n",
       "\n",
       "    .dataframe thead th {\n",
       "        text-align: left;\n",
       "    }\n",
       "\n",
       "    .dataframe tbody tr th {\n",
       "        vertical-align: top;\n",
       "    }\n",
       "</style>\n",
       "<table border=\"1\" class=\"dataframe\">\n",
       "  <thead>\n",
       "    <tr style=\"text-align: right;\">\n",
       "      <th></th>\n",
       "      <th>End.Date</th>\n",
       "      <th>Start.Date</th>\n",
       "      <th>UID</th>\n",
       "      <th>Unit</th>\n",
       "    </tr>\n",
       "  </thead>\n",
       "  <tbody>\n",
       "    <tr>\n",
       "      <th>0</th>\n",
       "      <td>2016-06-04</td>\n",
       "      <td>2007-03-29</td>\n",
       "      <td>1</td>\n",
       "      <td>14.0</td>\n",
       "    </tr>\n",
       "    <tr>\n",
       "      <th>1</th>\n",
       "      <td>2016-10-10</td>\n",
       "      <td>2016-06-05</td>\n",
       "      <td>1</td>\n",
       "      <td>3.0</td>\n",
       "    </tr>\n",
       "    <tr>\n",
       "      <th>2</th>\n",
       "      <td>2016-10-10</td>\n",
       "      <td>2007-03-29</td>\n",
       "      <td>2</td>\n",
       "      <td>15.0</td>\n",
       "    </tr>\n",
       "    <tr>\n",
       "      <th>3</th>\n",
       "      <td>1971-01-15</td>\n",
       "      <td>1970-06-15</td>\n",
       "      <td>3</td>\n",
       "      <td>22.0</td>\n",
       "    </tr>\n",
       "    <tr>\n",
       "      <th>4</th>\n",
       "      <td>1976-08-18</td>\n",
       "      <td>1971-01-16</td>\n",
       "      <td>3</td>\n",
       "      <td>4.0</td>\n",
       "    </tr>\n",
       "  </tbody>\n",
       "</table>\n",
       "</div>"
      ],
      "text/plain": [
       "    End.Date Start.Date  UID  Unit\n",
       "0 2016-06-04 2007-03-29    1  14.0\n",
       "1 2016-10-10 2016-06-05    1   3.0\n",
       "2 2016-10-10 2007-03-29    2  15.0\n",
       "3 1971-01-15 1970-06-15    3  22.0\n",
       "4 1976-08-18 1971-01-16    3   4.0"
      ]
     },
     "execution_count": 493,
     "metadata": {},
     "output_type": "execute_result"
    }
   ],
   "source": [
    "uh_df.head()"
   ]
  },
  {
   "cell_type": "code",
   "execution_count": 494,
   "metadata": {
    "collapsed": true
   },
   "outputs": [],
   "source": [
    "if lower_bound:\n",
    "    uh_df = uh_df[uh_df[end_col] >= lower_bound]"
   ]
  },
  {
   "cell_type": "code",
   "execution_count": 495,
   "metadata": {},
   "outputs": [
    {
     "data": {
      "text/plain": [
       "(55265, 4)"
      ]
     },
     "execution_count": 495,
     "metadata": {},
     "output_type": "execute_result"
    }
   ],
   "source": [
    "uh_df.shape"
   ]
  },
  {
   "cell_type": "code",
   "execution_count": 496,
   "metadata": {
    "collapsed": true
   },
   "outputs": [],
   "source": [
    "def expand_times(sd,ed,unit,uid):\n",
    "    outdf = pd.DataFrame(pd.date_range(start=sd, end=ed, freq='D', name='Date'))\n",
    "    outdf.insert(1, 'Unit', unit)\n",
    "    outdf.insert(2, 'UID', uid)\n",
    "    event = [0] * outdf.shape[0]\n",
    "    event[0] = 1\n",
    "    event[-1] = -1\n",
    "    outdf.insert(3, 'Event', event)\n",
    "    return outdf"
   ]
  },
  {
   "cell_type": "code",
   "execution_count": 497,
   "metadata": {
    "collapsed": true
   },
   "outputs": [],
   "source": [
    "r = uh_df.loc[0]\n",
    "sd = r[start_col]\n",
    "ed = r[end_col]\n",
    "unit = r[unit_col]\n",
    "uid = r[uid_col]"
   ]
  },
  {
   "cell_type": "code",
   "execution_count": 498,
   "metadata": {
    "collapsed": true
   },
   "outputs": [],
   "source": [
    "outdf = {'Dates' : pd.date_range(start=sd, end=pd.to_datetime('2007-04-04'), freq='D', name='Date')}\n",
    "rows = len(outdf['Dates'])\n",
    "outdf['Unit'] = unit\n",
    "outdf['UID'] = uid\n",
    "event = [0] * rows\n",
    "event[0] = 1\n",
    "event[-1] = -1\n",
    "outdf['Event'] = event"
   ]
  },
  {
   "cell_type": "code",
   "execution_count": 499,
   "metadata": {
    "collapsed": true
   },
   "outputs": [],
   "source": [
    "def expand_times2(sd,ed,unit,uid):\n",
    "    outdf = {'Date' : pd.date_range(start=sd, end=pd.to_datetime(ed), freq='D', name='Date')}\n",
    "    rows = len(outdf['Date'])\n",
    "    outdf['Unit'] = unit\n",
    "    outdf['UID'] = uid\n",
    "    event = [0] * rows\n",
    "    event[0] = 1\n",
    "    event[-1] = -1\n",
    "    outdf['Event'] = event\n",
    "    return outdf"
   ]
  },
  {
   "cell_type": "code",
   "execution_count": 500,
   "metadata": {
    "collapsed": true
   },
   "outputs": [],
   "source": [
    "def expand_times3(sd,ed,unit,uid):\n",
    "    outdf = {'Date' : pd.date_range(start=sd, end=pd.to_datetime(ed), freq='D', name='Date')}\n",
    "    rows = len(outdf['Date'])\n",
    "    outdf['Unit'] = unit\n",
    "    outdf['UID'] = uid\n",
    "    event = [0] * rows\n",
    "    event[0] = 1\n",
    "    event[-1] = -1\n",
    "    outdf['Event'] = event\n",
    "    return pd.DataFrame(outdf)"
   ]
  },
  {
   "cell_type": "code",
   "execution_count": 501,
   "metadata": {
    "collapsed": true
   },
   "outputs": [],
   "source": [
    "def expand_times4(sd,ed,unit,uid):\n",
    "    outdf = {'Date' : pd.date_range(start=sd, end=pd.to_datetime(ed), freq='D', name='Date')}\n",
    "    rows = len(outdf['Date'])\n",
    "    outdf['Unit'] = unit\n",
    "    outdf['UID'] = uid\n",
    "    event = [0] * rows\n",
    "    event[0] = 1\n",
    "    event[-1] = -1\n",
    "    outdf['Event'] = event\n",
    "    return pd.DataFrame.from_dict(outdf)"
   ]
  },
  {
   "cell_type": "code",
   "execution_count": 502,
   "metadata": {
    "collapsed": true
   },
   "outputs": [],
   "source": [
    "def ttt():\n",
    "    tdf = [expand_times2(r[start_col], r[end_col], r[unit_col], r[uid_col]) for i,r in uh_df[0:1000].iterrows()]\n",
    "    tdf = pd.concat([pd.DataFrame(df) for df in tdf])\n",
    "    return tdf"
   ]
  },
  {
   "cell_type": "code",
   "execution_count": 503,
   "metadata": {
    "collapsed": true
   },
   "outputs": [],
   "source": [
    "%lprun -f expand_times pd.concat([expand_times(r[start_col], r[end_col], r[unit_col], r[uid_col]) for i,r in uh_df[0:1000].iterrows()])"
   ]
  },
  {
   "cell_type": "code",
   "execution_count": 504,
   "metadata": {
    "collapsed": true
   },
   "outputs": [],
   "source": [
    "%lprun -f ttt ttt()"
   ]
  },
  {
   "cell_type": "code",
   "execution_count": 509,
   "metadata": {
    "collapsed": true
   },
   "outputs": [],
   "source": [
    "%lprun -f expand_times3 pd.concat([expand_times3(r[start_col], r[end_col], r[unit_col], r[uid_col]) for i,r in uh_df[0:1000].iterrows()])"
   ]
  },
  {
   "cell_type": "code",
   "execution_count": 510,
   "metadata": {
    "collapsed": true
   },
   "outputs": [],
   "source": [
    "%lprun -f expand_times4 pd.concat([expand_times4(r[start_col], r[end_col], r[unit_col], r[uid_col]) for i,r in uh_df[0:1000].iterrows()])"
   ]
  },
  {
   "cell_type": "code",
   "execution_count": 511,
   "metadata": {
    "collapsed": true
   },
   "outputs": [],
   "source": [
    "# EXPAND TIMES 3 IS FASTEST"
   ]
  },
  {
   "cell_type": "code",
   "execution_count": 512,
   "metadata": {},
   "outputs": [
    {
     "name": "stdout",
     "output_type": "stream",
     "text": [
      "128.4626109600067\n"
     ]
    }
   ],
   "source": [
    "start = time.time()\n",
    "tdf = pd.concat([expand_times3(r[start_col], r[end_col], r[unit_col], r[uid_col]) for i,r in uh_df.iterrows()])\n",
    "end = time.time()\n",
    "print(end - start)"
   ]
  },
  {
   "cell_type": "code",
   "execution_count": 513,
   "metadata": {
    "collapsed": true
   },
   "outputs": [],
   "source": [
    "# Month test\n",
    "sd = pd.Period('2005-05-06').asfreq('M').to_timestamp()\n",
    "ed = pd.Period('2005-05-25').asfreq('M').to_timestamp()"
   ]
  },
  {
   "cell_type": "code",
   "execution_count": 514,
   "metadata": {},
   "outputs": [
    {
     "data": {
      "text/plain": [
       "Timestamp('2005-05-01 00:00:00')"
      ]
     },
     "execution_count": 514,
     "metadata": {},
     "output_type": "execute_result"
    }
   ],
   "source": [
    "sd"
   ]
  },
  {
   "cell_type": "code",
   "execution_count": 515,
   "metadata": {},
   "outputs": [
    {
     "data": {
      "text/plain": [
       "DatetimeIndex(['2005-05-01'], dtype='datetime64[ns]', name='Date', freq='D')"
      ]
     },
     "execution_count": 515,
     "metadata": {},
     "output_type": "execute_result"
    }
   ],
   "source": [
    "pd.date_range(start=sd, end=ed, freq='D', name='Date')"
   ]
  },
  {
   "cell_type": "code",
   "execution_count": 516,
   "metadata": {},
   "outputs": [
    {
     "data": {
      "text/plain": [
       "DatetimeIndex(['2005-05-01'], dtype='datetime64[ns]', name='Date', freq='MS')"
      ]
     },
     "execution_count": 516,
     "metadata": {},
     "output_type": "execute_result"
    }
   ],
   "source": [
    "pd.date_range(start=sd, end=sd, freq='MS', name='Date')"
   ]
  },
  {
   "cell_type": "code",
   "execution_count": 517,
   "metadata": {},
   "outputs": [
    {
     "data": {
      "text/plain": [
       "DatetimeIndex(['2005-05-01'], dtype='datetime64[ns]', name='Date', freq='MS')"
      ]
     },
     "execution_count": 517,
     "metadata": {},
     "output_type": "execute_result"
    }
   ],
   "source": [
    "pd.date_range(start=sd, freq='MS', name='Date', periods=1)"
   ]
  },
  {
   "cell_type": "code",
   "execution_count": 534,
   "metadata": {
    "collapsed": true
   },
   "outputs": [],
   "source": [
    "def to_start_date(dates, delta_type):\n",
    "    dtype = {'MS':'M', 'AS' : 'Y', 'D' : 'D'}\n",
    "    delta_type = dtype[delta_type]\n",
    "    plus = np.array([1], dtype='timedelta64[{}]'.format(delta_type))\n",
    "    dates = dates.values.astype('datetime64[{}]'.format(delta_type)) - plus + plus\n",
    "    return dates"
   ]
  },
  {
   "cell_type": "code",
   "execution_count": 535,
   "metadata": {
    "collapsed": true
   },
   "outputs": [],
   "source": [
    "mdf = uh_df[0:1000].copy()\n",
    "tdf = uh_df[0:1000].copy()"
   ]
  },
  {
   "cell_type": "code",
   "execution_count": 536,
   "metadata": {},
   "outputs": [
    {
     "data": {
      "text/html": [
       "<div>\n",
       "<style>\n",
       "    .dataframe thead tr:only-child th {\n",
       "        text-align: right;\n",
       "    }\n",
       "\n",
       "    .dataframe thead th {\n",
       "        text-align: left;\n",
       "    }\n",
       "\n",
       "    .dataframe tbody tr th {\n",
       "        vertical-align: top;\n",
       "    }\n",
       "</style>\n",
       "<table border=\"1\" class=\"dataframe\">\n",
       "  <thead>\n",
       "    <tr style=\"text-align: right;\">\n",
       "      <th></th>\n",
       "      <th>End.Date</th>\n",
       "      <th>Start.Date</th>\n",
       "      <th>UID</th>\n",
       "      <th>Unit</th>\n",
       "    </tr>\n",
       "  </thead>\n",
       "  <tbody>\n",
       "    <tr>\n",
       "      <th>0</th>\n",
       "      <td>2016-06-04</td>\n",
       "      <td>2007-03-29</td>\n",
       "      <td>1</td>\n",
       "      <td>14.0</td>\n",
       "    </tr>\n",
       "    <tr>\n",
       "      <th>1</th>\n",
       "      <td>2016-10-10</td>\n",
       "      <td>2016-06-05</td>\n",
       "      <td>1</td>\n",
       "      <td>3.0</td>\n",
       "    </tr>\n",
       "    <tr>\n",
       "      <th>2</th>\n",
       "      <td>2016-10-10</td>\n",
       "      <td>2007-03-29</td>\n",
       "      <td>2</td>\n",
       "      <td>15.0</td>\n",
       "    </tr>\n",
       "    <tr>\n",
       "      <th>6</th>\n",
       "      <td>2016-10-10</td>\n",
       "      <td>1976-08-21</td>\n",
       "      <td>3</td>\n",
       "      <td>543.0</td>\n",
       "    </tr>\n",
       "    <tr>\n",
       "      <th>9</th>\n",
       "      <td>2005-05-25</td>\n",
       "      <td>1996-09-12</td>\n",
       "      <td>4</td>\n",
       "      <td>11.0</td>\n",
       "    </tr>\n",
       "  </tbody>\n",
       "</table>\n",
       "</div>"
      ],
      "text/plain": [
       "    End.Date Start.Date  UID   Unit\n",
       "0 2016-06-04 2007-03-29    1   14.0\n",
       "1 2016-10-10 2016-06-05    1    3.0\n",
       "2 2016-10-10 2007-03-29    2   15.0\n",
       "6 2016-10-10 1976-08-21    3  543.0\n",
       "9 2005-05-25 1996-09-12    4   11.0"
      ]
     },
     "execution_count": 536,
     "metadata": {},
     "output_type": "execute_result"
    }
   ],
   "source": [
    "tdf.head()"
   ]
  },
  {
   "cell_type": "code",
   "execution_count": 537,
   "metadata": {},
   "outputs": [
    {
     "data": {
      "text/html": [
       "<div>\n",
       "<style>\n",
       "    .dataframe thead tr:only-child th {\n",
       "        text-align: right;\n",
       "    }\n",
       "\n",
       "    .dataframe thead th {\n",
       "        text-align: left;\n",
       "    }\n",
       "\n",
       "    .dataframe tbody tr th {\n",
       "        vertical-align: top;\n",
       "    }\n",
       "</style>\n",
       "<table border=\"1\" class=\"dataframe\">\n",
       "  <thead>\n",
       "    <tr style=\"text-align: right;\">\n",
       "      <th></th>\n",
       "      <th>End.Date</th>\n",
       "      <th>Start.Date</th>\n",
       "      <th>UID</th>\n",
       "      <th>Unit</th>\n",
       "    </tr>\n",
       "  </thead>\n",
       "  <tbody>\n",
       "    <tr>\n",
       "      <th>0</th>\n",
       "      <td>2016-06-04</td>\n",
       "      <td>2007-03-29</td>\n",
       "      <td>1</td>\n",
       "      <td>14.0</td>\n",
       "    </tr>\n",
       "    <tr>\n",
       "      <th>1</th>\n",
       "      <td>2016-10-10</td>\n",
       "      <td>2016-06-05</td>\n",
       "      <td>1</td>\n",
       "      <td>3.0</td>\n",
       "    </tr>\n",
       "    <tr>\n",
       "      <th>2</th>\n",
       "      <td>2016-10-10</td>\n",
       "      <td>2007-03-29</td>\n",
       "      <td>2</td>\n",
       "      <td>15.0</td>\n",
       "    </tr>\n",
       "    <tr>\n",
       "      <th>6</th>\n",
       "      <td>2016-10-10</td>\n",
       "      <td>1976-08-21</td>\n",
       "      <td>3</td>\n",
       "      <td>543.0</td>\n",
       "    </tr>\n",
       "    <tr>\n",
       "      <th>9</th>\n",
       "      <td>2005-05-25</td>\n",
       "      <td>1996-09-12</td>\n",
       "      <td>4</td>\n",
       "      <td>11.0</td>\n",
       "    </tr>\n",
       "  </tbody>\n",
       "</table>\n",
       "</div>"
      ],
      "text/plain": [
       "    End.Date Start.Date  UID   Unit\n",
       "0 2016-06-04 2007-03-29    1   14.0\n",
       "1 2016-10-10 2016-06-05    1    3.0\n",
       "2 2016-10-10 2007-03-29    2   15.0\n",
       "6 2016-10-10 1976-08-21    3  543.0\n",
       "9 2005-05-25 1996-09-12    4   11.0"
      ]
     },
     "execution_count": 537,
     "metadata": {},
     "output_type": "execute_result"
    }
   ],
   "source": [
    "mdf.head()"
   ]
  },
  {
   "cell_type": "code",
   "execution_count": 538,
   "metadata": {
    "collapsed": true
   },
   "outputs": [],
   "source": [
    "mdf['Start.Date'] = to_start_date(mdf['Start.Date'], 'MS')\n",
    "mdf['End.Date'] = to_start_date(mdf['End.Date'], 'MS')"
   ]
  },
  {
   "cell_type": "code",
   "execution_count": 539,
   "metadata": {},
   "outputs": [
    {
     "data": {
      "text/html": [
       "<div>\n",
       "<style>\n",
       "    .dataframe thead tr:only-child th {\n",
       "        text-align: right;\n",
       "    }\n",
       "\n",
       "    .dataframe thead th {\n",
       "        text-align: left;\n",
       "    }\n",
       "\n",
       "    .dataframe tbody tr th {\n",
       "        vertical-align: top;\n",
       "    }\n",
       "</style>\n",
       "<table border=\"1\" class=\"dataframe\">\n",
       "  <thead>\n",
       "    <tr style=\"text-align: right;\">\n",
       "      <th></th>\n",
       "      <th>End.Date</th>\n",
       "      <th>Start.Date</th>\n",
       "      <th>UID</th>\n",
       "      <th>Unit</th>\n",
       "    </tr>\n",
       "  </thead>\n",
       "  <tbody>\n",
       "    <tr>\n",
       "      <th>0</th>\n",
       "      <td>2016-06-01</td>\n",
       "      <td>2007-03-01</td>\n",
       "      <td>1</td>\n",
       "      <td>14.0</td>\n",
       "    </tr>\n",
       "    <tr>\n",
       "      <th>1</th>\n",
       "      <td>2016-10-01</td>\n",
       "      <td>2016-06-01</td>\n",
       "      <td>1</td>\n",
       "      <td>3.0</td>\n",
       "    </tr>\n",
       "    <tr>\n",
       "      <th>2</th>\n",
       "      <td>2016-10-01</td>\n",
       "      <td>2007-03-01</td>\n",
       "      <td>2</td>\n",
       "      <td>15.0</td>\n",
       "    </tr>\n",
       "    <tr>\n",
       "      <th>6</th>\n",
       "      <td>2016-10-01</td>\n",
       "      <td>1976-08-01</td>\n",
       "      <td>3</td>\n",
       "      <td>543.0</td>\n",
       "    </tr>\n",
       "    <tr>\n",
       "      <th>9</th>\n",
       "      <td>2005-05-01</td>\n",
       "      <td>1996-09-01</td>\n",
       "      <td>4</td>\n",
       "      <td>11.0</td>\n",
       "    </tr>\n",
       "  </tbody>\n",
       "</table>\n",
       "</div>"
      ],
      "text/plain": [
       "    End.Date Start.Date  UID   Unit\n",
       "0 2016-06-01 2007-03-01    1   14.0\n",
       "1 2016-10-01 2016-06-01    1    3.0\n",
       "2 2016-10-01 2007-03-01    2   15.0\n",
       "6 2016-10-01 1976-08-01    3  543.0\n",
       "9 2005-05-01 1996-09-01    4   11.0"
      ]
     },
     "execution_count": 539,
     "metadata": {},
     "output_type": "execute_result"
    }
   ],
   "source": [
    "mdf.head()"
   ]
  },
  {
   "cell_type": "code",
   "execution_count": 540,
   "metadata": {
    "collapsed": true
   },
   "outputs": [],
   "source": [
    "def expand_times(sd,ed,unit,uid,freq):\n",
    "    outdict = {'Date' : pd.date_range(start=sd, end=ed, freq=freq, name='Date')}\n",
    "    event = [0] * len(outdict['Date'])\n",
    "    event[0] = 1\n",
    "    event[-1] = 2\n",
    "    outdict['Event'] = event\n",
    "    outdict['Unit'] = unit\n",
    "    outdict['UID'] = uid\n",
    "    return pd.DataFrame(outdict)"
   ]
  },
  {
   "cell_type": "code",
   "execution_count": 541,
   "metadata": {},
   "outputs": [
    {
     "name": "stdout",
     "output_type": "stream",
     "text": [
      "11.993949890136719\n"
     ]
    }
   ],
   "source": [
    "start = time.time()\n",
    "%lprun -f expand_times pd.concat([expand_times(r[start_col], r[end_col], r[unit_col], r[uid_col], 'MS') for i,r in mdf.iterrows()])\n",
    "end = time.time()\n",
    "print(end - start)"
   ]
  },
  {
   "cell_type": "code",
   "execution_count": 542,
   "metadata": {},
   "outputs": [
    {
     "name": "stdout",
     "output_type": "stream",
     "text": [
      "5.35147500038147\n"
     ]
    }
   ],
   "source": [
    "start = time.time()\n",
    "full_df = pd.concat([expand_times(r[start_col], r[end_col], r[unit_col], r[uid_col], 'MS') for i,r in mdf.iterrows()])\n",
    "end = time.time()\n",
    "print(end - start)"
   ]
  },
  {
   "cell_type": "code",
   "execution_count": 624,
   "metadata": {
    "collapsed": true
   },
   "outputs": [],
   "source": [
    "def history_to_panel(hist_df, frequency, max_date, min_date,\n",
    "                     start_col='Start.Date', end_col='End.Date', unit_col='Unit', uid_col='UID'):\n",
    "    \n",
    "    hist_df.replace(start_col, pd.to_datetime(hist_df[start_col]), inplace=True) \n",
    "    hist_df.replace(end_col, pd.to_datetime(hist_df[end_col]), inplace=True) \n",
    "    \n",
    "    if max_date:\n",
    "        max_date = pd.to_datetime(max_date)\n",
    "        assert isinstance(max_date, pd.Timestamp), 'max_date given is not a proper date'\n",
    "    else:\n",
    "        max_date = pd.to_datetime(max(hist_df[start_col]))\n",
    "\n",
    "    hist_df = hist_df[hist_df[start_col] <= max_date]\n",
    "    hist_df.loc[(hist_df[end_col].isnull()) |\n",
    "              (hist_df[end_col] > max_date),\n",
    "               end_col] = max_date\n",
    "\n",
    "    if min_date:\n",
    "        min_date = pd.to_datetime(min_date)\n",
    "        assert isinstance(min_date, pd.Timestamp), 'min_date given is not a proper date'\n",
    "        hist_df = hist_df[hist_df[end_col] >= min_date]\n",
    "\n",
    "    hist_df = add_date_bounds(hist_df,\n",
    "                              max_date=max_date, min_date=min_date,\n",
    "                              start_col=start_col, end_col=end_col)\n",
    "    \n",
    "    freq_dict = {'Month':'MS', 'Day':'D', 'Year':'AS'}\n",
    "    \n",
    "    assert frequency in list(freq_dict.keys()), \"freq must be 'Day', 'Month', or 'Year'\"\n",
    "    freq = freq_dict[frequency]\n",
    "    \n",
    "    hist_df[start_col] = to_start_date(hist_df[start_col], freq)\n",
    "    hist_df[end_col] = to_start_date(hist_df[end_col], freq)\n",
    "    \n",
    "    easy_df = hist_df[hist_df[start_col] == hist_df[end_col]].copy()\n",
    "    easy_df['Event'] = 3\n",
    "    easy_df = easy_df[[start_col, 'Event', unit_col, uid_col]].drop_duplicates()\n",
    "    easy_df.rename(columns={start_col: frequency}, inplace=True)\n",
    "    \n",
    "    hist_df = hist_df[hist_df[start_col] != hist_df[end_col]]\n",
    "    print('Generating panel data. May take a few minutes.')\n",
    "    start_time = time.time()\n",
    "    panel_df = pd.concat([expand_times(r[start_col], r[end_col], r[unit_col], r[uid_col], freq)\n",
    "                          for i,r in hist_df.iterrows()])\n",
    "    end_time = time.time()\n",
    "    print('Generating panel data took {} seconds.'.format(round(end_time-start_time, 2)))\n",
    "    panel_df.rename(columns={'Date': frequency}, inplace=True)\n",
    "\n",
    "    panel_df = panel_df.append(easy_df)\n",
    "    \n",
    "    if min_date:\n",
    "        panel_df = panel_df[panel_df[frequency] >= min_date]\n",
    "    \n",
    "    return panel_df"
   ]
  },
  {
   "cell_type": "code",
   "execution_count": 625,
   "metadata": {},
   "outputs": [
    {
     "name": "stderr",
     "output_type": "stream",
     "text": [
      "/Users/invinst/anaconda3/lib/python3.6/site-packages/pandas/core/indexing.py:517: SettingWithCopyWarning: \n",
      "A value is trying to be set on a copy of a slice from a DataFrame.\n",
      "Try using .loc[row_indexer,col_indexer] = value instead\n",
      "\n",
      "See the caveats in the documentation: http://pandas.pydata.org/pandas-docs/stable/indexing.html#indexing-view-versus-copy\n",
      "  self.obj[item] = s\n"
     ]
    },
    {
     "name": "stdout",
     "output_type": "stream",
     "text": [
      "Generating panel data. May take a few minutes.\n",
      "Generating panel data took 33.76 seconds.\n"
     ]
    },
    {
     "data": {
      "text/html": [
       "<div>\n",
       "<style>\n",
       "    .dataframe thead tr:only-child th {\n",
       "        text-align: right;\n",
       "    }\n",
       "\n",
       "    .dataframe thead th {\n",
       "        text-align: left;\n",
       "    }\n",
       "\n",
       "    .dataframe tbody tr th {\n",
       "        vertical-align: top;\n",
       "    }\n",
       "</style>\n",
       "<table border=\"1\" class=\"dataframe\">\n",
       "  <thead>\n",
       "    <tr style=\"text-align: right;\">\n",
       "      <th></th>\n",
       "      <th>Event</th>\n",
       "      <th>UID</th>\n",
       "      <th>Unit</th>\n",
       "      <th>Year</th>\n",
       "    </tr>\n",
       "  </thead>\n",
       "  <tbody>\n",
       "    <tr>\n",
       "      <th>3</th>\n",
       "      <td>2</td>\n",
       "      <td>1</td>\n",
       "      <td>14.0</td>\n",
       "      <td>2010-01-01</td>\n",
       "    </tr>\n",
       "    <tr>\n",
       "      <th>3</th>\n",
       "      <td>2</td>\n",
       "      <td>2</td>\n",
       "      <td>15.0</td>\n",
       "      <td>2010-01-01</td>\n",
       "    </tr>\n",
       "    <tr>\n",
       "      <th>34</th>\n",
       "      <td>2</td>\n",
       "      <td>3</td>\n",
       "      <td>543.0</td>\n",
       "      <td>2010-01-01</td>\n",
       "    </tr>\n",
       "    <tr>\n",
       "      <th>13</th>\n",
       "      <td>2</td>\n",
       "      <td>7</td>\n",
       "      <td>12.0</td>\n",
       "      <td>2010-01-01</td>\n",
       "    </tr>\n",
       "    <tr>\n",
       "      <th>20</th>\n",
       "      <td>2</td>\n",
       "      <td>8</td>\n",
       "      <td>132.0</td>\n",
       "      <td>2010-01-01</td>\n",
       "    </tr>\n",
       "    <tr>\n",
       "      <th>21</th>\n",
       "      <td>2</td>\n",
       "      <td>10</td>\n",
       "      <td>151.0</td>\n",
       "      <td>2010-01-01</td>\n",
       "    </tr>\n",
       "    <tr>\n",
       "      <th>4</th>\n",
       "      <td>2</td>\n",
       "      <td>12</td>\n",
       "      <td>50.0</td>\n",
       "      <td>2010-01-01</td>\n",
       "    </tr>\n",
       "    <tr>\n",
       "      <th>16</th>\n",
       "      <td>2</td>\n",
       "      <td>13</td>\n",
       "      <td>50.0</td>\n",
       "      <td>2010-01-01</td>\n",
       "    </tr>\n",
       "    <tr>\n",
       "      <th>1</th>\n",
       "      <td>2</td>\n",
       "      <td>16</td>\n",
       "      <td>1.0</td>\n",
       "      <td>2010-01-01</td>\n",
       "    </tr>\n",
       "    <tr>\n",
       "      <th>1</th>\n",
       "      <td>2</td>\n",
       "      <td>17</td>\n",
       "      <td>6.0</td>\n",
       "      <td>2010-01-01</td>\n",
       "    </tr>\n",
       "    <tr>\n",
       "      <th>16</th>\n",
       "      <td>2</td>\n",
       "      <td>18</td>\n",
       "      <td>23.0</td>\n",
       "      <td>2010-01-01</td>\n",
       "    </tr>\n",
       "    <tr>\n",
       "      <th>5</th>\n",
       "      <td>2</td>\n",
       "      <td>19</td>\n",
       "      <td>18.0</td>\n",
       "      <td>2010-01-01</td>\n",
       "    </tr>\n",
       "    <tr>\n",
       "      <th>5</th>\n",
       "      <td>2</td>\n",
       "      <td>20</td>\n",
       "      <td>17.0</td>\n",
       "      <td>2010-01-01</td>\n",
       "    </tr>\n",
       "    <tr>\n",
       "      <th>7</th>\n",
       "      <td>2</td>\n",
       "      <td>21</td>\n",
       "      <td>610.0</td>\n",
       "      <td>2010-01-01</td>\n",
       "    </tr>\n",
       "    <tr>\n",
       "      <th>19</th>\n",
       "      <td>2</td>\n",
       "      <td>22</td>\n",
       "      <td>4.0</td>\n",
       "      <td>2010-01-01</td>\n",
       "    </tr>\n",
       "    <tr>\n",
       "      <th>37</th>\n",
       "      <td>2</td>\n",
       "      <td>23</td>\n",
       "      <td>142.0</td>\n",
       "      <td>2010-01-01</td>\n",
       "    </tr>\n",
       "    <tr>\n",
       "      <th>31</th>\n",
       "      <td>2</td>\n",
       "      <td>26</td>\n",
       "      <td>8.0</td>\n",
       "      <td>2010-01-01</td>\n",
       "    </tr>\n",
       "    <tr>\n",
       "      <th>18</th>\n",
       "      <td>2</td>\n",
       "      <td>29</td>\n",
       "      <td>701.0</td>\n",
       "      <td>2010-01-01</td>\n",
       "    </tr>\n",
       "    <tr>\n",
       "      <th>17</th>\n",
       "      <td>2</td>\n",
       "      <td>30</td>\n",
       "      <td>16.0</td>\n",
       "      <td>2010-01-01</td>\n",
       "    </tr>\n",
       "    <tr>\n",
       "      <th>20</th>\n",
       "      <td>2</td>\n",
       "      <td>31</td>\n",
       "      <td>72.0</td>\n",
       "      <td>2010-01-01</td>\n",
       "    </tr>\n",
       "    <tr>\n",
       "      <th>7</th>\n",
       "      <td>2</td>\n",
       "      <td>34</td>\n",
       "      <td>11.0</td>\n",
       "      <td>2010-01-01</td>\n",
       "    </tr>\n",
       "    <tr>\n",
       "      <th>14</th>\n",
       "      <td>2</td>\n",
       "      <td>35</td>\n",
       "      <td>6.0</td>\n",
       "      <td>2010-01-01</td>\n",
       "    </tr>\n",
       "    <tr>\n",
       "      <th>6</th>\n",
       "      <td>2</td>\n",
       "      <td>38</td>\n",
       "      <td>477.0</td>\n",
       "      <td>2010-01-01</td>\n",
       "    </tr>\n",
       "    <tr>\n",
       "      <th>4</th>\n",
       "      <td>2</td>\n",
       "      <td>40</td>\n",
       "      <td>24.0</td>\n",
       "      <td>2010-01-01</td>\n",
       "    </tr>\n",
       "    <tr>\n",
       "      <th>22</th>\n",
       "      <td>2</td>\n",
       "      <td>41</td>\n",
       "      <td>16.0</td>\n",
       "      <td>2010-01-01</td>\n",
       "    </tr>\n",
       "    <tr>\n",
       "      <th>8</th>\n",
       "      <td>2</td>\n",
       "      <td>42</td>\n",
       "      <td>24.0</td>\n",
       "      <td>2010-01-01</td>\n",
       "    </tr>\n",
       "    <tr>\n",
       "      <th>17</th>\n",
       "      <td>2</td>\n",
       "      <td>43</td>\n",
       "      <td>8.0</td>\n",
       "      <td>2010-01-01</td>\n",
       "    </tr>\n",
       "    <tr>\n",
       "      <th>1</th>\n",
       "      <td>2</td>\n",
       "      <td>44</td>\n",
       "      <td>44.0</td>\n",
       "      <td>2010-01-01</td>\n",
       "    </tr>\n",
       "    <tr>\n",
       "      <th>3</th>\n",
       "      <td>2</td>\n",
       "      <td>45</td>\n",
       "      <td>17.0</td>\n",
       "      <td>2010-01-01</td>\n",
       "    </tr>\n",
       "    <tr>\n",
       "      <th>1</th>\n",
       "      <td>2</td>\n",
       "      <td>46</td>\n",
       "      <td>153.0</td>\n",
       "      <td>2010-01-01</td>\n",
       "    </tr>\n",
       "    <tr>\n",
       "      <th>...</th>\n",
       "      <td>...</td>\n",
       "      <td>...</td>\n",
       "      <td>...</td>\n",
       "      <td>...</td>\n",
       "    </tr>\n",
       "    <tr>\n",
       "      <th>100591</th>\n",
       "      <td>3</td>\n",
       "      <td>29742</td>\n",
       "      <td>311.0</td>\n",
       "      <td>2010-01-01</td>\n",
       "    </tr>\n",
       "    <tr>\n",
       "      <th>100599</th>\n",
       "      <td>3</td>\n",
       "      <td>29746</td>\n",
       "      <td>45.0</td>\n",
       "      <td>2010-01-01</td>\n",
       "    </tr>\n",
       "    <tr>\n",
       "      <th>100794</th>\n",
       "      <td>3</td>\n",
       "      <td>29808</td>\n",
       "      <td>315.0</td>\n",
       "      <td>2010-01-01</td>\n",
       "    </tr>\n",
       "    <tr>\n",
       "      <th>100833</th>\n",
       "      <td>3</td>\n",
       "      <td>29818</td>\n",
       "      <td>314.0</td>\n",
       "      <td>2010-01-01</td>\n",
       "    </tr>\n",
       "    <tr>\n",
       "      <th>101180</th>\n",
       "      <td>3</td>\n",
       "      <td>29924</td>\n",
       "      <td>313.0</td>\n",
       "      <td>2010-01-01</td>\n",
       "    </tr>\n",
       "    <tr>\n",
       "      <th>101489</th>\n",
       "      <td>3</td>\n",
       "      <td>30007</td>\n",
       "      <td>153.0</td>\n",
       "      <td>2010-01-01</td>\n",
       "    </tr>\n",
       "    <tr>\n",
       "      <th>102268</th>\n",
       "      <td>3</td>\n",
       "      <td>30218</td>\n",
       "      <td>45.0</td>\n",
       "      <td>2010-01-01</td>\n",
       "    </tr>\n",
       "    <tr>\n",
       "      <th>102417</th>\n",
       "      <td>3</td>\n",
       "      <td>30265</td>\n",
       "      <td>161.0</td>\n",
       "      <td>2010-01-01</td>\n",
       "    </tr>\n",
       "    <tr>\n",
       "      <th>102712</th>\n",
       "      <td>3</td>\n",
       "      <td>30368</td>\n",
       "      <td>315.0</td>\n",
       "      <td>2010-01-01</td>\n",
       "    </tr>\n",
       "    <tr>\n",
       "      <th>103179</th>\n",
       "      <td>3</td>\n",
       "      <td>30521</td>\n",
       "      <td>314.0</td>\n",
       "      <td>2010-01-01</td>\n",
       "    </tr>\n",
       "    <tr>\n",
       "      <th>103630</th>\n",
       "      <td>3</td>\n",
       "      <td>30636</td>\n",
       "      <td>311.0</td>\n",
       "      <td>2010-01-01</td>\n",
       "    </tr>\n",
       "    <tr>\n",
       "      <th>103717</th>\n",
       "      <td>3</td>\n",
       "      <td>30673</td>\n",
       "      <td>312.0</td>\n",
       "      <td>2010-01-01</td>\n",
       "    </tr>\n",
       "    <tr>\n",
       "      <th>104060</th>\n",
       "      <td>3</td>\n",
       "      <td>30794</td>\n",
       "      <td>315.0</td>\n",
       "      <td>2010-01-01</td>\n",
       "    </tr>\n",
       "    <tr>\n",
       "      <th>104096</th>\n",
       "      <td>3</td>\n",
       "      <td>30802</td>\n",
       "      <td>312.0</td>\n",
       "      <td>2010-01-01</td>\n",
       "    </tr>\n",
       "    <tr>\n",
       "      <th>104137</th>\n",
       "      <td>3</td>\n",
       "      <td>30813</td>\n",
       "      <td>6.0</td>\n",
       "      <td>2010-01-01</td>\n",
       "    </tr>\n",
       "    <tr>\n",
       "      <th>104237</th>\n",
       "      <td>3</td>\n",
       "      <td>30846</td>\n",
       "      <td>45.0</td>\n",
       "      <td>2010-01-01</td>\n",
       "    </tr>\n",
       "    <tr>\n",
       "      <th>105331</th>\n",
       "      <td>3</td>\n",
       "      <td>31203</td>\n",
       "      <td>311.0</td>\n",
       "      <td>2010-01-01</td>\n",
       "    </tr>\n",
       "    <tr>\n",
       "      <th>105650</th>\n",
       "      <td>3</td>\n",
       "      <td>31288</td>\n",
       "      <td>313.0</td>\n",
       "      <td>2010-01-01</td>\n",
       "    </tr>\n",
       "    <tr>\n",
       "      <th>105697</th>\n",
       "      <td>3</td>\n",
       "      <td>31307</td>\n",
       "      <td>393.0</td>\n",
       "      <td>2010-01-01</td>\n",
       "    </tr>\n",
       "    <tr>\n",
       "      <th>105778</th>\n",
       "      <td>3</td>\n",
       "      <td>31333</td>\n",
       "      <td>314.0</td>\n",
       "      <td>2010-01-01</td>\n",
       "    </tr>\n",
       "    <tr>\n",
       "      <th>106128</th>\n",
       "      <td>3</td>\n",
       "      <td>31436</td>\n",
       "      <td>393.0</td>\n",
       "      <td>2010-01-01</td>\n",
       "    </tr>\n",
       "    <tr>\n",
       "      <th>106260</th>\n",
       "      <td>3</td>\n",
       "      <td>31475</td>\n",
       "      <td>315.0</td>\n",
       "      <td>2010-01-01</td>\n",
       "    </tr>\n",
       "    <tr>\n",
       "      <th>106381</th>\n",
       "      <td>3</td>\n",
       "      <td>31507</td>\n",
       "      <td>1.0</td>\n",
       "      <td>2010-01-01</td>\n",
       "    </tr>\n",
       "    <tr>\n",
       "      <th>106679</th>\n",
       "      <td>3</td>\n",
       "      <td>31609</td>\n",
       "      <td>312.0</td>\n",
       "      <td>2010-01-01</td>\n",
       "    </tr>\n",
       "    <tr>\n",
       "      <th>106863</th>\n",
       "      <td>3</td>\n",
       "      <td>31670</td>\n",
       "      <td>315.0</td>\n",
       "      <td>2010-01-01</td>\n",
       "    </tr>\n",
       "    <tr>\n",
       "      <th>106911</th>\n",
       "      <td>3</td>\n",
       "      <td>31686</td>\n",
       "      <td>314.0</td>\n",
       "      <td>2010-01-01</td>\n",
       "    </tr>\n",
       "    <tr>\n",
       "      <th>106973</th>\n",
       "      <td>3</td>\n",
       "      <td>31703</td>\n",
       "      <td>393.0</td>\n",
       "      <td>2010-01-01</td>\n",
       "    </tr>\n",
       "    <tr>\n",
       "      <th>107063</th>\n",
       "      <td>3</td>\n",
       "      <td>31734</td>\n",
       "      <td>18.0</td>\n",
       "      <td>2010-01-01</td>\n",
       "    </tr>\n",
       "    <tr>\n",
       "      <th>107442</th>\n",
       "      <td>3</td>\n",
       "      <td>31854</td>\n",
       "      <td>313.0</td>\n",
       "      <td>2010-01-01</td>\n",
       "    </tr>\n",
       "    <tr>\n",
       "      <th>107654</th>\n",
       "      <td>3</td>\n",
       "      <td>31920</td>\n",
       "      <td>313.0</td>\n",
       "      <td>2010-01-01</td>\n",
       "    </tr>\n",
       "  </tbody>\n",
       "</table>\n",
       "<p>19870 rows × 4 columns</p>\n",
       "</div>"
      ],
      "text/plain": [
       "        Event    UID   Unit       Year\n",
       "3           2      1   14.0 2010-01-01\n",
       "3           2      2   15.0 2010-01-01\n",
       "34          2      3  543.0 2010-01-01\n",
       "13          2      7   12.0 2010-01-01\n",
       "20          2      8  132.0 2010-01-01\n",
       "21          2     10  151.0 2010-01-01\n",
       "4           2     12   50.0 2010-01-01\n",
       "16          2     13   50.0 2010-01-01\n",
       "1           2     16    1.0 2010-01-01\n",
       "1           2     17    6.0 2010-01-01\n",
       "16          2     18   23.0 2010-01-01\n",
       "5           2     19   18.0 2010-01-01\n",
       "5           2     20   17.0 2010-01-01\n",
       "7           2     21  610.0 2010-01-01\n",
       "19          2     22    4.0 2010-01-01\n",
       "37          2     23  142.0 2010-01-01\n",
       "31          2     26    8.0 2010-01-01\n",
       "18          2     29  701.0 2010-01-01\n",
       "17          2     30   16.0 2010-01-01\n",
       "20          2     31   72.0 2010-01-01\n",
       "7           2     34   11.0 2010-01-01\n",
       "14          2     35    6.0 2010-01-01\n",
       "6           2     38  477.0 2010-01-01\n",
       "4           2     40   24.0 2010-01-01\n",
       "22          2     41   16.0 2010-01-01\n",
       "8           2     42   24.0 2010-01-01\n",
       "17          2     43    8.0 2010-01-01\n",
       "1           2     44   44.0 2010-01-01\n",
       "3           2     45   17.0 2010-01-01\n",
       "1           2     46  153.0 2010-01-01\n",
       "...       ...    ...    ...        ...\n",
       "100591      3  29742  311.0 2010-01-01\n",
       "100599      3  29746   45.0 2010-01-01\n",
       "100794      3  29808  315.0 2010-01-01\n",
       "100833      3  29818  314.0 2010-01-01\n",
       "101180      3  29924  313.0 2010-01-01\n",
       "101489      3  30007  153.0 2010-01-01\n",
       "102268      3  30218   45.0 2010-01-01\n",
       "102417      3  30265  161.0 2010-01-01\n",
       "102712      3  30368  315.0 2010-01-01\n",
       "103179      3  30521  314.0 2010-01-01\n",
       "103630      3  30636  311.0 2010-01-01\n",
       "103717      3  30673  312.0 2010-01-01\n",
       "104060      3  30794  315.0 2010-01-01\n",
       "104096      3  30802  312.0 2010-01-01\n",
       "104137      3  30813    6.0 2010-01-01\n",
       "104237      3  30846   45.0 2010-01-01\n",
       "105331      3  31203  311.0 2010-01-01\n",
       "105650      3  31288  313.0 2010-01-01\n",
       "105697      3  31307  393.0 2010-01-01\n",
       "105778      3  31333  314.0 2010-01-01\n",
       "106128      3  31436  393.0 2010-01-01\n",
       "106260      3  31475  315.0 2010-01-01\n",
       "106381      3  31507    1.0 2010-01-01\n",
       "106679      3  31609  312.0 2010-01-01\n",
       "106863      3  31670  315.0 2010-01-01\n",
       "106911      3  31686  314.0 2010-01-01\n",
       "106973      3  31703  393.0 2010-01-01\n",
       "107063      3  31734   18.0 2010-01-01\n",
       "107442      3  31854  313.0 2010-01-01\n",
       "107654      3  31920  313.0 2010-01-01\n",
       "\n",
       "[19870 rows x 4 columns]"
      ]
     },
     "execution_count": 625,
     "metadata": {},
     "output_type": "execute_result"
    }
   ],
   "source": [
    "history_to_panel(full_uh_df, 'Year', '2010-03-01', '2010-01-01',start_col='Start.Date', end_col='End.Date')"
   ]
  },
  {
   "cell_type": "code",
   "execution_count": 584,
   "metadata": {
    "collapsed": true
   },
   "outputs": [],
   "source": [
    "tdf_d = tdf.copy()\n",
    "tdf_m = tdf.copy()\n",
    "tdf_y = tdf.copy()"
   ]
  },
  {
   "cell_type": "code",
   "execution_count": 602,
   "metadata": {},
   "outputs": [
    {
     "ename": "TypeError",
     "evalue": "history_to_panel() missing 2 required positional arguments: 'max_date' and 'min_date'",
     "output_type": "error",
     "traceback": [
      "\u001b[0;31m---------------------------------------------------------------------------\u001b[0m",
      "\u001b[0;31mTypeError\u001b[0m                                 Traceback (most recent call last)",
      "\u001b[0;32m<ipython-input-602-f6583eb689ba>\u001b[0m in \u001b[0;36m<module>\u001b[0;34m()\u001b[0m\n\u001b[0;32m----> 1\u001b[0;31m \u001b[0mtm_pdf\u001b[0m \u001b[0;34m=\u001b[0m \u001b[0mhistory_to_panel\u001b[0m\u001b[0;34m(\u001b[0m\u001b[0mtdf_m\u001b[0m\u001b[0;34m,\u001b[0m \u001b[0;34m'Month'\u001b[0m\u001b[0;34m)\u001b[0m\u001b[0;34m\u001b[0m\u001b[0m\n\u001b[0m",
      "\u001b[0;31mTypeError\u001b[0m: history_to_panel() missing 2 required positional arguments: 'max_date' and 'min_date'"
     ]
    }
   ],
   "source": [
    "tm_pdf = history_to_panel(tdf_m, 'Month')"
   ]
  },
  {
   "cell_type": "code",
   "execution_count": 586,
   "metadata": {},
   "outputs": [
    {
     "data": {
      "text/html": [
       "<div>\n",
       "<style>\n",
       "    .dataframe thead tr:only-child th {\n",
       "        text-align: right;\n",
       "    }\n",
       "\n",
       "    .dataframe thead th {\n",
       "        text-align: left;\n",
       "    }\n",
       "\n",
       "    .dataframe tbody tr th {\n",
       "        vertical-align: top;\n",
       "    }\n",
       "</style>\n",
       "<table border=\"1\" class=\"dataframe\">\n",
       "  <thead>\n",
       "    <tr style=\"text-align: right;\">\n",
       "      <th></th>\n",
       "      <th>Event</th>\n",
       "      <th>Month</th>\n",
       "      <th>UID</th>\n",
       "      <th>Unit</th>\n",
       "    </tr>\n",
       "  </thead>\n",
       "  <tbody>\n",
       "    <tr>\n",
       "      <th>0</th>\n",
       "      <td>1</td>\n",
       "      <td>2007-03-01</td>\n",
       "      <td>1</td>\n",
       "      <td>14.0</td>\n",
       "    </tr>\n",
       "    <tr>\n",
       "      <th>1</th>\n",
       "      <td>0</td>\n",
       "      <td>2007-04-01</td>\n",
       "      <td>1</td>\n",
       "      <td>14.0</td>\n",
       "    </tr>\n",
       "    <tr>\n",
       "      <th>2</th>\n",
       "      <td>0</td>\n",
       "      <td>2007-05-01</td>\n",
       "      <td>1</td>\n",
       "      <td>14.0</td>\n",
       "    </tr>\n",
       "    <tr>\n",
       "      <th>3</th>\n",
       "      <td>0</td>\n",
       "      <td>2007-06-01</td>\n",
       "      <td>1</td>\n",
       "      <td>14.0</td>\n",
       "    </tr>\n",
       "    <tr>\n",
       "      <th>4</th>\n",
       "      <td>0</td>\n",
       "      <td>2007-07-01</td>\n",
       "      <td>1</td>\n",
       "      <td>14.0</td>\n",
       "    </tr>\n",
       "  </tbody>\n",
       "</table>\n",
       "</div>"
      ],
      "text/plain": [
       "   Event      Month  UID  Unit\n",
       "0      1 2007-03-01    1  14.0\n",
       "1      0 2007-04-01    1  14.0\n",
       "2      0 2007-05-01    1  14.0\n",
       "3      0 2007-06-01    1  14.0\n",
       "4      0 2007-07-01    1  14.0"
      ]
     },
     "execution_count": 586,
     "metadata": {},
     "output_type": "execute_result"
    }
   ],
   "source": [
    "tm_pdf.head()"
   ]
  },
  {
   "cell_type": "code",
   "execution_count": 587,
   "metadata": {},
   "outputs": [
    {
     "name": "stdout",
     "output_type": "stream",
     "text": [
      "Generating panel data. May take a few minutes.\n",
      "Running took 1.72 seconds.\n"
     ]
    }
   ],
   "source": [
    "td_pdf = history_to_panel(tdf_d, 'Day')"
   ]
  },
  {
   "cell_type": "code",
   "execution_count": 588,
   "metadata": {},
   "outputs": [
    {
     "data": {
      "text/html": [
       "<div>\n",
       "<style>\n",
       "    .dataframe thead tr:only-child th {\n",
       "        text-align: right;\n",
       "    }\n",
       "\n",
       "    .dataframe thead th {\n",
       "        text-align: left;\n",
       "    }\n",
       "\n",
       "    .dataframe tbody tr th {\n",
       "        vertical-align: top;\n",
       "    }\n",
       "</style>\n",
       "<table border=\"1\" class=\"dataframe\">\n",
       "  <thead>\n",
       "    <tr style=\"text-align: right;\">\n",
       "      <th></th>\n",
       "      <th>Day</th>\n",
       "      <th>Event</th>\n",
       "      <th>UID</th>\n",
       "      <th>Unit</th>\n",
       "    </tr>\n",
       "  </thead>\n",
       "  <tbody>\n",
       "    <tr>\n",
       "      <th>0</th>\n",
       "      <td>2007-03-29</td>\n",
       "      <td>1</td>\n",
       "      <td>1</td>\n",
       "      <td>14.0</td>\n",
       "    </tr>\n",
       "    <tr>\n",
       "      <th>1</th>\n",
       "      <td>2007-03-30</td>\n",
       "      <td>0</td>\n",
       "      <td>1</td>\n",
       "      <td>14.0</td>\n",
       "    </tr>\n",
       "    <tr>\n",
       "      <th>2</th>\n",
       "      <td>2007-03-31</td>\n",
       "      <td>0</td>\n",
       "      <td>1</td>\n",
       "      <td>14.0</td>\n",
       "    </tr>\n",
       "    <tr>\n",
       "      <th>3</th>\n",
       "      <td>2007-04-01</td>\n",
       "      <td>0</td>\n",
       "      <td>1</td>\n",
       "      <td>14.0</td>\n",
       "    </tr>\n",
       "    <tr>\n",
       "      <th>4</th>\n",
       "      <td>2007-04-02</td>\n",
       "      <td>0</td>\n",
       "      <td>1</td>\n",
       "      <td>14.0</td>\n",
       "    </tr>\n",
       "  </tbody>\n",
       "</table>\n",
       "</div>"
      ],
      "text/plain": [
       "         Day  Event  UID  Unit\n",
       "0 2007-03-29      1    1  14.0\n",
       "1 2007-03-30      0    1  14.0\n",
       "2 2007-03-31      0    1  14.0\n",
       "3 2007-04-01      0    1  14.0\n",
       "4 2007-04-02      0    1  14.0"
      ]
     },
     "execution_count": 588,
     "metadata": {},
     "output_type": "execute_result"
    }
   ],
   "source": [
    "td_pdf.head()"
   ]
  },
  {
   "cell_type": "code",
   "execution_count": 589,
   "metadata": {},
   "outputs": [
    {
     "name": "stdout",
     "output_type": "stream",
     "text": [
      "Generating panel data. May take a few minutes.\n",
      "Running took 1.35 seconds.\n"
     ]
    }
   ],
   "source": [
    "ty_pdf = history_to_panel(tdf_y, 'Year')"
   ]
  },
  {
   "cell_type": "code",
   "execution_count": 590,
   "metadata": {},
   "outputs": [
    {
     "data": {
      "text/html": [
       "<div>\n",
       "<style>\n",
       "    .dataframe thead tr:only-child th {\n",
       "        text-align: right;\n",
       "    }\n",
       "\n",
       "    .dataframe thead th {\n",
       "        text-align: left;\n",
       "    }\n",
       "\n",
       "    .dataframe tbody tr th {\n",
       "        vertical-align: top;\n",
       "    }\n",
       "</style>\n",
       "<table border=\"1\" class=\"dataframe\">\n",
       "  <thead>\n",
       "    <tr style=\"text-align: right;\">\n",
       "      <th></th>\n",
       "      <th>Event</th>\n",
       "      <th>UID</th>\n",
       "      <th>Unit</th>\n",
       "      <th>Year</th>\n",
       "    </tr>\n",
       "  </thead>\n",
       "  <tbody>\n",
       "    <tr>\n",
       "      <th>0</th>\n",
       "      <td>1</td>\n",
       "      <td>1</td>\n",
       "      <td>14.0</td>\n",
       "      <td>2007-01-01</td>\n",
       "    </tr>\n",
       "    <tr>\n",
       "      <th>1</th>\n",
       "      <td>0</td>\n",
       "      <td>1</td>\n",
       "      <td>14.0</td>\n",
       "      <td>2008-01-01</td>\n",
       "    </tr>\n",
       "    <tr>\n",
       "      <th>2</th>\n",
       "      <td>0</td>\n",
       "      <td>1</td>\n",
       "      <td>14.0</td>\n",
       "      <td>2009-01-01</td>\n",
       "    </tr>\n",
       "    <tr>\n",
       "      <th>3</th>\n",
       "      <td>0</td>\n",
       "      <td>1</td>\n",
       "      <td>14.0</td>\n",
       "      <td>2010-01-01</td>\n",
       "    </tr>\n",
       "    <tr>\n",
       "      <th>4</th>\n",
       "      <td>0</td>\n",
       "      <td>1</td>\n",
       "      <td>14.0</td>\n",
       "      <td>2011-01-01</td>\n",
       "    </tr>\n",
       "    <tr>\n",
       "      <th>5</th>\n",
       "      <td>0</td>\n",
       "      <td>1</td>\n",
       "      <td>14.0</td>\n",
       "      <td>2012-01-01</td>\n",
       "    </tr>\n",
       "    <tr>\n",
       "      <th>6</th>\n",
       "      <td>0</td>\n",
       "      <td>1</td>\n",
       "      <td>14.0</td>\n",
       "      <td>2013-01-01</td>\n",
       "    </tr>\n",
       "    <tr>\n",
       "      <th>7</th>\n",
       "      <td>0</td>\n",
       "      <td>1</td>\n",
       "      <td>14.0</td>\n",
       "      <td>2014-01-01</td>\n",
       "    </tr>\n",
       "    <tr>\n",
       "      <th>8</th>\n",
       "      <td>0</td>\n",
       "      <td>1</td>\n",
       "      <td>14.0</td>\n",
       "      <td>2015-01-01</td>\n",
       "    </tr>\n",
       "    <tr>\n",
       "      <th>9</th>\n",
       "      <td>2</td>\n",
       "      <td>1</td>\n",
       "      <td>14.0</td>\n",
       "      <td>2016-01-01</td>\n",
       "    </tr>\n",
       "    <tr>\n",
       "      <th>1</th>\n",
       "      <td>3</td>\n",
       "      <td>1</td>\n",
       "      <td>3.0</td>\n",
       "      <td>2016-01-01</td>\n",
       "    </tr>\n",
       "  </tbody>\n",
       "</table>\n",
       "</div>"
      ],
      "text/plain": [
       "   Event  UID  Unit       Year\n",
       "0      1    1  14.0 2007-01-01\n",
       "1      0    1  14.0 2008-01-01\n",
       "2      0    1  14.0 2009-01-01\n",
       "3      0    1  14.0 2010-01-01\n",
       "4      0    1  14.0 2011-01-01\n",
       "5      0    1  14.0 2012-01-01\n",
       "6      0    1  14.0 2013-01-01\n",
       "7      0    1  14.0 2014-01-01\n",
       "8      0    1  14.0 2015-01-01\n",
       "9      2    1  14.0 2016-01-01\n",
       "1      3    1   3.0 2016-01-01"
      ]
     },
     "execution_count": 590,
     "metadata": {},
     "output_type": "execute_result"
    }
   ],
   "source": [
    "ty_pdf[ty_pdf['UID']==1]"
   ]
  },
  {
   "cell_type": "code",
   "execution_count": 592,
   "metadata": {},
   "outputs": [
    {
     "name": "stdout",
     "output_type": "stream",
     "text": [
      "Generating panel data. May take a few minutes.\n",
      "Generating panel data took 137.48 seconds.\n"
     ]
    }
   ],
   "source": [
    "d_pdf = history_to_panel(uh_df, 'Day')"
   ]
  },
  {
   "cell_type": "code",
   "execution_count": 597,
   "metadata": {},
   "outputs": [
    {
     "data": {
      "text/plain": [
       "(166137999, 4)"
      ]
     },
     "execution_count": 597,
     "metadata": {},
     "output_type": "execute_result"
    }
   ],
   "source": [
    "d_pdf.shape"
   ]
  },
  {
   "cell_type": "code",
   "execution_count": 593,
   "metadata": {},
   "outputs": [
    {
     "data": {
      "text/html": [
       "<div>\n",
       "<style>\n",
       "    .dataframe thead tr:only-child th {\n",
       "        text-align: right;\n",
       "    }\n",
       "\n",
       "    .dataframe thead th {\n",
       "        text-align: left;\n",
       "    }\n",
       "\n",
       "    .dataframe tbody tr th {\n",
       "        vertical-align: top;\n",
       "    }\n",
       "</style>\n",
       "<table border=\"1\" class=\"dataframe\">\n",
       "  <thead>\n",
       "    <tr style=\"text-align: right;\">\n",
       "      <th></th>\n",
       "      <th>Day</th>\n",
       "      <th>Event</th>\n",
       "      <th>UID</th>\n",
       "      <th>Unit</th>\n",
       "    </tr>\n",
       "  </thead>\n",
       "  <tbody>\n",
       "    <tr>\n",
       "      <th>0</th>\n",
       "      <td>2007-03-29</td>\n",
       "      <td>1</td>\n",
       "      <td>1</td>\n",
       "      <td>14.0</td>\n",
       "    </tr>\n",
       "    <tr>\n",
       "      <th>1</th>\n",
       "      <td>2007-03-30</td>\n",
       "      <td>0</td>\n",
       "      <td>1</td>\n",
       "      <td>14.0</td>\n",
       "    </tr>\n",
       "    <tr>\n",
       "      <th>2</th>\n",
       "      <td>2007-03-31</td>\n",
       "      <td>0</td>\n",
       "      <td>1</td>\n",
       "      <td>14.0</td>\n",
       "    </tr>\n",
       "    <tr>\n",
       "      <th>3</th>\n",
       "      <td>2007-04-01</td>\n",
       "      <td>0</td>\n",
       "      <td>1</td>\n",
       "      <td>14.0</td>\n",
       "    </tr>\n",
       "    <tr>\n",
       "      <th>4</th>\n",
       "      <td>2007-04-02</td>\n",
       "      <td>0</td>\n",
       "      <td>1</td>\n",
       "      <td>14.0</td>\n",
       "    </tr>\n",
       "  </tbody>\n",
       "</table>\n",
       "</div>"
      ],
      "text/plain": [
       "         Day  Event  UID  Unit\n",
       "0 2007-03-29      1    1  14.0\n",
       "1 2007-03-30      0    1  14.0\n",
       "2 2007-03-31      0    1  14.0\n",
       "3 2007-04-01      0    1  14.0\n",
       "4 2007-04-02      0    1  14.0"
      ]
     },
     "execution_count": 593,
     "metadata": {},
     "output_type": "execute_result"
    }
   ],
   "source": [
    "d_pdf.head()"
   ]
  },
  {
   "cell_type": "code",
   "execution_count": 599,
   "metadata": {},
   "outputs": [
    {
     "name": "stdout",
     "output_type": "stream",
     "text": [
      "Generating panel data. May take a few minutes.\n",
      "Generating panel data took 250.44 seconds.\n"
     ]
    }
   ],
   "source": [
    "m_pdf = history_to_panel(uh_df, 'Month')"
   ]
  },
  {
   "cell_type": "code",
   "execution_count": 596,
   "metadata": {},
   "outputs": [
    {
     "data": {
      "text/plain": [
       "(5511834, 4)"
      ]
     },
     "execution_count": 596,
     "metadata": {},
     "output_type": "execute_result"
    }
   ],
   "source": [
    "m_pdf.shape"
   ]
  },
  {
   "cell_type": "code",
   "execution_count": 595,
   "metadata": {},
   "outputs": [
    {
     "name": "stdout",
     "output_type": "stream",
     "text": [
      "Generating panel data. May take a few minutes.\n",
      "Generating panel data took 74.46 seconds.\n"
     ]
    }
   ],
   "source": [
    "y_pdf = history_to_panel(uh_df, 'Year')"
   ]
  },
  {
   "cell_type": "code",
   "execution_count": 598,
   "metadata": {},
   "outputs": [
    {
     "data": {
      "text/plain": [
       "(504473, 4)"
      ]
     },
     "execution_count": 598,
     "metadata": {},
     "output_type": "execute_result"
    }
   ],
   "source": [
    "y_pdf.shape"
   ]
  }
 ],
 "metadata": {
  "kernelspec": {
   "display_name": "Python 3",
   "language": "python",
   "name": "python3"
  },
  "language_info": {
   "codemirror_mode": {
    "name": "ipython",
    "version": 3
   },
   "file_extension": ".py",
   "mimetype": "text/x-python",
   "name": "python",
   "nbconvert_exporter": "python",
   "pygments_lexer": "ipython3",
   "version": "3.6.2"
  }
 },
 "nbformat": 4,
 "nbformat_minor": 2
}
