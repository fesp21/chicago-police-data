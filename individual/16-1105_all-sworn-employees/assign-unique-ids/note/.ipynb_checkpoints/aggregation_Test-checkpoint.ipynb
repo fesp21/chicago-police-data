{
 "cells": [
  {
   "cell_type": "code",
   "execution_count": 7,
   "metadata": {},
   "outputs": [
    {
     "name": "stdout",
     "output_type": "stream",
     "text": [
      "Total rows: 114630\n",
      "Unique id + conflict rows: 31596\n",
      "Conflict rows: 0\n",
      "Resolved conflcit UID count: 0\n",
      "Total unique ids: 31596\n",
      "\n"
     ]
    }
   ],
   "source": [
    "import pandas as pd\n",
    "\n",
    "from assign_unique_ids_functions import assign_unique_ids, aggregate_data\n",
    "max_cols = [\n",
    "            'Star1', 'Star2', 'Star3', 'Star4', 'Star5',\n",
    "            'Star6', 'Star7', 'Star8', 'Star9', 'Star10'\n",
    "            ]\n",
    "current_cols= ['Unit']\n",
    "time_col = 'Effective.Date'\n",
    "df = pd.read_csv('../input/ase-units.csv.gz')\n",
    "df.loc[(df['First.Name'] == 'ROBERT') &\n",
    "       (df['Last.Name'] == 'SMITH') &\n",
    "       (df['Appointed.Date'] == '1971-02-22'),\n",
    "       'Current.Age'] = 68.0\n",
    "\n",
    "id_cols = [\n",
    "            \"First.Name\", \"Last.Name\", \"Middle.Initial\", \"Suffix.Name\",\n",
    "            \"Appointed.Date\", \"Current.Age\", \"Gender\", \"Race\"\n",
    "            ]\n",
    "df, uid_report = assign_unique_ids(df, 'ase-units_ID', id_cols)"
   ]
  },
  {
   "cell_type": "code",
   "execution_count": 2,
   "metadata": {},
   "outputs": [],
   "source": [
    "# Mode works...\n",
    "agg_df = aggregate_data(df, 'ase-units_ID', id_cols,\n",
    "                        mode_cols=max_cols)"
   ]
  },
  {
   "cell_type": "code",
   "execution_count": 3,
   "metadata": {},
   "outputs": [],
   "source": [
    "# Max does...\n",
    "agg_df = aggregate_data(df, 'ase-units_ID', id_cols,\n",
    "                        max_cols=max_cols)"
   ]
  },
  {
   "cell_type": "code",
   "execution_count": 9,
   "metadata": {},
   "outputs": [],
   "source": [
    "# So does time ok all good\n",
    "agg_df = aggregate_data(df, 'ase-units_ID', id_cols,\n",
    "                        current_cols=current_cols,\n",
    "                        time_col=time_col)"
   ]
  }
 ],
 "metadata": {
  "kernelspec": {
   "display_name": "Python 3",
   "language": "python",
   "name": "python3"
  },
  "language_info": {
   "codemirror_mode": {
    "name": "ipython",
    "version": 3
   },
   "file_extension": ".py",
   "mimetype": "text/x-python",
   "name": "python",
   "nbconvert_exporter": "python",
   "pygments_lexer": "ipython3",
   "version": "3.6.2"
  }
 },
 "nbformat": 4,
 "nbformat_minor": 2
}
